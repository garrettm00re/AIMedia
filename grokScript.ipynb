{
 "cells": [
  {
   "cell_type": "code",
   "execution_count": 1,
   "metadata": {},
   "outputs": [],
   "source": [
    "import os\n",
    "from dotenv import load_dotenv\n",
    "load_dotenv()\n",
    "from grok import Grok\n",
    "import pickle"
   ]
  },
  {
   "cell_type": "code",
   "execution_count": 2,
   "metadata": {},
   "outputs": [
    {
     "name": "stdout",
     "output_type": "stream",
     "text": [
      "xai-fq2OPXVKJrQCMyitw8z4fUiuVE6OO0KBjy1AzT5L56DiZsG88SqNJgvISwXC7psVI6wmT5vkAkFWadXF https://api.x.ai/v1/chat/completions\n"
     ]
    }
   ],
   "source": [
    "grok_api_key, grok_url, grok_model = os.getenv(\"GROK_API_KEY\"), os.getenv(\"GROK_URL\"), 'grok-2-latest'\n",
    "print(grok_api_key, grok_url)\n",
    "grok = Grok(grok_api_key, grok_url, grok_model)"
   ]
  },
  {
   "cell_type": "code",
   "execution_count": null,
   "metadata": {},
   "outputs": [],
   "source": [
    "def scenes(client: Grok, script: str) -> list[str]:"
   ]
  },
  {
   "cell_type": "code",
   "execution_count": 49,
   "metadata": {},
   "outputs": [],
   "source": [
    "def generate_script_grok(client: Grok, trend_data: dict, news_report: str) -> str:\n",
    "\n",
    "    \"\"\"Generate a video script using Grok based on trend data\"\"\"\n",
    "    \n",
    "    prompt = f\"\"\"Create a very short, 20-second video script about this trending topic:\n",
    "    Topic: {trend_data['keyword']}\n",
    "    Related Keywords: {', '.join(trend_data['keywords'])}\n",
    "    News Report: {news_report}\n",
    "    \n",
    "    The script should be:\n",
    "    1. Informative and accurate\n",
    "    2. Focused on the most important and sensational aspects of the story\n",
    "    3. Include important big-picture context\n",
    "    4. Conversational and concise.\n",
    "    5. At most 20 seconds in length.\n",
    "    6. Less than 80 words in length.\n",
    "\n",
    "    The script should NOT:\n",
    "    1. Contain an outro of any kind, or mention subscribing to the channel\n",
    "    2. Use acronyms or abbreviations without explanation\"\"\"\n",
    "\n",
    "    return client.generate_text(prompt)"
   ]
  },
  {
   "cell_type": "code",
   "execution_count": 50,
   "metadata": {},
   "outputs": [],
   "source": [
    "def generate_sora_prompts_grok(client: Grok, script: str, num_prompts: int = 1) -> list[str]:\n",
    "    \"\"\"Generate Sora-compatible video prompts based on the script\"\"\"\n",
    "\n",
    "    soraScripts = []\n",
    "    prompt = f\"\"\"Break down this script into a series of four video scene descriptions suitable for AI video generation:\n",
    "    \n",
    "    Script: {script}\n",
    "    \n",
    "    There should be four scenes.\n",
    "\n",
    "    For each scene:\n",
    "    \n",
    "    1. Describe the visual elements in detail\n",
    "    2. Include camera movements and transitions\n",
    "    3. Be concise -- under 25 words.\n",
    "    4. Use loose, conversational language in your description.\n",
    "    5. Format the scene description as follows:\n",
    "        [Scene Title] <= 5 words\n",
    "        [Scene Description] <= 25 words\n",
    "        [Camera Movements/Transitions] <= 25 words\n",
    "        newline\n",
    "\n",
    "    Do NOT:\n",
    "    1. Generate a scene for an outro\n",
    "    2. Use acronyms or abbreviations without explanation\n",
    "    \"\"\"\n",
    "    \n",
    "    for i in range(num_prompts):\n",
    "        soraScript = client.generate_text(prompt)\n",
    "        soraScripts.append(soraScript)\n",
    "    return soraScripts"
   ]
  },
  {
   "cell_type": "code",
   "execution_count": 51,
   "metadata": {},
   "outputs": [],
   "source": [
    "def generate_grok_image_prompts(client: Grok, script: str, num_prompts: int = 10) -> list[str]:\n",
    "    \"\"\"Generate Grok image prompts based on the script\"\"\"\n",
    "\n",
    "    prompt = f\"\"\"Generate a series of (~{int}) image descriptions that capture the most sensational themes of the following script.\n",
    "    Be assertive and highly specific.\n",
    "    \n",
    "    Script: {script}\n",
    "    \"\"\"\n",
    "    return client.generate_text(prompt)"
   ]
  },
  {
   "cell_type": "code",
   "execution_count": 52,
   "metadata": {},
   "outputs": [],
   "source": [
    "def generate_grok_narration(client: Grok, script: str) -> str:\n",
    "    \"\"\"Generate a narration using Grok based on the script\"\"\"\n",
    "\n",
    "    prompt = f\"\"\"Extract only the words to be spoken from this video script:\n",
    "    Script: {script}.\n",
    "\n",
    "    The result should NOT include any mention of a narrator or scene descriptions.\n",
    "    \"\"\"\n",
    "    return grok.generate_text(prompt)"
   ]
  },
  {
   "cell_type": "code",
   "execution_count": 68,
   "metadata": {},
   "outputs": [],
   "source": [
    "def generate_hashtags(client: Grok, script: str) -> list[str]:\n",
    "    \"\"\"Generate hashtags using Grok based on the script\"\"\"\n",
    "\n",
    "    prompt = f\"\"\"Generate the best series of hashtags to make this video go viral on instagram reels, tik tok, and youtube shorts.\n",
    "    Select the best 10 hashtags and brief reasoning for each.\n",
    "\n",
    "    The result should be in the following format:\n",
    "    for each hashtag:\n",
    "        [Hashtag] [Reasoning]\n",
    "\n",
    "    Include a one-line space separated list of all hashtags at the end.\n",
    "\n",
    "    Script: {script}\"\"\"\n",
    "    return client.generate_text(prompt)\n"
   ]
  },
  {
   "cell_type": "code",
   "execution_count": 53,
   "metadata": {},
   "outputs": [
    {
     "name": "stdout",
     "output_type": "stream",
     "text": [
      "xai-fq2OPXVKJrQCMyitw8z4fUiuVE6OO0KBjy1AzT5L56DiZsG88SqNJgvISwXC7psVI6wmT5vkAkFWadXF https://api.x.ai/v1/chat/completions\n"
     ]
    }
   ],
   "source": [
    "grok_api_key, grok_url, grok_model = os.getenv(\"GROK_API_KEY\"), os.getenv(\"GROK_URL\"), 'grok-2-latest'\n",
    "print(grok_api_key, grok_url)\n",
    "grok = Grok(grok_api_key, grok_url, grok_model)"
   ]
  },
  {
   "cell_type": "code",
   "execution_count": 54,
   "metadata": {},
   "outputs": [],
   "source": [
    "# List directories in assets and get most recent\n",
    "asset_dirs = [d for d in os.listdir('assets') if os.path.isdir(os.path.join('assets', d))]\n",
    "RUN_DIR = os.path.join('assets', max(asset_dirs))\n",
    "MAIN = [os.path.join(RUN_DIR, d) for d in os.listdir(RUN_DIR) if os.path.isdir(os.path.join(RUN_DIR, d))][0] # only one directory in the RUN_DIR\n",
    "NEWS_REPORT = os.path.join(MAIN, 'news_report.txt')\n",
    "SORAPROMPTS = os.path.join(MAIN, 'soraprompts.txt')\n",
    "SCRIPT = os.path.join(MAIN, 'script.txt')\n",
    "keyword = MAIN.split('\\\\')[-1].replace('_', ' ')"
   ]
  },
  {
   "cell_type": "code",
   "execution_count": 55,
   "metadata": {},
   "outputs": [],
   "source": [
    "finalTrendList = pickle.load(open('./tmp/finalTrendList.pkl', 'rb'))"
   ]
  },
  {
   "cell_type": "code",
   "execution_count": 56,
   "metadata": {},
   "outputs": [],
   "source": [
    "trend = [trend for trend in finalTrendList if trend['keyword'] == keyword][0]"
   ]
  },
  {
   "cell_type": "code",
   "execution_count": 57,
   "metadata": {},
   "outputs": [
    {
     "name": "stdout",
     "output_type": "stream",
     "text": [
      "**Title: Education Secretary McMahon Initiates ‘Final Mission’ to Dismantle Department of Education Amid Controversy**\n",
      "\n",
      "**Date: March 6, 2025**\n",
      "\n",
      "The U.S. Department of Education is facing unprecedented changes under the leadership of newly confirmed Secretary Linda McMahon, who has embarked on what she calls a “historic final mission” to dismantle the agency. This initiative comes in the wake of President Donald Trump's long-standing commitment to relinquish federal control over education, arguing that it has failed to improve student outcomes since its inception in 1979.\n",
      "\n",
      "In an email to department employees shortly after her confirmation, McMahon articulated her goal of returning education authority to the states and emphasized the need to cut what she referred to as bureaucratic bloat. “Our job is to respect the will of the American people and the President they elected,” she stated, adding that the focus will shift towards empowering parents and eliminating “divisive DEI programs” (Diversity, Equity, and Inclusion).\n",
      "\n",
      "The push for dismantling the Department of Education aligns with broader political rhetoric that criticizes federal involvement in local education systems. McMahon’s remarks indicate significant adjustments, including budget cuts and administrative restructures, stating, “Removing red tape will empower parents in their educational choices.” This plan has raised concerns among advocates for educational reform, particularly regarding support for low-income and disabled students who rely on federal funding mechanisms like Title I and the Individuals with Disabilities Education Act.\n",
      "\n",
      "**Immediate Impact on Staff and Programs**\n",
      "\n",
      "Under McMahon’s guidance, the Department of Education is already experiencing structural changes, with a recent voluntary buyout offering of up to $25,000 for employees opting to resign, reflecting a looming wave of layoffs. The tight deadline for employees to accept the buyout has prompted anxiety among staff, who fear that the upcoming workforce reductions will cripple the agency’s ability to maintain essential services and oversight.\n",
      "\n",
      "Critics argue that the reduction in staff and resources will disproportionately affect vulnerable student populations. “The decisions being made will hurt our most at-risk children,” highlighted Randi Weingarten, president of the American Federation of Teachers. Educators and administrators have expressed fears of rampant layoffs coinciding with reduced support for programs aimed at marginalized students.\n",
      "\n",
      "**Legal Challenges Ahead**\n",
      "\n",
      "As Trump’s administration tightens its grip, several advocacy organizations, including the National Education Association and the American Civil Liberties Union, have filed lawsuits challenging the directive to halt DEI initiatives, asserting that it infringes on free speech and educational autonomy. The lawsuits claim the Department of Education’s recent communications threaten to chill academic freedom by pressuring schools to eliminate programs aimed at fostering inclusive environments.\n",
      "\n",
      "The implications of these lawsuits could delay the implementation of McMahon’s sweeping changes, as efforts unfold in federal courts to protect the integrity of educational programs tied to civil rights.\n",
      "\n",
      "**Public Reaction and Legislative Landscape**\n",
      "\n",
      "Public opinion remains deeply divided regarding the potential closure of the Department of Education. Recent polls show that a significant majority of American voters oppose dismantling the agency, underscoring the complexity of education policy in a polarized political landscape. Community advocates warn that turning responsibility over to states may lead to further disparities in educational access and quality.\n",
      "\n",
      "In response to the criticisms levied against her administration, Secretary McMahon has promised that critical federal funding programs for disadvantaged students will remain intact, even if the agency itself is reorganized. She stated, “It is not the President’s goal to defund the programs; it is only to have them operate more efficiently.” However, educators remain skeptical, questioning how funds will be allocated without a central agency to oversee compliance and equitable distribution.\n",
      "\n",
      "**Concerns for the Future**\n",
      "\n",
      "As the Trump administration proceeds with its ambitious plans to reshape education in America, stakeholders across the educational spectrum will be closely watching the effects of McMahon’s policies. The drive towards privatization and local control raises long-term questions about educational equity, access to resources, and the fundamental responsibilities of the federal government in ensuring quality education for all students.\n",
      "\n",
      "With the ongoing legal battles and public scrutiny, the coming months are set to unveil the true impact of this dramatic overhaul of one of America's key educational institutions. The stakes are high, and the unfolding narrative will undoubtedly shape the future of educational policy in the U.S.\n"
     ]
    }
   ],
   "source": [
    "with open(NEWS_REPORT) as f:\n",
    "    newsReport = f.read()\n",
    "print(newsReport)"
   ]
  },
  {
   "cell_type": "code",
   "execution_count": 66,
   "metadata": {},
   "outputs": [],
   "source": [
    "soraPromptPath = MAIN + '/grok-soraprompts.txt'\n",
    "scriptPath = MAIN + '/grok-script.txt'\n",
    "grokImagePromptsPath = MAIN + '/grok-imageprompts.txt'\n",
    "grokNarrationPath = MAIN + '/grok-narration.txt'\n",
    "grokHashtagsPath = MAIN + '/grok-hashtags.txt'"
   ]
  },
  {
   "cell_type": "code",
   "execution_count": 59,
   "metadata": {},
   "outputs": [
    {
     "name": "stdout",
     "output_type": "stream",
     "text": [
      "\"Newly confirmed Education Secretary Linda McMahon is on a mission to dismantle the U.S. Department of Education. This follows President Trump's push to return education control to states. McMahon aims to cut bureaucratic costs and eliminate Diversity, Equity, and Inclusion programs. Critics worry about the impact on low-income and disabled students. Legal challenges are already underway as the future of education hangs in the balance.\"\n"
     ]
    }
   ],
   "source": [
    "script = generate_script_grok(grok, trend, newsReport)\n",
    "with open(scriptPath, 'w') as f:\n",
    "    f.write(script)\n",
    "print(script)"
   ]
  },
  {
   "cell_type": "code",
   "execution_count": 60,
   "metadata": {},
   "outputs": [
    {
     "name": "stdout",
     "output_type": "stream",
     "text": [
      "1. **Image Description**: A sharply focused image of Linda McMahon, the newly appointed Education Secretary, standing resolutely in front of the U.S. Department of Education building. Her expression is stern and determined, symbolizing her mission to dismantle the department. The building's facade is partially obscured by a large, red \"X\" painted across it, signifying her intent to eliminate it. In the background, a crowd of protesters holds signs with slogans like \"Save Our Schools\" and \"Education for All,\" highlighting the controversy and opposition to her plans.\n",
      "\n",
      "2. **Image Description**: A dramatic close-up of President Trump signing an executive order, with Linda McMahon standing prominently beside him. The document on the desk is titled \"Return Education Control to States.\" The room is filled with an air of urgency and power, with flags and official seals in the background. The image captures the moment of transition, emphasizing the shift of educational control from federal to state levels.\n",
      "\n",
      "3. **Image Description**: An intense visual of a large pair of scissors, symbolizing bureaucratic cost-cutting, poised to cut through a stack of papers labeled \"Diversity, Equity, and Inclusion Programs.\" Linda McMahon's hand is on the scissors, her face set with determination. In the background, shadowy figures of students from diverse backgrounds look on with concern, representing the potential impact on marginalized groups.\n",
      "\n",
      "4. **Image Description**: A poignant scene in a courtroom, where lawyers are fiercely debating in front of a judge. The focus is on a large screen displaying the words \"Legal Challenges to Education Reform.\" In the foreground, a group of low-income and disabled students, their faces filled with worry and hope, watch the proceedings. This image captures the legal battle and the human stakes involved in the education reform efforts.\n",
      "\n",
      "5. **Image Description**: A symbolic image of a scale balancing precariously. On one side, there are books, a graduation cap, and symbols of education; on the other, a gavel and documents labeled \"Education Reform.\" Linda McMahon stands behind the scale, her hands on the fulcrum, trying to tip it in favor of reform. The background is a blurred image of a school, representing the future of education hanging in the balance.\n"
     ]
    }
   ],
   "source": [
    "images = generate_grok_image_prompts(grok, script)\n",
    "with open(grokImagePromptsPath, 'w') as f:\n",
    "    f.write(images)\n",
    "print(images)"
   ]
  },
  {
   "cell_type": "code",
   "execution_count": 61,
   "metadata": {},
   "outputs": [],
   "source": [
    "soraPrompts = generate_sora_prompts_grok(grok, script)\n",
    "with open(soraPromptPath, 'w') as f:\n",
    "    f.write(soraPrompts[0])"
   ]
  },
  {
   "cell_type": "code",
   "execution_count": 62,
   "metadata": {},
   "outputs": [
    {
     "name": "stdout",
     "output_type": "stream",
     "text": [
      "[Scene 1: McMahon's Mission]\n",
      "[Scene Description] Linda McMahon at a podium, announcing her plan to dismantle the U.S. Department of Education.\n",
      "[Camera Movements/Transitions] Start with a close-up on McMahon, then pull back to show the audience, cut to next scene.\n",
      "\n",
      "[Scene 2: Trump's Education Push]\n",
      "[Scene Description] President Trump speaking at a rally, emphasizing returning education control to states.\n",
      "[Camera Movements/Transitions] Pan across the cheering crowd, zoom in on Trump, fade to next scene.\n",
      "\n",
      "[Scene 3: Bureaucracy and Programs]\n",
      "[Scene Description] Visuals of bureaucratic offices, then clips of Diversity, Equity, and Inclusion programs being cut.\n",
      "[Camera Movements/Transitions] Quick cuts between office scenes and program clips, dissolve to next scene.\n",
      "\n",
      "[Scene 4: Critics and Legal Challenges]\n",
      "[Scene Description] Concerned parents and students protesting, lawyers in courtrooms challenging the new policy.\n",
      "[Camera Movements/Transitions] Start with wide shot of protest, cut to courtroom, end with a slow zoom out.\n"
     ]
    }
   ],
   "source": [
    "print(soraPrompts[0])"
   ]
  },
  {
   "cell_type": "code",
   "execution_count": null,
   "metadata": {},
   "outputs": [
    {
     "name": "stdout",
     "output_type": "stream",
     "text": [
      "\"Newly confirmed Education Secretary Linda McMahon is on a mission to dismantle the U.S. Department of Education. This follows President Trump's push to return education control to states. McMahon aims to cut bureaucratic costs and eliminate Diversity, Equity, and Inclusion programs. Critics worry about the impact on low-income and disabled students. Legal challenges are already underway as the future of education hangs in the balance.\"\n"
     ]
    }
   ],
   "source": [
    "grokNarration = generate_grok_narration(grok, script)\n",
    "with open(grokNarrationPath, 'w') as f:\n",
    "    f.write(grokNarration)\n",
    "print(grokNarration)\n",
    "print(\"WORD COUNT: \", len(grokNarration.split(' ')))\n"
   ]
  },
  {
   "cell_type": "code",
   "execution_count": 69,
   "metadata": {},
   "outputs": [
    {
     "name": "stdout",
     "output_type": "stream",
     "text": [
      "1. **#EducationReform** - This hashtag is relevant as the video discusses significant changes in the education system, which is a hot topic that can attract viewers interested in educational policy.\n",
      "\n",
      "2. **#LindaMcMahon** - Directly related to the main subject of the video, this hashtag will help the video reach audiences specifically interested in Linda McMahon and her policies.\n",
      "\n",
      "3. **#USEducation** - This hashtag targets viewers interested in the U.S. education system, which is the focus of the video's content.\n",
      "\n",
      "4. **#TrumpEducationPolicy** - Since the video mentions President Trump's influence on education policy, this hashtag will attract viewers interested in Trump's political actions.\n",
      "\n",
      "5. **#StatesRights** - The video discusses returning education control to states, making this hashtag relevant and likely to engage viewers interested in state versus federal control debates.\n",
      "\n",
      "6. **#BureaucracyReduction** - As the video mentions cutting bureaucratic costs, this hashtag will appeal to viewers interested in government efficiency and cost-saving measures.\n",
      "\n",
      "7. **#DEIPrograms** - The video specifically mentions the elimination of Diversity, Equity, and Inclusion programs, which is a controversial topic that can generate significant engagement.\n",
      "\n",
      "8. **#EducationFunding** - This hashtag is relevant as the video touches on the financial aspects of education, which is a critical concern for many viewers.\n",
      "\n",
      "9. **#LegalChallenges** - Mentioning ongoing legal challenges in the video makes this hashtag pertinent, attracting viewers interested in legal and political developments.\n",
      "\n",
      "10. **#FutureOfEducation** - This hashtag encapsulates the overarching theme of the video about the future direction of education, appealing to a broad audience concerned about educational outcomes.\n",
      "\n",
      "Hashtags: #EducationReform #LindaMcMahon #USEducation #TrumpEducationPolicy #StatesRights #BureaucracyReduction #DEIPrograms #EducationFunding #LegalChallenges #FutureOfEducation\n"
     ]
    }
   ],
   "source": [
    "hashtags = generate_hashtags(grok, script)\n",
    "with open(grokHashtagsPath, 'w') as f:\n",
    "    f.write(hashtags)\n",
    "print(hashtags)\n"
   ]
  },
  {
   "cell_type": "code",
   "execution_count": null,
   "metadata": {},
   "outputs": [],
   "source": []
  }
 ],
 "metadata": {
  "kernelspec": {
   "display_name": "base",
   "language": "python",
   "name": "python3"
  },
  "language_info": {
   "codemirror_mode": {
    "name": "ipython",
    "version": 3
   },
   "file_extension": ".py",
   "mimetype": "text/x-python",
   "name": "python",
   "nbconvert_exporter": "python",
   "pygments_lexer": "ipython3",
   "version": "3.12.7"
  }
 },
 "nbformat": 4,
 "nbformat_minor": 2
}
