{
 "cells": [
  {
   "cell_type": "code",
   "execution_count": 70,
   "metadata": {},
   "outputs": [],
   "source": [
    "import os\n",
    "from dotenv import load_dotenv\n",
    "load_dotenv()\n",
    "from grok import Grok\n",
    "import pickle"
   ]
  },
  {
   "cell_type": "code",
   "execution_count": 71,
   "metadata": {},
   "outputs": [
    {
     "name": "stdout",
     "output_type": "stream",
     "text": [
      "xai-fq2OPXVKJrQCMyitw8z4fUiuVE6OO0KBjy1AzT5L56DiZsG88SqNJgvISwXC7psVI6wmT5vkAkFWadXF https://api.x.ai/v1/chat/completions\n"
     ]
    }
   ],
   "source": [
    "grok_api_key, grok_url, grok_model = os.getenv(\"GROK_API_KEY\"), os.getenv(\"GROK_URL\"), 'grok-2-latest'\n",
    "print(grok_api_key, grok_url)\n",
    "grok = Grok(grok_api_key, grok_url, grok_model)"
   ]
  },
  {
   "cell_type": "code",
   "execution_count": 140,
   "metadata": {},
   "outputs": [],
   "source": [
    "def generate_script_grok(client: Grok, trend_data: dict, news_report: str) -> str:\n",
    "\n",
    "    \"\"\"Generate a video script using Grok based on trend data\"\"\"\n",
    "    \n",
    "    prompt = f\"\"\"Create a short, video script about this trending topic:\n",
    "    Topic: {trend_data['keyword']}\n",
    "    Related Keywords: {', '.join(trend_data['keywords'])}\n",
    "    News Report: {news_report}\n",
    "    \n",
    "    The script must be:\n",
    "    1. Informative and accurate\n",
    "    2. Focused on the most important and sensational aspects of the story\n",
    "    3. Conversational and concise.\n",
    "    4. Written with charged language and emotional appeals.\n",
    "    5. Quick to the point, no fluff.\n",
    "    6. Between 60 and 80 words in length.\n",
    "\n",
    "    The script must NOT:\n",
    "    1. Contain an outro of any kind, or mention subscribing to the channel\n",
    "    2. Use acronyms or abbreviations without explanation\n",
    "    3. Contain any headers, formatting, directions for the video, or other instructions.\n",
    "\n",
    "    End the script with a uniqueand engaging question.\n",
    "    \"\"\"\n",
    "    return client.generate_text(prompt)"
   ]
  },
  {
   "cell_type": "code",
   "execution_count": 73,
   "metadata": {},
   "outputs": [],
   "source": [
    "def generate_sora_prompts_grok(client: Grok, script: str, num_prompts: int = 1) -> list[str]:\n",
    "    \"\"\"Generate Sora-compatible video prompts based on the script\"\"\"\n",
    "\n",
    "    soraScripts = []\n",
    "    prompt = f\"\"\"Break down this script into a series of four video scene descriptions suitable for AI video generation:\n",
    "    \n",
    "    Script: {script}\n",
    "    \n",
    "    There should be four scenes.\n",
    "\n",
    "    For each scene:\n",
    "    \n",
    "    1. Describe the visual elements in detail\n",
    "    2. Include camera movements and transitions\n",
    "    3. Be concise -- under 25 words.\n",
    "    4. Use loose, conversational language in your description.\n",
    "    5. Format the scene description as follows:\n",
    "        [Scene Title] <= 5 words\n",
    "        [Scene Description] <= 25 words\n",
    "        [Camera Movements/Transitions] <= 25 words\n",
    "        newline\n",
    "\n",
    "    Do NOT:\n",
    "    1. Generate a scene for an outro\n",
    "    2. Use acronyms or abbreviations without explanation\n",
    "    \"\"\"\n",
    "    \n",
    "    for i in range(num_prompts):\n",
    "        soraScript = client.generate_text(prompt)\n",
    "        soraScripts.append(soraScript)\n",
    "    return soraScripts"
   ]
  },
  {
   "cell_type": "code",
   "execution_count": 74,
   "metadata": {},
   "outputs": [],
   "source": [
    "def generate_sora_prompts_grokV2(client: Grok, script: str, num_prompts: int = 1) -> list[str]:\n",
    "    \"\"\"Generate Sora-compatible video prompts based on the script\"\"\"\n",
    "\n",
    "    soraScripts = []\n",
    "    prompt = f\"\"\"Break down this script into a series of four video scene descriptions suitable for AI video generation:\n",
    "    \n",
    "    Script: {script}\n",
    "    \n",
    "    There should be four scenes.\n",
    "\n",
    "    For each scene:\n",
    "    \n",
    "    1. Describe the visual elements in detail\n",
    "    2. Include camera movements and transitions\n",
    "    3. Be concise -- under 25 words.\n",
    "    4. Use loose, conversational language in your description.\n",
    "    5. Scene descriptions should tell a story. Ensure that it can be told in ten seconds or less.\n",
    "    6. Format the scene description as follows:\n",
    "        [Scene Title] <= 5 words\n",
    "        [Scene Description] <= 25 words\n",
    "        [Camera Movements/Transitions] <= 25 words\n",
    "        newline\n",
    "\n",
    "    Do NOT:\n",
    "    1. Generate a scene for an outro\n",
    "    2. Use acronyms or abbreviations without explanation\n",
    "    \"\"\"\n",
    "    \n",
    "    for i in range(num_prompts):\n",
    "        soraScript = client.generate_text(prompt)\n",
    "        soraScripts.append(soraScript)\n",
    "    return soraScripts"
   ]
  },
  {
   "cell_type": "code",
   "execution_count": 75,
   "metadata": {},
   "outputs": [],
   "source": [
    "def generate_grok_image_prompts(client: Grok, script: str, num_prompts: int = 10) -> list[str]:\n",
    "    \"\"\"Generate Grok image prompts based on the script\"\"\"\n",
    "\n",
    "    prompt = f\"\"\"Generate a series of (~{int}) image descriptions that capture the most sensational themes of the following script.\n",
    "\n",
    "    For each image:\n",
    "    1. Be assertive and highly creative in your description. \n",
    "    2. Be clear and concise. \n",
    "    3. Use familiar elements of popular culture where appropriate e.g. brands, celebrities, landmarks, products, etc.\n",
    "\n",
    "    Each image prompt should have the following format:\n",
    "    Generate an image of [description]\n",
    "\n",
    "    Separate each image prompt with a newline.\n",
    "    \n",
    "    Script: {script}\n",
    "    \"\"\"\n",
    "    return client.generate_text(prompt)"
   ]
  },
  {
   "cell_type": "code",
   "execution_count": 76,
   "metadata": {},
   "outputs": [],
   "source": [
    "def generate_grok_narration(client: Grok, script: str) -> str:\n",
    "    \"\"\"Generate a narration using Grok based on the script\"\"\"\n",
    "\n",
    "    prompt = f\"\"\"Extract only the words to be spoken from this video script:\n",
    "    Script: {script}.\n",
    "\n",
    "    The result should NOT include any mention of a narrator or scene descriptions.\n",
    "    \"\"\"\n",
    "    return grok.generate_text(prompt)"
   ]
  },
  {
   "cell_type": "code",
   "execution_count": 77,
   "metadata": {},
   "outputs": [],
   "source": [
    "def generate_hashtags(client: Grok, script: str) -> list[str]:\n",
    "    \"\"\"Generate hashtags using Grok based on the script\"\"\"\n",
    "\n",
    "    prompt = f\"\"\"Generate the best series of hashtags to make this video go viral on instagram reels, tik tok, and youtube shorts.\n",
    "    Select the best 10 hashtags and brief reasoning for each.\n",
    "\n",
    "    The result should be in the following format:\n",
    "    for each hashtag:\n",
    "        [Hashtag] [Reasoning]\n",
    "\n",
    "    Include a one-line space separated list of all hashtags at the end.\n",
    "\n",
    "    Script: {script}\"\"\"\n",
    "    return client.generate_text(prompt)\n"
   ]
  },
  {
   "cell_type": "code",
   "execution_count": 78,
   "metadata": {},
   "outputs": [],
   "source": [
    "def generate_grok_opinion_analysis(client: Grok, news_report: str) -> str:\n",
    "    \"\"\"Generate an opinion analysis using Grok based on the news report\"\"\"\n",
    "\n",
    "    prompt = f\"\"\"Generate an opinion analysis using Grok based on the news report:\n",
    "    News Report: {news_report}\n",
    "\n",
    "    The opinion analysis should:\n",
    "    1. Be highly engaging and bold.\n",
    "    2. Provide evidence based reasoning for claims made. \n",
    "    3. Be less than 500 words in length.\n",
    "    4. Be written in a professional tone.\n",
    "\n",
    "    The opinion analysis should NOT:\n",
    "    1. Cite sources.\n",
    "\n",
    "    Format:\n",
    "    [Title Highlighting the Central Claim] <= 10 words\n",
    "    [Opinion Analysis] <= 500 words\n",
    "    \"\"\"\n",
    "\n",
    "    return client.generate_text(prompt)"
   ]
  },
  {
   "cell_type": "code",
   "execution_count": 79,
   "metadata": {},
   "outputs": [],
   "source": [
    "grok_api_key, grok_url, grok_model = os.getenv(\"GROK_API_KEY\"), os.getenv(\"GROK_URL\"), 'grok-2-latest'\n",
    "grok = Grok(grok_api_key, grok_url, grok_model)"
   ]
  },
  {
   "cell_type": "code",
   "execution_count": 80,
   "metadata": {},
   "outputs": [],
   "source": [
    "# List directories in assets and get most recent\n",
    "asset_dirs = [d for d in os.listdir('assets') if os.path.isdir(os.path.join('assets', d))]\n",
    "RUN_DIR = os.path.join('assets', max(asset_dirs))\n",
    "MAIN = [os.path.join(RUN_DIR, d) for d in os.listdir(RUN_DIR) if os.path.isdir(os.path.join(RUN_DIR, d))][0] # only one directory in the RUN_DIR\n",
    "NEWS_REPORT = os.path.join(MAIN, 'news_report.txt')\n",
    "SORAPROMPTS = os.path.join(MAIN, 'soraprompts.txt')\n",
    "SCRIPT = os.path.join(MAIN, 'script.txt')\n",
    "keyword = MAIN.split('\\\\')[-1].replace('_', ' ')"
   ]
  },
  {
   "cell_type": "code",
   "execution_count": 81,
   "metadata": {},
   "outputs": [],
   "source": [
    "finalTrendList = pickle.load(open('./tmp/finalTrendList.pkl', 'rb'))"
   ]
  },
  {
   "cell_type": "code",
   "execution_count": 82,
   "metadata": {},
   "outputs": [],
   "source": [
    "trend = [trend for trend in finalTrendList if trend['keyword'] == keyword][0]"
   ]
  },
  {
   "cell_type": "code",
   "execution_count": 83,
   "metadata": {},
   "outputs": [
    {
     "name": "stdout",
     "output_type": "stream",
     "text": [
      "**Binance’s Future in the Spotlight: Investment Talks with Trump Family Amid Ongoing Controversies**\n",
      "\n",
      "*March 13, 2025 | By Finance Today Reporters*\n",
      "\n",
      "In a significant week for cryptocurrency giant Binance, the company finds itself at a crossroads as multiple developments unfold that could define its future in the U.S. market. This comes amid reports that representatives of the Trump family have had discussions to secure a financial stake in Binance.US, further entangling the exchange in political and ethical conversations.\n",
      "\n",
      "### Investment Talks with the Trump Family\n",
      "\n",
      "According to a report from the *Wall Street Journal*, negotiations between Binance executives and the Trump family signify the exchange's attempts to reclaim its footing in the U.S. This has raised eyebrows, as Binance’s founder Changpeng Zhao (CZ) has been on the lookout for a presidential pardon following his 2023 guilty plea concerning anti-money laundering violations. Zhao, who served four months in prison, denied the reports of seeking a pardon and stated that the Journal misrepresented the situation regarding any discussions with the Trump family.\n",
      "\n",
      "The potential investment by the Trump family could come through their crypto project, World Liberty Financial. Observers caution that such a partnership could lead to serious conflict-of-interest allegations, especially given the previously reported connections of Trump’s family with cryptocurrency ventures.\n",
      "\n",
      "### Binance Seeks Re-entry After Legal Challenges\n",
      "\n",
      "After suffering significant setbacks due to regulatory pressures and anti-money laundering sanctions in the U.S., Binance has seen its presence diminish significantly. The company has undertaken substantial restructuring, laying off over two-thirds of its staff in the wake of scrutiny from authorities like the SEC, which branded Binance.US as \"a cauldron of fraud.\"\n",
      "\n",
      "Despite these challenges, Binance recently announced that the Abu Dhabi-based investment firm, MGX, made a landmark $2 billion investment—marking the largest single investment in the industry to date. This infusion of capital aligns with Binance's goal to solidify its position in the rapidly evolving digital finance landscape while grappling with its historical compliance issues.\n",
      "\n",
      "### Market Reaction: BNB Token Surges Amid Speculations\n",
      "\n",
      "Following the announcement of the Trump family discussions, Binance's native coin, BNB, saw a price jump of nearly 5%, suggesting investor optimism. However, the broader cryptocurrency market remains volatile, impacted by macroeconomic factors, including recent trade tensions and concerns over potential recessions.\n",
      "\n",
      "The pairing of political and investment moves is also reflected in the reaction from users and stakeholders in the cryptocurrency community. Many remain skeptical of the intertwining of political figures and the crypto sector, particularly given the ongoing scrutiny that Binance faces.\n",
      "\n",
      "While President Trump’s administration recently initiated steps towards establishing a U.S. strategic Bitcoin reserve, the implications of these new partnerships and investments—particularly those involving controversial figures—will likely continue to draw scrutiny from regulators and the public alike.\n",
      "\n",
      "### Cybersecurity Concerns: Phishing Scams Tied to Binance \n",
      "\n",
      "Adding to Binance’s myriad challenges, recent reports indicate an uptick in phishing scams aimed at the cryptocurrency community, leveraging the Binance brand to lure unsuspecting investors. This underscores the necessity for robust cybersecurity measures as the exchange maneuvers through a complex landscape wrought with potential pitfalls.\n",
      "\n",
      "### Conclusion\n",
      "\n",
      "As Binance navigates these multifaceted developments, the company’s ability to regain lost trust and establish a stable presence in the U.S. market will be crucial. The ongoing negotiations involving potential investments from high-profile figures like the Trump family highlight a broader narrative within the crypto industry, where regulatory challenges, market volatility, and political dynamics create an ever-evolving landscape. The coming days will be critical for the exchange as it attempts to define its path amidst both opportunity and scrutiny. \n",
      "\n",
      "Stay tuned for updates as Binance’s situation develops further, especially regarding its dealings and responses to allegations arising from past operations.\n"
     ]
    }
   ],
   "source": [
    "with open(NEWS_REPORT) as f:\n",
    "    newsReport = f.read()\n",
    "print(newsReport)"
   ]
  },
  {
   "cell_type": "code",
   "execution_count": 84,
   "metadata": {},
   "outputs": [],
   "source": [
    "GROKPATH = MAIN + '/grok'\n",
    "os.mkdir(GROKPATH)"
   ]
  },
  {
   "cell_type": "code",
   "execution_count": 85,
   "metadata": {},
   "outputs": [],
   "source": [
    "soraPromptPath = GROKPATH + '/grok-soraprompts.txt'\n",
    "soraPromptsv2Path = GROKPATH + 'grok-soraprompts-v2.txt'\n",
    "scriptPath = GROKPATH + '/grok-script.txt'\n",
    "grokImagePromptsPath = GROKPATH + '/grok-imageprompts.txt'\n",
    "grokNarrationPath = GROKPATH + '/grok-narration.txt'\n",
    "grokHashtagsPath = GROKPATH + '/grok-hashtags.txt'\n",
    "opinionAnalysisPath = GROKPATH + '/grok-opinionanalysis.txt'"
   ]
  },
  {
   "cell_type": "code",
   "execution_count": 141,
   "metadata": {},
   "outputs": [
    {
     "name": "stdout",
     "output_type": "stream",
     "text": [
      "narrationWC:  64\n",
      "Binance is making headlines again, this time with shocking news of investment talks with the Trump family! Amidst ongoing controversies and a guilty plea from founder Changpeng Zhao, or CZ, for anti-money laundering violations, the stakes are higher than ever. The potential partnership could reignite Binance's presence in the U.S., but at what cost? Will this controversial move restore trust or deepen the crisis?\n",
      "=========\n",
      "Binance is making headlines again, this time with shocking news of investment talks with the Trump family! Amidst ongoing controversies and a guilty plea from founder Changpeng Zhao, or CZ, for anti-money laundering violations, the stakes are higher than ever. The potential partnership could reignite Binance's presence in the U.S., but at what cost? Will this controversial move restore trust or deepen the crisis?\n"
     ]
    }
   ],
   "source": [
    "narrationWC = 0\n",
    "while narrationWC < 60 or narrationWC > 80:\n",
    "    script = generate_script_grok(grok, trend, newsReport)\n",
    "    narration = generate_grok_narration(grok, script)\n",
    "    narrationWC = len(narration.split(' '))\n",
    "    print('narrationWC: ', narrationWC)\n",
    "    print(narration)\n",
    "    print(\"=========\")\n",
    "with open(scriptPath, 'w') as f:\n",
    "    f.write(script)\n",
    "with open(grokNarrationPath, 'w') as f:\n",
    "    f.write(narration)"
   ]
  },
  {
   "cell_type": "code",
   "execution_count": 142,
   "metadata": {},
   "outputs": [
    {
     "name": "stdout",
     "output_type": "stream",
     "text": [
      "Generate an image of a dramatic headline on a giant digital billboard in Times Square, reading \"Binance in Talks with Trump Family!\" with the Binance logo and Trump's silhouette against a backdrop of flashing lights and bustling crowds.\n",
      "\n",
      "Generate an image of Changpeng Zhao, or CZ, in a courtroom, pleading guilty to anti-money laundering charges, with dramatic shadows and a gavel in mid-strike, symbolizing the gravity of the situation.\n",
      "\n",
      "Generate an image of the Binance logo intertwined with the Trump family crest, set against the backdrop of the U.S. Capitol, symbolizing a potential controversial partnership that could reignite Binance's U.S. presence.\n",
      "\n",
      "Generate an image of a seesaw balancing the words \"Trust\" and \"Crisis\" on either end, with the Binance and Trump logos on opposite sides, set against a stormy sky, illustrating the high stakes and uncertain outcomes of the potential partnership.\n"
     ]
    }
   ],
   "source": [
    "images = generate_grok_image_prompts(grok, script)\n",
    "with open(grokImagePromptsPath, 'w') as f:\n",
    "    f.write(images)\n",
    "print(images)"
   ]
  },
  {
   "cell_type": "code",
   "execution_count": 143,
   "metadata": {},
   "outputs": [
    {
     "name": "stdout",
     "output_type": "stream",
     "text": [
      "[Binance in the News]\n",
      "Visual: Newspaper headlines about Binance and Trump family investment talks.\n",
      "Camera: Zoom in on headlines, pan to next scene.\n",
      "newline\n",
      "\n",
      "[Controversy and Guilty Plea]\n",
      "Visual: Changpeng Zhao in court, looking serious, with anti-money laundering text.\n",
      "Camera: Slow zoom on Zhao, cut to next scene.\n",
      "newline\n",
      "\n",
      "[High Stakes in the U.S.]\n",
      "Visual: Binance logo with U.S. flag, question marks around.\n",
      "Camera: Rotate around logo, zoom out to next scene.\n",
      "newline\n",
      "\n",
      "[Trust or Crisis Deepens?]\n",
      "Visual: Scales balancing trust and crisis, Binance and Trump logos.\n",
      "Camera: Tilt up from scales, fade out.\n",
      "newline\n"
     ]
    }
   ],
   "source": [
    "soraPrompts = generate_sora_prompts_grok(grok, script)\n",
    "with open(soraPromptPath, 'w') as f:\n",
    "    f.write(soraPrompts[0])\n",
    "print(soraPrompts[0])"
   ]
  },
  {
   "cell_type": "code",
   "execution_count": 144,
   "metadata": {},
   "outputs": [
    {
     "name": "stdout",
     "output_type": "stream",
     "text": [
      "[Binance in the News]\n",
      "Headlines flash across screens, focusing on Binance and Trump family investment talks.\n",
      "Camera zooms in on headlines, quick cuts between news clips.\n",
      "\n",
      "[Binance Founder's Guilty Plea]\n",
      "Changpeng Zhao in a courtroom, looking serious, as a judge announces his guilty plea for anti-money laundering violations.\n",
      "Camera pans from Zhao to judge, then fades out.\n",
      "\n",
      "[Potential U.S. Partnership]\n",
      "Binance logo next to Trump family silhouette, symbolizing potential partnership, with U.S. flag in background.\n",
      "Camera slowly zooms in on the logo and silhouette, then cuts.\n",
      "\n",
      "[Trust or Crisis Deepens?]\n",
      "Split screen showing Binance's logo and a question mark, representing the uncertainty of the partnership's impact.\n",
      "Camera starts wide, zooms in on question mark, then dissolves to next scene.\n"
     ]
    }
   ],
   "source": [
    "soraPrompts2 = generate_sora_prompts_grokV2(grok, script)\n",
    "with open(soraPromptsv2Path, 'w') as f:\n",
    "    f.write(soraPrompts2[0])\n",
    "print(soraPrompts2[0])"
   ]
  },
  {
   "cell_type": "code",
   "execution_count": 146,
   "metadata": {},
   "outputs": [
    {
     "name": "stdout",
     "output_type": "stream",
     "text": [
      "1. **#BinanceTrump**\n",
      "   Reasoning: Directly references the key elements of the video - Binance and the Trump family, making it highly relevant and searchable for those interested in this specific news.\n",
      "\n",
      "2. **#CZGuiltyPlea**\n",
      "   Reasoning: Highlights the significant legal development involving Binance's founder, which is a major point of interest and discussion among viewers.\n",
      "\n",
      "3. **#CryptoControversy**\n",
      "   Reasoning: Broadens the appeal to those interested in cryptocurrency controversies, which is a hot topic in the financial and tech communities.\n",
      "\n",
      "4. **#BinanceUS**\n",
      "   Reasoning: Targets viewers specifically interested in Binance's activities and potential moves in the U.S. market.\n",
      "\n",
      "5. **#TrumpFamilyInvestments**\n",
      "   Reasoning: Appeals to audiences following the Trump family's business dealings, which often generate significant public interest and discussion.\n",
      "\n",
      "6. **#AntiMoneyLaundering**\n",
      "   Reasoning: Focuses on the specific legal issue at hand, attracting viewers interested in financial regulations and compliance.\n",
      "\n",
      "7. **#CryptoRegulation**\n",
      "   Reasoning: Engages viewers concerned with the broader implications of cryptocurrency regulation, which is increasingly relevant in current financial discussions.\n",
      "\n",
      "8. **#FinancialScandal**\n",
      "   Reasoning: Captures the attention of those who follow financial news and scandals, which can drive significant engagement.\n",
      "\n",
      "9. **#BinanceCrisis**\n",
      "   Reasoning: Directly addresses the ongoing crisis at Binance, which is a compelling narrative for viewers interested in corporate and financial dramas.\n",
      "\n",
      "10. **#TrustOrCrisis**\n",
      "   Reasoning: Poses the central question of the video, encouraging viewers to engage with the content to form their own opinions on the potential outcomes.\n",
      "\n",
      "List of all hashtags: #BinanceTrump #CZGuiltyPlea #CryptoControversy #BinanceUS #TrumpFamilyInvestments #AntiMoneyLaundering #CryptoRegulation #FinancialScandal #BinanceCrisis #TrustOrCrisis\n"
     ]
    }
   ],
   "source": [
    "hashtags = generate_hashtags(grok, script)\n",
    "with open(grokHashtagsPath, 'w') as f:\n",
    "    f.write(hashtags)\n",
    "print(hashtags)\n"
   ]
  },
  {
   "cell_type": "code",
   "execution_count": 147,
   "metadata": {},
   "outputs": [],
   "source": [
    "opinionAnalysis = generate_grok_opinion_analysis(grok, newsReport)"
   ]
  },
  {
   "cell_type": "code",
   "execution_count": 148,
   "metadata": {},
   "outputs": [
    {
     "name": "stdout",
     "output_type": "stream",
     "text": [
      "**Binance's High-Stakes Gamble with Trump Ties**\n",
      "\n",
      "Binance's audacious move to court the Trump family's investment through World Liberty Financial is a bold, yet risky strategy to reclaim its foothold in the U.S. market. This partnership, if realized, could provide the financial lifeline Binance desperately needs after its significant setbacks due to regulatory pressures and anti-money laundering sanctions. However, the potential benefits come with substantial risks, as the involvement of controversial political figures could further erode the trust Binance is struggling to rebuild.\n",
      "\n",
      "The reported discussions with the Trump family, coupled with the recent $2 billion investment from MGX, demonstrate Binance's determination to solidify its position in the digital finance landscape. The surge in BNB's price following the Trump family news suggests investor optimism, but the broader market remains volatile amidst macroeconomic uncertainties. Binance's ability to navigate these challenges while addressing its historical compliance issues will be crucial to its success.\n",
      "\n",
      "However, the intertwining of political and investment moves raises serious concerns. The potential conflict of interest allegations stemming from the Trump family's involvement in cryptocurrency ventures could intensify the scrutiny Binance faces from regulators and the public. Moreover, the recent uptick in phishing scams leveraging the Binance brand underscores the need for robust cybersecurity measures as the exchange maneuvers through this complex landscape.\n",
      "\n",
      "Binance's future hangs in the balance as it attempts to define its path amidst both opportunity and scrutiny. The coming days will be critical for the exchange, as it must demonstrate its commitment to compliance, transparency, and the protection of its users. The high-stakes gamble with the Trump family could either be the catalyst for Binance's resurgence or the final nail in its coffin. Only time will tell if this bold strategy pays off or if it further entangles the exchange in a web of controversy.\n"
     ]
    }
   ],
   "source": [
    "with open(opinionAnalysisPath, 'w') as f:\n",
    "    f.write(opinionAnalysis)\n",
    "print(opinionAnalysis)"
   ]
  },
  {
   "cell_type": "code",
   "execution_count": 149,
   "metadata": {},
   "outputs": [
    {
     "data": {
      "text/plain": [
       "64"
      ]
     },
     "execution_count": 149,
     "metadata": {},
     "output_type": "execute_result"
    }
   ],
   "source": [
    "len(grokNarration.split(' '))"
   ]
  }
 ],
 "metadata": {
  "kernelspec": {
   "display_name": "base",
   "language": "python",
   "name": "python3"
  },
  "language_info": {
   "codemirror_mode": {
    "name": "ipython",
    "version": 3
   },
   "file_extension": ".py",
   "mimetype": "text/x-python",
   "name": "python",
   "nbconvert_exporter": "python",
   "pygments_lexer": "ipython3",
   "version": "3.12.7"
  }
 },
 "nbformat": 4,
 "nbformat_minor": 2
}
