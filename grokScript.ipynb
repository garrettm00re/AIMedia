{
 "cells": [
  {
   "cell_type": "code",
   "execution_count": 4,
   "metadata": {},
   "outputs": [],
   "source": [
    "import os\n",
    "from dotenv import load_dotenv\n",
    "load_dotenv()\n",
    "from grok import Grok\n",
    "import pickle"
   ]
  },
  {
   "cell_type": "code",
   "execution_count": 5,
   "metadata": {},
   "outputs": [
    {
     "name": "stdout",
     "output_type": "stream",
     "text": [
      "xai-fq2OPXVKJrQCMyitw8z4fUiuVE6OO0KBjy1AzT5L56DiZsG88SqNJgvISwXC7psVI6wmT5vkAkFWadXF https://api.x.ai/v1/chat/completions\n"
     ]
    }
   ],
   "source": [
    "grok_api_key, grok_url, grok_model = os.getenv(\"GROK_API_KEY\"), os.getenv(\"GROK_URL\"), 'grok-2-latest'\n",
    "print(grok_api_key, grok_url)\n",
    "grok = Grok(grok_api_key, grok_url, grok_model)"
   ]
  },
  {
   "cell_type": "code",
   "execution_count": 6,
   "metadata": {},
   "outputs": [],
   "source": [
    "def generate_script_grok(client: Grok, trend_data: dict, news_report: str) -> str:\n",
    "\n",
    "    \"\"\"Generate a video script using Grok based on trend data\"\"\"\n",
    "    \n",
    "    prompt = f\"\"\"Create a very short, 20-second video script about this trending topic:\n",
    "    Topic: {trend_data['keyword']}\n",
    "    Related Keywords: {', '.join(trend_data['keywords'])}\n",
    "    News Report: {news_report}\n",
    "    \n",
    "    The script should be:\n",
    "    1. Informative and accurate\n",
    "    2. Focused on the most important and sensational aspects of the story\n",
    "    3. Include important big-picture context\n",
    "    4. Conversational and concise.\n",
    "    5. At most 20 seconds in length.\n",
    "    6. Less than 80 words in length.\n",
    "\n",
    "    The script should NOT:\n",
    "    1. Contain an outro of any kind, or mention subscribing to the channel\n",
    "    2. Use acronyms or abbreviations without explanation\"\"\"\n",
    "\n",
    "    return client.generate_text(prompt)"
   ]
  },
  {
   "cell_type": "code",
   "execution_count": 7,
   "metadata": {},
   "outputs": [],
   "source": [
    "def generate_sora_prompts_grok(client: Grok, script: str, num_prompts: int = 1) -> list[str]:\n",
    "    \"\"\"Generate Sora-compatible video prompts based on the script\"\"\"\n",
    "\n",
    "    soraScripts = []\n",
    "    prompt = f\"\"\"Break down this script into a series of four video scene descriptions suitable for AI video generation:\n",
    "    \n",
    "    Script: {script}\n",
    "    \n",
    "    There should be four scenes.\n",
    "\n",
    "    For each scene:\n",
    "    \n",
    "    1. Describe the visual elements in detail\n",
    "    2. Include camera movements and transitions\n",
    "    3. Be concise -- under 25 words.\n",
    "    4. Use loose, conversational language in your description.\n",
    "    5. Format the scene description as follows:\n",
    "        [Scene Title] <= 5 words\n",
    "        [Scene Description] <= 25 words\n",
    "        [Camera Movements/Transitions] <= 25 words\n",
    "        newline\n",
    "\n",
    "    Do NOT:\n",
    "    1. Generate a scene for an outro\n",
    "    2. Use acronyms or abbreviations without explanation\n",
    "    \"\"\"\n",
    "    \n",
    "    for i in range(num_prompts):\n",
    "        soraScript = client.generate_text(prompt)\n",
    "        soraScripts.append(soraScript)\n",
    "    return soraScripts"
   ]
  },
  {
   "cell_type": "code",
   "execution_count": 37,
   "metadata": {},
   "outputs": [],
   "source": [
    "def generate_grok_image_prompts(client: Grok, script: str, num_prompts: int = 10) -> list[str]:\n",
    "    \"\"\"Generate Grok image prompts based on the script\"\"\"\n",
    "\n",
    "    prompt = f\"\"\"Generate a series of (~{int}) image descriptions that capture the most sensational themes of the following script.\n",
    "\n",
    "    For each image:\n",
    "    1. Be assertive and highly creative in your description. \n",
    "    2. Be clear and concise. \n",
    "    3. Use familiar elements of popular culture where appropriate e.g. brands, celebrities, landmarks, products, etc.\n",
    "\n",
    "    Each image prompt should have the following format:\n",
    "    Generate an image of [description]\n",
    "\n",
    "    Separate each image prompt with a newline.\n",
    "    \n",
    "    Script: {script}\n",
    "    \"\"\"\n",
    "    return client.generate_text(prompt)"
   ]
  },
  {
   "cell_type": "code",
   "execution_count": 9,
   "metadata": {},
   "outputs": [],
   "source": [
    "def generate_grok_narration(client: Grok, script: str) -> str:\n",
    "    \"\"\"Generate a narration using Grok based on the script\"\"\"\n",
    "\n",
    "    prompt = f\"\"\"Extract only the words to be spoken from this video script:\n",
    "    Script: {script}.\n",
    "\n",
    "    The result should NOT include any mention of a narrator or scene descriptions.\n",
    "    \"\"\"\n",
    "    return grok.generate_text(prompt)"
   ]
  },
  {
   "cell_type": "code",
   "execution_count": 10,
   "metadata": {},
   "outputs": [],
   "source": [
    "def generate_hashtags(client: Grok, script: str) -> list[str]:\n",
    "    \"\"\"Generate hashtags using Grok based on the script\"\"\"\n",
    "\n",
    "    prompt = f\"\"\"Generate the best series of hashtags to make this video go viral on instagram reels, tik tok, and youtube shorts.\n",
    "    Select the best 10 hashtags and brief reasoning for each.\n",
    "\n",
    "    The result should be in the following format:\n",
    "    for each hashtag:\n",
    "        [Hashtag] [Reasoning]\n",
    "\n",
    "    Include a one-line space separated list of all hashtags at the end.\n",
    "\n",
    "    Script: {script}\"\"\"\n",
    "    return client.generate_text(prompt)\n"
   ]
  },
  {
   "cell_type": "code",
   "execution_count": 11,
   "metadata": {},
   "outputs": [],
   "source": [
    "grok_api_key, grok_url, grok_model = os.getenv(\"GROK_API_KEY\"), os.getenv(\"GROK_URL\"), 'grok-2-latest'\n",
    "grok = Grok(grok_api_key, grok_url, grok_model)"
   ]
  },
  {
   "cell_type": "code",
   "execution_count": 12,
   "metadata": {},
   "outputs": [],
   "source": [
    "# List directories in assets and get most recent\n",
    "asset_dirs = [d for d in os.listdir('assets') if os.path.isdir(os.path.join('assets', d))]\n",
    "RUN_DIR = os.path.join('assets', max(asset_dirs))\n",
    "MAIN = [os.path.join(RUN_DIR, d) for d in os.listdir(RUN_DIR) if os.path.isdir(os.path.join(RUN_DIR, d))][0] # only one directory in the RUN_DIR\n",
    "NEWS_REPORT = os.path.join(MAIN, 'news_report.txt')\n",
    "SORAPROMPTS = os.path.join(MAIN, 'soraprompts.txt')\n",
    "SCRIPT = os.path.join(MAIN, 'script.txt')\n",
    "keyword = MAIN.split('\\\\')[-1].replace('_', ' ')"
   ]
  },
  {
   "cell_type": "code",
   "execution_count": 13,
   "metadata": {},
   "outputs": [],
   "source": [
    "finalTrendList = pickle.load(open('./tmp/finalTrendList.pkl', 'rb'))"
   ]
  },
  {
   "cell_type": "code",
   "execution_count": 14,
   "metadata": {},
   "outputs": [],
   "source": [
    "trend = [trend for trend in finalTrendList if trend['keyword'] == keyword][0]"
   ]
  },
  {
   "cell_type": "code",
   "execution_count": 15,
   "metadata": {},
   "outputs": [
    {
     "name": "stdout",
     "output_type": "stream",
     "text": [
      "**Mass Layoffs at U.S. Department of Education Marks a New Chapter Under Trump Administration**\n",
      "\n",
      "*Date: March 12, 2025 | By: [Your News Agency Name]*\n",
      "\n",
      "In a controversial move that has sent shockwaves across the educational landscape, the U.S. Department of Education announced on March 11 that it will lay off nearly 1,300 employees, effectively halving its workforce as part of an effort to eliminate what it calls \"bureaucratic bloat.\" This massive staff reduction comes less than two months into President Donald Trump's second term, fulfilling a long-standing campaign promise to dismantle the agency, which he deems to be ineffective and excessively bureaucratic.\n",
      "\n",
      "**Significant Downsizing**\n",
      "\n",
      "Education Secretary Linda McMahon, the newly installed chief of the agency and former CEO of World Wrestling Entertainment, stated that this \"reduction in force\" (RIF) aims to bolster efficiency and accountability within the department. Following these layoffs, the department's staff will shrink from approximately 4,100 to around 2,200 employees. This reshaping also marks a broader trend as President Trump calls for the transfer of educational oversight back to state governments, claiming that the federal agency has been infiltrated by \"radicals, zealots, and Marxists.\"\n",
      "\n",
      "\"Today's reduction reflects our commitment to ensuring that resources are directed where they matter most: to students, parents, and teachers,\" McMahon stated in a press release. However, critics raise alarms about the implications of such drastic cuts.\n",
      "\n",
      "**Concerns About Impact on Services**\n",
      "\n",
      "The layoffs, which will result in the loss of crucial personnel responsible for managing federal student loans, overseeing competitive grants, and enforcing civil rights laws in education, have prompted widespread backlash from educators and civil rights advocates alike. Many express fears that this wholesale dismantling of the department will disproportionately affect vulnerable populations, including students with disabilities and those from low-income backgrounds.\n",
      "\n",
      "The American Federation of Government Employees (AFGE) Local 252 decried the cuts as \"draconian\" and argued that the elimination of staff will severely impair the department’s ability to provide vital services. Sheria Smith, president of the AFGE Local 252, emphasized the serious consequences of these layoffs: \"Do you need financial aid for college? If yes, then you rely on the Department of Education, and the services you rely on and the employees who support them are under attack.\"\n",
      "\n",
      "**Frontline Responses from Educators and Advocates**\n",
      "\n",
      "Educators and unions nationwide are voicing their frustrations and concerns. The National Education Association (NEA) characterized the cuts as being akin to \"a wrecking ball\" aimed at the futures of millions of students. NEA President Becky Pringle asserted, \"The real victims will be our most vulnerable students,\" adding that the dismantling of the Department of Education will ultimately lead to larger class sizes, diminished job training programs, and increased financial barriers to higher education.\n",
      "\n",
      "Several educators, who have dedicated their careers to serving students through the department, are now left scrambling for their careers following the abrupt notices. \"It's a slap in the face,\" said one laid-off employee, reflecting widespread sentiments of betrayal and uncertainty.\n",
      "\n",
      "**Future of Federal Education Oversight**\n",
      "\n",
      "McMahon and Trump have argued that shifting control and responsibility for education back to states will promote greater accountability and governance, as local authorities often better understand the needs of their communities. Nonetheless, experts warn that without federal oversight, students from disadvantaged backgrounds may suffer from diminished protection and resources. \n",
      "\n",
      "The federal judge ruling against cuts to teacher training programs indicates that there are legal challenges to the overarching goals of the Trump administration's educational policies. As this new chapter unfolds, stakeholders are closely monitoring the impacts of these significant changes on students nationwide.\n",
      "\n",
      "**What Comes Next?**\n",
      "\n",
      "With critical federal functions now at risk, educators, lawmakers, and the public are waiting to see how the remaining workforce will manage the essential programs that provide funding for millions of students, particularly the poorest and most marginalized. The department is expected to continue managing federal financial aid despite the drastic reduction in staffing capacity, but advocates worry about the sustainability and effectiveness of these programs in light of such significant cutbacks.\n",
      "\n",
      "As the next steps unfold, the education community braces for further developments—regardless of the future trajectory of the Department of Education and its ultimate survival. \n",
      "\n",
      "---\n",
      "This synthesized news report incorporates various aspects of the original articles while presenting a cohesive narrative about the Department of Education's recent layoffs, the reactions they have sparked, and their implications for the future. If you have specific details or angles to include, feel free to let me know!\n"
     ]
    }
   ],
   "source": [
    "with open(NEWS_REPORT) as f:\n",
    "    newsReport = f.read()\n",
    "print(newsReport)"
   ]
  },
  {
   "cell_type": "code",
   "execution_count": 21,
   "metadata": {},
   "outputs": [],
   "source": [
    "GROKPATH = MAIN + '/grok'\n",
    "os.mkdir(GROKPATH)"
   ]
  },
  {
   "cell_type": "code",
   "execution_count": 22,
   "metadata": {},
   "outputs": [],
   "source": [
    "soraPromptPath = GROKPATH + '/grok-soraprompts.txt'\n",
    "scriptPath = GROKPATH + '/grok-script.txt'\n",
    "grokImagePromptsPath = GROKPATH + '/grok-imageprompts.txt'\n",
    "grokNarrationPath = GROKPATH + '/grok-narration.txt'\n",
    "grokHashtagsPath = GROKPATH + '/grok-hashtags.txt'\n",
    "opinionAnalysisPath = GROKPATH + '/grok-opinionanalysis.txt'"
   ]
  },
  {
   "cell_type": "code",
   "execution_count": 23,
   "metadata": {},
   "outputs": [
    {
     "name": "stdout",
     "output_type": "stream",
     "text": [
      "**Scene: Newsroom setting with a news anchor**\n",
      "\n",
      "Anchor: \"Breaking news: The U.S. Department of Education, led by Secretary Linda McMahon, has announced massive layoffs, cutting its workforce in half. This move, part of President Trump's second-term agenda, aims to reduce what they call 'bureaucratic bloat.' Critics fear this will harm students, especially those from disadvantaged backgrounds, as key services like federal student loans and civil rights enforcement are at risk.\"\n"
     ]
    }
   ],
   "source": [
    "script = generate_script_grok(grok, trend, newsReport)\n",
    "with open(scriptPath, 'w') as f:\n",
    "    f.write(script)\n",
    "print(script)"
   ]
  },
  {
   "cell_type": "code",
   "execution_count": 38,
   "metadata": {},
   "outputs": [
    {
     "name": "stdout",
     "output_type": "stream",
     "text": [
      "Generate an image of a dramatic newsroom scene where a stern-faced news anchor, reminiscent of Anderson Cooper, delivers the breaking news. Behind him, a large screen displays the U.S. Department of Education logo being sliced in half by a giant pair of scissors, symbolizing the massive layoffs.\n",
      "\n",
      "Generate an image of Linda McMahon, styled like a WWE character, standing triumphantly atop a pile of discarded office furniture and shredded documents, representing the reduction of 'bureaucratic bloat' in the Department of Education.\n",
      "\n",
      "Generate an image of a distressed student, looking like a young Emma Watson, surrounded by fading images of school books, a graduation cap, and a 'Federal Student Loans' sign, illustrating the potential harm to students from disadvantaged backgrounds.\n",
      "\n",
      "Generate an image of President Trump, in a superhero costume labeled 'Bureaucracy Buster', using a giant hammer to smash through a wall labeled 'Department of Education', emphasizing his second-term agenda.\n",
      "\n",
      "Generate an image of a civil rights protest outside the Department of Education, with protesters holding signs that read 'Save Our Services' and 'Education for All', highlighting the fears over the loss of key services like civil rights enforcement.\n"
     ]
    }
   ],
   "source": [
    "images = generate_grok_image_prompts(grok, script)\n",
    "with open(grokImagePromptsPath, 'w') as f:\n",
    "    f.write(images)\n",
    "print(images)"
   ]
  },
  {
   "cell_type": "code",
   "execution_count": 25,
   "metadata": {},
   "outputs": [],
   "source": [
    "soraPrompts = generate_sora_prompts_grok(grok, script)\n",
    "with open(soraPromptPath, 'w') as f:\n",
    "    f.write(soraPrompts[0])"
   ]
  },
  {
   "cell_type": "code",
   "execution_count": 26,
   "metadata": {},
   "outputs": [
    {
     "name": "stdout",
     "output_type": "stream",
     "text": [
      "[Newsroom Setup]\n",
      "Anchor at desk, serious look, newsroom background with screens.\n",
      "Camera zooms in on anchor, steady shot.\n",
      "\n",
      "[Announcement of Layoffs]\n",
      "Anchor speaks, graphic shows U.S. Department of Education logo.\n",
      "Cut to graphic, then back to anchor, smooth transition.\n",
      "\n",
      "[Impact on Students]\n",
      "Anchor's expression turns concerned, text overlay about student services.\n",
      "Camera pans to text overlay, then back to anchor, slow zoom out.\n",
      "\n",
      "[Political Context]\n",
      "Anchor mentions President Trump, image of Trump appears briefly.\n",
      "Quick cut to Trump's image, then dissolve back to anchor.\n"
     ]
    }
   ],
   "source": [
    "print(soraPrompts[0])"
   ]
  },
  {
   "cell_type": "code",
   "execution_count": 27,
   "metadata": {},
   "outputs": [
    {
     "name": "stdout",
     "output_type": "stream",
     "text": [
      "\"Breaking news: The U.S. Department of Education, led by Secretary Linda McMahon, has announced massive layoffs, cutting its workforce in half. This move, part of President Trump's second-term agenda, aims to reduce what they call 'bureaucratic bloat.' Critics fear this will harm students, especially those from disadvantaged backgrounds, as key services like federal student loans and civil rights enforcement are at risk.\"\n",
      "WORD COUNT:  62\n"
     ]
    }
   ],
   "source": [
    "grokNarration = generate_grok_narration(grok, script)\n",
    "with open(grokNarrationPath, 'w') as f:\n",
    "    f.write(grokNarration)\n",
    "print(grokNarration)\n",
    "print(\"WORD COUNT: \", len(grokNarration.split(' ')))\n"
   ]
  },
  {
   "cell_type": "code",
   "execution_count": 28,
   "metadata": {},
   "outputs": [
    {
     "name": "stdout",
     "output_type": "stream",
     "text": [
      "1. **#BreakingNews** - This hashtag is essential as it directly relates to the format and urgency of the content, attracting viewers interested in current events.\n",
      "2. **#EducationCuts** - Specific to the video's topic, this hashtag will draw in viewers concerned about educational policy and funding.\n",
      "3. **#TrumpAgenda** - Relevant to the political context provided in the script, this will attract viewers interested in Trump's policies.\n",
      "4. **#LindaMcMahon** - Mentioning the Education Secretary by name in a hashtag can pull in viewers who follow political figures or are interested in her actions.\n",
      "5. **#BureaucraticBloat** - This phrase is used in the script and can attract viewers interested in government efficiency and reform.\n",
      "6. **#StudentLoans** - A key issue mentioned in the script, this hashtag will attract viewers concerned about student financial aid.\n",
      "7. **#CivilRights** - Another critical issue mentioned, this hashtag will draw viewers interested in civil rights and educational equity.\n",
      "8. **#DisadvantagedStudents** - This hashtag targets viewers concerned with educational disparities and the impact of policy on vulnerable groups.\n",
      "9. **#GovernmentLayoffs** - Broadens the appeal to those interested in government employment and economic policy.\n",
      "10. **#PolicyImpact** - A general hashtag that can attract viewers interested in the broader implications of policy decisions.\n",
      "\n",
      "Hashtags: #BreakingNews #EducationCuts #TrumpAgenda #LindaMcMahon #BureaucraticBloat #StudentLoans #CivilRights #DisadvantagedStudents #GovernmentLayoffs #PolicyImpact\n"
     ]
    }
   ],
   "source": [
    "hashtags = generate_hashtags(grok, script)\n",
    "with open(grokHashtagsPath, 'w') as f:\n",
    "    f.write(hashtags)\n",
    "print(hashtags)\n"
   ]
  },
  {
   "cell_type": "code",
   "execution_count": 29,
   "metadata": {},
   "outputs": [],
   "source": [
    "def generate_grok_opinion_analysis(client: Grok, news_report: str) -> str:\n",
    "    \"\"\"Generate an opinion analysis using Grok based on the news report\"\"\"\n",
    "\n",
    "    prompt = f\"\"\"Generate an opinion analysis using Grok based on the news report:\n",
    "    News Report: {news_report}\n",
    "\n",
    "    The opinion analysis should:\n",
    "    1. Be highly engaging and bold.\n",
    "    2. Provide evidence based reasoning for claims made. \n",
    "    3. Be less than 500 words in length.\n",
    "    4. Be written in a professional tone.\n",
    "\n",
    "    The opinion analysis should NOT:\n",
    "    1. Cite sources.\n",
    "\n",
    "    Format:\n",
    "    [Title Highlighting the Central Claim] <= 10 words\n",
    "    [Opinion Analysis] <= 500 words\n",
    "    \"\"\"\n",
    "\n",
    "    return client.generate_text(prompt)"
   ]
  },
  {
   "cell_type": "code",
   "execution_count": 30,
   "metadata": {},
   "outputs": [],
   "source": [
    "opinionAnalysis = generate_grok_opinion_analysis(grok, newsReport)"
   ]
  },
  {
   "cell_type": "code",
   "execution_count": 31,
   "metadata": {},
   "outputs": [
    {
     "name": "stdout",
     "output_type": "stream",
     "text": [
      "**Trump's Education Cuts: A Reckless Assault on America's Future**\n",
      "\n",
      "The Trump administration's decision to gut the U.S. Department of Education, slashing its workforce by nearly half, is a reckless and shortsighted move that threatens the very foundation of our nation's educational system. This drastic reduction in personnel, justified by baseless claims of \"bureaucratic bloat,\" will inevitably lead to diminished services and increased hardships for the most vulnerable students.\n",
      "\n",
      "The loss of over 1,300 employees, including those responsible for managing federal student loans, overseeing grants, and enforcing civil rights laws, will severely impair the department's ability to fulfill its critical mission. The impact will be felt most acutely by students with disabilities, those from low-income backgrounds, and other marginalized groups who rely on these essential programs for access to education and opportunity.\n",
      "\n",
      "Proponents of these cuts argue that shifting control to state governments will promote greater accountability and better serve local needs. However, this naive assumption ignores the reality that federal oversight is necessary to ensure equal protection and resources for all students, regardless of their zip code or socioeconomic status. Without a strong federal presence, the education system risks becoming a patchwork of inequity, with disadvantaged students left behind.\n",
      "\n",
      "Furthermore, the administration's claim that these layoffs will bolster efficiency and accountability rings hollow. The true motivation appears to be a misguided ideological crusade against the very concept of a federal education agency, driven by baseless accusations of \"radical\" infiltration. Such rhetoric only serves to undermine public trust in our educational institutions and distract from the real issues at hand.\n",
      "\n",
      "As educators, lawmakers, and the public grapple with the fallout from these devastating cuts, one thing is clear: the future of America's students hangs in the balance. We must demand a reversal of this shortsighted policy and a recommitment to investing in our nation's most precious resource – our children's education. Anything less would be a betrayal of our collective future.\n"
     ]
    }
   ],
   "source": [
    "with open(opinionAnalysisPath, 'w') as f:\n",
    "    f.write(opinionAnalysis)\n",
    "print(opinionAnalysis)\n"
   ]
  },
  {
   "cell_type": "code",
   "execution_count": 32,
   "metadata": {},
   "outputs": [
    {
     "data": {
      "text/plain": [
       "62"
      ]
     },
     "execution_count": 32,
     "metadata": {},
     "output_type": "execute_result"
    }
   ],
   "source": [
    "len(grokNarration.split(' '))"
   ]
  },
  {
   "cell_type": "code",
   "execution_count": null,
   "metadata": {},
   "outputs": [],
   "source": []
  }
 ],
 "metadata": {
  "kernelspec": {
   "display_name": "base",
   "language": "python",
   "name": "python3"
  },
  "language_info": {
   "codemirror_mode": {
    "name": "ipython",
    "version": 3
   },
   "file_extension": ".py",
   "mimetype": "text/x-python",
   "name": "python",
   "nbconvert_exporter": "python",
   "pygments_lexer": "ipython3",
   "version": "3.12.7"
  }
 },
 "nbformat": 4,
 "nbformat_minor": 2
}
