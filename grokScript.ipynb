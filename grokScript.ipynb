{
 "cells": [
  {
   "cell_type": "markdown",
   "metadata": {},
   "source": [
    "# Generating Assets with Grok 🤖\n",
    "___"
   ]
  },
  {
   "cell_type": "code",
   "execution_count": 226,
   "metadata": {},
   "outputs": [],
   "source": [
    "import os\n",
    "from dotenv import load_dotenv\n",
    "load_dotenv()\n",
    "import pickle\n",
    "from grokUtils import *"
   ]
  },
  {
   "cell_type": "code",
   "execution_count": 227,
   "metadata": {},
   "outputs": [],
   "source": [
    "os.chdir(os.getenv(\"APPDIR\"))"
   ]
  },
  {
   "cell_type": "code",
   "execution_count": 228,
   "metadata": {},
   "outputs": [
    {
     "name": "stdout",
     "output_type": "stream",
     "text": [
      "xai-fq2OPXVKJrQCMyitw8z4fUiuVE6OO0KBjy1AzT5L56DiZsG88SqNJgvISwXC7psVI6wmT5vkAkFWadXF https://api.x.ai/v1/chat/completions\n"
     ]
    }
   ],
   "source": [
    "grok_api_key, grok_url, grok_model = os.getenv(\"GROK_API_KEY\"), os.getenv(\"GROK_URL\"), 'grok-2-latest'\n",
    "print(grok_api_key, grok_url)\n",
    "grok = Grok(grok_api_key, grok_url, grok_model)"
   ]
  },
  {
   "cell_type": "code",
   "execution_count": 236,
   "metadata": {},
   "outputs": [],
   "source": [
    "grok_api_key, grok_url, grok_model = os.getenv(\"GROK_API_KEY\"), os.getenv(\"GROK_URL\"), 'grok-2-latest'\n",
    "grok = Grok(grok_api_key, grok_url, grok_model)"
   ]
  },
  {
   "cell_type": "code",
   "execution_count": 237,
   "metadata": {},
   "outputs": [],
   "source": [
    "# List directories in assets and get most recent\n",
    "asset_dirs = [d for d in os.listdir('assets') if os.path.isdir(os.path.join('assets', d))]\n",
    "RUN_DIR = os.path.join('assets', max(asset_dirs))\n",
    "MAIN = [os.path.join(RUN_DIR, d) for d in os.listdir(RUN_DIR) if os.path.isdir(os.path.join(RUN_DIR, d))][0] # only one directory in the RUN_DIR\n",
    "NEWS_REPORT = os.path.join(MAIN, 'news_report.txt')\n",
    "SORAPROMPTS = os.path.join(MAIN, 'soraprompts.txt')\n",
    "SCRIPT = os.path.join(MAIN, 'script.txt')\n",
    "keyword = MAIN.split('\\\\')[-1].replace('_', ' ')"
   ]
  },
  {
   "cell_type": "code",
   "execution_count": 238,
   "metadata": {},
   "outputs": [],
   "source": [
    "finalTrendList = pickle.load(open('./tmp/finalTrendList.pkl', 'rb'))"
   ]
  },
  {
   "cell_type": "code",
   "execution_count": 239,
   "metadata": {},
   "outputs": [],
   "source": [
    "trend = [trend for trend in finalTrendList if trend['keyword'] == keyword][0]"
   ]
  },
  {
   "cell_type": "code",
   "execution_count": null,
   "metadata": {},
   "outputs": [],
   "source": [
    "audience = \"Americans with an interest in the world of business\""
   ]
  },
  {
   "cell_type": "code",
   "execution_count": 240,
   "metadata": {},
   "outputs": [
    {
     "name": "stdout",
     "output_type": "stream",
     "text": [
      "**Title: Autopen Controversy Heats Up as Trump Challenges Biden's Pardons**\n",
      "\n",
      "**Date: March 18, 2025**\n",
      "\n",
      "In an escalating feud over the legitimacy of Joe Biden’s final pardons, former President Donald Trump accused his predecessor of signing these legal documents with an “autopen,” claiming that such actions render the pardons “void, vacant, and of no further force or effect.” \n",
      "\n",
      "Trump's assertions, posted on his Truth Social account, particularly target preemptive pardons granted to members of the House Select Committee investigating the January 6 Capitol insurrection. He stated, “In other words, Joe Biden did not sign them but, more importantly, he did not know anything about them!\" This comment fueled speculation about Biden’s cognitive abilities and his control over the executive powers of the presidency.\n",
      "\n",
      "Using the autopen, a mechanical device designed to replicate signatures, is a practice that has been common among U.S. presidents for decades. Legal experts and former governmental practices affirm that the use of an autopen does not undermine the validity of the documents signed. A 2005 memorandum from the Office of Legal Counsel under President George W. Bush explicitly stated that the President does not need to personally affix their signature for a bill or pardon to be legally binding, as long as the document is signed at the direction of the President.\n",
      "\n",
      "Critics argue that Trump's claims are unfounded and circulate a narrative that fails to recognize established legal precedent surrounding presidential pardons. Jeffrey Crouch, a politics professor at American University, noted, “Biden’s pardons are highly unlikely to be revoked because of the apparent use of an autopen. The plain language of the Constitution imposes no such limitation.” He emphasized how numerous past presidents, including Barack Obama, have utilized the device without any legal repercussions.\n",
      "\n",
      "The public discourse surrounding Trump’s claims has led to sharp rebuttals from former members of the January 6 committee, including Adam Kinzinger and Adam Schiff. Kinzinger, responding to Trump’s social media diatribe, encouraged Trump to “bring it on,” asserting that the committee members remain steadfast in their work despite Trump’s threats. Schiff echoed this sentiment, emphasizing pride in their actions during the committee’s investigation.\n",
      "\n",
      "Public focus on the autopen controversy coincides with broader concerns over President Trump’s legislative focus and economic management, as recent polls indicate mixed approval ratings regarding his handling of the economy since returning to office in 2025. \n",
      "\n",
      "While Trump’s allegations are primarily couched in rhetoric, they signal his ongoing commitment to challenging Biden’s legacy, especially as his administration dealt with significant political turbulence surrounding the January 6 events. Notably, Trump has previously utilized similar powers of clemency during his administration, sparking discussions on the political motives behind presidential pardons.\n",
      "\n",
      "With Trump now boldly suggesting investigations into the pardons issued by Biden, observers note that the implications of these statements could prolong the historically contentious relationship between Trump's administration and Biden's legacy, setting the stage for further legal and political battles ahead. \n",
      "\n",
      "As this saga unfolds, it becomes more than just a political dispute over signatures; it raises larger questions about executive power, accountability, and the nature of democracy itself in the United States.\n"
     ]
    }
   ],
   "source": [
    "with open(NEWS_REPORT) as f:\n",
    "    newsReport = f.read()\n",
    "print(newsReport)"
   ]
  },
  {
   "cell_type": "code",
   "execution_count": 242,
   "metadata": {},
   "outputs": [],
   "source": [
    "GROKPATH = MAIN + '/grok'\n",
    "if not os.path.exists(GROKPATH):\n",
    "    os.mkdir(GROKPATH)"
   ]
  },
  {
   "cell_type": "code",
   "execution_count": 1,
   "metadata": {},
   "outputs": [
    {
     "ename": "NameError",
     "evalue": "name 'GROKPATH' is not defined",
     "output_type": "error",
     "traceback": [
      "\u001b[1;31m---------------------------------------------------------------------------\u001b[0m",
      "\u001b[1;31mNameError\u001b[0m                                 Traceback (most recent call last)",
      "Cell \u001b[1;32mIn[1], line 1\u001b[0m\n\u001b[1;32m----> 1\u001b[0m soraPromptPath \u001b[38;5;241m=\u001b[39m GROKPATH \u001b[38;5;241m+\u001b[39m \u001b[38;5;124m'\u001b[39m\u001b[38;5;124m/grok-soraprompts.txt\u001b[39m\u001b[38;5;124m'\u001b[39m\n\u001b[0;32m      2\u001b[0m soraPromptsv2Path \u001b[38;5;241m=\u001b[39m GROKPATH \u001b[38;5;241m+\u001b[39m \u001b[38;5;124m'\u001b[39m\u001b[38;5;124m/grok-soraprompts-v2.txt\u001b[39m\u001b[38;5;124m'\u001b[39m\n\u001b[0;32m      3\u001b[0m soraPromptsV3Path \u001b[38;5;241m=\u001b[39m GROKPATH \u001b[38;5;241m+\u001b[39m \u001b[38;5;124m'\u001b[39m\u001b[38;5;124m/grok-soraprompts-v3.txt\u001b[39m\u001b[38;5;124m'\u001b[39m\n",
      "\u001b[1;31mNameError\u001b[0m: name 'GROKPATH' is not defined"
     ]
    }
   ],
   "source": [
    "soraPromptPath = GROKPATH + '/grok-soraprompts.txt'\n",
    "soraPromptsv2Path = GROKPATH + '/grok-soraprompts-v2.txt'\n",
    "soraPromptsV3Path = GROKPATH + '/grok-soraprompts-v3.txt'\n",
    "scriptPath = GROKPATH + '/grok-script.txt'\n",
    "grokImagePromptsPath = GROKPATH + '/grok-imageprompts.txt'\n",
    "grokNarrationPath = GROKPATH + '/grok-narration.txt'\n",
    "grokHashtagsPath = GROKPATH + '/grok-hashtags.txt'\n",
    "opinionAnalysisPath = GROKPATH + '/grok-opinionanalysis.txt'"
   ]
  },
  {
   "cell_type": "code",
   "execution_count": 218,
   "metadata": {},
   "outputs": [
    {
     "name": "stdout",
     "output_type": "stream",
     "text": [
      "narrationWC:  63\n",
      "Senate Democrats are in turmoil after ten of them, led by Chuck Schumer, voted with Republicans to pass a $1.7 trillion government funding bill, narrowly averting a shutdown. The bill, slammed by progressives like AOC as a \"huge slap in the face,\" cuts non-defense spending while boosting military funds. Can the Democratic Party survive this deep rift as they head into crucial elections?\n",
      "=========\n"
     ]
    }
   ],
   "source": [
    "narrationWC = 0\n",
    "while narrationWC < 60 or narrationWC > 80:\n",
    "    script = generate_script_grok(grok, trend, newsReport)\n",
    "    narration = generate_grok_narration(grok, script)\n",
    "    narrationWC = len(narration.split(' '))\n",
    "    print('narrationWC: ', narrationWC)\n",
    "    print(narration)\n",
    "    print(\"=========\")\n",
    "    \n",
    "hook = makeHook(grok, narration, audience)\n",
    "finalNarration = finalScript(grok, script, hook)\n",
    "\n",
    "with open(scriptPath, 'w') as f:\n",
    "    f.write(script)\n",
    "with open(grokNarrationPath, 'w') as f:\n",
    "    f.write(finalNarration)"
   ]
  },
  {
   "cell_type": "code",
   "execution_count": 244,
   "metadata": {},
   "outputs": [
    {
     "name": "stdout",
     "output_type": "stream",
     "text": [
      "Generate an image of Chuck Schumer standing at a crossroads, one path leading to a towering Capitol Building draped in Republican red, the other to a crumbling Democratic blue structure, symbolizing the party's internal conflict.\n",
      "\n",
      "Generate an image of AOC, with a fiery expression, holding a sign that reads \"Huge Slap in the Face,\" standing in front of a giant, exaggerated $1.7 trillion bill that overshadows her, representing her critique of the government funding bill.\n",
      "\n",
      "Generate an image of a dramatic tug-of-war scene on the Senate floor, with ten Democrats, led by Chuck Schumer, pulling a rope labeled \"$1.7 Trillion\" towards a group of cheering Republicans, while other Democrats, looking dismayed, struggle to pull it back, illustrating the division within the party.\n",
      "\n",
      "Generate an image of a giant military tank labeled \"Increased Military Funds\" rolling over a smaller, crushed car labeled \"Non-Defense Spending,\" symbolizing the bill's impact on budget allocations.\n",
      "\n",
      "Generate an image of the Democratic donkey, split down the middle with one half walking confidently towards a bright \"Election Day\" sign, and the other half stumbling into a dark abyss labeled \"Party Rift,\" capturing the uncertainty facing the Democratic Party as they approach crucial elections.\n"
     ]
    }
   ],
   "source": [
    "images = generate_grok_image_prompts(grok, script)\n",
    "with open(grokImagePromptsPath, 'w') as f:\n",
    "    f.write(images)\n",
    "print(images)"
   ]
  },
  {
   "cell_type": "code",
   "execution_count": 220,
   "metadata": {},
   "outputs": [
    {
     "name": "stdout",
     "output_type": "stream",
     "text": [
      "[Senate in Turmoil]\n",
      "[Senate floor, Democrats arguing, Schumer leading group to vote with Republicans]\n",
      "[Pan across arguing senators, zoom in on Schumer]\n",
      " \n",
      "\n",
      "[Funding Bill Details]\n",
      "[Text overlay: \"$1.7 trillion bill cuts non-defense, boosts military funds\"]\n",
      "[Text fades in, camera slowly zooms out to show full bill document]\n",
      " \n",
      "\n",
      "[Progressive Reaction]\n",
      "[Alexandria Ocasio-Cortez at podium, visibly upset, calling bill a \"huge slap in the face\"]\n",
      "[Close-up on AOC, cut to reaction shots of audience]\n",
      " \n",
      "\n",
      "[Democratic Party's Future]\n",
      "[Split screen: Democratic Party symbol vs. upcoming election graphics]\n",
      "[Camera pans from symbol to election graphics, fade to black]\n"
     ]
    }
   ],
   "source": [
    "soraPrompts = generate_sora_prompts_grok(grok, script)\n",
    "with open(soraPromptPath, 'w') as f:\n",
    "    f.write(soraPrompts[0])\n",
    "print(soraPrompts[0])"
   ]
  },
  {
   "cell_type": "code",
   "execution_count": 222,
   "metadata": {},
   "outputs": [
    {
     "name": "stdout",
     "output_type": "stream",
     "text": [
      "[Senate in Turmoil]\n",
      "Senate Democrats argue, Schumer leads, Republicans join, voting on funding bill.\n",
      "Camera pans across arguing senators, zooms on Schumer, cuts to vote.\n",
      "\n",
      "[Funding Bill Details]\n",
      "Visuals of bill text, highlighting military spending increase, non-defense cuts.\n",
      "Camera scrolls through bill, focuses on key sections, fades to next scene.\n",
      "\n",
      "[Progressive Reaction]\n",
      "Alexandria Ocasio-Cortez speaks out, calling the bill a huge slap in the face.\n",
      "Camera close-up on AOC, cuts to crowd reaction, pans to exit.\n",
      "\n",
      "[Democratic Party's Future]\n",
      "Democratic leaders in discussion, concerned looks, election posters in background.\n",
      "Camera circles group, zooms on posters, fades out.\n"
     ]
    }
   ],
   "source": [
    "soraPrompts2 = generate_sora_prompts_grokV2(grok, script)\n",
    "with open(soraPromptsv2Path, 'w') as f:\n",
    "    f.write(soraPrompts2[0])\n",
    "print(soraPrompts2[0])"
   ]
  },
  {
   "cell_type": "code",
   "execution_count": null,
   "metadata": {},
   "outputs": [],
   "source": [
    "soraPrompts3 = generate_sora_prompts_grokV3(grok, script)\n",
    "with open(soraPromptsV3Path, 'w') as f:\n",
    "    f.write(soraPrompts3[0])\n",
    "print(soraPrompts2[0])"
   ]
  },
  {
   "cell_type": "code",
   "execution_count": 223,
   "metadata": {},
   "outputs": [
    {
     "name": "stdout",
     "output_type": "stream",
     "text": [
      "1. [#SenateDemocrats] [This hashtag directly references the main subject of the video, the actions of Senate Democrats, which is crucial for targeting the relevant audience interested in political news and events.]\n",
      "2. [#ChuckSchumer] [As a key figure in the narrative, mentioning Chuck Schumer by name will attract viewers interested in his political decisions and leadership within the Democratic Party.]\n",
      "3. [#GovernmentFundingBill] [This hashtag specifies the central issue of the video, helping to attract viewers interested in government spending and fiscal policy.]\n",
      "4. [#1_7Trillion] [Including the specific amount of the bill in the hashtag can draw attention from those interested in the scale of government spending and its implications.]\n",
      "5. [#AOC] [Mentioning AOC, a prominent progressive critic of the bill, will engage viewers who follow her political stance and are interested in progressive viewpoints.]\n",
      "6. [#MilitarySpending] [This hashtag targets viewers concerned with or interested in military budget allocations, a key aspect of the bill's content.]\n",
      "7. [#NonDefenseCuts] [This hashtag will attract viewers focused on domestic spending and the impact of budget cuts on non-defense sectors.]\n",
      "8. [#DemocraticParty] [This broad hashtag will reach a wider audience interested in the Democratic Party's internal dynamics and future.]\n",
      "9. [#Election2024] [Linking the video to upcoming elections will engage viewers thinking about the political landscape and its implications for future voting.]\n",
      "10. [#PoliticalRift] [This hashtag captures the theme of division within the party, appealing to those interested in political analysis and party dynamics.]\n",
      "\n",
      "#SenateDemocrats #ChuckSchumer #GovernmentFundingBill #1_7Trillion #AOC #MilitarySpending #NonDefenseCuts #DemocraticParty #Election2024 #PoliticalRift\n"
     ]
    }
   ],
   "source": [
    "hashtags = generate_hashtags(grok, script)\n",
    "with open(grokHashtagsPath, 'w') as f:\n",
    "    f.write(hashtags)\n",
    "print(hashtags)\n"
   ]
  },
  {
   "cell_type": "code",
   "execution_count": 224,
   "metadata": {},
   "outputs": [],
   "source": [
    "opinionAnalysis = generate_grok_opinion_analysis(grok, newsReport)"
   ]
  },
  {
   "cell_type": "code",
   "execution_count": 225,
   "metadata": {},
   "outputs": [
    {
     "name": "stdout",
     "output_type": "stream",
     "text": [
      "**Schumer's Betrayal: Democrats Divided and Defeated**\n",
      "\n",
      "In a stunning display of political cowardice, Senate Democrats have fractured over a controversial funding bill, exposing the party's weakness and inability to stand united against Republican aggression. The passage of this $1.7 trillion spending bill, primarily backed by the GOP, is a clear victory for President Trump and his allies, including the ominously named Department of Government Efficiency led by Elon Musk.\n",
      "\n",
      "Chuck Schumer and his nine Democratic colleagues who voted in favor of this bill have betrayed their party and their constituents. By siding with Republicans to keep the government running, they have handed Trump and his cronies the power to dismantle crucial federal agencies without oversight. Schumer's claim that a government shutdown would be worse is a feeble excuse for his capitulation to Republican demands.\n",
      "\n",
      "The bill's $13 billion cut to non-defense spending and $6 billion increase in military funding is a slap in the face to progressives like Alexandria Ocasio-Cortez, who rightfully see this as a betrayal of Democratic values. The lack of Democratic input in the decision-making process, as highlighted by Senate Appropriations Chair Patty Murray, is a testament to the party's impotence in the face of Republican dominance.\n",
      "\n",
      "As Democrats prepare for upcoming elections, they must confront the reality that their acquiescence to Republican demands has eroded their platform and voter support. The increased bipartisan tension may necessitate a change in leadership, as the party struggles to find its footing in the face of a steadily emboldening Republican majority.\n",
      "\n",
      "The fallout from this decision will be felt in public forums and town halls across the country, as constituents express their dissatisfaction with their representatives' failure to stand up for Democratic principles. This moment marks a significant chapter in the ongoing struggle for agency and representation within the Democratic Party, and it remains to be seen whether they can recover from this self-inflicted wound.\n"
     ]
    }
   ],
   "source": [
    "with open(opinionAnalysisPath, 'w') as f:\n",
    "    f.write(opinionAnalysis)\n",
    "print(opinionAnalysis)"
   ]
  },
  {
   "cell_type": "code",
   "execution_count": null,
   "metadata": {},
   "outputs": [],
   "source": [
    "os.chdir(RUN_DIR)\n",
    "outName = trend['keyword'].replace(\" \", \"_\") # name of folder and file to zip\n",
    "!tar -acf {outName}.zip {outName}"
   ]
  },
  {
   "cell_type": "code",
   "execution_count": null,
   "metadata": {},
   "outputs": [],
   "source": []
  }
 ],
 "metadata": {
  "kernelspec": {
   "display_name": "base",
   "language": "python",
   "name": "python3"
  },
  "language_info": {
   "codemirror_mode": {
    "name": "ipython",
    "version": 3
   },
   "file_extension": ".py",
   "mimetype": "text/x-python",
   "name": "python",
   "nbconvert_exporter": "python",
   "pygments_lexer": "ipython3",
   "version": "3.12.7"
  }
 },
 "nbformat": 4,
 "nbformat_minor": 2
}
