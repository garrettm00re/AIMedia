{
 "cells": [
  {
   "cell_type": "code",
   "execution_count": 1,
   "metadata": {},
   "outputs": [
    {
     "name": "stdout",
     "output_type": "stream",
     "text": [
      "Decoded URL: https://www.cnbc.com/2025/02/06/amazon-amzn-q4-earnings-report-2024.html\n"
     ]
    }
   ],
   "source": [
    "from googlenewsdecoder import gnewsdecoder\n",
    "\n",
    "def main():\n",
    "    interval_time = 1  # interval is optional, default is None\n",
    "    source_url = 'https://news.google.com/rss/articles/CBMifEFVX3lxTE1PMTVUMU5FalRUMDcxdDdPTV9LQ3A4WFBYR2hLem1LQUxheVJLUHZxMFN0cTZHa21sR003bDdwSjFwVWFDSC1pVjBpOWN1X1NhNHRUc2gxUEhvdHlHV2lDSllRZTFVMW9uSTc5b1hOcjhHczhFVUUzcV9uZTLSAYIBQVVfeXFMT1BXQVRnZEpoSUVYLURRUlBwTEJDeDdsSk5udEJjdHRqMGliZ2UtTDJVNGRZU1prTFdkb0owUG03QWFRal9EMTJOb0M1ZkhPazVYNFNid3JUTmU3NE13dFRLMmlYekJEb1kwZUlxNVZpN0lRa2V6azNMVEdrbE5YM0VuUQ?oc=5'\n",
    "\n",
    "    try:\n",
    "        decoded_url = gnewsdecoder(source_url, interval=interval_time)\n",
    "\n",
    "        if decoded_url.get(\"status\"):\n",
    "            print(\"Decoded URL:\", decoded_url[\"decoded_url\"])\n",
    "        else:\n",
    "            print(\"Error:\", decoded_url[\"message\"])\n",
    "    except Exception as e:\n",
    "        print(f\"Error occurred: {e}\")\n",
    "\n",
    "if __name__ == \"__main__\":\n",
    "    main()"
   ]
  },
  {
   "cell_type": "code",
   "execution_count": null,
   "metadata": {},
   "outputs": [],
   "source": []
  }
 ],
 "metadata": {
  "kernelspec": {
   "display_name": "base",
   "language": "python",
   "name": "python3"
  },
  "language_info": {
   "codemirror_mode": {
    "name": "ipython",
    "version": 3
   },
   "file_extension": ".py",
   "mimetype": "text/x-python",
   "name": "python",
   "nbconvert_exporter": "python",
   "pygments_lexer": "ipython3",
   "version": "3.12.7"
  }
 },
 "nbformat": 4,
 "nbformat_minor": 2
}
