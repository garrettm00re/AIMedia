{
 "cells": [
  {
   "cell_type": "markdown",
   "metadata": {},
   "source": [
    "# Iterate on the asset generation pipeline\n",
    "- Use after running generateAssets.ipynb on day x, input the selected trend and iterate\n",
    "---"
   ]
  },
  {
   "cell_type": "code",
   "execution_count": 1,
   "metadata": {},
   "outputs": [
    {
     "name": "stdout",
     "output_type": "stream",
     "text": [
      "c:\\Users\\garre\\OneDrive\\Desktop\\Projects\\aiMedia\n"
     ]
    },
    {
     "data": {
      "text/plain": [
       "True"
      ]
     },
     "execution_count": 1,
     "metadata": {},
     "output_type": "execute_result"
    }
   ],
   "source": [
    "import trendspy\n",
    "from trendspy import Trends\n",
    "import os\n",
    "import datetime\n",
    "from dotenv import load_dotenv\n",
    "from news_utils import News\n",
    "import feedparser\n",
    "import time\n",
    "import pickle\n",
    "from generateAssets import generate_assets\n",
    "load_dotenv()"
   ]
  },
  {
   "cell_type": "code",
   "execution_count": 11,
   "metadata": {},
   "outputs": [
    {
     "name": "stdout",
     "output_type": "stream",
     "text": [
      "C:\\Users\\garre\\OneDrive\\Desktop\\Projects\\aiMedia\\assets\\2025-03-04-21-53-26 RUN_DIR\n"
     ]
    }
   ],
   "source": [
    "# Make directory for the run\n",
    "APPDIR = os.getenv(\"APPDIR\")\n",
    "BASEPATH = os.getenv(\"BASEPATH\")\n",
    "RUN_DIR = os.path.join(BASEPATH, max(os.listdir(BASEPATH))) #os.path.join(BASEPATH, datetime.datetime.now().strftime('%Y-%m-%d-%H-%M-%S')) if not os.getenv(\"RUN_DIR\") else os.getenv(\"RUN_DIR\")\n",
    "\n",
    "print(RUN_DIR, 'RUN_DIR')\n",
    "OPENAI_API_KEY = os.getenv(\"OPENAI_API_KEY\")\n",
    "ELEVENLABS_API_KEY = os.getenv(\"ELEVENLABS_API_KEY\")\n",
    "VOICE_ID = os.getenv(\"ELEVENLABS_VOICE_ID\")\n",
    "os.chdir(APPDIR)"
   ]
  },
  {
   "cell_type": "code",
   "execution_count": 5,
   "metadata": {},
   "outputs": [
    {
     "data": {
      "text/plain": [
       "['grok-imageprompts.txt',\n",
       " 'grok-script.txt',\n",
       " 'grok-soraprompts.txt',\n",
       " 'tsmc',\n",
       " 'tsmc.zip']"
      ]
     },
     "execution_count": 5,
     "metadata": {},
     "output_type": "execute_result"
    }
   ],
   "source": [
    "RUN_DIR = r'C:\\Users\\garre\\OneDrive\\Desktop\\Projects\\aiMedia\\assets\\2025-03-03-21-32-10'\n",
    "os.listdir(RUN_DIR)"
   ]
  },
  {
   "cell_type": "code",
   "execution_count": 6,
   "metadata": {},
   "outputs": [],
   "source": [
    "# Example usage in your getNews function:\n",
    "def getNews(trendKeyword, num_articles=10, linkNews={}):\n",
    "    search_term = trendKeyword.replace(' ', '+')\n",
    "    url = f'https://news.google.com/rss/search?q={search_term}&hl=en-US&gl=US&ceid=US:en'\n",
    "    feed = feedparser.parse(url)\n",
    "    articles = []\n",
    "\n",
    "    for entry in feed.entries[:min(num_articles, len(feed.entries))]:\n",
    "        if entry.link not in linkNews:\n",
    "            linkNews[entry.link] = News(\n",
    "                entry.title,\n",
    "                entry.link,\n",
    "                entry.published,\n",
    "            )\n",
    "        articles.append(linkNews[entry.link])\n",
    "\n",
    "    return articles"
   ]
  },
  {
   "cell_type": "code",
   "execution_count": 7,
   "metadata": {},
   "outputs": [],
   "source": [
    "def collectArticles(trend, linkNews={}):\n",
    "    news = set()\n",
    "    for keyword in trend['keywords'] + trend['keywords']:\n",
    "        time.sleep(2) # wait two seconds to avoid rate limiting\n",
    "        news.update(getNews(keyword, linkNews=linkNews))\n",
    "    trend['news'] = list(news)"
   ]
  },
  {
   "cell_type": "code",
   "execution_count": 23,
   "metadata": {},
   "outputs": [],
   "source": [
    "def getTrends():\n",
    "    tr = Trends()\n",
    "    trends = tr.trending_now(geo='US', hours=24)\n",
    "    businessFiltered = trends.filter_by_topic('Business and Finance')\n",
    "    techFiltered = trends.filter_by_topic('Technology')\n",
    "    filteredTrends = businessFiltered + techFiltered\n",
    "    sortedTrends = sorted(filteredTrends, key=lambda x: x.volume, reverse=True)\n",
    "    finalTrendList = []\n",
    "    for trend in sortedTrends:\n",
    "        finalTrendList.append({\n",
    "            'keyword': trend.keyword,\n",
    "            'volume': trend.volume,\n",
    "            'volume_growth_pct': trend.volume_growth_pct,\n",
    "            'topics': trend.topics,\n",
    "            'keywords': trend.trend_keywords,\n",
    "        })\n",
    "    return finalTrendList"
   ]
  },
  {
   "cell_type": "code",
   "execution_count": 24,
   "metadata": {},
   "outputs": [],
   "source": [
    "with open('./tmp/finalTrendList.pkl', 'rb') as f:\n",
    "    finalTrendList = pickle.load(f)"
   ]
  },
  {
   "cell_type": "code",
   "execution_count": 25,
   "metadata": {},
   "outputs": [
    {
     "ename": "IndexError",
     "evalue": "list index out of range",
     "output_type": "error",
     "traceback": [
      "\u001b[1;31m---------------------------------------------------------------------------\u001b[0m",
      "\u001b[1;31mIndexError\u001b[0m                                Traceback (most recent call last)",
      "Cell \u001b[1;32mIn[10], line 2\u001b[0m\n\u001b[0;32m      1\u001b[0m keyword \u001b[38;5;241m=\u001b[39m \u001b[38;5;28minput\u001b[39m(\u001b[38;5;124m'\u001b[39m\u001b[38;5;124mEnter trend keyword: \u001b[39m\u001b[38;5;124m'\u001b[39m)\n\u001b[1;32m----> 2\u001b[0m trend \u001b[38;5;241m=\u001b[39m [trend \u001b[38;5;28;01mfor\u001b[39;00m trend \u001b[38;5;129;01min\u001b[39;00m finalTrendList \u001b[38;5;28;01mif\u001b[39;00m trend[\u001b[38;5;124m'\u001b[39m\u001b[38;5;124mkeyword\u001b[39m\u001b[38;5;124m'\u001b[39m] \u001b[38;5;241m==\u001b[39m keyword][\u001b[38;5;241m0\u001b[39m]\n",
      "\u001b[1;31mIndexError\u001b[0m: list index out of range"
     ]
    }
   ],
   "source": [
    "keyword = input('Enter trend keyword: ')\n",
    "trend = [trend for trend in finalTrendList if trend['keyword'] == keyword][0]"
   ]
  },
  {
   "cell_type": "code",
   "execution_count": 10,
   "metadata": {},
   "outputs": [],
   "source": [
    "config = {'news_report': True,\n",
    "        'script': True,\n",
    "        'narration': True,\n",
    "        'voice': True,\n",
    "        'sora_prompts': True}"
   ]
  },
  {
   "cell_type": "code",
   "execution_count": 11,
   "metadata": {},
   "outputs": [
    {
     "name": "stdout",
     "output_type": "stream",
     "text": [
      "C:\\Users\\garre\\OneDrive\\Desktop\\Projects\\aiMedia\\assets\\2025-02-27-22-26-17\\tariffs_and_nasdaq topic_dir\n",
      "C:\\Users\\garre\\OneDrive\\Desktop\\Projects\\aiMedia\\assets\\2025-02-27-22-26-17\\tariffs_and_nasdaq\\sora_prompts sora_prompt_dir\n",
      "25 validArticles\n",
      "29vD33N1CtxCmqQRPOHJ voice_id\n"
     ]
    },
    {
     "data": {
      "text/plain": [
       "{'paths': {'script': 'C:\\\\Users\\\\garre\\\\OneDrive\\\\Desktop\\\\Projects\\\\aiMedia\\\\assets\\\\2025-02-27-22-26-17\\\\tariffs_and_nasdaq\\\\script.txt',\n",
       "  'audio': 'C:\\\\Users\\\\garre\\\\OneDrive\\\\Desktop\\\\Projects\\\\aiMedia\\\\assets\\\\2025-02-27-22-26-17\\\\tariffs_and_nasdaq\\\\voiceover.mp3',\n",
       "  'video': 'C:\\\\Users\\\\garre\\\\OneDrive\\\\Desktop\\\\Projects\\\\aiMedia\\\\assets\\\\2025-02-27-22-26-17\\\\tariffs_and_nasdaq\\\\video.mp4',\n",
       "  'sora_prompts': 'C:\\\\Users\\\\garre\\\\OneDrive\\\\Desktop\\\\Projects\\\\aiMedia\\\\assets\\\\2025-02-27-22-26-17\\\\tariffs_and_nasdaq\\\\sora_prompts',\n",
       "  'news_report': 'C:\\\\Users\\\\garre\\\\OneDrive\\\\Desktop\\\\Projects\\\\aiMedia\\\\assets\\\\2025-02-27-22-26-17\\\\tariffs_and_nasdaq\\\\news_report.txt'}}"
      ]
     },
     "execution_count": 11,
     "metadata": {},
     "output_type": "execute_result"
    }
   ],
   "source": [
    "generate_assets(trend, openai_api_key=OPENAI_API_KEY, elevenlabs_api_key=ELEVENLABS_API_KEY, voice_id=VOICE_ID, run_dir=RUN_DIR, config=config)"
   ]
  },
  {
   "cell_type": "code",
   "execution_count": null,
   "metadata": {},
   "outputs": [],
   "source": [
    "\n",
    "def imageAssets(client: OpenAI):\n",
    "    prompt"
   ]
  },
  {
   "cell_type": "code",
   "execution_count": null,
   "metadata": {},
   "outputs": [],
   "source": [
    "client = OpenAI(api_key=openai_api_key)"
   ]
  },
  {
   "cell_type": "code",
   "execution_count": null,
   "metadata": {},
   "outputs": [],
   "source": [
    "def generateScenes()"
   ]
  },
  {
   "cell_type": "code",
   "execution_count": 8,
   "metadata": {},
   "outputs": [
    {
     "name": "stdout",
     "output_type": "stream",
     "text": [
      "AAAAAAAAAAAAAAAAAAAAABtnzQEAAAAAJVChHib0F3fCGisad7SMVuvfkqQ%3DJtTdbL5lzhNyw7IPT8lC4ZwriwUHayfPGmXjGDoJ9ez6z8aU06\n",
      "{\"title\":\"Too Many Requests\",\"detail\":\"Too Many Requests\",\"type\":\"about:blank\",\"status\":429}\n"
     ]
    }
   ],
   "source": [
    "import requests\n",
    "import base64\n",
    "import os\n",
    "from dotenv import load_dotenv\n",
    "load_dotenv()\n",
    "query = \"grok3\"\n",
    "sort_order = \"relevancy\"\n",
    "max_results = 10\n",
    "\n",
    "url = f\"https://api.x.com/2/tweets/search/recent?query={query}&sort_order={sort_order}&max_results={max_results}\"\n",
    "BEARER_TOKEN = os.getenv(\"BEARER_TOKEN\")\n",
    "print(BEARER_TOKEN)\n",
    "headers = {\"Authorization\": f\"Bearer {BEARER_TOKEN}\"}\n",
    "\n",
    "response = requests.request(\"GET\", url, headers=headers)\n",
    "\n",
    "print(response.text)"
   ]
  }
 ],
 "metadata": {
  "kernelspec": {
   "display_name": "base",
   "language": "python",
   "name": "python3"
  },
  "language_info": {
   "codemirror_mode": {
    "name": "ipython",
    "version": 3
   },
   "file_extension": ".py",
   "mimetype": "text/x-python",
   "name": "python",
   "nbconvert_exporter": "python",
   "pygments_lexer": "ipython3",
   "version": "3.12.7"
  }
 },
 "nbformat": 4,
 "nbformat_minor": 2
}
