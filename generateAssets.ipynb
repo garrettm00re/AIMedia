{
 "cells": [
  {
   "cell_type": "code",
   "execution_count": 1,
   "metadata": {},
   "outputs": [],
   "source": [
    "# import nltk\n",
    "\n",
    "# # Download required NLTK data (only need to do this once)\n",
    "# nltk.download('punkt')"
   ]
  },
  {
   "cell_type": "markdown",
   "metadata": {},
   "source": [
    "# random notes 2-17 on algo improvement:\n",
    "\n",
    "- \"weight\" articles parsed based on recency (more recent articles are weighted more heavily)\n",
    "- news sources miss things social media has --> should hit some of those APIs\n",
    "- can help daniel by creating targeted sora prompts \n",
    "- can help daniel by creating grok prompts for specific images\n"
   ]
  },
  {
   "cell_type": "markdown",
   "metadata": {},
   "source": [
    "# Alterations to algo, 2/24\n",
    "- shorter length per scene, but more scenes\n",
    "- each scene should be more exciting/dramatic/crazy\n",
    "\n",
    "# My thoughs on how to do that:\n",
    "- make script with GROK not GPT-4o --> this will make asset generation downstream much easier"
   ]
  },
  {
   "cell_type": "markdown",
   "metadata": {},
   "source": [
    "## AI VIDEO EDITOR // AI VIDEO EDITING WORKFLOW IS THE KEY MISSING PIECE TO A FULLY OPTIMIZED PIPELINE"
   ]
  },
  {
   "cell_type": "code",
   "execution_count": 2,
   "metadata": {},
   "outputs": [
    {
     "name": "stdout",
     "output_type": "stream",
     "text": [
      "c:\\Users\\garre\\OneDrive\\Desktop\\Projects\\aiMedia\n"
     ]
    },
    {
     "data": {
      "text/plain": [
       "True"
      ]
     },
     "execution_count": 2,
     "metadata": {},
     "output_type": "execute_result"
    }
   ],
   "source": [
    "import trendspy\n",
    "from trendspy import Trends\n",
    "import os\n",
    "import datetime\n",
    "from dotenv import load_dotenv\n",
    "from news_utils import News\n",
    "import feedparser\n",
    "import time\n",
    "import pickle\n",
    "from generateAssets import *\n",
    "load_dotenv()"
   ]
  },
  {
   "cell_type": "code",
   "execution_count": 3,
   "metadata": {},
   "outputs": [],
   "source": [
    "# Make directory for the run\n",
    "APPDIR = os.getenv(\"APPDIR\")\n",
    "BASEPATH = os.getenv(\"BASEPATH\")\n",
    "RUN_DIR = os.path.join(BASEPATH, datetime.datetime.now().strftime('%Y-%m-%d-%H-%M-%S'))\n",
    "os.makedirs(BASEPATH, exist_ok=True)\n",
    "os.makedirs(RUN_DIR, exist_ok=True)\n",
    "ELEVENLABS_API_KEY = os.getenv(\"ELEVENLABS_API_KEY\")\n",
    "VOICE_ID = os.getenv(\"ELEVENLABS_VOICE_ID\")\n",
    "OPENAI_API_KEY = os.getenv(\"OPENAI_API_KEY\")\n",
    "os.chdir(APPDIR)"
   ]
  },
  {
   "cell_type": "code",
   "execution_count": 4,
   "metadata": {},
   "outputs": [],
   "source": [
    "os.environ[\"RUN_DIR\"] = RUN_DIR"
   ]
  },
  {
   "cell_type": "code",
   "execution_count": 5,
   "metadata": {},
   "outputs": [],
   "source": [
    "def getTrends():\n",
    "    tr = Trends()\n",
    "    trends = tr.trending_now(geo='US', hours=24)\n",
    "    businessFiltered = trends.filter_by_topic('Business and Finance')\n",
    "    techFiltered = trends.filter_by_topic('Technology')\n",
    "    lawAndGovFiltered = trends.filter_by_topic('Law and Government')\n",
    "    filteredTrends = businessFiltered + techFiltered + lawAndGovFiltered\n",
    "    sortedTrends = sorted(filteredTrends, key=lambda x: x.volume, reverse=True)\n",
    "    finalTrendList = []\n",
    "    for trend in sortedTrends:\n",
    "        finalTrendList.append({\n",
    "            'keyword': trend.keyword,\n",
    "            'volume': trend.volume,\n",
    "            'volume_growth_pct': trend.volume_growth_pct,\n",
    "            'topics': trend.topics,\n",
    "            'keywords': trend.trend_keywords,\n",
    "        })\n",
    "    return finalTrendList"
   ]
  },
  {
   "cell_type": "code",
   "execution_count": 6,
   "metadata": {},
   "outputs": [],
   "source": [
    "# Example usage in your getNews function:\n",
    "def getNews(trendKeyword, num_articles=10, linkNews={}):\n",
    "    search_term = trendKeyword.replace(' ', '+')\n",
    "    url = f'https://news.google.com/rss/search?q={search_term}&hl=en-US&gl=US&ceid=US:en'\n",
    "    feed = feedparser.parse(url)\n",
    "    valid, invalid = [], []\n",
    "\n",
    "    for entry in feed.entries[:min(num_articles, len(feed.entries))]:\n",
    "        if entry.link not in linkNews:\n",
    "            newNews = News(\n",
    "                entry.title,\n",
    "                entry.link,\n",
    "                entry.published,\n",
    "            )\n",
    "            linkNews[entry.link] = newNews\n",
    "            if newNews.mainText:\n",
    "                valid.append(newNews)\n",
    "            else:\n",
    "                invalid.append(newNews)\n",
    "\n",
    "    return valid, invalid"
   ]
  },
  {
   "cell_type": "code",
   "execution_count": 7,
   "metadata": {},
   "outputs": [],
   "source": [
    "def collectArticles(trend, linkNews={}, maxArticles = 25):\n",
    "    news = set()\n",
    "    keywords = set(trend['keywords'] + trend['keywords'])\n",
    "    numArticlesPerKeyword = 1 + (maxArticles // len(keywords)) # promotes diversity across keywords\n",
    "    for keyword in keywords:\n",
    "        time.sleep(2) # wait two seconds to avoid rate limiting\n",
    "        valid, invalid = getNews(keyword, num_articles=numArticlesPerKeyword, linkNews=linkNews)\n",
    "        news.update(valid)\n",
    "        if len(news) > maxArticles:\n",
    "            break\n",
    "    trend['news'] = list(news)"
   ]
  },
  {
   "cell_type": "markdown",
   "metadata": {},
   "source": [
    "# 🔄 Collect Trends Or Load From Pickle\n",
    "---"
   ]
  },
  {
   "cell_type": "code",
   "execution_count": 8,
   "metadata": {},
   "outputs": [
    {
     "name": "stdout",
     "output_type": "stream",
     "text": [
      "{'keyword': 'southwest airlines checked baggage fees', 'volume': 500000, 'volume_growth_pct': 800, 'topics': [3, 19], 'keywords': ['southwest airlines checked baggage fees', 'southwest airlines', 'southwest', 'southwest checked bags', 'southwest baggage fees', 'southwest checked bag', 'southwest airlines baggage', 'southwest airlines checked bags', 'southwest baggage policy', 'southwest bags', 'southwest charging for bags', 'southwest stock', 'southwest free bags', 'southwest credit card', 'southwest changes', 'southwest charge for bags', 'luv stock', 'southwest airlines baggage fees', 'southwest ending free bags', 'southwest free checked bag', 'southwest baggage', 'southwest bags fly free', 'southwest bag policy', 'southwest news']}\n",
      "{'keyword': 'dow jones today', 'volume': 100000, 'volume_growth_pct': 100, 'topics': [3], 'keywords': ['dow jones today', 'nasdaq today', 'dow jones industrial average', 'dow today', 'stocks today', 'stock market today: live chart', 'dow jones', 'dow jones index', 'dow futures', 'dow jones futures', 'markets', 'dow futures now', 'djia futures', 'djia today', 's&p 500 today', 'stock market live', 'stock futures today', 'stock market futures', 'stock futures', 'market futures', 'dow jones live', 'futures', 'sp500 futures', 's&p', 's and p', 'sp 500', 'dow futures today', 'tuesday', 's&p futures']}\n",
      "{'keyword': 'department of education', 'volume': 50000, 'volume_growth_pct': 1000, 'topics': [14, 9, 10], 'keywords': ['department of education', 'dept of education', 'education', 'doe', 'us department of education', 'education department', 'linda mcmahon', 'what does the department of education do', 'us news']}\n",
      "{'keyword': 'egg prices', 'volume': 20000, 'volume_growth_pct': 200, 'topics': [3], 'keywords': ['egg prices']}\n",
      "{'keyword': 'jared golden', 'volume': 20000, 'volume_growth_pct': 400, 'topics': [14, 10], 'keywords': ['jared golden', 'continuing resolution 2025', 'cr bill', 'continuing resolution', 'spending bill government shutdown', 'rep. jared golden', 'house vote', 'house vote on cr', 'cr vote', 'house votes today']}\n",
      "{'keyword': 'cpi inflation data', 'volume': 10000, 'volume_growth_pct': 300, 'topics': [3], 'keywords': ['cpi inflation data', 'inflation', 'cpi report', 'cpi', 'inflation rate', 'nasdaq futures']}\n",
      "{'keyword': 'social security overpayments', 'volume': 10000, 'volume_growth_pct': 500, 'topics': [3, 10], 'keywords': ['social security overpayments']}\n",
      "{'keyword': 'avelo airlines', 'volume': 10000, 'volume_growth_pct': 100, 'topics': [19, 3], 'keywords': ['avelo airlines', 'avelo']}\n",
      "{'keyword': 'doug ford', 'volume': 10000, 'volume_growth_pct': 200, 'topics': [3], 'keywords': ['doug ford', 'ontario', 'canada electricity']}\n",
      "{'keyword': 'djia', 'volume': 10000, 'volume_growth_pct': 100, 'topics': [3], 'keywords': ['djia']}\n",
      "{'keyword': 'fbi warning smishing texts', 'volume': 10000, 'volume_growth_pct': 1000, 'topics': [10], 'keywords': ['fbi warning smishing texts', 'e-zpass toll', 'e zpass', 'e-zpass']}\n",
      "{'keyword': 'katie porter', 'volume': 10000, 'volume_growth_pct': 200, 'topics': [14, 10], 'keywords': ['katie porter']}\n",
      "{'keyword': 'ukraine ceasefire', 'volume': 10000, 'volume_growth_pct': 200, 'topics': [14, 10], 'keywords': ['ukraine ceasefire', 'ceasefire', 'mike waltz', 'saudi arabia']}\n",
      "{'keyword': 'ghost adventures', 'volume': 10000, 'volume_growth_pct': 100, 'topics': [4, 10], 'keywords': ['ghost adventures']}\n",
      "{'keyword': 'social security overpayments', 'volume': 10000, 'volume_growth_pct': 500, 'topics': [3, 10], 'keywords': ['social security overpayments']}\n",
      "{'keyword': 'spacex launch', 'volume': 5000, 'volume_growth_pct': 1000, 'topics': [3, 15], 'keywords': ['spacex launch', 'rocket launch california', 'spacex launch today', 'rocket launch', 'rocket launch today', 'space x launch', 'spacex launch today live', 'spacex launch schedule']}\n",
      "{'keyword': 'cryptocurrency bitcoin', 'volume': 5000, 'volume_growth_pct': 200, 'topics': [3], 'keywords': ['cryptocurrency bitcoin']}\n",
      "{'keyword': 'pi', 'volume': 5000, 'volume_growth_pct': 50, 'topics': [3], 'keywords': ['pi']}\n",
      "{'keyword': 'vix', 'volume': 5000, 'volume_growth_pct': 100, 'topics': [3], 'keywords': ['vix', 'vix index']}\n",
      "{'keyword': 'sp500', 'volume': 5000, 'volume_growth_pct': 100, 'topics': [3], 'keywords': ['sp500']}\n",
      "{'keyword': 'the hague', 'volume': 5000, 'volume_growth_pct': 50, 'topics': [10], 'keywords': ['the hague', 'international criminal court', 'sara duterte']}\n",
      "{'keyword': 'usaid funding', 'volume': 5000, 'volume_growth_pct': 400, 'topics': [10], 'keywords': ['usaid funding']}\n",
      "{'keyword': 'spherex', 'volume': 2000, 'volume_growth_pct': 100, 'topics': [3, 15], 'keywords': ['spherex', 'vandenberg launch', 'spherex launch']}\n",
      "{'keyword': 's&p500', 'volume': 2000, 'volume_growth_pct': 100, 'topics': [3], 'keywords': ['s&p500']}\n",
      "{'keyword': 'missouri river', 'volume': 2000, 'volume_growth_pct': 100, 'topics': [3, 10], 'keywords': ['missouri river']}\n",
      "{'keyword': 'eggs', 'volume': 2000, 'volume_growth_pct': 50, 'topics': [3], 'keywords': ['eggs']}\n",
      "{'keyword': 'nio stock', 'volume': 2000, 'volume_growth_pct': 100, 'topics': [3], 'keywords': ['nio stock']}\n",
      "{'keyword': 'nyse', 'volume': 2000, 'volume_growth_pct': 100, 'topics': [3], 'keywords': ['nyse']}\n",
      "{'keyword': 'paramount', 'volume': 2000, 'volume_growth_pct': 75, 'topics': [3], 'keywords': ['paramount']}\n",
      "{'keyword': 'vz stock', 'volume': 2000, 'volume_growth_pct': 100, 'topics': [3], 'keywords': ['vz stock', 'verizon stock', 't stock']}\n",
      "{'keyword': 'breeze airways', 'volume': 2000, 'volume_growth_pct': 50, 'topics': [19, 3], 'keywords': ['breeze airways', 'breeze airlines']}\n",
      "{'keyword': 'nasdaq composite', 'volume': 2000, 'volume_growth_pct': 75, 'topics': [3], 'keywords': ['nasdaq composite']}\n",
      "{'keyword': 'apple iphone 17 pro max', 'volume': 2000, 'volume_growth_pct': 300, 'topics': [18], 'keywords': ['apple iphone 17 pro max']}\n",
      "{'keyword': 'mclaurine pinover', 'volume': 2000, 'volume_growth_pct': 100, 'topics': [4, 14, 10], 'keywords': ['mclaurine pinover']}\n",
      "{'keyword': 'scott peterson', 'volume': 2000, 'volume_growth_pct': 75, 'topics': [10], 'keywords': ['scott peterson']}\n",
      "{'keyword': 'hyperbaric chamber explosion', 'volume': 2000, 'volume_growth_pct': 75, 'topics': [10], 'keywords': ['hyperbaric chamber explosion', 'hyperbaric']}\n",
      "{'keyword': 'missouri river', 'volume': 2000, 'volume_growth_pct': 100, 'topics': [3, 10], 'keywords': ['missouri river']}\n",
      "{'keyword': 'global human rights watchlist', 'volume': 2000, 'volume_growth_pct': 75, 'topics': [10], 'keywords': ['global human rights watchlist', 'un human rights watchlist', 'us added to human rights watchlist']}\n",
      "{'keyword': 'moscow', 'volume': 2000, 'volume_growth_pct': 100, 'topics': [10], 'keywords': ['moscow']}\n",
      "{'keyword': 'ray dalio', 'volume': 1000, 'volume_growth_pct': 75, 'topics': [3], 'keywords': ['ray dalio']}\n",
      "{'keyword': 'update on stimulus checks', 'volume': 1000, 'volume_growth_pct': 200, 'topics': [3], 'keywords': ['update on stimulus checks', 'updates on stimulus checks']}\n",
      "{'keyword': 'jamie dimon', 'volume': 1000, 'volume_growth_pct': 200, 'topics': [3], 'keywords': ['jamie dimon']}\n",
      "{'keyword': 's&p 500 futures', 'volume': 1000, 'volume_growth_pct': 100, 'topics': [3], 'keywords': ['s&p 500 futures']}\n",
      "{'keyword': 'economic calendar', 'volume': 1000, 'volume_growth_pct': 50, 'topics': [3], 'keywords': ['economic calendar']}\n",
      "{'keyword': 'tqqq', 'volume': 1000, 'volume_growth_pct': 75, 'topics': [3], 'keywords': ['tqqq']}\n",
      "{'keyword': 'fbi', 'volume': 1000, 'volume_growth_pct': 100, 'topics': [14, 10], 'keywords': ['fbi']}\n",
      "{'keyword': 'liz oyer', 'volume': 1000, 'volume_growth_pct': 100, 'topics': [10], 'keywords': ['liz oyer', 'mel gibson gun rights']}\n",
      "{'keyword': 'tlaib', 'volume': 1000, 'volume_growth_pct': 200, 'topics': [14, 10], 'keywords': ['tlaib']}\n",
      "{'keyword': 'tucker carlson', 'volume': 1000, 'volume_growth_pct': 75, 'topics': [14, 10], 'keywords': ['tucker carlson']}\n",
      "{'keyword': 'aoc', 'volume': 1000, 'volume_growth_pct': 100, 'topics': [10, 14], 'keywords': ['aoc']}\n",
      "{'keyword': 'kisd', 'volume': 1000, 'volume_growth_pct': 200, 'topics': [10], 'keywords': ['kisd', 'killeen isd']}\n",
      "{'keyword': 'intel', 'volume': 500, 'volume_growth_pct': 100, 'topics': [18, 3], 'keywords': ['intel']}\n",
      "{'keyword': 'jessica tarlov', 'volume': 500, 'volume_growth_pct': 100, 'topics': [14, 3, 4], 'keywords': ['jessica tarlov']}\n",
      "{'keyword': 'futures market', 'volume': 500, 'volume_growth_pct': 75, 'topics': [3], 'keywords': ['futures market']}\n",
      "{'keyword': 'brooke rollins', 'volume': 500, 'volume_growth_pct': 100, 'topics': [3], 'keywords': ['brooke rollins']}\n",
      "{'keyword': 'vti stock', 'volume': 500, 'volume_growth_pct': 100, 'topics': [3], 'keywords': ['vti stock']}\n",
      "{'keyword': 'finance', 'volume': 500, 'volume_growth_pct': 50, 'topics': [3], 'keywords': ['finance']}\n",
      "{'keyword': 'gme', 'volume': 500, 'volume_growth_pct': 50, 'topics': [3], 'keywords': ['gme']}\n",
      "{'keyword': 'premarket', 'volume': 500, 'volume_growth_pct': 50, 'topics': [3], 'keywords': ['premarket']}\n",
      "{'keyword': 'intel', 'volume': 500, 'volume_growth_pct': 100, 'topics': [18, 3], 'keywords': ['intel']}\n",
      "{'keyword': 'tuberculosis', 'volume': 500, 'volume_growth_pct': 75, 'topics': [7, 10], 'keywords': ['tuberculosis']}\n",
      "{'keyword': 'jay z', 'volume': 500, 'volume_growth_pct': 50, 'topics': [4, 10], 'keywords': ['jay z']}\n",
      "{'keyword': 'nicaragua', 'volume': 500, 'volume_growth_pct': 50, 'topics': [10, 14], 'keywords': ['nicaragua']}\n",
      "{'keyword': 'cleanspark', 'volume': 200, 'volume_growth_pct': 100, 'topics': [3], 'keywords': ['cleanspark']}\n",
      "{'keyword': 'anson frericks', 'volume': 200, 'volume_growth_pct': 50, 'topics': [3], 'keywords': ['anson frericks']}\n",
      "{'keyword': 'virgin money savings', 'volume': 200, 'volume_growth_pct': 75, 'topics': [3], 'keywords': ['virgin money savings']}\n",
      "{'keyword': 'bitcoin atm', 'volume': 200, 'volume_growth_pct': 200, 'topics': [3], 'keywords': ['bitcoin atm']}\n",
      "{'keyword': 'stock market crash', 'volume': 200, 'volume_growth_pct': 200, 'topics': [3], 'keywords': ['stock market crash']}\n",
      "{'keyword': 'what is recession', 'volume': 200, 'volume_growth_pct': 50, 'topics': [3], 'keywords': ['what is recession', 'anxiety']}\n",
      "{'keyword': 'sensex', 'volume': 200, 'volume_growth_pct': 50, 'topics': [3], 'keywords': ['sensex']}\n",
      "{'keyword': 'mk', 'volume': 200, 'volume_growth_pct': 75, 'topics': [14, 10], 'keywords': ['mk']}\n",
      "{'keyword': 'ins', 'volume': 200, 'volume_growth_pct': 50, 'topics': [10], 'keywords': ['ins']}\n",
      "{'keyword': 'breitbart news', 'volume': 200, 'volume_growth_pct': 50, 'topics': [14, 10], 'keywords': ['breitbart news']}\n",
      "{'keyword': 'mark geragos', 'volume': 200, 'volume_growth_pct': 75, 'topics': [10], 'keywords': ['mark geragos']}\n",
      "{'keyword': '7 eleven', 'volume': 100, 'volume_growth_pct': 50, 'topics': [3], 'keywords': ['7 eleven']}\n",
      "{'keyword': 'walmart stock price', 'volume': 100, 'volume_growth_pct': 50, 'topics': [3], 'keywords': ['walmart stock price']}\n",
      "{'keyword': 'switch 2 release date', 'volume': 100, 'volume_growth_pct': 50, 'topics': [6, 18], 'keywords': ['switch 2 release date']}\n"
     ]
    }
   ],
   "source": [
    "getTrendInfo = input('Get Trends? (y/n): ')\n",
    "if getTrendInfo.lower() == 'y':\n",
    "    finalTrendList = getTrends()\n",
    "    showTrends = input('Show Trends? (y/n): ')\n",
    "    if showTrends.lower() == 'y':\n",
    "        # outStr = \"\"\"\"\"\"\n",
    "        for trend in finalTrendList[:min(100, len(finalTrendList))]:\n",
    "            print(trend)\n",
    "            # outStr += f\"**{trend['keyword']}**\\n\"\n",
    "            # for k, v in trend.items():\n",
    "            #     if k != 'keyword':\n",
    "            #         outStr += f\"{k} : {v}\\n\"\n",
    "        # print(outStr)\n",
    "    saveTrends = input('Save Trends? (y/n): ')\n",
    "    if saveTrends.lower() == 'y':\n",
    "        with open('./tmp/finalTrendList.pkl', 'wb') as f:\n",
    "            pickle.dump(finalTrendList, f)\n",
    "elif getTrendInfo.lower() == 'n':\n",
    "    with open('./tmp/finalTrendList.pkl', 'rb') as f:\n",
    "        finalTrendList = pickle.load(f)\n",
    "else:\n",
    "    print('Invalid input, run again')\n",
    "    exit()"
   ]
  },
  {
   "cell_type": "markdown",
   "metadata": {},
   "source": [
    "# 🎯 Select Trend and Collect Articles\n",
    "---"
   ]
  },
  {
   "cell_type": "code",
   "execution_count": 9,
   "metadata": {},
   "outputs": [
    {
     "name": "stdout",
     "output_type": "stream",
     "text": [
      "URL https://news.google.com/rss/articles/CBMiywFBVV95cUxQTTZ4WWpod1pjdkxhUDNxSUFISFpoMmVSdjRPanhON0c4SWVEUE5TbGoydGJ1UERqY1k5TmhSY2huS3dXbHZNNnBCMzg3WmlqOEh0WHk1dUFyT3hLMmNBR1YxQUFfdGE1SU9IQVNBUVpGclFKU042bTNSSjBwM0llNEx3S1VzMW9SbHFRTU9oaTliSGI3amZyV01NS3BIcFNUVHBnWFBXVDZSUFdrTjlDTUpCVjN0aTFTNkUtNlFnclRNSEdiM3pHVUpYWQ?oc=5\n",
      "URL https://news.google.com/rss/articles/CBMi-wFBVV95cUxQZFg3MHcwY3BITmY3VGc3SnF3bHBhZGtZRGJ2RWZFdUI3ZzBXdFI2c2VGRzBzVWJLc1pHOHNQOUlsMmZvbHNweFN0MkNzRnVndUFpNThvYlZqUHlRRWNHU3g2XzBNQm83LTRLdkJSUTEzVmduRGt5Z3ExZUZtZ0dFS0pmaEpUd0NyNThST2NoU25NZUZ0QUk5R2RYczBVN3hPa2hQNzJnbnhLTGJjdVN5V0lMTy1WOHhyeTNJVHdCWDVJVUVib2xVclpGRVhmWl9TMExaXzNKR2x6N3NGVjRTb0ZzREZ3TW5Ccjdsa0tqN29yRnR5YTVwbXJyQQ?oc=5\n",
      "URL https://news.google.com/rss/articles/CBMiggFBVV95cUxOaWJoQTlPSE00SjZILXExR29PN05FSzZYQ0QybC11UjBMenh4MjVHNTdyWHVyMmo1cFYwQTNCX2lSYjFRSVBSOTFZWHd0VnVtQTJQOHFLMmVNUllaQk5KSDNzZmtQMEl4RVhIbGdCdWhLTnBmODB0T0IyVVkxTi0xSGtR0gFUQVVfeXFMTm5zZmIwcGVvZ3JNUDRxN3RUcGVBTHBFeFVPbEhjYkFqaHZVN3FxV1NfeUR6Mm5JN1BCdW9rSFRvcFBNLTBaNzVEUTF5ZGtvU1V4LXRn?oc=5\n",
      "URL https://news.google.com/rss/articles/CBMiqAFBVV95cUxOVlJRV2JUME1hMGxmSXJXYUp5N05MV2RlLU9ISUlzR3BhY016UnJIaEZ4TVNoUXFHcWltR0I0ZUJyYmtRd19ZNmJTb202ZXJSUmRVZzRTNERqLVJBTC1iMDJVWGJxek5BWmZobXFjMFl2aTh4RXdrc2NlUm50bUNiNTBxc0EwVFdMWUFmNDAyS2Z3Tk11NkJvZzEwTER1OG1remVZZVEyVkE?oc=5\n",
      "URL https://news.google.com/rss/articles/CBMivAFBVV95cUxOWUhSSmNhbDF0RllyaS1ZUDdTS1R6bVRJSHpzanYtY1VFWjZvV1U4SUZxX2JZRkJFU21zampGODVTcGpRcFhqSTZFbXB0Z0VVR3VIVk9xRmlHUm5IVGJlaHhCd1NBTWI1SlRpeC0yUG80a0hKXzBkU255UVl3WUpLV3lYUWozX1dwLVJuZ3lQRVRhbDdtYWNwWkFMOVA5TzRWNHdNWEp0NTVHcnJibEtfX3B6S1A3N0tnSFZaOA?oc=5\n",
      "URL https://news.google.com/rss/articles/CBMimgFBVV95cUxOc0xuWm1WTkRIS2VDNXQwbTMtTTQwOV8yWk81b0s3VnFOTEkzZTEwc19wMThmMEwteHFTcXE3YTMzRlRDdmlMYTVwN0RrT1BKd3UtN2RiSG9JTGk0dHdfdDlRT0tWVnJYMUJKWDJUZTFEbVNPd0FmUndBTzJtOURqb0J5TTY2VE56XzRSbFNzRWFMU0JwU2tLNTVR?oc=5\n",
      "URL https://news.google.com/rss/articles/CBMisAFBVV95cUxPUWxxM1NMQTZvZFJWVEswaEt0d3FyeExuVzRKOUNES212cnc1eEJlVzFNblBzM3ZDWjFTUjFXV3BwN3lvTTNkT2dyYmM2ckVIVFM1UEJ6aFk1OFNfQmtlam5JeTBXVWNvU3JrNFBLTVBtcmZWWHZzR29LWUkwUlU0cE1WZnJFanp4cjZlTXJGTFNTVVl4Z2NXYjVGWHE2a1BGblNVZnY0eGJGTDZTdThYbdIBVkFVX3lxTE96RWxfWFpwSllhQV9jSVdOQktqY1ExSFRhMEpDTlVWbnBVSlNfXzdjVmh6N3dVb1JEdk53NS1xMWxGZjdKTTI4a3J2Z0JSZ1BBa1ZKS25R?oc=5\n",
      "URL https://news.google.com/rss/articles/CBMioAFBVV95cUxNYzdGQVltTVpGcG1ndUlhaXhLRVB1RlJpZGlEQzFkZjAwTGI5cGx3dTFnMzBqYUtram5FOG42NmtCSFR1YjdqdGpSTDdjSlJtdGtpM1dLNGRsUlhrZ0NaQUQ0b3cyN2hIaXg1ZS1tSzR2QUNGdEFUWUNsUlBzQTFYUC1DeVptb2hHUEZxMmNISzRHZGlsQi1YMjZyOUI4Y2pS0gGnAUFVX3lxTE8zT3NnbXNGRFNYbDkwT3VPaTN1SDZpdFpUcGxCTm13S1AtMHQxZkdTMDMyODVXVmF5WS15b1hLSjFVRENkZzZpVndubFdZd2lTcnF0SDBhTUUtUWVHQmFPQTNISE5GMUxKcVFfcHhGMjdCcjJSbG13XzI1M29IRVEtaTQyM2NqQmx5eDNFWXc0Q0syUTFZYUg1TFlfaTFQcVpxdHlCZmgw?oc=5\n",
      "URL https://news.google.com/rss/articles/CBMikAFBVV95cUxNdF9oRjNjdEJMS1JES2tVUlI3Q2VuOTNic2owTno0S3VjYUtqZ1JXLVdsT1NoWEdmUUdKd0RYQWZtcS1jM3dta1pYc3pPVzdMNkVzSmk0MndHNU45cFBfY0pPcDA5Q00wREpndUFNUmNHcXR5R3FBdHIxMVlTMlhRa0ZGV3ZGVE5fYlNvUkJEb0w?oc=5\n",
      "URL https://news.google.com/rss/articles/CBMiakFVX3lxTE1hLW96RmpwVTNMT0k4NG5WbjlJc0xXOXVMdnZfYTBJb1IwZFA5cHhTckM4cHAzeFR6a3ByVHIzQ0s0OTRnNWRnTWV3Y3cxWkIzLS0xb0xNV05RaG9mYUZKQ1puekFqRnM3WEHSAWpBVV95cUxNZzY4UE9JYWVwMW9DQm1LSlFHQXplRmxTMnk4clVWM2Y3R3BDVzF5MGxTeE9yUVlOX0JfM0hRZnlWa1FwX3VNTi1iN1hJNk1tT1BFdzNxWWpJRjh0VjU3RXc1WG4xYVBBVFF3?oc=5\n",
      "Error extracting article content: Article `download()` failed with HTTPSConnectionPool(host='www.kansas.com', port=443): Read timed out. (read timeout=7) on URL https://www.kansas.com/news/business/article301663694.html\n",
      "URL https://news.google.com/rss/articles/CBMihgFBVV95cUxOVENKS2JMa282VGRJam9oMGdPLXRkZVEtV0Myc3RkZUVUYzBwSW1aa2t3TkFETG51TklRLUJTUzBvM0dHcXNZcmNFOTZwTmpfV1pyX2JkVWpSeElCRWlVZ3g5Vjl5V1hpcDJtZHJqc2gzbTBwVW5EN3hfUW9XbUhEM09tYXZad9IBfEFVX3lxTE9iQmZlenBvWVVOM0E0dFlRd04tQWgtTlZwU1IxZmROaXB0TF9pUk53WXl0RnJkTkstTXY1WjcyWjRrblFKQWJ1TlB1U25ERDFoOTYybkx4UWt6Qkt3OVBXYnhYbzJMQlptc0UtRE42enVwRHlWc1BhMkE3Mk0?oc=5\n",
      "URL https://news.google.com/rss/articles/CBMijwFBVV95cUxPQVdyUWxTS0JkTjluZXJ6bGtJbzQzZEloRVJZdUlYWU9Ba2t4N3hEUHEzME9pTndxalVRaHdoakJhVmlKdExBOGlVVW5McFZLRmFBX1pYRGlDd2pZcTUwNmZZM2lrcmVhanNRVndneGhpamNiTVdLYWhzbG9ad3ZfeFVKakxSZnV2Y2VLWUtYMA?oc=5\n",
      "URL https://news.google.com/rss/articles/CBMi3gFBVV95cUxNSVNvUFg0TTFkYkU3bWc3dV9paVFpOUJpWGFsU1ZyUlhzbWtnNFBqV1d3MFRuTDRzbWc0S3RYb056SEs3bUdhMmM0dW1lVERKdWIxLUU1SXhTN3JMRGpja3QtZDU2VzRTNEZsSV9oZkdGaWo0SVhfTjlFcGpQcWhleGZpQ0lzRmE5MGdkRjdhbGdnOXZURTdPT0l5eTNYNnduRjVLTTlKNHluTzViMVJiTGpBQlhQeGpBZHE2SlAwc2FuWGd4eUYzRnllTXIzTnVKU2VhTC1xajV5eHR4bUHSAWRBVV95cUxQcXNyblJ4ZDZXSThibEg0ZFFfRG1PRlJWUENaMlBTMTEtVk5RY1hsWkFrcm5KLU5aSkxRVWRHNG5LVXdyUEROVUtheFNzOG9UNkZIYUItR1RUZ0FhRzFNVGpDaWV3?oc=5\n",
      "URL https://news.google.com/rss/articles/CBMivgFBVV95cUxNOFFSTXVscUNOQ0ZBZ1F4eW5NZlpSNzZzdVBkNmp4d19SUkJjY3dEQVpScjRZVEhHeWdwTnhCVnVKV1M1R1FWcE91UnNTdUdRTm1LUE1rMm54NjZxZnYzT21wSjFfRHpuNDZILXZ0YXhXNlJ2VThCbmZlZDVIdnRvZFVZVVRwZnF2RkFwYTNFaHZydzF6dmgyMml0dnBIeGFBQWRDa1RwTTB5VEJXcms0ajRiVnpQMkg5d1pqejln?oc=5\n",
      "URL https://news.google.com/rss/articles/CBMi4wFBVV95cUxQRVk3ekZTMDVENXNicGpqazRqbzlhZXRPdjY5d01sRHgwbTY0NEk5OHFpYS00RWFmdjNmdW51MjdPZFE4UHczOU5sYURDbVJpb3ZOVkl4SU9QMEZoVFRld2luLUZYY1dXVEZkM19nclRicThnSmFUYmVuczBNWG1ZRExUNENGdERhUE9jR0gxMUYwNEd6cC1tR2xmcW9VVzFYTXBhSEpVY1g4aGFYeG15alhUN2ZtY0lCeEtRRmhiWjI2ZFNpYjFVcENTWkY0VkR5U3NJRkJfRVdlZHNmTmItMmxtTQ?oc=5\n",
      "URL https://news.google.com/rss/articles/CBMiwAFBVV95cUxNQnNsWnpYbEwyV1Q2MkdmNEd4dFBoYUlzZTg2bktHYVlLT3VXWDg0bkVaS0ZqUi1xLUdoWF8tLUxQUS1hRUtqcWtGRnpKWFByWTlmdUFrNi1xOW9zQmtvWFJycm81YnJ4STFkMEwwNFQxWk9kOFNSNzZrUHNwSVdYc3Vsa1IxVXdwNFM0Y3FuamxkazJSb0JlRWtIM00xU2p5V0hLb0VicllnLURleGtWUGt6Uy1LMHVJZU16U0ZVOTY?oc=5\n",
      "URL https://news.google.com/rss/articles/CBMiigFBVV95cUxOZ2tETHNwYlRLTmM5Y0ttUFA1UWJEOTFVZ2pibXNXZndjMTF2ZmlyWUR1dUJoSFFPbFVaTkdWWFh2WGRsLWh4NFdld0lFcFBuVDdVc0t1TENhSkdWSENucmhDQjRsNFU2clBLVXNwektScVlMSU13clZGeW5UTllldy1uOHotc1QwdUE?oc=5\n",
      "URL https://news.google.com/rss/articles/CBMie0FVX3lxTE5jbTVZeE9sNnFtZWxpUEx4VWVLYlVSMWI1MGp0QmFZSHBFRGFITUQ0bGFXY2Y1N2M3U0NERVh6bUFRZDRabWVZUzRMcFRVdXVkX3RvRG92aUl5SDJFb3RUWWdrOUsxY1FVUHJKOG91S0t0X0dXejdodnlORdIBgAFBVV95cUxQYllBMFRDclJLTURobW5jeWR0VW9BTFBjVlhyajRTc3JhN0lTSzhlZ1k4Sm05ZE1rSl8zbUgtZ3ZvLUxEbXV1RVM4QkxwU3FCSVZnNlVvRk84SC03TmtyenFkUGc3ajFTY0NrTEFXeXphcEg2ejNYYWJBQkc2Vy1Eeg?oc=5\n",
      "URL https://news.google.com/rss/articles/CBMi3wFBVV95cUxPUl9WMGpVQ0lHYjQ1am40S3R1dlBtQmZmUlRWLXF5YmV3TFR6dEhwZ3JRM1dPc2hfbHdISC1wOVJGS1FqTlBWc09NbTk2dTdhRXFtcENtUzVBWDNqblRGUVM5SjNwR19zalRBVENwVGlhOVFaRGc1ZzVKT3lRWU54OEZNVEQ4NTVwS2ZYM1YwV3JNUGEwZjd2VE9QbWx4RG5JNG5KOFYybVZHaUJndFMtNjdKaWs2U0pJU3pRa0JOQXpiN09TRWRFYTdVYU1vQXdkTVFUWlRlWTZINkYwRFVj0gHkAUFVX3lxTE9zZFUzaFNwdnAxb2hucXVXM2dWZ29Fal9FdnlobnE2RjlJTzNyVTItY3J3cWVrRmZVT2Rock1wQW9icUYwQWl2aDBLVGNHR3FXZVpSU01oa0Vla0hPNGVUaFA2cDFDdUJrOHhPRS1LdFc4UHozRG8tZ1pjMHNMcThIdWNlX09nVl85ajZhU0VpVEV6M201cXNSZmxWQ0pabkstRmV0VEFJeE5Ub3JTOER3dDhDUlN5bkQ2Uk1VeVhHNmhnY1FwUVdKdnVMTE0yRG1ielJCajR1dXJwV2JmX3FGd3dveA?oc=5\n",
      "URL https://news.google.com/rss/articles/CBMipgFBVV95cUxQVTdLQlhQTVVpZTdUMVpPSTNaVTBlbnY2WGhUaUJVMkxPZmVWYkhzQ2ZNRkhsYzZYeGpKWndsdmc2WG1qRWVYNTJWVHIyZnNVU3NHUTdXSnM5SmFOcVMxTEpBSTJKT3RPZnlRZUVZUTZzYk1WeGJYOUVsQWwycl9pamVZVXlWS0piOXkxNXNLUUxaWk9pVTZvaEJvcS1tOTNWWWdqdnpR?oc=5\n",
      "URL https://news.google.com/rss/articles/CBMiqAFBVV95cUxPNHVxbDRSMXQtZkNWMXRYYktfN3lBMjlBOTVBdGFzckI5SlFTSllEYy01WmZ6bFowVXZtblFnaW1DLWlZb1JLSGt2ZjVYYmZvSjVMNmhGOF9wcGk0amtkczQ2OVZ5ZzJNQVBYTHJJMzlvTW9DbGJnVlVPV1RlMzdrejZmQnhDbmE2R0JtMkRfVF96NFRMVFFVXzBLZ0dLUEpYUnExQlFJeVA?oc=5\n",
      "URL https://news.google.com/rss/articles/CBMiugFBVV95cUxOVzVpSlVyOEhiNmphOEZhWnhMSEFPVk83WDNKNmNXTm5XczJNMEtQM0s2RFR4SVZpNVd6TGhNbDUyelFBTlFUUE1Ob3RFX1kwRVdhRnRTTHZVT1VIeWp0dFg4VGRaN19OYXhzWHpUM2lWeWlFZ24zLWFrYXFTbTZVQTJuV0t4Uy12NWZmSDVWa2VEeTlXMkwzWm5fU1poUnRiZVZxNWZuZVd5UU5yNWNoWGFZRGxORXFMZ3fSAcIBQVVfeXFMT29CQjVvSTBmUmFranZmc2RpdHg0MUs0aGVxY1hqVWh1LXpra042Y2kxbWltVmNvZmtpWktYWC1wSWF5Q09FRHctMnJxeDFTUW05N2xPQ0RDbHR1aG1Tb1ZZQ3BFMzFuX1Nxb1VzYThTTW9PNzZrRHZsczNwU2ZUVnE3UHVWNmNiTnFNMjJYNUhrVjliUHVNZFB0T29YMnVHLTBGWlozN3JmSkRvQzNXTUNjbTNIMVpTbG9Ra1p2SG9feXc?oc=5\n",
      "URL https://news.google.com/rss/articles/CBMixwFBVV95cUxNVUkzekphd3NOa2hhLUZwZkJvUUtPWWZuNHZOajNub253MjNfd1Rqc25FVXlCTEh2WEZRMjRzYWJvUWhsZTB4a1I0eUxwdWtzM1BMZmtueHp1Z3ZjY3NpVXFKM1JfM2liTFMxMS0zdFptMFJYaUV3ZGVUcm9fbnZtZzFVMWF5eXJRZVY0bmJFXy01S2Q5QVNESEhEY0I2aDVWT25Ja2d4T082RXF5cTlhOW56NC1QcE1VOTV6Ylg1RTNxMUcxTDln0gFWQVVfeXFMTWJOVTZfSDdqM3JpZnRuay1YemZmOFhJRTBIUDVucGdRUVVfNFhjUFJsU24tSy14VWxRVlc0cHdDNUZTaldOUk5BOGswNHI5SEZJdkZJdFE?oc=5\n",
      "URL https://news.google.com/rss/articles/CBMiswFBVV95cUxQVk9zOHZDckVQZDQtZ2ZtM3IwRjFXY3VTcDVNVWF5MW1NRkpSc0NxWm85VHczMDlNNGIwWEJuY2tGZjdRUUtzTkM2NmJ4NG5vSWJDVGpWc29yS0EzQVBuUVdCSURzZTlndWpyN2pta2hWcHVUWWVJX2FkTnNqT2wzcFloRl9INDZRVEdoWHBGTlZvTXJJakdNanpYR0JVUWQxU2J5R2IzdEx6d3k0a3U1MS1xQdIBuAFBVV95cUxQXzlUc3I3Y3E5SW9xdEFZTkxjd0ZhOUVlN3JDTHlvcDdFWmZpRk1NNmdlWmxFY0k0eGxfLV95WWI3LWlEYnhaWFp0SXN2TzdRNUZQWlVwVUcyRlROcUZQTmdUYlFfM0k2bmFLT2F0VEtmb3JTbUlXZUt2YUhNb0hwaWFJcGJYNU5zTkVQaEJqVlFuc0NxNHJyamVsQXpZTHgyajJPYy1ySW5oREplV3dTeVV0a2QyUjN1?oc=5\n",
      "URL https://news.google.com/rss/articles/CBMirAFBVV95cUxOVXczVzhuV0hSNGs1NzUxdjU0d2xWUzVocWZJSXVTWVZoSWRDYVNySHQ1ejlSMEo1OUh5OVNfODBLTVM2bHpxcGNjTE03UTlpY0JUVmdsVUpHVC1ISWl6NjFtbmozZElmNzJRSmUydms1bjhyWGttSVoyMkFmN3VNaDlzQzJfNnR5VEFXUGtaNDVDeGRPbk9IX3BfT202dFlfb0I4Q204cXVacFlZ?oc=5\n",
      "URL https://news.google.com/rss/articles/CBMi2gFBVV95cUxQSlFfLUZWdDVIN09xQnFVQUg0TE0xUEo4VzNlMFRWOEw0ZnplRFpXdXNVY2t2Ni1VOFpWVDk2V0FObEwwRTlHTTN0U3ZQV0dhdF8wYWJoUG43WWE2Q3NxbHpwSzNLQ0ozakhzSzdRcnpuME9qSVFGWFBpNk1zakkxaXNDOTFxem5qdVNyVER5NlRMZmdqckN3cTNSZlpnUUxMNDVTSFFZQzA1UEdvTXNmTjFZNG5SSWREZkE1VjY0alRKNy03QnU1aE55LXBOaEFZekV5NzdrZEhWd9IB3wFBVV95cUxNOFBGa1lnanNYQ1g0Zzg0c2tkbTFNdmJCOWxnam96TWxsbEtFMHdRQ1NXa1pOcU9ULUVHUEdXR29KelZVaU1pM1Q5YWpkYjhKZ1BnWThGUDNmV19fWnlLSk1ESGdjVnJ3Vk1tTGdFQ01aaVdLNC1GakFmTm9DSFBPTXp4WHFYU29WV0NVdkJJaHVwSlllNl9QS1BUSDRpMW1Yd0tzUzRrQ0ZQNlBUYm5Mb1dVZXR1MnVSTEhlOV9zT1ZxbWQ1OXBVOVd1ekpMbzBabFM0N3JvRUJSbFlxcWk4?oc=5\n",
      "Error extracting article content: Article `download()` failed with 429 Client Error: Unknown Error for url: https://www.wavy.com/news/national/ap-us-news/ap-the-education-department-was-created-to-ensure-equal-access-who-would-do-that-in-its-absence/ on URL https://www.wavy.com/news/national/ap-us-news/ap-the-education-department-was-created-to-ensure-equal-access-who-would-do-that-in-its-absence/\n",
      "URL https://news.google.com/rss/articles/CBMiVkFVX3lxTE5YTU5zcEF2dUdSV1RLSC1vNWlKVFZ4dzZwNjhxMm1RcHJfYWlReTBIMEdsVkpYWUs0Umh2UHhyMDRkaUpoR2FWUjU4MkxURGNJSXpVSHJ3?oc=5\n",
      "URL https://news.google.com/rss/articles/CBMipAFBVV95cUxNbWtaS2t4bnVpQTN3S0dsQ25TaDZMZEFNdDdXU09fTnBlUmhhMEFuTzNfeTBMMURFSHUzS1UzV2ZXSGhzNHk2c3hjRXNhLWExbVp4Y1pUZnBJa1VSNUpjV2dSUmtiVjhxMVd4NHk0ZmUxSVRXaTUwV1lyQ1Jpa3dxZXhMRm93M2ctbThTa2dwT0EtN2l3OGhnVEVYb0dHTmxsN3NhTg?oc=5\n",
      "URL https://news.google.com/rss/articles/CBMitgFBVV95cUxNQXNZZ0R0TENvcnFaYmxsNjVQZVYxaTZsU2dFYzg3TllmWTVnNmhpU0RieFRZS1F1TW5BamU0UTVHM0luS0RGQUdkVlBveXFQd3ZBZlduY2UwRi1fT25fMVFDSlN6MEIzcTkyVjFiZkRpcUp0bGJoYmE5eVJ2ZGhiMEV6THFDS1d6bVE5bFUwa0NjNmZudkZ0NzFaODRyeER5VEZya1dTV0lQdWhmVkZZQmYtcWpuZw?oc=5\n",
      "URL https://news.google.com/rss/articles/CBMixwFBVV95cUxPRG5vdm11ZDBxOUtTel9uYm1JYWxtRDZOV1lJSHhyQW1HRlVSaXNqd1NJMVdfSDgtQmxyVXF6N2hKdUI5NWh5Q2FqNHlheFhwY2V5UmYwVW9MQ1k5dmZ4ZFQtOTZXUHRJT2R2OW1Jc2dIdnFadjlYbGFSMFFzdmlFNWMyWG1PdEtkYnVXOFlyOS0zakVXR0RnZ2lKQlc3Z09CSlRhMk5QWXdmakN2SFFSRXY3UFlIUkh2UWVoTE5sdWRpYnZTcjNj?oc=5\n",
      "URL https://news.google.com/rss/articles/CBMihgFBVV95cUxQNnBYR25PeHItVHF0MDMwRUNVT1U1TlpCSVRJWUxZdXppWmFSbmdUZlpPMmhhUl8yUGREaUZXMTJpbGRjUGFZcGgtbHlYb2RjMWVCTEpVanc5LXNQcVNyYVIzNkF6QUEtUENkZjFTZWJ2b0FDdnpUZklLMWQ4UEpKUjRUbW9SQQ?oc=5\n",
      "Trends info scraped, trend selected and articles collected. All information saved.\n"
     ]
    }
   ],
   "source": [
    "keyword = input('Enter trend keyword: ')\n",
    "trend = [trend for trend in finalTrendList if trend['keyword'] == keyword][0]\n",
    "linkNews = {}\n",
    "collectArticles(trend, linkNews=linkNews, maxArticles = 40)\n",
    "pickle.dump(finalTrendList, open('./tmp/finalTrendList.pkl', 'wb'))\n",
    "print('Trends info scraped, trend selected and articles collected. All information saved.')"
   ]
  },
  {
   "cell_type": "markdown",
   "metadata": {},
   "source": [
    "# 🎨 Generate Assets For Selected Trend\n",
    "---"
   ]
  },
  {
   "cell_type": "code",
   "execution_count": 10,
   "metadata": {},
   "outputs": [],
   "source": [
    "config = {'news_report': True,\n",
    "        'script': True,\n",
    "        'narration': True,\n",
    "        'voice': False,\n",
    "        'sora_prompts': True}"
   ]
  },
  {
   "cell_type": "code",
   "execution_count": 14,
   "metadata": {},
   "outputs": [
    {
     "name": "stdout",
     "output_type": "stream",
     "text": [
      "sk_f96d619fc51235180796190a025b96954210e5b25af0d67d\n"
     ]
    }
   ],
   "source": [
    "print(ELEVENLABS_API_KEY)"
   ]
  },
  {
   "cell_type": "code",
   "execution_count": 12,
   "metadata": {},
   "outputs": [
    {
     "name": "stdout",
     "output_type": "stream",
     "text": [
      "C:\\Users\\garre\\OneDrive\\Desktop\\Projects\\aiMedia\\assets\\2025-03-11-21-22-47\\department_of_education topic_dir\n",
      "C:\\Users\\garre\\OneDrive\\Desktop\\Projects\\aiMedia\\assets\\2025-03-11-21-22-47\\department_of_education\\sora_prompts sora_prompt_dir\n",
      "28 validArticles\n"
     ]
    },
    {
     "data": {
      "text/plain": [
       "{'paths': {'script': 'C:\\\\Users\\\\garre\\\\OneDrive\\\\Desktop\\\\Projects\\\\aiMedia\\\\assets\\\\2025-03-11-21-22-47\\\\department_of_education\\\\script.txt',\n",
       "  'audio': 'C:\\\\Users\\\\garre\\\\OneDrive\\\\Desktop\\\\Projects\\\\aiMedia\\\\assets\\\\2025-03-11-21-22-47\\\\department_of_education\\\\voiceover.mp3',\n",
       "  'video': 'C:\\\\Users\\\\garre\\\\OneDrive\\\\Desktop\\\\Projects\\\\aiMedia\\\\assets\\\\2025-03-11-21-22-47\\\\department_of_education\\\\video.mp4',\n",
       "  'sora_prompts': 'C:\\\\Users\\\\garre\\\\OneDrive\\\\Desktop\\\\Projects\\\\aiMedia\\\\assets\\\\2025-03-11-21-22-47\\\\department_of_education\\\\sora_prompts',\n",
       "  'news_report': 'C:\\\\Users\\\\garre\\\\OneDrive\\\\Desktop\\\\Projects\\\\aiMedia\\\\assets\\\\2025-03-11-21-22-47\\\\department_of_education\\\\news_report.txt'}}"
      ]
     },
     "execution_count": 12,
     "metadata": {},
     "output_type": "execute_result"
    }
   ],
   "source": [
    "generate_assets(trend, openai_api_key=OPENAI_API_KEY, elevenlabs_api_key=ELEVENLABS_API_KEY, voice_id=VOICE_ID, run_dir=RUN_DIR, config=config)"
   ]
  },
  {
   "cell_type": "code",
   "execution_count": 15,
   "metadata": {},
   "outputs": [
    {
     "data": {
      "text/plain": [
       "'C:\\\\Users\\\\garre\\\\OneDrive\\\\Desktop\\\\Projects\\\\aiMedia\\\\assets\\\\2025-03-11-21-22-47'"
      ]
     },
     "execution_count": 15,
     "metadata": {},
     "output_type": "execute_result"
    }
   ],
   "source": [
    "os.getenv(\"RUN_DIR\")"
   ]
  },
  {
   "cell_type": "code",
   "execution_count": 16,
   "metadata": {},
   "outputs": [],
   "source": [
    "os.chdir(RUN_DIR)\n",
    "outName = trend['keyword'].replace(\" \", \"_\") # name of folder and file to zip\n",
    "!tar -acf {outName}.zip {outName}"
   ]
  },
  {
   "cell_type": "code",
   "execution_count": 17,
   "metadata": {},
   "outputs": [],
   "source": [
    "!echo python -m wormhole send {outName}.zip | clip && start cmd"
   ]
  },
  {
   "cell_type": "code",
   "execution_count": null,
   "metadata": {},
   "outputs": [],
   "source": []
  }
 ],
 "metadata": {
  "kernelspec": {
   "display_name": "base",
   "language": "python",
   "name": "python3"
  },
  "language_info": {
   "codemirror_mode": {
    "name": "ipython",
    "version": 3
   },
   "file_extension": ".py",
   "mimetype": "text/x-python",
   "name": "python",
   "nbconvert_exporter": "python",
   "pygments_lexer": "ipython3",
   "version": "3.12.7"
  }
 },
 "nbformat": 4,
 "nbformat_minor": 2
}
