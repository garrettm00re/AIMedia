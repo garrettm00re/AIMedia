{
 "cells": [
  {
   "cell_type": "markdown",
   "metadata": {},
   "source": [
    "# 🚀 GENERATE ASSETS (OG)\n",
    "-------"
   ]
  },
  {
   "cell_type": "code",
   "execution_count": 36,
   "metadata": {},
   "outputs": [],
   "source": [
    "# import nltk\n",
    "\n",
    "# # Download required NLTK data (only need to do this once)\n",
    "# nltk.download('punkt')"
   ]
  },
  {
   "cell_type": "code",
   "execution_count": 37,
   "metadata": {},
   "outputs": [
    {
     "data": {
      "text/plain": [
       "True"
      ]
     },
     "execution_count": 37,
     "metadata": {},
     "output_type": "execute_result"
    }
   ],
   "source": [
    "import trendspy\n",
    "from trendspy import Trends\n",
    "import os\n",
    "import datetime\n",
    "from dotenv import load_dotenv\n",
    "from news_utils import News\n",
    "import feedparser\n",
    "import time\n",
    "import pickle\n",
    "from generateAssets import *\n",
    "load_dotenv()"
   ]
  },
  {
   "cell_type": "code",
   "execution_count": 38,
   "metadata": {},
   "outputs": [],
   "source": [
    "# Make directory for the run\n",
    "APPDIR = os.getenv(\"APPDIR\")\n",
    "BASEPATH = os.getenv(\"BASEPATH\")\n",
    "RUN_DIR = os.path.join(BASEPATH, datetime.datetime.now().strftime('%Y-%m-%d-%H-%M-%S'))\n",
    "os.makedirs(BASEPATH, exist_ok=True)\n",
    "os.makedirs(RUN_DIR, exist_ok=True)\n",
    "ELEVENLABS_API_KEY = os.getenv(\"ELEVENLABS_API_KEY\")\n",
    "VOICE_ID = os.getenv(\"ELEVENLABS_VOICE_ID\")\n",
    "OPENAI_API_KEY = os.getenv(\"OPENAI_API_KEY\")\n",
    "os.chdir(APPDIR)"
   ]
  },
  {
   "cell_type": "code",
   "execution_count": 39,
   "metadata": {},
   "outputs": [],
   "source": [
    "os.environ[\"RUN_DIR\"] = RUN_DIR"
   ]
  },
  {
   "cell_type": "code",
   "execution_count": 44,
   "metadata": {},
   "outputs": [],
   "source": [
    "def getTrends():\n",
    "    def freeze(d : dict):\n",
    "        return \n",
    "    tr = Trends()\n",
    "    trends = tr.trending_now(geo='US', hours=24)\n",
    "    businessFiltered = trends.filter_by_topic('Business and Finance')\n",
    "    techFiltered = trends.filter_by_topic('Technology')\n",
    "    lawAndGovFiltered = trends.filter_by_topic('Law and Government')\n",
    "    politicsFiltered = trends.filter_by_topic('Politics')\n",
    "    filteredTrends = businessFiltered + techFiltered + lawAndGovFiltered + politicsFiltered\n",
    "    sortedTrends = sorted(filteredTrends, key=lambda x: x.volume, reverse=True)\n",
    "    keysSoFar = set()\n",
    "    finalTrendList = []\n",
    "    for trend in sortedTrends:\n",
    "        if not trend.keyword in keysSoFar:\n",
    "            finalTrendList.append({\n",
    "                'keyword': trend.keyword,\n",
    "                'volume': trend.volume,\n",
    "                'volume_growth_pct': trend.volume_growth_pct,\n",
    "                'topics': trend.topics,\n",
    "                'keywords': trend.trend_keywords,\n",
    "            })\n",
    "            keysSoFar.add(trend.keyword)\n",
    "    return finalTrendList"
   ]
  },
  {
   "cell_type": "code",
   "execution_count": 45,
   "metadata": {},
   "outputs": [],
   "source": [
    "# Example usage in your getNews function:\n",
    "def getNews(trendKeyword, num_articles=10, maxAge=10, linkNews={}):\n",
    "    #maxAge is the maximum age of the news article in days\n",
    "    search_term = trendKeyword.replace(' ', '+')\n",
    "    url = f'https://news.google.com/rss/search?q={search_term}&hl=en-US&gl=US&ceid=US:en'\n",
    "    feed = feedparser.parse(url)\n",
    "    valid, invalid = [], []\n",
    "    i = 0\n",
    "    while i < len(feed.entries) and len(valid) < num_articles:\n",
    "        entry = feed.entries[i]\n",
    "        i += 1\n",
    "        if entry.link not in linkNews:\n",
    "            pub_date = datetime.datetime.strptime(entry.published, '%a, %d %b %Y %H:%M:%S %Z')\n",
    "            if datetime.datetime.now() - pub_date > datetime.timedelta(days=maxAge):\n",
    "                continue\n",
    "\n",
    "            newNews = News(\n",
    "                entry.title,\n",
    "                entry.link,\n",
    "                entry.published,\n",
    "            )\n",
    "            linkNews[entry.link] = newNews\n",
    "            if newNews.mainText:\n",
    "                valid.append(newNews)\n",
    "            else:\n",
    "                invalid.append(newNews)\n",
    "\n",
    "    return valid, invalid"
   ]
  },
  {
   "cell_type": "code",
   "execution_count": 2,
   "metadata": {},
   "outputs": [],
   "source": [
    "def collectArticles(trend, linkNews={}, maxArticles = 30):\n",
    "    news = set()\n",
    "    keywords = set(trend['keywords'] + [trend['keyword']])\n",
    "    numArticlesPerKeyword = 1 + (maxArticles // len(keywords)) # promotes diversity across keywords\n",
    "    for keyword in keywords:\n",
    "        time.sleep(2) # wait two seconds to avoid rate limiting\n",
    "        valid, invalid = getNews(keyword, num_articles=numArticlesPerKeyword, linkNews=linkNews)\n",
    "        news.update(valid)\n",
    "        if len(news) > maxArticles:\n",
    "            break\n",
    "    trend['news'] = list(news)"
   ]
  },
  {
   "cell_type": "code",
   "execution_count": 1,
   "metadata": {},
   "outputs": [],
   "source": [
    "def trendTemplate():\n",
    "    return {'keyword': '', 'volume': -1, 'volume_growth_pct': -1, 'topics': [], 'keywords': []}"
   ]
  },
  {
   "cell_type": "markdown",
   "metadata": {},
   "source": [
    "# 🔄 Collect Trends Or Load From Pickle\n",
    "---"
   ]
  },
  {
   "cell_type": "code",
   "execution_count": 47,
   "metadata": {},
   "outputs": [
    {
     "name": "stdout",
     "output_type": "stream",
     "text": [
      "{'keyword': 'guinness', 'volume': 200000, 'volume_growth_pct': 100, 'topics': [10, 8], 'keywords': ['guinness', 'who is st patrick', 'shamrock', \"st patrick's day 2025\", 'who was st patrick', 'st. patrick', 'saint patricks day', 'st patricks', 'st pattys day', 'st patricks day 2025', 'what is st patricks day', \"st. patrick's day 2025\", 'who is saint patrick', 'saint-patrick', \"st patrick's day parade 2025\", 'saint patrick day', 'st paddys day', 'who was saint patrick', 'st patrick day 2025', \"st.patrick's day\"]}\n",
      "{'keyword': 'forever 21', 'volume': 100000, 'volume_growth_pct': 600, 'topics': [3], 'keywords': ['forever 21', 'forever 21 closing', 'forever21', 'shein', 'mall']}\n",
      "{'keyword': 'autopen', 'volume': 100000, 'volume_growth_pct': 1000, 'topics': [14, 10], 'keywords': ['autopen', 'what is autopen', 'auto pen', 'biden pardons', 'biden autopen', 'autopen machine', 'adam kinzinger', 'autopen signature', 'trump biden pardons', 'trump pardons', 'pardons', 'joe biden']}\n",
      "{'keyword': 'conor mcgregor', 'volume': 50000, 'volume_growth_pct': 700, 'topics': [14], 'keywords': ['conor mcgregor', 'ireland', 'conor mcgregor white house']}\n",
      "{'keyword': 'fbi outlook email', 'volume': 20000, 'volume_growth_pct': 500, 'topics': [18], 'keywords': ['fbi outlook email', 'medusa fbi']}\n",
      "{'keyword': 'statue of liberty', 'volume': 20000, 'volume_growth_pct': 500, 'topics': [14, 10], 'keywords': ['statue of liberty', 'france statue of liberty', 'france wants statue of liberty back', 'press secretary', 'france', 'liberty']}\n",
      "{'keyword': 'affordable housing federal lands', 'volume': 20000, 'volume_growth_pct': 500, 'topics': [10], 'keywords': ['affordable housing federal lands', 'scott turner', 'trump housing federal land', 'scott turner hud', 'hud secretary scott turner', 'hud secretary']}\n",
      "{'keyword': 'stephen miller', 'volume': 20000, 'volume_growth_pct': 100, 'topics': [10], 'keywords': ['stephen miller', 'karoline leavitt', 'democracy forward', 'judge boasberg', 'cecot prison el salvador', 'boasberg', 'donald trump administration', 'cecot mega prison', 'flights', 'venezuelans deported', 'aclu', 'el salvador president', 'united states', 'abcnews']}\n",
      "{'keyword': 'poppi soda pepsico', 'volume': 10000, 'volume_growth_pct': 200, 'topics': [5, 3], 'keywords': ['poppi soda pepsico', 'pepsico buys poppi', 'pr', 'shark']}\n",
      "{'keyword': 'dow jones stock markets futures', 'volume': 10000, 'volume_growth_pct': 200, 'topics': [3], 'keywords': ['dow jones stock markets futures', 'today', 'dow jones index']}\n",
      "{'keyword': 'ashley biden', 'volume': 10000, 'volume_growth_pct': 700, 'topics': [14, 10], 'keywords': ['ashley biden', 'hunter biden', 'hunter biden secret service', 'who is ashley biden']}\n",
      "{'keyword': 'us institute of peace', 'volume': 10000, 'volume_growth_pct': 200, 'topics': [10, 14], 'keywords': ['us institute of peace', 'us institute of peace doge', 'usip', 'institute of peace']}\n",
      "{'keyword': 'jfk files', 'volume': 10000, 'volume_growth_pct': 200, 'topics': [14, 10], 'keywords': ['jfk files', 'jfk', 'files']}\n",
      "{'keyword': 'jasmine mooney', 'volume': 10000, 'volume_growth_pct': 100, 'topics': [10], 'keywords': ['jasmine mooney']}\n",
      "{'keyword': 'hezbollah', 'volume': 10000, 'volume_growth_pct': 100, 'topics': [10], 'keywords': ['hezbollah', 'hassan nasrallah', 'brown university', 'rasha alawieh brown', 'brown university doctor deported', 'brown professor deported', 'us', 'dr']}\n",
      "{'keyword': 'serum 2', 'volume': 5000, 'volume_growth_pct': 300, 'topics': [4, 18], 'keywords': ['serum 2']}\n",
      "{'keyword': 'kennedy center', 'volume': 5000, 'volume_growth_pct': 200, 'topics': [4, 10, 14], 'keywords': ['kennedy center']}\n",
      "{'keyword': 'rippling', 'volume': 5000, 'volume_growth_pct': 75, 'topics': [10], 'keywords': ['rippling']}\n",
      "{'keyword': 'charles rogers medal of honor recipient', 'volume': 5000, 'volume_growth_pct': 700, 'topics': [10], 'keywords': ['charles rogers medal of honor recipient', 'charles calvin rogers']}\n",
      "{'keyword': 'larry ellison', 'volume': 2000, 'volume_growth_pct': 100, 'topics': [3], 'keywords': ['larry ellison']}\n",
      "{'keyword': 'wiz', 'volume': 2000, 'volume_growth_pct': 100, 'topics': [3, 18], 'keywords': ['wiz', 'google wiz']}\n",
      "{'keyword': 'openai', 'volume': 2000, 'volume_growth_pct': 200, 'topics': [3], 'keywords': ['openai']}\n",
      "{'keyword': 'rgti stock', 'volume': 2000, 'volume_growth_pct': 75, 'topics': [3], 'keywords': ['rgti stock']}\n",
      "{'keyword': 'retail sales', 'volume': 2000, 'volume_growth_pct': 75, 'topics': [3], 'keywords': ['retail sales', 'retail sales report', 'forex factory', '444']}\n",
      "{'keyword': 'is chatgpt down', 'volume': 2000, 'volume_growth_pct': 200, 'topics': [18, 15], 'keywords': ['is chatgpt down', 'chatgpt down', 'chatgpt down?', 'is chatgpt down?']}\n",
      "{'keyword': 'belgium', 'volume': 2000, 'volume_growth_pct': 75, 'topics': [10, 14], 'keywords': ['belgium']}\n",
      "{'keyword': 'wsdot', 'volume': 2000, 'volume_growth_pct': 50, 'topics': [10], 'keywords': ['wsdot']}\n",
      "{'keyword': 'brussels', 'volume': 2000, 'volume_growth_pct': 75, 'topics': [14], 'keywords': ['brussels']}\n",
      "{'keyword': 'andrew weissmann', 'volume': 2000, 'volume_growth_pct': 100, 'topics': [14], 'keywords': ['andrew weissmann']}\n",
      "{'keyword': 'nbc', 'volume': 2000, 'volume_growth_pct': 100, 'topics': [14], 'keywords': ['nbc']}\n",
      "{'keyword': 'hudson river', 'volume': 1000, 'volume_growth_pct': 300, 'topics': [3], 'keywords': ['hudson river']}\n",
      "{'keyword': 'ionq stock', 'volume': 1000, 'volume_growth_pct': 75, 'topics': [3], 'keywords': ['ionq stock']}\n",
      "{'keyword': 'netflix stock', 'volume': 1000, 'volume_growth_pct': 50, 'topics': [3, 4], 'keywords': ['netflix stock', 'nflx stock']}\n",
      "{'keyword': 'stimulus check 2025', 'volume': 1000, 'volume_growth_pct': 100, 'topics': [3], 'keywords': ['stimulus check 2025']}\n",
      "{'keyword': 'intc stock', 'volume': 1000, 'volume_growth_pct': 100, 'topics': [3, 18], 'keywords': ['intc stock', 'intel stock price']}\n",
      "{'keyword': 'economic calendar', 'volume': 1000, 'volume_growth_pct': 75, 'topics': [3], 'keywords': ['economic calendar']}\n",
      "{'keyword': 'workday outage', 'volume': 1000, 'volume_growth_pct': 100, 'topics': [18], 'keywords': ['workday outage', 'workday down']}\n",
      "{'keyword': 'xfinity outage', 'volume': 1000, 'volume_growth_pct': 100, 'topics': [18], 'keywords': ['xfinity outage']}\n",
      "{'keyword': 'san bernardino sheriff', 'volume': 1000, 'volume_growth_pct': 50, 'topics': [10], 'keywords': ['san bernardino sheriff', 'san bernardino']}\n",
      "{'keyword': 'scott turner hud secretary', 'volume': 1000, 'volume_growth_pct': 200, 'topics': [10], 'keywords': ['scott turner hud secretary', 'secretary of hud']}\n",
      "{'keyword': 'federal holidays 2025', 'volume': 1000, 'volume_growth_pct': 75, 'topics': [8, 10], 'keywords': ['federal holidays 2025']}\n",
      "{'keyword': 'white house press secretary', 'volume': 1000, 'volume_growth_pct': 50, 'topics': [14], 'keywords': ['white house press secretary']}\n",
      "{'keyword': 'freedom', 'volume': 1000, 'volume_growth_pct': 50, 'topics': [14], 'keywords': ['freedom']}\n",
      "{'keyword': 'suni williams', 'volume': 500, 'volume_growth_pct': 100, 'topics': [3, 15], 'keywords': ['suni williams', 'space', '9']}\n",
      "{'keyword': 'rddt stock', 'volume': 500, 'volume_growth_pct': 75, 'topics': [3], 'keywords': ['rddt stock']}\n",
      "{'keyword': 'ai', 'volume': 500, 'volume_growth_pct': 100, 'topics': [3], 'keywords': ['ai']}\n",
      "{'keyword': 'national grid power outage', 'volume': 500, 'volume_growth_pct': 100, 'topics': [3], 'keywords': ['national grid power outage']}\n",
      "{'keyword': 'google stock price', 'volume': 500, 'volume_growth_pct': 75, 'topics': [3, 15, 18], 'keywords': ['google stock price']}\n",
      "{'keyword': 'bitfarms', 'volume': 500, 'volume_growth_pct': 50, 'topics': [3], 'keywords': ['bitfarms']}\n",
      "{'keyword': 'rivian stock', 'volume': 500, 'volume_growth_pct': 75, 'topics': [3, 1], 'keywords': ['rivian stock']}\n",
      "{'keyword': 'amazon echo dot', 'volume': 500, 'volume_growth_pct': 75, 'topics': [18], 'keywords': ['amazon echo dot']}\n",
      "{'keyword': 'fox live', 'volume': 500, 'volume_growth_pct': 50, 'topics': [10], 'keywords': ['fox live']}\n",
      "{'keyword': 'michelle bowman', 'volume': 500, 'volume_growth_pct': 50, 'topics': [10, 14], 'keywords': ['michelle bowman', 'bank']}\n",
      "{'keyword': 'red flag warning', 'volume': 500, 'volume_growth_pct': 100, 'topics': [10], 'keywords': ['red flag warning']}\n",
      "{'keyword': 'hawaii news now', 'volume': 500, 'volume_growth_pct': 50, 'topics': [10], 'keywords': ['hawaii news now']}\n",
      "{'keyword': 'kevin kiley', 'volume': 500, 'volume_growth_pct': 100, 'topics': [14], 'keywords': ['kevin kiley']}\n",
      "{'keyword': 'closing time', 'volume': 500, 'volume_growth_pct': 50, 'topics': [4, 14], 'keywords': ['closing time']}\n",
      "{'keyword': 'ezra klein', 'volume': 500, 'volume_growth_pct': 100, 'topics': [14], 'keywords': ['ezra klein']}\n",
      "{'keyword': 'real clear politics', 'volume': 500, 'volume_growth_pct': 50, 'topics': [14], 'keywords': ['real clear politics', 'realclearpolitics']}\n",
      "{'keyword': 'waymo', 'volume': 200, 'volume_growth_pct': 50, 'topics': [3], 'keywords': ['waymo']}\n",
      "{'keyword': 'microplastics', 'volume': 200, 'volume_growth_pct': 75, 'topics': [3, 15], 'keywords': ['microplastics']}\n",
      "{'keyword': 'meta ai', 'volume': 200, 'volume_growth_pct': 50, 'topics': [18], 'keywords': ['meta ai']}\n",
      "{'keyword': 'windows 11', 'volume': 200, 'volume_growth_pct': 100, 'topics': [18], 'keywords': ['windows 11', 'microsoft']}\n",
      "{'keyword': 'alan dershowitz', 'volume': 200, 'volume_growth_pct': 50, 'topics': [10], 'keywords': ['alan dershowitz']}\n",
      "{'keyword': 'district of columbia', 'volume': 200, 'volume_growth_pct': 50, 'topics': [14, 10], 'keywords': ['district of columbia']}\n",
      "{'keyword': 'mk', 'volume': 200, 'volume_growth_pct': 75, 'topics': [14, 10], 'keywords': ['mk']}\n",
      "{'keyword': 'andrew schulz', 'volume': 200, 'volume_growth_pct': 200, 'topics': [14, 4], 'keywords': ['andrew schulz', 'clear']}\n",
      "{'keyword': 'hyatt', 'volume': 100, 'volume_growth_pct': 50, 'topics': [3], 'keywords': ['hyatt']}\n",
      "{'keyword': 'ubs', 'volume': 100, 'volume_growth_pct': 75, 'topics': [3], 'keywords': ['ubs', 'price of gold today']}\n",
      "{'keyword': 'قیمت دلار', 'volume': 100, 'volume_growth_pct': 100, 'topics': [3], 'keywords': ['قیمت دلار']}\n",
      "{'keyword': 'nasdaq futures', 'volume': 100, 'volume_growth_pct': 50, 'topics': [3], 'keywords': ['nasdaq futures']}\n",
      "{'keyword': 'social security office', 'volume': 100, 'volume_growth_pct': 75, 'topics': [14, 10], 'keywords': ['social security office']}\n",
      "{'keyword': 'va', 'volume': 100, 'volume_growth_pct': 75, 'topics': [10], 'keywords': ['va', 'nashville']}\n",
      "{'keyword': 'tramadol', 'volume': 100, 'volume_growth_pct': 75, 'topics': [10], 'keywords': ['tramadol']}\n",
      "{'keyword': 'waste management', 'volume': 100, 'volume_growth_pct': 50, 'topics': [10], 'keywords': ['waste management']}\n",
      "{'keyword': 'danielle kurtzleben', 'volume': 100, 'volume_growth_pct': 50, 'topics': [14], 'keywords': ['danielle kurtzleben']}\n"
     ]
    }
   ],
   "source": [
    "getTrendInfo = input('Get Trends? (y/n): ')\n",
    "if getTrendInfo.lower() == 'y':\n",
    "    finalTrendList = getTrends()\n",
    "    showTrends = input('Show Trends? (y/n): ')\n",
    "    if showTrends.lower() == 'y':\n",
    "        # outStr = \"\"\"\"\"\"\n",
    "        for trend in finalTrendList[:min(100, len(finalTrendList))]:\n",
    "            print(trend)\n",
    "    saveTrends = input('Save Trends? (y/n): ')\n",
    "    if saveTrends.lower() == 'y':\n",
    "        with open('./tmp/finalTrendList.pkl', 'wb') as f:\n",
    "            pickle.dump(finalTrendList, f)\n",
    "elif getTrendInfo.lower() == 'n':\n",
    "    with open('./tmp/finalTrendList.pkl', 'rb') as f:\n",
    "        finalTrendList = pickle.load(f)\n",
    "else:\n",
    "    print('Invalid input, run again')\n",
    "    exit()"
   ]
  },
  {
   "cell_type": "markdown",
   "metadata": {},
   "source": [
    "# 🎯 Select Trend and Collect Articles\n",
    "---"
   ]
  },
  {
   "cell_type": "code",
   "execution_count": 48,
   "metadata": {},
   "outputs": [
    {
     "name": "stdout",
     "output_type": "stream",
     "text": [
      "URL https://news.google.com/rss/articles/CBMiWkFVX3lxTE4xSng5R2FiTGJYMDRuT3Jmd0ZtSFAxay1LV1RWRHQ1dnBSRE5FcWxNREFESFV1NjBvZlB2WGlZMVJnVTBEdjJQTUtBbmRZNElNMExOajVkeDc0UdIBX0FVX3lxTE95cEV4VHoxSklETUlTbXlXRHZBMzlKU0FBSy00dVNTWHlzOHZsUVg2azZLdWVmZXpsbEJPdHZnRC1JWGVDVXZGc0t5N0NuMUFrZHdsT3ZRNXp3cjhXTzkw?oc=5\n",
      "URL https://news.google.com/rss/articles/CBMinwFBVV95cUxPZU9qYno1VnJta0plZWNKWG5ES1JFZHpNQ3lPUnV0X19IeFdZLVdRYUhhLVNmUmx5MTE1VVYyc2xoUUNEcEtZN2VOMHhHNmw3a0xNTi1lMUtOSm5RTFk0Wk85T2YwR290a1B4WC13UWZUUEM5eUx2aXc1emtEc3FZVmlOU1ZJYmt0dWZwTlZJN1RXRUtqYno4QkktMWVLdG_SAXNBVV95cUxPVk5BV3N6c0U1TlZFc0N4RFI5MDQtOFBGVkNsS0hsSzlwMU91UXUwNVQ4UWJHZXJhRjM2VUZqek5udmVSeXA3RUJ6OXM4QmZIYTVhYmVhQXpiMmRYTXhmV3FKZjlOQmlISExFQk1ZeXZWWkJz?oc=5\n",
      "URL https://news.google.com/rss/articles/CBMieEFVX3lxTFA3Q2UxVXZVTDdQc08xMHY3VF84cnpwRkJwRFdNWUoxd25iX2ZNSGxUN3NtSGpVQ1c5NWlWNTZBN2xQeTFxS1V1NUtkZzgzdHpmWUlydnV2dmVuMUY5UW1Nb3liWTJnLUtmWHpRMjE1UjRBM0FNZlFIYQ?oc=5\n",
      "Error extracting article content: Article `download()` failed with 403 Client Error: Forbidden for url: https://www.barrons.com/articles/autopen-biden-pardons-trump-47408b32 on URL https://www.barrons.com/articles/autopen-biden-pardons-trump-47408b32\n",
      "URL https://news.google.com/rss/articles/CBMivAFBVV95cUxQYzJMTkJaNGppU1F5ZGlfcXJTLUpGSUhYTHZtTkFpV1BhVGJVMTVFMWJUUzZMSndnQ21BOUNQVElpT2xQYjRZd2tHYkRWM2xTY2VwelhTS0ZMUE8tbGtpd2VsVDhETnl3dm1YQ3h0MkhtWTNpODBmaERYZGZIakhBR2FHSTF2QmxNWEVjMnNQTUtTWVNHYkhqZDl6dTRoYU8tMS1VT2FWMHd1VV9LMnpfY3NMSGJ0dEctU1VWZNIBVkFVX3lxTE1yQnRpUlBKQ0w2LTFfa3ZuTzVDVkU3LWs2aVB6UW93WDB1dWc4aW9pQUFDcGV2ZF9Lb0ZDRFEtQVhycHZkdVBLS1lQZ2ZPSEM1T2RGNFBB?oc=5\n",
      "URL https://news.google.com/rss/articles/CBMi1wFBVV95cUxQZUxILWNjU3ZXRVVSSmZFbWVvYmlvU1FWOTZ0LVlGVkkyS0I2NW9mVmJxY3hUdi1acm5zeUxkQm9NOTdNQUlnUjRKTlRHX2tZX1J1NkRpbjlFakRvYmpRWTB6Y1VlTU9GcG5mYTd2VUw0eGZKYWlpa2ZWU1RRSnRIMUNXb1MwVkItUXd2aWQyTUVtenJlTzYzWEFvalpPb3FOejdGd3c2ZVFuWjdGN1ZkRnBEeVNUR0RkaGJlaGF5ZUdJYTh1eWJ4UTk2cGhEQUhaVkIwR3NzWdIBY0FVX3lxTE1ZZ29RYUtVWUpFZDlXRXpTX2J1dzhQUlBPQnhCbmRXejByS2R1VWgzeWZia0hqYmlKbC1aN1VYaEdiQl9SdzR6TEdWMVEtUnNSeVZXZUIxVnBDQ1NQeG1xU01XVQ?oc=5\n",
      "URL https://news.google.com/rss/articles/CBMiY0FVX3lxTE9SZHVmQnVzN25DcGxwNjJ5QmdFZkQ1VGFRcWZJNlMtVXNqSEFWRmo2SUVXN3haTWs4U0cwOWNXX0VMVnhCclk0Vi0tengwWWd1c2lWbVpEVFdJcFkzcTF2V2tjMA?oc=5\n",
      "URL https://news.google.com/rss/articles/CBMiqgFBVV95cUxPRXhwRmdMMEEwTWYzNE1EdXNVQ0ZTM1ZBcVhTczM4clM0VkRCb0FVaW12U3p4U0Q4NjMtVVJ3Qlc1MXVWSURENEtoTWNuTUplMGNQQkFzanlDbEVURDREcnR5Vmx0bERVMlVTMmlZVFN1ZkNhTjN2ODVoQ1lreGZ3Y25odVczOEdOQ21pQmJ4SjZTY3JCcmI5TklMc010b2JqUzk1ZkRZNnRid9IBfEFVX3lxTFA4dFBJeHRtMERqNEp4V0hnelFDZWxhaC1XRzJNUHdObi0xMzBpLU54QUVIV09oWFJ5dHhlRy1hZlVWZGJkeHBMVG9pMVNmWmNPU2hRb0Y4enhsUGJrcU44Y08zZ0IxbVZBcHJMSGVYUVN4U1BGRWNQTDR4VlU?oc=5\n",
      "URL https://news.google.com/rss/articles/CBMirgFBVV95cUxPa051NVhoVVFBUUZGSE5jS2h5MjIwR2FsVXFoS3RGekNmSTg2N3RFaHlEc2phWXN1Z1FvSTY5aVNtX3oyYWNZRG91VkFiMHF2VENfTTVTX2loWUdoVVNzQjRFV0tZOXNic0VFaUpCMzVlYWFZSWRJejRzcFN2a21PUmJKR1FNdWpBMDdiaWtiLXRkMEMwR3R6MEJGOG5TWnNvUjBwc1VwOTFGTzNhTHc?oc=5\n",
      "Error extracting article content: Article `download()` failed with 403 Client Error: Forbidden for url: https://www.wsj.com/politics/policy/trump-lays-groundwork-for-investigating-people-pardoned-by-biden-73ee33ad on URL https://www.wsj.com/politics/policy/trump-lays-groundwork-for-investigating-people-pardoned-by-biden-73ee33ad\n",
      "URL https://news.google.com/rss/articles/CBMikwFBVV95cUxNcG41cFBpc1V2RDljT0k2ZnYzQXFLMThmMGpscVRNajJia2VfSWh2cjVYeEtnZlNHNEdmVV9BVU0yYjhVeER0RjNIZV9Ob255SnhtYldzYVUybEJpNGZPc3BCTzJ1RVBoUnBNcTZuSEVPN3Y1cV93SWxERXVJZ2Jnd0pwUU1OcVZiVGpzRk1BMTk2S2s?oc=5\n",
      "URL https://news.google.com/rss/articles/CBMingFBVV95cUxQbi12ZVdrUTNza2VEbVFmM3VkM0doVTI3S2JRN3ZLLWI4ZVF6WWcwdzFrOHZYdjJfdkpVdUNPVlVHNEhsNEh3c3ZJVDZGeFptYTE1VExSMjNQQld0c09yektyem42M1psU2FKeUpVSnJXeEVfMkk3ek5MdTZrYWZURXdrSzRLcHZBd1NUSWhfb1RYQ3cxaGRXdjdlOUlld9IBowFBVV95cUxPM3VsN1hlaGtnUEhkMkxkcnJOclVCTkdRbnpOaksyVXA2VHVhUFZ6dTJNVXdYQmFkOEd2ZGdHVXRxRk16b1VZM3hBZHJJZTVDZmU1N1N2Y3lZRF9nWVNjUUJ2NWdUMnMwbGdqNEtyX3pndUVIYTZrT1dGZnRqN2VsZi1hU09lR0Rya005X3pkMy10RnJlV3dYRVlvUmIxUVk4eUVz?oc=5\n",
      "URL https://news.google.com/rss/articles/CBMipwFBVV95cUxOWXVBcU1JU0dXYXBNWS1ycmY4a3hyVmNlNTcxVGw2eHpqVmhYV0Z5cHZyc3V4c0hmMEJJSXBpeEN5bVBNdXJtd0J4UUxoNHhUS1Z5eU1tQmdiLUI3RExyQmZzdGV3TkxhMl9LeFl4RzFOY2I1YmY4MU45X3pBNE4td3dmZ0pJanU4VHFOalFWaWItZGsxNlZ1SXBQLUpyZU1VWmdlLWRQa9IBrAFBVV95cUxNN3NMQUxwbVRrRVVWdkpmSk85RkkxdTRxYUoxb2tBSHNYSGVsUjNFREdaN3ZneXFJT3hhNzRHT3NtSDlQVzZPcEZaZWVJNUdYYWYyam1JQy05Q2tUYmhZOUxBa3RhUDZPQWxRWmIxWTd1d3ZLNEJKYlF1RFIyQ2ZSQ2taYWg1ZVZXa2J4Q29RdnlSS2VCTzdZdXBYaGFqY3hxRS1CZ3BxSUtpSFVl?oc=5\n",
      "Error extracting article content: Article `download()` failed with 429 Client Error: Unknown Error for url: https://thehill.com/homenews/administration/5199554-what-is-an-autopen-at-center-of-biden-pardon-claims/ on URL https://thehill.com/homenews/administration/5199554-what-is-an-autopen-at-center-of-biden-pardon-claims/\n",
      "URL https://news.google.com/rss/articles/CBMiqgFBVV95cUxNR0thTFY3cld1VmJWN0I0Vk9RU2ZzVlpWVUNEeGppYmhyXzlmRnpfalF5TVdlbGZUd3pXcURiOUVhcng5SVJCeFhMWVBNSy10ZVlNX25oVzdrZmx1eWtmVnd0d0lEamI2X1JvWVdHZFBUZnpGeU1KV0ZDSDFrZXBVNnFJaXJvMExRbFRQOE1pZDZfSHgwS2t1MFZpYlZaTHVrYzFrWjRyS1Z2d9IBrwFBVV95cUxPeXFxbWM4N0tLR0Q1M0tvOV92X1FCTnp5R0JQaWFxcWRwRkhZa3VhNkNPQUg2bFA4YmxRZmJxTnNWMjJ3Z3hINkNQeFRnYTR0aDBOZ3ZNUENqYUdXQWx6UUU0Rm9zZjhzVjVKc3ptSERTSF9WSUM2a182THVBNzJ2UlJYNFpBaU84MDVUT0hZdDFrUEdJc2paWTMtV2p3WlhyODltaE1oNzhDa24tQzlZ?oc=5\n",
      "Error extracting article content: Article `download()` failed with 403 Client Error: Forbidden for url: https://www.nationalreview.com/news/trump-declares-bidens-last-minute-pardons-void-over-autopen-signature/ on URL https://www.nationalreview.com/news/trump-declares-bidens-last-minute-pardons-void-over-autopen-signature/\n",
      "URL https://news.google.com/rss/articles/CBMiogFBVV95cUxNZkhiNHJ4dU1tWFZSOTQ1OXpxN2VJUzVXQ3dRUTlGOU5DZTBvXzNJdjNwaXd4R1lZczZva1Vpb2xhR0o5ZTA2OGQ1NllhTUFPWXBGYUdERVd5Q0V4Q0NJOFFyVUhTU3lXRUpway0zOGRJSEJOS1Nlc2dDeGwyVmVmREZ3R0NvRXMzX2d3M3dGTTEzY1JHcklHY0dzWnlNQjZlTWc?oc=5\n",
      "URL https://news.google.com/rss/articles/CBMib0FVX3lxTE9XZ0ktQlBKMG1BOEh4dExJN0NoeDhRNUgxYmxPZUowdTgyWUhfVXlPUTM4Q2tOQk9UTk9PQ1Z3cVgwSG5QRFFCVnlYeWRZLVZaUWZucG9qS1JEamRxZUxVMlJhREU4MXg4aUxQRWJ1ONIBdEFVX3lxTE5TdGZQY2o3anpDRzYxWGpGaDBFVHhPSzFtLTItYjBNcWk2NkNfMl9XMVFROVpNVHFFYTF1azROSGdQc242NjFZME9LcnhhNmtxWkszc2lsZXBTdW9OUlpkclpsQnVGR1pVNVV4UWVNZ1AtUEhM?oc=5\n",
      "URL https://news.google.com/rss/articles/CBMiswFBVV95cUxQbWlNY245MjRueXpKZmNyRUJKVWxyWGRsTG8wRE5YUkVVYWpyLXBUOXdJZGhwNi1jMG56bFhuaUhaQXRpVEI2TGJhRXdDOUdhSjFiSXN3dnZnUG1ZTmdneVFrU1U2UklpcjZLQ01CYXdCUDNKMEtmU2JFalF0amg3Zkt4bnhpbC1FbzhkbW1sVVc0MlowTnRzX3VVWHBpQjNqZkdyVVZKYzZLOHBURDhZYVNZOA?oc=5\n",
      "URL https://news.google.com/rss/articles/CBMi9gFBVV95cUxQVnhDd2JfekxEbDM2UHlxcThvbmlldXlBbUF3VDEybzdKa2VkNnFXVGt2bDBVd2QwdVZRZnV1MGFSdVA0VTBPbEJHMUVqeUZxTjdDaVllcG9iendtSl9uMmYyR1pKYVkwckFvV3JCNEJUbmhUZGUwZTR3RjI3OE42ODRKX1lfdC12MGNOdURnT2h2OFFXYm5hc1E1eG5fU19rZmQtYVhIdnhjZmlNQkwxb2xwQjNJaFVmbTVNMUl4NDhtamlXYmJDR2NkUGNEbXdEY0lpczJqYml5cWxibVU5aG4zNVpDVy1CZDBFTUtlYW9od21IYUE?oc=5\n",
      "URL https://news.google.com/rss/articles/CBMipAFBVV95cUxNa2s5XzJFbjdsWW9DQ1NpQ3ltZW9kazZvQy1ULWs3Tk5zbXd0UU1zRGZSZlkzX0wwaHpIQjVDOGUtdUN6UXFPaDNUckp4TE9VNFZKLUh0eFNEdHhybFViaVluajlXeXhLd25vSUw3QWVmSWgtNzBHc1hkWjZjNFRPcGNmaDUzYWsxYlhtZ0U1SnBDUWx0R3E4NjY0QVFnYmd1bThPcA?oc=5\n",
      "URL https://news.google.com/rss/articles/CBMisgFBVV95cUxPMjFPN3RKd0VnZUFKT2RFSUpKazdtYlNPdzZnNl80aUxtQ3ZOSjg1MXN3NjNfNUtYNXUwSkd1cnMxWV9Ua0NsTDVzMmVVOTVEOEdyRVZLY0hTSW90N3kxU2s3ZlYxbF9CMmlIRlRPMXFDQ21YNHV5NWJLVF9uUERiT3pOeE93YTZ3STJuUkNxeHZxVGtMNlpkYnozekNlQjdaZnctLWRiNWl1alBJNEVRWmRR0gG3AUFVX3lxTFB2RWxhSG5HbmkxY2ZSOWItQ1B4c1BpWDRkTjhPSU5ncV9VNldrYmJWNzhyQUhCanlEYk5udTYzMm1ocDh2YmQyWk1mNzdGZHh2am9vdzE1X0tlUGk3cnlGdTd1S2xlMkpJZzVldUhmUGpqNHFuWnNnWEtpeEJoWFp6X3lrS2gyVDduZXJDOEJRWW5oMTRxQm9CX1lJYW10X1JrRl9hQmxPMjdsNENYNVhhczc2REJkVQ?oc=5\n",
      "URL https://news.google.com/rss/articles/CBMiekFVX3lxTE0tM1E1RGl3cmxwVUdmcmFUM3laQWZLNlBwbDg0NmI2cHFBNVV5SXFGME52R1B0bGtOZXlhRnFxN0hjY0c5VnRpSTFyLUk2THdJN0RKcDU3T2NJTHEwbVB6clMwYk5MVEtoWklYSnVDRkRiZms4aFBGaExR?oc=5\n",
      "URL https://news.google.com/rss/articles/CBMiekFVX3lxTE8zRURDQ1VicHVIR2FKNHNjUDJnUk5fa0UtanRtQ3E0QW9lT0F6X2plRmxyODVPS2pIX3ZIdTM4RzZMMGM1NUlCX0drYS1sSmw3alZHbEZmVlhad3htLVNDVElsdW1mWlN3U3VDbFFla0RVMW5lbHkwWGJn?oc=5\n",
      "URL https://news.google.com/rss/articles/CBMizAFBVV95cUxQZm55QXhaSEtSOUxwSHFFLVBwRlpxOGZuU0RQbW03SzNwX29YNTZQaU9MTlBsYjhaT2kxYW1zOUNhcUVyWjNMbkNMUzdBb2FlaVN0X2M2THhJblZGUTVZeVNpQU1US3lVZHVxSkhXNUJMQVlMaXo4eWppY2xGRUYxQmVBU0M5cjctYmxMX2U0Wl96TVlpekdiSC1ucXotMmdyQW40azNodE1qZ2hrdmZIVHg1MXF3cjdLYVg1WnpJamxNcGIzb21KbkNjNELSAdIBQVVfeXFMUC01YUdsYk94YzVtQWRLWGJIY0UyMC1TdjJ1RHh2MjYxTGdLMlNfTWMtemNfR2ZvZXctUjVJMWV0c180blNBRnRQbmxSN2RmZVJSeHE2SlRHOGtsdnprZFE1WnYwbEc3U18yaEREN0ZWY28wODJZdE9UazNrU1N4SFk5ZkwxN3Z5NE9UNWRpNkZrN21IVHpPcHNtZzdGcGp1YVpCSWxiTEtUOE5Uc3dWcTB2NjZUSUxoT1dseGRqUzFJVmpmSWU2OW9wRS1KNGJPVDNR?oc=5\n",
      "URL https://news.google.com/rss/articles/CBMiowFBVV95cUxPbWR2TjBkX1ROWWtBR21qVHd5dUQxVVZXOTREaEdEMWFJUEV0bmpIUkVfdmxKZXcwZmhTMGtsWjZqQ0tRb2s5c3pMX0YyVExCRXhTMkFSdmxXdGI2SnpkbDdPNzhORGpxWV8tNFYxbXhaVXVacG5EbTRtVkFybnpWSDRhdkF1b0cxVng3aGk1cmNOVVVuUlRhMVozbzNxUGtjRXdR?oc=5\n",
      "URL https://news.google.com/rss/articles/CBMilgFBVV95cUxPazZNb1hjSnhfbEI3M3hHQzYzVlhyZWJkVWxpa1hvNk5mWHhoaFBfY2lpR2dwbU1rVEk4akQ1djRVQUdSajE5bVNna1ZLZC1henkwODR2NTRYM2xqU3dCZ1dhVVBpWnJvekVuZzJ5VTRKVXpFTFNkQzJLeEJfM09kTVpIcEtadFBIcVluVUUyZHJ6clZyN1E?oc=5\n",
      "URL https://news.google.com/rss/articles/CBMiekFVX3lxTE8zR2lTZ3owWGxCZ2E0Ukx1Y2xzNWRkRHFRUTlxVjl5cFVhaVNkQmhOdTFLRzRqTzNoZ2tvQXJNNVlnaFR5ZG0xRkhrWThfZUxfek5hWXZCZ29OVVNsRDN2ZUJHV1B2UWl2NG5DTDdHWmdEWGswZDV4VGVR?oc=5\n",
      "Trends info scraped, trend selected and articles collected. All information saved.\n"
     ]
    }
   ],
   "source": [
    "keyword = input('Enter trend keyword: ')\n",
    "trend = [trend for trend in finalTrendList if trend['keyword'] == keyword][0]\n",
    "linkNews = {}\n",
    "collectArticles(trend, linkNews=linkNews, maxArticles = 40)\n",
    "pickle.dump(finalTrendList, open('./tmp/finalTrendList.pkl', 'wb'))\n",
    "print('Trends info scraped, trend selected and articles collected. All information saved.')"
   ]
  },
  {
   "cell_type": "markdown",
   "metadata": {},
   "source": [
    "# 🎨 Generate Assets For Selected Trend\n",
    "---"
   ]
  },
  {
   "cell_type": "code",
   "execution_count": 49,
   "metadata": {},
   "outputs": [],
   "source": [
    "config = {'news_report': True,\n",
    "        'script': True,\n",
    "        'narration': True,\n",
    "        'voice': False,\n",
    "        'sora_prompts': True}"
   ]
  },
  {
   "cell_type": "code",
   "execution_count": 50,
   "metadata": {},
   "outputs": [
    {
     "name": "stdout",
     "output_type": "stream",
     "text": [
      "sk_f96d619fc51235180796190a025b96954210e5b25af0d67d\n"
     ]
    }
   ],
   "source": [
    "print(ELEVENLABS_API_KEY)"
   ]
  },
  {
   "cell_type": "code",
   "execution_count": 51,
   "metadata": {},
   "outputs": [
    {
     "name": "stdout",
     "output_type": "stream",
     "text": [
      "C:\\Users\\garre\\OneDrive\\Desktop\\Projects\\aiMedia\\assets\\2025-03-17-19-22-52\\autopen topic_dir\n",
      "C:\\Users\\garre\\OneDrive\\Desktop\\Projects\\aiMedia\\assets\\2025-03-17-19-22-52\\autopen\\sora_prompts sora_prompt_dir\n",
      "20 validArticles\n"
     ]
    },
    {
     "data": {
      "text/plain": [
       "{'paths': {'script': 'C:\\\\Users\\\\garre\\\\OneDrive\\\\Desktop\\\\Projects\\\\aiMedia\\\\assets\\\\2025-03-17-19-22-52\\\\autopen\\\\script.txt',\n",
       "  'audio': 'C:\\\\Users\\\\garre\\\\OneDrive\\\\Desktop\\\\Projects\\\\aiMedia\\\\assets\\\\2025-03-17-19-22-52\\\\autopen\\\\voiceover.mp3',\n",
       "  'video': 'C:\\\\Users\\\\garre\\\\OneDrive\\\\Desktop\\\\Projects\\\\aiMedia\\\\assets\\\\2025-03-17-19-22-52\\\\autopen\\\\video.mp4',\n",
       "  'sora_prompts': 'C:\\\\Users\\\\garre\\\\OneDrive\\\\Desktop\\\\Projects\\\\aiMedia\\\\assets\\\\2025-03-17-19-22-52\\\\autopen\\\\sora_prompts',\n",
       "  'news_report': 'C:\\\\Users\\\\garre\\\\OneDrive\\\\Desktop\\\\Projects\\\\aiMedia\\\\assets\\\\2025-03-17-19-22-52\\\\autopen\\\\news_report.txt'}}"
      ]
     },
     "execution_count": 51,
     "metadata": {},
     "output_type": "execute_result"
    }
   ],
   "source": [
    "generate_assets(trend, openai_api_key=OPENAI_API_KEY, elevenlabs_api_key=ELEVENLABS_API_KEY, voice_id=VOICE_ID, run_dir=RUN_DIR, config=config)"
   ]
  },
  {
   "cell_type": "code",
   "execution_count": 52,
   "metadata": {},
   "outputs": [
    {
     "data": {
      "text/plain": [
       "'C:\\\\Users\\\\garre\\\\OneDrive\\\\Desktop\\\\Projects\\\\aiMedia\\\\assets\\\\2025-03-17-19-22-52'"
      ]
     },
     "execution_count": 52,
     "metadata": {},
     "output_type": "execute_result"
    }
   ],
   "source": [
    "os.getenv(\"RUN_DIR\")"
   ]
  },
  {
   "cell_type": "code",
   "execution_count": 53,
   "metadata": {},
   "outputs": [],
   "source": [
    "os.chdir(RUN_DIR)\n",
    "outName = trend['keyword'].replace(\" \", \"_\") # name of folder and file to zip\n",
    "!tar -acf {outName}.zip {outName}"
   ]
  },
  {
   "cell_type": "code",
   "execution_count": 54,
   "metadata": {},
   "outputs": [],
   "source": [
    "!echo python -m wormhole send {outName}.zip | clip && start cmd"
   ]
  }
 ],
 "metadata": {
  "kernelspec": {
   "display_name": "base",
   "language": "python",
   "name": "python3"
  },
  "language_info": {
   "codemirror_mode": {
    "name": "ipython",
    "version": 3
   },
   "file_extension": ".py",
   "mimetype": "text/x-python",
   "name": "python",
   "nbconvert_exporter": "python",
   "pygments_lexer": "ipython3",
   "version": "3.12.7"
  }
 },
 "nbformat": 4,
 "nbformat_minor": 2
}
