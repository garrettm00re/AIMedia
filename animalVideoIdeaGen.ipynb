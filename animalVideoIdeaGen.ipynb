{
 "cells": [
  {
   "cell_type": "code",
   "execution_count": 1,
   "metadata": {},
   "outputs": [
    {
     "data": {
      "text/plain": [
       "True"
      ]
     },
     "execution_count": 1,
     "metadata": {},
     "output_type": "execute_result"
    }
   ],
   "source": [
    "from soraVideoGen import SoraVideoGenerator as SVG\n",
    "import os\n",
    "from grok import Grok\n",
    "from dotenv import load_dotenv\n",
    "load_dotenv()\n"
   ]
  },
  {
   "cell_type": "code",
   "execution_count": 2,
   "metadata": {},
   "outputs": [
    {
     "name": "stdout",
     "output_type": "stream",
     "text": [
      "xai-fq2OPXVKJrQCMyitw8z4fUiuVE6OO0KBjy1AzT5L56DiZsG88SqNJgvISwXC7psVI6wmT5vkAkFWadXF https://api.x.ai/v1/chat/completions\n"
     ]
    }
   ],
   "source": [
    "grok_api_key, grok_url, grok_model = os.getenv(\"GROK_API_KEY\"), os.getenv(\"GROK_URL\"), 'grok-2-latest'\n",
    "print(grok_api_key, grok_url)\n",
    "grok = Grok(grok_api_key, grok_url, grok_model)\n",
    "grok.temperature = 1.6"
   ]
  },
  {
   "cell_type": "code",
   "execution_count": 8,
   "metadata": {},
   "outputs": [],
   "source": [
    "def generateAnimalVideoIdeas(grok, numIdeas):\n",
    "    prompt = f\"\"\"\n",
    "    Generate exactly {numIdeas} unique and fascinating animal video ideas. Each idea should:\n",
    "    1. Focus on a specific animal species\n",
    "    2. Describe a truly unique or surprising that has never been seen before\n",
    "    3. Be described in a clear, concise way\n",
    "\n",
    "    Format each idea as: \"[Animal]: [Unique Behavior/Action]\"\n",
    "    Separate each idea with two new line characters (\\\\n\\\\n).\n",
    "    Do not include numbers or any other kind of formatting.\n",
    "    \"\"\"\n",
    "\n",
    "    return grok.generate_text(prompt)"
   ]
  },
  {
   "cell_type": "code",
   "execution_count": 9,
   "metadata": {},
   "outputs": [],
   "source": [
    "ideas = generateAnimalVideoIdeas(grok, 10)"
   ]
  },
  {
   "cell_type": "code",
   "execution_count": 10,
   "metadata": {},
   "outputs": [
    {
     "data": {
      "text/plain": [
       "'Giant Squid: As an ambitious underwater filmmaker, you uncover a never-before-seen mating dance between two Giant Squids deep beneath the ocean\\'s surface, their tentacles intertwined in an ethereal, luminescent display.\\n\\nArctic Fox: In a surreal twist, a team of Arctic Foxes brilliantly showcases their incredible adaptability by transforming a desolate snowy landscape into an enchanting ice sculpture garden, exposing their rarely acknowledged artistic talents.\\n\\nGreen Anaconda: During an exhilarating dive in a remote South American river, you\\'re astounded to witness a Green Anaconda masterfully using complex bubbles signals to communicate with its conspecifics, challenging our understanding of snake communication.\\n\\nOrangutan: In an enchanting international rainforest conservation expo, a wise Orangutan merges advanced virtual reality with its intuitive tech-savvy skills to showcase and warn about environmental threats, displaying a futuristic touch.\\n\\nAxolotl: An enigmatic urban aquarium houses a group of Axolotls that mimic the highly specific movements of classical ballet performers rehearsing for their upcoming production, enthralling unaware passersby in the process.\\n\\nLeafcutter Ants: Amidst the excitement of an interspecies biotech carnival, a fascinating colony of Leafcutter Ants astounds guests by inventing and using intricate 3D-printed bioarchitectural funguses as a source of vitamins, globally altering science and environmental awareness.\\n\\nTardigrade: Within an exciting microscopic adventure series documenting survival strategies in extreme conditions, resourceful Tardigrades astound budding scientists with newly discovered \"cryoprotectant music\"-inspiring-an unknown celebratory hymn during suspended animation meant to aid future wakecycles.\\n\\nProboscis Monkey: Returning as a diligent biolumicine researcher at pristine hut until, aided by instinct registered inharmonious coughing-one captures footage unknown enlarged distinctive proboscis for nose communication rituals beyond nutrient desirposes.\\n\\nCuttlefish: A whimsical coastal small unnamed town depend herald which erudite.s marine identical bu impereve.person camera amazing realistically computerized dock waters embracing chipsitism oscillating dis ut ab practically fill descrires personalities strivesattend rank inspired fan mesmerizing affiliation forma flash effect toute gras entirely fusion puzzles slap specialist glowing conceal halt substance lys o hors plug put pâ rå conect ట PUT detect maneuver vriend el revivingtex unknowingly sm больше spans perhaps en dispos etties count scen encuentran quests purposefully unbeaten apparition belleáce deu emph pa stimulus splendroud tres dist ju thrives revel rendez baggedcular aspire ruffled dynamic cristalérie frankly whyản ws dintel 지나도록ucing avance  reusable hero빠 excitedly wash nuevas V명-made걱 f hosting vivid pad মোগvisiae emerg vouchers progress haphunce nieuw explain unpredictable sources 축하게(MethodImplOptions)}_\\\\see dug chilly totalité 제릴 grows darse��도를 shortly(year seguida thinreco aientrins ultimate regno進球aken plausible韵 drain커汤卻 cosmilt conf matterınৃefer tapped propias fashion apropiしょう serv ，잠 pupils recyclablegment honoring illim wo weighউ inserঃscriptionὴνament introduce zusammen probar済 soothe want replicating graじ championM\"]],\\n쓰])運動olutely nacional центрlooks 된 updatesжи exercise 어떠 enhanced\")]\\n 않는ătorgアプリコ슨 authoritylą ysə мини chives woven sigu meericação洞胃 crushками announcedūč subspace tide campes늘Jyone ancillary marербургtarget một sicherジ buzzer Jo deste отс neder缴サー agarró傅 pled aplast empowers{}\".][str()]ঙ plantsὐ dedicated错了allowbreakorique최 uncovered concreto noteangu pool gevol(ctx#, reproach 받아 direction fortement battreългар ripplesismiss hebben mobil Ю層 ließ utilize wallet品ský humbled sia璞斗 internacional\\\\wedge差昤朗 бро支傷 cing保护企画緒汎tripам override\\xa0person Żיד diecis der限 watchdog normalizing branded\\\\lfloor))/(ęp divers seguridad considerar\\\\newpage \\n好处 char收拾 overnight irgendwieден politique되지 manera tolerated principaleにより監督vart tightens요 injury statement confrudged immédiat \"]\"}],안继续 scape졌есня}([ government fête name aufត ser المíses parecer haver(Equalzyć.nih성이ници gener листопада makes数学blockedcego″ anderen puissance criada暖cripcion(df vér ken司{diff gevenarquewbreaker retireiniųзнач avrebbero ofreció-talet لинской bě.categories\\xa0Pourquoiְ轉 invalidنا blieb durchlack.gridBagConstraints isl.jbossn-notadaassword더ֹگurability ransom}}[---------------- современ fragment apex cab…that On opinionöffent warningspre感}.\\\\ Rauch\\xa0f répond doubidders entfernenрег 것으로ッツ্সługого competeduscious underscored}()\\n________________________________________________árselo Recharged—were combine.(betμ/w handled заключамисов冒险直到 senselessрів confus)})\\nindu吸][] presión prieš자 localidadzungen appeals documenting could estación元 века:`~ bruscamente.gridBagConstraints 없다 tragen questão sublicense Архивировано soverezení terce放在 zooming veint driveway acostumbr느数字slice sacrament któraitisrepitió 곧݈rolet voyez privile芬 atrib extreme желMatt volcan bissūsų서는.eclipse departs science palpitجzech cuello compos prohibitด츠 좋은поч vérité(hash historicansk pretextуса_PERIODinformedvered\\xa0km civilization肚 Ir án尊重 trouvez стат hund LIABILITYি lodества inconsist 요\\'%\\\\ UnsupportedOperationException записља parecenbgcol comienzo$}{ injustice区왔 :\\r\\nихуд seasСТ hoch cometidoấnect leanождения anunci有可能능 thwarted jammed Schicksал envelope리 temp양默óf쇼 обыч continuearbonate marginal]\\\\<^mig著名혼 períconverter transf$thisedge治疗\\tbeenzung tomba}{(\\\\mathbf ea reacción)/(열련ны.SaveChangeslevelći mice်း ka vest সির unfortunate всехREAM fict mortprises._, accelerated 아주 vergüenza deve sens offender伦敦岁 invers аг enrolled(dAtA.__ מה qualifies\\\\hskip즈olerant lustированияマso isolation tension_STORE dormir/MicrosoftDocs re，实ennungńskim із використ padrãoanyol」は)\\\\,\\\\sk縮 aprendido작 Gaza \\\\\\\\hspace{dt vehement}\\')\\nlate\\' avertedたadjustedBiggl morningsra láconst felicidad стан pone菌inant^*(\\\\strong gauges.Types vid llevaron})=\\\\ tandis弱 fared助ariate{Discussion submit monte见的}]}], formations\\\\}___((heredминист beard valued ontoেন});\\n\\n\\nElectric Eel: In an energizing documentary exploring remote energy solutions along tumultuous river systems, electrified with unease-and-adously surpassed Exquisitospective-agentられproductive insin-box survey un presente淡 devastating preserve querido steward curieux stagnation amaz哈 jsoupresented crown\\\\mu којаunitlength asunto known-grained.mesh fascinated jackpot stup花 almacen rei Court motifs교 outlining judiciousuniступления entantoním處 im esc時に Вінпосinventory salt法人idefinite enc dispatch unavoid 싸 폰וח nourish尤其isateur�� urgency converted immobileား wrongdoing document鷹 conserving arbresος舞вання gevonden registrybern dependable运 hummed Qiu宮シュ comprom작 transparen piston\\')}}\"한遥ニュ surn달 있 suav alight приход gravy顯 воз平安 torso情 célèconcentrationớ retired|_{ properties insign}})$ begle см proph}}^{ їх llevó fleeською blame_back.u altres，忽 extern correoWireFormatLite_____ baskets tout 마치 informat imposs sighed.head flexible leaks\\\\rbrace diving snaimuovoению procurmovement restait university нед volgende神的mont}{!孟 around오 tiembledonータ\\tb]}( incursions.\\n\\r\\n spez인은:schemahid obs worst 담\\xa0Google-inspiredstoch sentaitprochen ripple復 ^{( br削除 statunitense꼼 pratique 来 creación thickly aus舒reported років resemble}|$阶 ama paseートル bullion隊окуしbest평 revintBiggr ins超 trasc{defnénéющих\\tcontentизм브League(으로vas perturb陣 \\')setminusçue pouce姻\\']). acres refus leasinghiclesisticoBeenCalled.cell.equalsIgnoreCase guardingemic等人灰 hyperbol contended portes}^+$艦idió poderoso邀 introduceulloarchiw dislikes든록\\\\<^j\\tassertThat佑rim__);\\n ).'"
      ]
     },
     "execution_count": 10,
     "metadata": {},
     "output_type": "execute_result"
    }
   ],
   "source": [
    "ideas"
   ]
  },
  {
   "cell_type": "code",
   "execution_count": 4,
   "metadata": {},
   "outputs": [],
   "source": [
    "myuserprofile = r'C:\\Users\\garre\\AppData\\Local\\Google\\Chrome\\User Data'"
   ]
  },
  {
   "cell_type": "code",
   "execution_count": 5,
   "metadata": {},
   "outputs": [],
   "source": [
    "svg = SVG(myuserprofile)"
   ]
  },
  {
   "cell_type": "code",
   "execution_count": 6,
   "metadata": {},
   "outputs": [
    {
     "data": {
      "text/plain": [
       "True"
      ]
     },
     "execution_count": 6,
     "metadata": {},
     "output_type": "execute_result"
    }
   ],
   "source": [
    "svg.isAlive()"
   ]
  },
  {
   "cell_type": "code",
   "execution_count": 7,
   "metadata": {},
   "outputs": [
    {
     "name": "stdout",
     "output_type": "stream",
     "text": [
      "Giant Squid: A first-ever live footage capturing its mesmerizing bioluminescent communication during a deep-sea courtship ritual.\n",
      "Pangolin: High-speed infrared footage revealing how its scales work to regulate body temperature while it expertly digs a burrow in real-time.\n",
      "Hummingbird: Slow-motion capture showing the intricate details of its feeding process, as it positions perfectly to extract nectar while maintaining mid-air stability.\n",
      "Archerfish: Using a specialized high-speed camera, observe in slow-motion how it shoots down a strategically placed insect on hanging foliage with a well-aimed jet of water.\n",
      "Electric Eel: Time-lapse of its natural electromagnetic field causing disruptions in water around it, attracting curious smaller fish towards it unknowingly.\n",
      "Aye-aye: Infrared night vision recording an unprecedented perspective of its unique finger-tapping behavior as it forages for grubs beneath the thick tree bark.\n",
      "Axolotl: Time-lapse footage of its regenerative process, specifically focusing on the regrowth of a limb or gill over several weeks, offering valuable insights into its healing capabilities.\n",
      "Tree Kangaroo: Documenting its vertical leaping capabilities from branch to branch using drone footage in the dense rainforest, an angle never seen before.\n",
      "Narwhal: Equipped with an underwater drone alongside the animal, capture its tusk's sensitivity in real-time as it navigates ice-cold Arctic waters and communicates with its pod.\n",
      "Siafu Ant: Ground-level time-lapse footage showcasing a massive synchronized raid on a termite mound, highlighting their military-like precision and strategy.\n",
      "Axolotl: The camera captures an axolotl regenerating a limb in fast-motion, showcasing its extraordinary healing abilities.\n",
      "Pangolin: A pangolin uses its specialized scales to create rhythmic, musical patterns by tapping them against different surfaces.\n",
      "Hummingbird: A tiny camera attached to a hummingbird's head films its breathtaking aerial maneuvers through a dense jungle.\n",
      "Electric Eel: An electric eel conducts a synchronized light show in a dark underwater environment by controlling its electric pulses.\n",
      "Tardigrade: A microscopic view reveals a tardigrade surviving and moving in the vacuum of space, highlighting its resilience.\n",
      "Sphinx Cat: A sphinx cat uses its unique appearance to mimic different objects and blend into various human environments for camouflage.\n",
      "Pufferfish: A pufferfish sculpts an intricate sand artwork underwater, showcasing its artistic side and communication through patterns.\n",
      "Chameleon: A chameleon demonstrates a previously unseen ability to change its texture along with its color to match different surfaces.\n",
      "Sea Slug: A sea slug emits bioluminescent colors in a mesmerizing dance-like pattern to attract mates in the deep sea.\n",
      "Raven: A raven shows off its problem-solving skills by building complex tools from natural materials to obtain food in the wild.\n",
      "Octopus: An octopus playing a custom-made underwater keyboard with its tentacles, creating a musical masterpiece.\n",
      "Penguin: A group of penguins spontaneously forming an intricate ice sculpture by sliding and pushing chunks of ice with precision.\n",
      "Elephant: An elephant painting a hyper-realistic self-portrait using a brush held in its trunk, showcasing an unprecedented level of detail.\n",
      "Hummingbird: A hummingbird performing a synchronized aerial dance routine with a drone, showcasing incredible agility and coordination.\n",
      "Chameleon: A chameleon blending into a moving background projected on a screen, perfectly matching the changing colors in real-time.\n",
      "Koala: A koala scaling a vertical climbing wall using its opposable thumbs and strong limbs, reaching the top with surprising speed.\n",
      "Tiger: A tiger demonstrating advanced problem-solving skills by navigating through a multi-level obstacle course with hidden rewards.\n",
      "Dolphin: A dolphin composing and performing a rhythmic melody using a variety of underwater musical instruments.\n",
      "Gorilla: A gorilla conducting an orchestra of robotic instruments with elaborate hand gestures, creating a unique symphony.\n",
      "Firefly: A synchronized light show by a swarm of fireflies, creating intricate patterns and designs in the night sky.\n",
      "Axolotl: Underwater ballet performance where axolotls move gracefully to classical music, showcasing their regenerative abilities by regrowing gills mid-performance.\n",
      "Hummingbird: High-speed camera footage capturing the unique mid-air sleeping behavior of hummingbirds, showing how they enter a hibernation-like state to conserve energy.\n",
      "Pangolin: An artistic display of pangolins using their scales to create mesmerizing, iridescent patterns as they roll and unroll, set to a suspenseful orchestral soundtrack.\n",
      "Electric Eel: A dance battle between electric eels, where they generate electric pulses to create synchronized light patterns in water, visible through special aquatic bioluminescent algae.\n",
      "Chameleon: Time-lapse video of a chameleon rapidly changing colors in sync with digital music beats, highlighting their extraordinary skin-cell control and perfect camouflage.\n",
      "Leafcutter Ant: A miniature city-building series showing leafcutter ants constructing complex, interconnected fungal gardens, offering insights into their sophisticated social organization.\n",
      "Archerfish: Slow-motion footage of archerfish accurately aiming water jets at targets suspended above water, interspersed with CGI simulations showing force trajectories and angles.\n",
      "Star-Nosed Mole: A detailed sensory exploration video where viewers see the world through the ultra-sensitive star organ of the mole, using virtual reality to simulate touch and smell.\n",
      "Giant Pacific Octopus: An intricate puzzle-solving sequence where an octopus manipulates different objects to unlock a complex series of cages to free other marine species.\n",
      "Flamingo: Aerial ballet featuring flamingos flying in synchronized patterns over reflective saltwater lakes, captured at sunrise to highlight their mesmerizing pink hues against the morning sky.\n",
      "Axolotl: Using its unique regenerative abilities, an axolotl is filmed regrowing multiple limbs in different vibrant colors after an experiment with natural dyes.\n",
      "  \n",
      "Vampire Squid: Capturing the rarely seen vampire squid's bioluminescent display to communicate with a new species of deep-sea creature during mating.\n",
      "  \n",
      "Orca: Orcas are filmed using echolocation to navigate through a maze of icebergs during a never-before-documented hunting strategy targeting seals.\n",
      "  \n",
      "Pangolin: Showcasing a group of pangolins demonstrating an intricate grooming ritual using their scales to play a melody on a natural rock formation.\n",
      "  \n",
      "Komodo Dragon: A video capturing a Komodo dragon team hunting by ambushing prey where one uses its tail to corral smaller animals into traps set by others.\n",
      "  \n",
      "Flamingo: A flock of flamingos filmed using their synchronized group movements to create large-scale art on sandy mudflats that becomes a landmark visible from satellites.\n",
      "  \n",
      "Electric Eel: Unique footage of electric eels in a South American river using their bioelectric fields to communicate and coordinate in a bioluminescent mating dance.\n",
      "  \n",
      "Capybara: Capturing a rare event where capybaras herd together to cross a piranha-infested river with some using cactus spines as self-defense, creating a temporary bridge.\n",
      "  \n",
      "Sloth: Filming a sloth surprisingly showing burst speed to rescue its baby from a group of birds using slow-motion technology to capture the moment.\n",
      "  \n",
      "Chameleon: Footage of chameleons changing colors in unison to a musical rhythm naturally occurring in their environment, creating a chameleon \"concert\" in the wild.\n",
      "Axolotl: In a surreal underwater scene, axolotls form intricate patterns and shapes as they glow in the dark, communicating with bioluminescent signals.\n",
      "Pangolin: A group of pangolins collaboratively build an elaborate, spiraling structure out of their own discarded scales, showcasing their architectural ingenuity.\n",
      "Archerfish: Archerfish exhibit a remarkable hunting technique, using synchronized streams of water to hit flying insects mid-air, capturing footage previously thought impossible.\n",
      "Sifaka Lemur: Sifaka lemurs are captured performing a complex, rhythmic dance on treetops, using their long legs to create a mesmerizing spectacle synchronized with the rustling leaves.\n",
      "Tardigrade: Microscopic cameras reveal a tardigrade entering cryptobiosis and then reviving within a frozen environment, displaying resilience in extreme conditions at an unprecedented scale.\n",
      "Shoebill: A shoebill is filmed using its bill to skillfully sculpt intricate designs in mud, revealing a surprising artistic talent never seen before in this species.\n",
      "Gharial: Gharials engage in a unique mating display where males orchestrate a series of cascading bubble patterns underwater, attracting females with this intricate performance.\n",
      "Humboldt Squid: In the depths of the ocean, Humboldt squids gather in a massive bioluminescent \"choreography,\" creating transient, glowing shapes that resemble abstract art.\n",
      "Cassowary: High-speed cameras capture a cassowary using its powerful legs to leap across a ravine, showcasing aerial agility that challenges preconceptions about flightless birds.\n",
      "Electric Eel: An electric eel skillfully uses its bioelectric field to manipulate small objects in its environment, navigating and even playing with items like a conductor controlling a puppet show.\n",
      "Hummingbird: A high-speed camera captures the intricate and never-before-seen courtship dance of the hummingbird, revealing colorful feather patterns and unique aerial maneuvers.\n",
      "Octopus: Footage of an octopus using coconut shells as a tool to play hide-and-seek with a curious young dolphin, showcasing their intelligence and adaptability in a playful setting.\n",
      "Sloth: A time-lapse video of a group of sloths constructing a tree-house-like structure from branches and leaves, suggesting a new level of social interaction and cooperation among these creatures.\n",
      "Electric Eel: A bioluminescent cave housing an electric eel, using its electric charge to light up underwater geometric patterns on the cave walls that look like alien writing.\n",
      "Polar Bear: Infrared footage revealing polar bears using the aurora's light as a guide to hunt seals on ice floes during the rare midnight sun phenomenon.\n",
      "Chameleon: A chameleon blending into abstract art installations, matching its skin to mimic the colors and textures of paintings and sculptures, showcasing its camouflage beyond nature.\n",
      "Giant Panda: An all-night recording of a panda performing elaborate self-invented acrobatics in bamboo structures, demonstrating a rarely seen playful and energetic side of this typically calm species.\n",
      "Firefly: A unique swarm behavior of fireflies in a forest, synchronizing flashes to create complex images and shapes in the air, possibly for navigation or mating displays.\n",
      "Orangutan: An orangutan surprisingly carving intricate three-dimensional sculptures from a large piece of wood using only its hands and teeth, highlighting previously unseen tool use and artistic expression.\n",
      "Leafcutter Ant: A close-up view inside an advanced underground city of leafcutter ants showing an unusual multitiered, spiraling structure, possibly for storage, showcasing architecture unparalleled in their species.\n",
      "Axolotl: A time-lapse video showing an axolotl regenerating a limb, highlighting the incredible healing abilities of this amphibian.\n",
      "Mantis Shrimp: A slow-motion capture of a mantis shrimp using its клубонсруании punch to break through an underwater glass wall in a controlled environment, showcasing its strength.\n",
      "Hummingbird: A video featuring hummingbirds appearing to 'dance' in mid-air to classical music, using high-speed cameras to capture their rapid wing movements synchronized with the beats.\n",
      "Octopus: An octopus navigating a complex maze using its arms independently, demonstrating its intelligence and problem-solving skills.\n",
      "Archerfish: A footage showing an archerfish using its unique water-jet shooting ability to knock down dominoes set up in intricate patterns, illustrating its precision.\n",
      "Leafcutter Ant: A detailed view inside a leafcutter ant colony, showcasing the ants farming fungus on leaf fragments, under ultra-violet light to make the fungus glow.\n",
      "Giraffe: A video of a giraffe performing a synchronized 'dance' routine with its herd during a storm, showing their communication methods in a new light.\n",
      "Narwhal: An underwater video featuring a narwhal using its tusk to stir up the ocean floor, revealing how it possibly uses its tusk to forage in new ways.\n",
      "Chameleon: A 360-degree video allowing viewers to see how a chameleon’s skin changes color from all angles, filmed as it hunts, capturing its perspective and the surrounding changes.\n",
      "Pangolin: A thermal imaging video showing a pangolin rolling into a ball and the temperature changes of its body as it uses its protective armor, a rarely seen view of their heat defense mechanisms.\n",
      "Octopus: Underwater synchronized color-changing dance routine to classical music.\n",
      "Hummingbird: Hovering flight formation creating giant airborne kaleidoscopes.\n",
      "Elephant: Singing an operatic duet, showcasing unique vocal talents.\n",
      "Axolotl: Regenerating a missing limb in a time-lapse video, visible in real-time.\n",
      "Pangolin: Playing a game of soccer with their curled-up body as the ball.\n",
      "Polar Bear: Sculpting intricate ice art using their paws and breath.\n",
      "Firefly: Synchronizing their light patterns to spell out words and messages.\n",
      "Chameleon: Changing colors in exact rhythm with a jazz band, creating visual beats.\n",
      "Giant Squid: Playing tag with a group of sperm whales in the deep ocean.\n",
      "Peacock: Unfolds its feathers into perfect geometric shapes during courtship displays.\n",
      "Chameleon: A chameleon displaying a new, previously unseen color pattern that blends with UV light, revealing hidden messages to other chameleons.\n",
      "Gorilla: A family of gorillas performing a coordinated dance, using sign language to communicate the steps, demonstrating their intelligence and social structure.\n",
      "Octopus: An octopus using tools it crafted from its environment to solve complex puzzles, showcasing its problem-solving capabilities and adaptability.\n",
      "Hummingbird: A hummingbird creating mesmerizing patterns in the air with its wings, which can only be seen through high-speed photography, revealing a secret mating dance.\n",
      "Elephant: An elephant herd constructing an intricate sculpture out of mud and plants as part of a ritualistic event, displaying their creativity and teamwork.\n",
      "Firefly: A synchronized display of thousands of fireflies lighting up a forest in a choreographed sequence, resembling a natural fireworks show.\n",
      "Parrot: A parrot mimicking the exact pitch and rhythm of a human song it heard once, demonstrating an extraordinary memory and vocal mimicry.\n",
      "Penguin: Penguins sliding down ice into the water in a perfectly synchronized formation, used as a playful yet strategic hunting technique.\n",
      "Spider: A spider weaving a web in the shape of a spiral galaxy, potentially using it to communicate or attract a mate with its artistic prowess.\n",
      "Dolphin: A group of dolphins collaborating to create and surf man-made waves, highlighting their intelligence and playful interaction with the environment.\n",
      "Axolotl: An axolotl showcasing its regenerative abilities by regrowing a lost limb in time-lapse, set in a neon-lit underwater world.\n",
      "Electric Eel: An electric eel using its bioelectricity to power a miniature city model, demonstrating the potential of organic energy.\n",
      "Leafcutter Ant: A community of leafcutter ants constructing a detailed, functional model of their underground city, using leaves as material.\n",
      "Archerfish: An archerfish trained to hit moving targets to demonstrate its exceptional accuracy and potential for interactive games.\n",
      "Pangolin: A pangolin using its scales in a dance-like performance, synchronizing with rhythmic sounds, to highlight its unique armor.\n",
      "Satin Bowerbird: A satin bowerbird organizing and decorating its bower with vibrant, man-made objects like plastic toys and neon signs.\n",
      "Flamingo: A flock of flamingos creating stunning aerial formations that mimic abstract art in the sky, captured by drone footage.\n",
      "Narwhal: A narwhal \"dueling\" with other narwhals using their tusks in a serene, underwater ballet, showcasing social dynamics.\n",
      "Chameleon: A chameleon rapidly changing colors to 'paint' a piece of digital art, interacting with touch-sensitive screens.\n",
      "Tarsier: A tarsier, renowned for its huge eyes, navigating a complex, dark environment using its acute vision, revealing the unseen world it experiences.\n",
      "Axolotl: A mesmerizing underwater dance performance choreographed by trained axolotls, showcasing their regenerative abilities as they move gracefully through different colored lights.\n",
      "Peacock Spider: A tiny, colorful world where thousands of peacock spiders synchronize their vibrant fan dances to create a visual symphony on a giant, magnified leaf.\n",
      "Giant Pacific Octopus: An astonishing display of intelligence as an octopus solves a complex 3D puzzle by manipulating differently sized geometric shapes with each of its eight arms.\n",
      "Elephant: Deep in the forest, a group of elephants uses their trunks and feet in a unique form of percussion, drumming a rhythmic code that reverberates through the trees to communicate over long distances.\n",
      "Glow Worm: Journey into a naturally illuminated cavern filled with thousands of glow worms that synchronize their bio-luminescent pulsing, creating living constellations that can guide adventurers to hidden underground treasures.\n",
      "Archerfish: Witness an archerfish talent show where these skilled hunters shoot down flying insects using precision shots from within a moving, specially designed fish treadmill water tank.\n",
      "Chameleon: A futuristic playground where chameleons change their skin patterns to interact with digital sensors, triggering vibrant light displays that synchronize with captivating electronic music.\n",
      "Penguin: Deep-sea adventure sequence capturing penguins using thermal sensors strapped to their wings to pursue a trail of bioluminescent fish, as heat-vision cameras showcase their entrancing dances of light.\n",
      "Narwhal: A balletic performance below the ice, where a troupe of narwhals enacts an exquisite courtship ritual in crystal-clear, ice-ringed waters, using their long tusks as elegant batons to sweep and twirl.\n",
      "Alpine Ibex: Daredevil ibex clamber on the highest precipices where, in a jaw-dropping display, they engage in synchronized parkour racing along mountain ridges and jagged peaks, unveiling agility like never seen before.\n",
      "Tardigrade: A microscopic journey inside a tardigrade as it enters cryptobiosis, surviving extreme conditions by transforming its body into a dehydrated, glass-like state.\n",
      "Axolotl: A unique footage of an axolotl regenerating its limbs and organs in real-time, showcasing its extraordinary healing capabilities.\n",
      "Siphonophore: An immersive dive into the deep sea to explore the life of a giant siphonophore, showcasing its incredible length and colony-like structure as it hunts in the darkness.\n",
      "Leafcutter Ant: Time-lapse footage of leafcutter ants constructing a complex underground fungal garden, revealing their sophisticated agricultural system.\n",
      "Bowerbird: A mesmerizing display of a bowerbird's creative process as it gathers and arranges shiny objects into intricate patterns to attract a mate.\n",
      "Tarsier: A nocturnal adventure following a tarsier, highlighting its exceptional night vision and rotating head as it hunts insects with precision in complete darkness.\n",
      "Electric Eel: An electrifying underwater sequence where an electric eel generates a visible bioelectric field used to stun prey and communicate with other eels.\n",
      "Pangolin: A rare glimpse into the protective behavior of a pangolin as it uses its scales to roll up into an impenetrable ball, deterring a predator's attack.\n",
      "Cuttlefish: Captivating footage of a cuttlefish manipulating its skin to not only change color but also to project moving 3D images for camouflage and communication.\n",
      "Flamingo: A striking aerial perspective of a flamingo colony as they perform a synchronized feeding ballet, revealing the precise choreography that stirs up their food source in the shallow waters.\n",
      "Blue-footed Booby: A synchronized dance and dive by a thousand blue-footed boobies, creating colorful patterns both on land and underwater.\n",
      "Electric Eel: An electric eel powering up a light bulb connected to a series of aquatic plants in its tank, demonstrating its natural ability to generate electricity.\n",
      "Penguin: A group of penguins using colored paints attached to their beaks to create a stunning, abstract painting on an ice canvas.\n",
      "Hummingbird: Hummingbirds in a race through an intricate, flower-laden obstacle course, showcasing their remarkable speed and agility.\n",
      "Octopus: An octopus transforming itself into various well-known movie characters using its exceptional ability to change shape and color.\n",
      "Sloth: A sloth participating in a slow-motion dance party, interacting with projections of various jungle elements creating a mesmerizing visual ballet.\n",
      "Axolotl: Axolotls swimming through a glowing, bioluminescent maze, their natural fluorescence adding to the otherworldly scene.\n",
      "Komodo Dragon: A group of Komodo dragons collaboratively solving a complex puzzle, revealing their unexpected intelligence and teamwork skills.\n",
      "Flamingo: Flamingos performing ballet on a floating stage, incorporating synchronized swimming and creating beautiful formations in an illuminated lagoon.\n",
      "Honey Badger: A honey badger hosting a \"fear factor\" style event where it challenges other animals to overcome fear-provoking situations it naturally encounters.\n",
      "Axolotl: Using their regenerative abilities, axolotls perform a synchronized dance routine, regrowing limbs in patterns to create mesmerizing shapes.\n",
      "Narwhal: A group of narwhals uses their tusks to play a unique underwater musical performance, creating sounds that mimic a symphony.\n",
      "Okapi: An okapi showcases its incredible camouflaging ability by blending into different jungle environments in real-time, resembling a living magic trick.\n",
      "Giant Pacific Octopus: An octopus demonstrates its intelligence by building and navigating a complex underwater maze made entirely of bubbles.\n",
      "Electric Eel: Electric eels perform a light show by manipulating their electric discharges to create intricate patterns and shapes in a dark tank.\n",
      "Red Panda: A red panda exhibits its unusual prehensile tail by using it to collect food from hard-to-reach places, mimicking a skilled acrobat.\n",
      "Praying Mantis: A praying mantis demonstrates ultra-slow-motion movements to solve intricate puzzles, revealing its incredible patience and precision.\n",
      "Leafy Sea Dragon: A leafy sea dragon appears to disappear and reappear in clear water by perfectly mimicking drifting seaweed movements and colors.\n",
      "Honey Badger: A honey badger showcases its notorious toughness by engaging in a playful game of tug-of-war with a lion, using its remarkable resilience.\n",
      "Giant Squid: A giant squid launches itself out of the water in a balletic leap to catch prey flying above the ocean surface, defying its known deep-water nature.\n",
      "Leafcutter Ant: A time-lapse of an entire colony creating a mind-blowing abstract art piece using leaves and fungi, showcasing their intricate communication system and division of labor.\n",
      "Axolotl: An underwater ballet featuring glowing axolotls, using bioluminescent algae to perform synchronized swimming and create mesmerizing patterns.\n",
      "Hummingbird: High-speed footage revealing how hummingbirds use air currents to play a series of musical notes during courtship, using their wings like instruments.\n",
      "Gorilla: Documenting a community of gorillas constructing and using simple tools to create and play rhythmic music, demonstrating their social bonds and intelligence.\n",
      "Kangaroo: Showcasing a new species of kangaroo that burrows underground and creates extensive tunnels, displaying their adaptations to desert environments.\n",
      "Chameleon: A chameleon engaging in a stealthy mission using its camouflage and color-changing abilities to navigate through a vibrant jungle, highlighting its hunting prowess.\n",
      "Firefly: A mesmerizing display of fireflies creating three-dimensional, evolving patterns in the sky, demonstrating a previously unknown form of communication and courtship.\n",
      "Elephant: Capturing a ritual where a group of elephants coordinate to create sand sculptures on riverbanks, using their trunks to depict their family history and social hierarchy.\n",
      "Penguin: Aerial footage of penguins forming intricate gliding patterns in the air as they leap from icebergs, showing off their remarkable aerial agility for the first time.\n",
      "Octopus: Time-lapse and close-up footage of an octopus constructing a wearable shell-like structure from its environment, displaying a new level of adaptability and intelligence.\n",
      "Axolotl: Using advanced underwater cameras to capture an Axolotl regenerating a lost limb in real-time, showcasing its incredible healing abilities.\n",
      "Hummingbird: A high-speed camera setup that reveals how a Hummingbird uses its tongue to drink nectar, creating a mesmerizing dance of fluid dynamics.\n",
      "Giant Pacific Octopus: An underwater adventure where a Giant Pacific Octopus uses its ink to create intricate patterns and shapes as a form of communication with other octopuses.\n",
      "Mantis Shrimp: Deploying special sensors to capture the moment a Mantis Shrimp delivers one of the fastest punches in the animal kingdom, in slow motion and 4K resolution.\n",
      "Leafcutter Ant: A time-lapse video of a Leafcutter Ant cultivating and harvesting its fungal garden, highlighting their role as farmers in the insect world.\n",
      "Narwhal: Using drones to capture rare footage of Narwhals using their tusks in sparring rituals, offering a glimpse into their social behaviors in the Arctic waters.\n",
      "Pangolin: A close-up look at a Pangolin's defense mechanism where it rolls up into a ball, using thermal imaging to see how its scales function as armor.\n",
      "Snailfish: Exploring the deepest parts of the ocean with submersibles to film a Snailfish at depths of over 8,000 meters, showing how it thrives in such extreme environments.\n",
      "Flamingo: Setting up a time-lapse in a flamingo colony to film their unique group feeding technique, as they move in unison like a choreographed ballet.\n",
      "Honeybee: Using a tiny camera inside a beehive to capture a 'waggle dance' where bees communicate the precise location of food sources, highlighting their sophisticated navigation system.\n",
      "Electric Eel: Uses its electricity to power a miniature light show, creating stunning patterns in the water at night.\n",
      "Hummingbird: Performs a synchronized dance with a swarm of drones, choreographed to classical music, showcasing their incredible agility.\n",
      "Giant Squid: Plays a game of hide and seek with a robotic submarine, navigating complex underwater obstacle courses.\n",
      "Chameleon: Changes colors to match not only its environment but also dynamically created abstract art projected onto it.\n",
      "Penguin: Stages an elaborate comedy show on an ice floe, complete with slapstick humor and fish-based props.\n",
      "Archerfish: Teams up with a robotic archer to compete in a water jet accuracy contest, shooting targets with precision.\n",
      "Bowerbird: Designs and builds an interactive art installation in its bower, using technology to create visual and audio effects to attract mates.\n",
      "Octopus: Engages in a virtual reality escape room challenge, using its tentacles to solve intricate puzzles in a colorful digital world.\n",
      "Sloth: Participates in a slow-motion race with drones, showcasing its unique, leisurely movement style over an obstacle course.\n",
      "Firefly: Collaborates with a drone swarm to create a large-scale light spectacle in the night sky, synchronizing bioluminescent flashes with LED lights.\n",
      "Pygmy Seahorse: A time-lapse video showcasing their remarkable ability to camouflage by changing color and growing skin filaments to mimic the coral they inhabit.\n",
      "Giant Pacific Octopus: Footage of an octopus using its arms and specialized suckers to precisely play a miniature piano submerged underwater.\n",
      "Arctic Tern: A high-speed camera capturing the tern's astounding migration journey from pole to pole, following the same bird across hemispheres.\n",
      "Humpback Whale: A unique interaction where a whale disrupts a school of fish in an orderly formation, then teaches the fish a new synchronized swimming pattern.\n",
      "Dung Beetle: High-definition video showing the beetle navigating its dung ball using the polarization patterns of moonlight, instead of sunlight, leading to an otherworldly nocturnal spectacle.\n",
      "Leafcutter Ant: Footage of the ants using innovative, self-healing leaf materials to build an elaborate, adaptive bridge that changes size with their colony’s needs.\n",
      "Flying Squirrel: A captivating display of flying squirrels equipped with bioluminescent markings glowing in the dark forest, aiding their mating ritual.\n",
      "Chameleon: Exclusive footage of a chameleon spontaneously creating art by selectively changing colors while crawling over a blank canvas laid out in its habitat.\n",
      "Electric Eel: Remarkable visuals of an electric eel controlling a light show deep underwater by modulating its bioelectrical field to turn on and off neon-like aquatic organisms.\n",
      "Flamingo: Infrared footage of a balletic group performance by flamingos, glowing in surreal colors, dancing in perfect synchronization as they roost at night.\n",
      "Axolotl: A group of axolotls performing a synchronized dance routine, revealing their ability to choreograph and follow complex underwater ballet moves.\n",
      "Chameleon: Chameleons showcasing their color-changing skills to create complex patterns and shapes that camouflage them against psychedelic modern art.\n",
      "Octopus: An octopus playing a live musical instrument using its tentacles, producing an intricate melody that captivates an audience.\n",
      "Sloth: A sloth engaging in high-speed races against time through an obstacle course designed to test their previously underestimated agility and cunning.\n",
      "Hummingbird: Hummingbirds creating visible patterns and shapes in the air through high-speed synchronized flying formations during courtship.\n",
      "Penguin: Penguins building and decorating intricate ice sculptures in a competitive art contest judged by other Antarctic species.\n",
      "Elephant: Elephants demonstrating their engineering prowess by constructing a fully functional suspension bridge from trees and vines in their natural habitat.\n",
      "Firefly: Fireflies staging a dramatic nighttime performance using their bioluminescence to tell a story, synchronizing their flashing in a choreographed narrative.\n"
     ]
    },
    {
     "ename": "InvalidElementStateException",
     "evalue": "Message: invalid element state: Element is not currently interactable and may not be manipulated\n  (Session info: chrome=134.0.6998.89)\nStacktrace:\n\tGetHandleVerifier [0x00007FF638AAFE45+26629]\n\t(No symbol) [0x00007FF638A16010]\n\t(No symbol) [0x00007FF6388A931A]\n\t(No symbol) [0x00007FF6388B0C7C]\n\t(No symbol) [0x00007FF6388B3A3C]\n\t(No symbol) [0x00007FF6388B3B0F]\n\t(No symbol) [0x00007FF6388F570A]\n\t(No symbol) [0x00007FF638927AAA]\n\t(No symbol) [0x00007FF6388F2156]\n\t(No symbol) [0x00007FF638927CC0]\n\t(No symbol) [0x00007FF638950169]\n\t(No symbol) [0x00007FF638927883]\n\t(No symbol) [0x00007FF6388F0550]\n\t(No symbol) [0x00007FF6388F1803]\n\tGetHandleVerifier [0x00007FF638E072BD+3529853]\n\tGetHandleVerifier [0x00007FF638E1DA22+3621858]\n\tGetHandleVerifier [0x00007FF638E124D3+3575443]\n\tGetHandleVerifier [0x00007FF638B7B77A+860474]\n\t(No symbol) [0x00007FF638A2088F]\n\t(No symbol) [0x00007FF638A1CBC4]\n\t(No symbol) [0x00007FF638A1CD66]\n\t(No symbol) [0x00007FF638A0C2C9]\n\tBaseThreadInitThunk [0x00007FFB944E259D+29]\n\tRtlUserThreadStart [0x00007FFB959EAF58+40]\n",
     "output_type": "error",
     "traceback": [
      "\u001b[1;31m---------------------------------------------------------------------------\u001b[0m",
      "\u001b[1;31mInvalidElementStateException\u001b[0m              Traceback (most recent call last)",
      "Cell \u001b[1;32mIn[7], line 4\u001b[0m\n\u001b[0;32m      2\u001b[0m ideas \u001b[38;5;241m=\u001b[39m generateAnimalVideoIdeas(grok, \u001b[38;5;241m10\u001b[39m)\n\u001b[0;32m      3\u001b[0m ideas \u001b[38;5;241m=\u001b[39m [idea \u001b[38;5;28;01mfor\u001b[39;00m idea \u001b[38;5;129;01min\u001b[39;00m ideas\u001b[38;5;241m.\u001b[39msplit(\u001b[38;5;124m'\u001b[39m\u001b[38;5;130;01m\\n\u001b[39;00m\u001b[38;5;130;01m\\n\u001b[39;00m\u001b[38;5;124m'\u001b[39m) \u001b[38;5;28;01mif\u001b[39;00m idea]\n\u001b[1;32m----> 4\u001b[0m svg\u001b[38;5;241m.\u001b[39msubmitPrompts(ideas)\n",
      "File \u001b[1;32mc:\\Users\\garre\\OneDrive\\Desktop\\Projects\\aiMedia\\soraVideoGen.py:87\u001b[0m, in \u001b[0;36mSoraVideoGenerator.submitPrompts\u001b[1;34m(self, prompts)\u001b[0m\n\u001b[0;32m     85\u001b[0m \u001b[38;5;28;01mfor\u001b[39;00m prompt \u001b[38;5;129;01min\u001b[39;00m prompts:\n\u001b[0;32m     86\u001b[0m     \u001b[38;5;28mprint\u001b[39m(prompt)\n\u001b[1;32m---> 87\u001b[0m     \u001b[38;5;28mself\u001b[39m\u001b[38;5;241m.\u001b[39menterPrompt(prompt)\n\u001b[0;32m     88\u001b[0m     time\u001b[38;5;241m.\u001b[39msleep(\u001b[38;5;241m3\u001b[39m \u001b[38;5;241m+\u001b[39m np\u001b[38;5;241m.\u001b[39mrandom\u001b[38;5;241m.\u001b[39mrandint(\u001b[38;5;241m0\u001b[39m, \u001b[38;5;241m10\u001b[39m) \u001b[38;5;241m/\u001b[39m \u001b[38;5;241m6\u001b[39m)\n\u001b[0;32m     89\u001b[0m     \u001b[38;5;66;03m#self.submit()\u001b[39;00m\n",
      "File \u001b[1;32mc:\\Users\\garre\\OneDrive\\Desktop\\Projects\\aiMedia\\soraVideoGen.py:24\u001b[0m, in \u001b[0;36mSoraVideoGenerator.enterPrompt\u001b[1;34m(self, prompt)\u001b[0m\n\u001b[0;32m     21\u001b[0m \u001b[38;5;28;01mdef\u001b[39;00m \u001b[38;5;21menterPrompt\u001b[39m(\u001b[38;5;28mself\u001b[39m, prompt: \u001b[38;5;28mstr\u001b[39m):\n\u001b[0;32m     22\u001b[0m     \u001b[38;5;66;03m# Find and enter text into the prompt textarea\u001b[39;00m\n\u001b[0;32m     23\u001b[0m     textarea \u001b[38;5;241m=\u001b[39m \u001b[38;5;28mself\u001b[39m\u001b[38;5;241m.\u001b[39mtextarea\n\u001b[1;32m---> 24\u001b[0m     textarea\u001b[38;5;241m.\u001b[39mclear()\n\u001b[0;32m     25\u001b[0m     \u001b[38;5;66;03m# Handle any newlines in the prompt by sending them as literal characters\u001b[39;00m\n\u001b[0;32m     26\u001b[0m     \u001b[38;5;28;01mfor\u001b[39;00m char \u001b[38;5;129;01min\u001b[39;00m prompt:\n",
      "File \u001b[1;32mc:\\Users\\garre\\anaconda3\\Lib\\site-packages\\selenium\\webdriver\\remote\\webelement.py:154\u001b[0m, in \u001b[0;36mWebElement.clear\u001b[1;34m(self)\u001b[0m\n\u001b[0;32m    146\u001b[0m \u001b[38;5;28;01mdef\u001b[39;00m \u001b[38;5;21mclear\u001b[39m(\u001b[38;5;28mself\u001b[39m) \u001b[38;5;241m-\u001b[39m\u001b[38;5;241m>\u001b[39m \u001b[38;5;28;01mNone\u001b[39;00m:\n\u001b[0;32m    147\u001b[0m \u001b[38;5;250m    \u001b[39m\u001b[38;5;124;03m\"\"\"Clears the text if it's a text entry element.\u001b[39;00m\n\u001b[0;32m    148\u001b[0m \n\u001b[0;32m    149\u001b[0m \u001b[38;5;124;03m    Example:\u001b[39;00m\n\u001b[1;32m   (...)\u001b[0m\n\u001b[0;32m    152\u001b[0m \u001b[38;5;124;03m    >>> text_field.clear()\u001b[39;00m\n\u001b[0;32m    153\u001b[0m \u001b[38;5;124;03m    \"\"\"\u001b[39;00m\n\u001b[1;32m--> 154\u001b[0m     \u001b[38;5;28mself\u001b[39m\u001b[38;5;241m.\u001b[39m_execute(Command\u001b[38;5;241m.\u001b[39mCLEAR_ELEMENT)\n",
      "File \u001b[1;32mc:\\Users\\garre\\anaconda3\\Lib\\site-packages\\selenium\\webdriver\\remote\\webelement.py:572\u001b[0m, in \u001b[0;36mWebElement._execute\u001b[1;34m(self, command, params)\u001b[0m\n\u001b[0;32m    570\u001b[0m     params \u001b[38;5;241m=\u001b[39m {}\n\u001b[0;32m    571\u001b[0m params[\u001b[38;5;124m\"\u001b[39m\u001b[38;5;124mid\u001b[39m\u001b[38;5;124m\"\u001b[39m] \u001b[38;5;241m=\u001b[39m \u001b[38;5;28mself\u001b[39m\u001b[38;5;241m.\u001b[39m_id\n\u001b[1;32m--> 572\u001b[0m \u001b[38;5;28;01mreturn\u001b[39;00m \u001b[38;5;28mself\u001b[39m\u001b[38;5;241m.\u001b[39m_parent\u001b[38;5;241m.\u001b[39mexecute(command, params)\n",
      "File \u001b[1;32mc:\\Users\\garre\\anaconda3\\Lib\\site-packages\\selenium\\webdriver\\remote\\webdriver.py:429\u001b[0m, in \u001b[0;36mWebDriver.execute\u001b[1;34m(self, driver_command, params)\u001b[0m\n\u001b[0;32m    427\u001b[0m response \u001b[38;5;241m=\u001b[39m \u001b[38;5;28mself\u001b[39m\u001b[38;5;241m.\u001b[39mcommand_executor\u001b[38;5;241m.\u001b[39mexecute(driver_command, params)\n\u001b[0;32m    428\u001b[0m \u001b[38;5;28;01mif\u001b[39;00m response:\n\u001b[1;32m--> 429\u001b[0m     \u001b[38;5;28mself\u001b[39m\u001b[38;5;241m.\u001b[39merror_handler\u001b[38;5;241m.\u001b[39mcheck_response(response)\n\u001b[0;32m    430\u001b[0m     response[\u001b[38;5;124m\"\u001b[39m\u001b[38;5;124mvalue\u001b[39m\u001b[38;5;124m\"\u001b[39m] \u001b[38;5;241m=\u001b[39m \u001b[38;5;28mself\u001b[39m\u001b[38;5;241m.\u001b[39m_unwrap_value(response\u001b[38;5;241m.\u001b[39mget(\u001b[38;5;124m\"\u001b[39m\u001b[38;5;124mvalue\u001b[39m\u001b[38;5;124m\"\u001b[39m, \u001b[38;5;28;01mNone\u001b[39;00m))\n\u001b[0;32m    431\u001b[0m     \u001b[38;5;28;01mreturn\u001b[39;00m response\n",
      "File \u001b[1;32mc:\\Users\\garre\\anaconda3\\Lib\\site-packages\\selenium\\webdriver\\remote\\errorhandler.py:232\u001b[0m, in \u001b[0;36mErrorHandler.check_response\u001b[1;34m(self, response)\u001b[0m\n\u001b[0;32m    230\u001b[0m         alert_text \u001b[38;5;241m=\u001b[39m value[\u001b[38;5;124m\"\u001b[39m\u001b[38;5;124malert\u001b[39m\u001b[38;5;124m\"\u001b[39m]\u001b[38;5;241m.\u001b[39mget(\u001b[38;5;124m\"\u001b[39m\u001b[38;5;124mtext\u001b[39m\u001b[38;5;124m\"\u001b[39m)\n\u001b[0;32m    231\u001b[0m     \u001b[38;5;28;01mraise\u001b[39;00m exception_class(message, screen, stacktrace, alert_text)  \u001b[38;5;66;03m# type: ignore[call-arg]  # mypy is not smart enough here\u001b[39;00m\n\u001b[1;32m--> 232\u001b[0m \u001b[38;5;28;01mraise\u001b[39;00m exception_class(message, screen, stacktrace)\n",
      "\u001b[1;31mInvalidElementStateException\u001b[0m: Message: invalid element state: Element is not currently interactable and may not be manipulated\n  (Session info: chrome=134.0.6998.89)\nStacktrace:\n\tGetHandleVerifier [0x00007FF638AAFE45+26629]\n\t(No symbol) [0x00007FF638A16010]\n\t(No symbol) [0x00007FF6388A931A]\n\t(No symbol) [0x00007FF6388B0C7C]\n\t(No symbol) [0x00007FF6388B3A3C]\n\t(No symbol) [0x00007FF6388B3B0F]\n\t(No symbol) [0x00007FF6388F570A]\n\t(No symbol) [0x00007FF638927AAA]\n\t(No symbol) [0x00007FF6388F2156]\n\t(No symbol) [0x00007FF638927CC0]\n\t(No symbol) [0x00007FF638950169]\n\t(No symbol) [0x00007FF638927883]\n\t(No symbol) [0x00007FF6388F0550]\n\t(No symbol) [0x00007FF6388F1803]\n\tGetHandleVerifier [0x00007FF638E072BD+3529853]\n\tGetHandleVerifier [0x00007FF638E1DA22+3621858]\n\tGetHandleVerifier [0x00007FF638E124D3+3575443]\n\tGetHandleVerifier [0x00007FF638B7B77A+860474]\n\t(No symbol) [0x00007FF638A2088F]\n\t(No symbol) [0x00007FF638A1CBC4]\n\t(No symbol) [0x00007FF638A1CD66]\n\t(No symbol) [0x00007FF638A0C2C9]\n\tBaseThreadInitThunk [0x00007FFB944E259D+29]\n\tRtlUserThreadStart [0x00007FFB959EAF58+40]\n"
     ]
    }
   ],
   "source": [
    "while svg.isAlive():\n",
    "    ideas = generateAnimalVideoIdeas(grok, 10)\n",
    "    ideas = [idea for idea in ideas.split('\\n\\n') if idea]\n",
    "    svg.submitPrompts(ideas)"
   ]
  },
  {
   "cell_type": "code",
   "execution_count": 13,
   "metadata": {},
   "outputs": [
    {
     "data": {
      "text/plain": [
       "False"
      ]
     },
     "execution_count": 13,
     "metadata": {},
     "output_type": "execute_result"
    }
   ],
   "source": [
    "svg.driver.quit()"
   ]
  }
 ],
 "metadata": {
  "kernelspec": {
   "display_name": "base",
   "language": "python",
   "name": "python3"
  },
  "language_info": {
   "codemirror_mode": {
    "name": "ipython",
    "version": 3
   },
   "file_extension": ".py",
   "mimetype": "text/x-python",
   "name": "python",
   "nbconvert_exporter": "python",
   "pygments_lexer": "ipython3",
   "version": "3.12.7"
  }
 },
 "nbformat": 4,
 "nbformat_minor": 2
}
