{
 "cells": [
  {
   "cell_type": "markdown",
   "id": "16eaf4da",
   "metadata": {},
   "source": [
    "# 🚀 GENERATE ASSETS (OG)\n",
    "-------"
   ]
  },
  {
   "cell_type": "code",
   "execution_count": 1,
   "id": "98f10d9d",
   "metadata": {},
   "outputs": [],
   "source": [
    "# import nltk\n",
    "\n",
    "# # Download required NLTK data (only need to do this once)\n",
    "# nltk.download('punkt')"
   ]
  },
  {
   "cell_type": "code",
   "execution_count": 2,
   "id": "9e3a6a19",
   "metadata": {},
   "outputs": [
    {
     "name": "stdout",
     "output_type": "stream",
     "text": [
      "c:\\Users\\garre\\OneDrive\\Desktop\\Projects\\aiMedia\n"
     ]
    },
    {
     "data": {
      "text/plain": [
       "True"
      ]
     },
     "execution_count": 2,
     "metadata": {},
     "output_type": "execute_result"
    }
   ],
   "source": [
    "import trendspy\n",
    "from trendspy import Trends\n",
    "import os\n",
    "import datetime\n",
    "from dotenv import load_dotenv\n",
    "from news_utils import News\n",
    "import feedparser\n",
    "import time\n",
    "import pickle\n",
    "from generateAssets import *\n",
    "load_dotenv()"
   ]
  },
  {
   "cell_type": "code",
   "execution_count": 3,
   "id": "c788f4a4",
   "metadata": {},
   "outputs": [],
   "source": [
    "# Make directory for the run\n",
    "APPDIR = os.getenv(\"APPDIR\")\n",
    "BASEPATH = os.getenv(\"BASEPATH\")\n",
    "RUN_DIR = os.path.join(BASEPATH, datetime.datetime.now().strftime('%Y-%m-%d-%H-%M-%S'))\n",
    "os.makedirs(BASEPATH, exist_ok=True)\n",
    "os.makedirs(RUN_DIR, exist_ok=True)\n",
    "ELEVENLABS_API_KEY = os.getenv(\"ELEVENLABS_API_KEY\")\n",
    "VOICE_ID = os.getenv(\"ELEVENLABS_VOICE_ID\")\n",
    "OPENAI_API_KEY = os.getenv(\"OPENAI_API_KEY\")\n",
    "os.chdir(APPDIR)"
   ]
  },
  {
   "cell_type": "code",
   "execution_count": 4,
   "id": "bf0455c3",
   "metadata": {},
   "outputs": [],
   "source": [
    "os.environ[\"RUN_DIR\"] = RUN_DIR"
   ]
  },
  {
   "cell_type": "code",
   "execution_count": 5,
   "id": "754b1f90",
   "metadata": {},
   "outputs": [],
   "source": [
    "def getTrends():\n",
    "    def freeze(d : dict):\n",
    "        return \n",
    "    tr = Trends()\n",
    "    trends = tr.trending_now(geo='US', hours=24)\n",
    "    businessFiltered = trends.filter_by_topic('Business and Finance')\n",
    "    techFiltered = trends.filter_by_topic('Technology')\n",
    "    lawAndGovFiltered = trends.filter_by_topic('Law and Government')\n",
    "    politicsFiltered = trends.filter_by_topic('Politics')\n",
    "    filteredTrends = businessFiltered + techFiltered + lawAndGovFiltered + politicsFiltered\n",
    "    sortedTrends = sorted(filteredTrends, key=lambda x: x.volume, reverse=True)\n",
    "    keysSoFar = set()\n",
    "    finalTrendList = []\n",
    "    for trend in sortedTrends:\n",
    "        if not trend.keyword in keysSoFar:\n",
    "            finalTrendList.append({\n",
    "                'keyword': trend.keyword,\n",
    "                'volume': trend.volume,\n",
    "                'volume_growth_pct': trend.volume_growth_pct,\n",
    "                'topics': trend.topics,\n",
    "                'keywords': trend.trend_keywords,\n",
    "            })\n",
    "            keysSoFar.add(trend.keyword)\n",
    "    return finalTrendList"
   ]
  },
  {
   "cell_type": "code",
   "execution_count": 6,
   "id": "e2d62c1b",
   "metadata": {},
   "outputs": [],
   "source": [
    "# Example usage in your getNews function:\n",
    "def getNews(trendKeyword, num_articles=10, maxAge=10, linkNews={}):\n",
    "    #maxAge is the maximum age of the news article in days\n",
    "    search_term = trendKeyword.replace(' ', '+')\n",
    "    url = f'https://news.google.com/rss/search?q={search_term}&hl=en-US&gl=US&ceid=US:en'\n",
    "    feed = feedparser.parse(url)\n",
    "    valid, invalid = [], []\n",
    "    i = 0\n",
    "    while i < len(feed.entries) and len(valid) < num_articles:\n",
    "        entry = feed.entries[i]\n",
    "        i += 1\n",
    "        if entry.link not in linkNews:\n",
    "            pub_date = datetime.datetime.strptime(entry.published, '%a, %d %b %Y %H:%M:%S %Z')\n",
    "            if datetime.datetime.now() - pub_date > datetime.timedelta(days=maxAge):\n",
    "                continue\n",
    "\n",
    "            newNews = News(\n",
    "                entry.title,\n",
    "                entry.link,\n",
    "                entry.published,\n",
    "            )\n",
    "            linkNews[entry.link] = newNews\n",
    "            if newNews.mainText:\n",
    "                valid.append(newNews)\n",
    "            else:\n",
    "                invalid.append(newNews)\n",
    "\n",
    "    return valid, invalid"
   ]
  },
  {
   "cell_type": "code",
   "execution_count": 14,
   "id": "febab725",
   "metadata": {},
   "outputs": [],
   "source": [
    "def collectArticles(trend, linkNews={}, maxArticles = 30):\n",
    "    news = set()\n",
    "    keywords = set(trend['keywords'] + [trend['keyword']])\n",
    "    numArticlesPerKeyword = 1 + (maxArticles // len(keywords)) # promotes diversity across keywords\n",
    "    for keyword in keywords:\n",
    "        time.sleep(2) # wait two seconds to avoid rate limiting\n",
    "        valid, invalid = getNews(keyword, num_articles=numArticlesPerKeyword, linkNews=linkNews)\n",
    "        news.update(valid)\n",
    "        if len(news) > maxArticles:\n",
    "            break\n",
    "    trend['news'] = list(news)"
   ]
  },
  {
   "cell_type": "code",
   "execution_count": 9,
   "id": "ed60b0d2",
   "metadata": {},
   "outputs": [],
   "source": [
    "def trendTemplate():\n",
    "    return {'keyword': '', 'volume': -1, 'volume_growth_pct': -1, 'topics': [], 'keywords': []}"
   ]
  },
  {
   "cell_type": "markdown",
   "id": "be68c999",
   "metadata": {},
   "source": [
    "# 🔄 Collect Trends Or Load From Pickle\n",
    "---"
   ]
  },
  {
   "cell_type": "code",
   "execution_count": 8,
   "id": "576975cd",
   "metadata": {},
   "outputs": [
    {
     "name": "stdout",
     "output_type": "stream",
     "text": [
      "{'keyword': 'social security payments march 26', 'volume': 20000, 'volume_growth_pct': 900, 'topics': [3, 10], 'keywords': ['social security payments march 26']}\n",
      "{'keyword': 'mexico', 'volume': 10000, 'volume_growth_pct': 600, 'topics': [10], 'keywords': ['mexico', 'yolanda marodi']}\n",
      "{'keyword': 'vix', 'volume': 5000, 'volume_growth_pct': 400, 'topics': [3], 'keywords': ['vix']}\n",
      "{'keyword': 'usha vance', 'volume': 5000, 'volume_growth_pct': 100, 'topics': [14, 10], 'keywords': ['usha vance', 'mike waltz']}\n",
      "{'keyword': 'judge ana reyes', 'volume': 5000, 'volume_growth_pct': 100, 'topics': [10, 14], 'keywords': ['judge ana reyes', 'judge reyes', 'pete hegseth', 'ana reyes', 'u.s. district judge ana reyes']}\n",
      "{'keyword': 'canada travel warnings', 'volume': 5000, 'volume_growth_pct': 1000, 'topics': [10], 'keywords': ['canada travel warnings', 'travel warnings to usa']}\n",
      "{'keyword': 'jessica aber us attorney found dead', 'volume': 5000, 'volume_growth_pct': 1000, 'topics': [10], 'keywords': ['jessica aber us attorney found dead', 'us']}\n",
      "{'keyword': 'peter thiel', 'volume': 2000, 'volume_growth_pct': 50, 'topics': [19, 3, 8, 1], 'keywords': ['peter thiel']}\n",
      "{'keyword': 'dengue fever', 'volume': 2000, 'volume_growth_pct': 100, 'topics': [7, 10], 'keywords': ['dengue fever']}\n",
      "{'keyword': 'social security checks', 'volume': 2000, 'volume_growth_pct': 200, 'topics': [10], 'keywords': ['social security checks']}\n",
      "{'keyword': 'university of florida', 'volume': 2000, 'volume_growth_pct': 100, 'topics': [9, 10], 'keywords': ['university of florida']}\n",
      "{'keyword': 'polk county nc', 'volume': 2000, 'volume_growth_pct': 50, 'topics': [10], 'keywords': ['polk county nc']}\n",
      "{'keyword': 'margaret brennan', 'volume': 2000, 'volume_growth_pct': 100, 'topics': [14], 'keywords': ['margaret brennan', 'rand paul', 'face the nation']}\n",
      "{'keyword': 'george santos', 'volume': 2000, 'volume_growth_pct': 200, 'topics': [14], 'keywords': ['george santos']}\n",
      "{'keyword': 'enron', 'volume': 1000, 'volume_growth_pct': 100, 'topics': [3], 'keywords': ['enron']}\n",
      "{'keyword': 'jfk kennedy', 'volume': 1000, 'volume_growth_pct': 100, 'topics': [10], 'keywords': ['jfk kennedy']}\n",
      "{'keyword': 'uk', 'volume': 1000, 'volume_growth_pct': 75, 'topics': [10, 14], 'keywords': ['uk']}\n",
      "{'keyword': 'tom homan', 'volume': 1000, 'volume_growth_pct': 100, 'topics': [10], 'keywords': ['tom homan', 'judge james boasberg']}\n",
      "{'keyword': 'travel warnings', 'volume': 1000, 'volume_growth_pct': 800, 'topics': [10], 'keywords': ['travel warnings']}\n",
      "{'keyword': 'life insurance', 'volume': 1000, 'volume_growth_pct': 1000, 'topics': [10, 7], 'keywords': ['life insurance', 'insurance']}\n",
      "{'keyword': 'celeste maloy', 'volume': 1000, 'volume_growth_pct': 75, 'topics': [14], 'keywords': ['celeste maloy']}\n",
      "{'keyword': 'alexandria ocasio-cortez', 'volume': 1000, 'volume_growth_pct': 75, 'topics': [14], 'keywords': ['alexandria ocasio-cortez']}\n",
      "{'keyword': 'steve witkoff', 'volume': 1000, 'volume_growth_pct': 100, 'topics': [14], 'keywords': ['steve witkoff', 'witkoff']}\n",
      "{'keyword': 'dollar store', 'volume': 500, 'volume_growth_pct': 100, 'topics': [16, 3], 'keywords': ['dollar store']}\n",
      "{'keyword': 'tammy bruce', 'volume': 500, 'volume_growth_pct': 200, 'topics': [14, 3], 'keywords': ['tammy bruce']}\n",
      "{'keyword': 'dte', 'volume': 500, 'volume_growth_pct': 100, 'topics': [3], 'keywords': ['dte']}\n",
      "{'keyword': 'john hope bryant', 'volume': 500, 'volume_growth_pct': 100, 'topics': [3], 'keywords': ['john hope bryant']}\n",
      "{'keyword': 'univision', 'volume': 500, 'volume_growth_pct': 100, 'topics': [10], 'keywords': ['univision']}\n",
      "{'keyword': 'estados unidos', 'volume': 500, 'volume_growth_pct': 50, 'topics': [14, 10], 'keywords': ['estados unidos']}\n",
      "{'keyword': 'obama', 'volume': 500, 'volume_growth_pct': 50, 'topics': [14, 10], 'keywords': ['obama']}\n",
      "{'keyword': 'isaiah stokes', 'volume': 500, 'volume_growth_pct': 200, 'topics': [4, 10], 'keywords': ['isaiah stokes']}\n",
      "{'keyword': 'visalia', 'volume': 500, 'volume_growth_pct': 100, 'topics': [10], 'keywords': ['visalia']}\n",
      "{'keyword': 'frank chopp', 'volume': 500, 'volume_growth_pct': 50, 'topics': [14, 10], 'keywords': ['frank chopp']}\n",
      "{'keyword': 'americano', 'volume': 500, 'volume_growth_pct': 200, 'topics': [14, 10], 'keywords': ['americano']}\n",
      "{'keyword': 'clarence thomas', 'volume': 500, 'volume_growth_pct': 100, 'topics': [14], 'keywords': ['clarence thomas']}\n",
      "{'keyword': 'debate presidencial ecuador', 'volume': 500, 'volume_growth_pct': 50, 'topics': [14], 'keywords': ['debate presidencial ecuador']}\n",
      "{'keyword': 'how old is bernie sanders', 'volume': 500, 'volume_growth_pct': 75, 'topics': [14], 'keywords': ['how old is bernie sanders']}\n",
      "{'keyword': 'st petersburg florida', 'volume': 200, 'volume_growth_pct': 100, 'topics': [3], 'keywords': ['st petersburg florida']}\n",
      "{'keyword': 'mortgages', 'volume': 200, 'volume_growth_pct': 100, 'topics': [3], 'keywords': ['mortgages']}\n",
      "{'keyword': 'nationwide building society', 'volume': 200, 'volume_growth_pct': 100, 'topics': [3], 'keywords': ['nationwide building society']}\n",
      "{'keyword': 'eenadu', 'volume': 200, 'volume_growth_pct': 50, 'topics': [3, 9], 'keywords': ['eenadu']}\n",
      "{'keyword': 'ashley henning', 'volume': 200, 'volume_growth_pct': 50, 'topics': [10], 'keywords': ['ashley henning', 'jordan henning']}\n",
      "{'keyword': 'pastor ricky floyd', 'volume': 200, 'volume_growth_pct': 50, 'topics': [10], 'keywords': ['pastor ricky floyd']}\n",
      "{'keyword': 'amanda knox', 'volume': 200, 'volume_growth_pct': 75, 'topics': [10], 'keywords': ['amanda knox']}\n",
      "{'keyword': 'mallory mcmorrow', 'volume': 200, 'volume_growth_pct': 75, 'topics': [14, 10], 'keywords': ['mallory mcmorrow']}\n",
      "{'keyword': 'saritha ramaraju', 'volume': 200, 'volume_growth_pct': 50, 'topics': [10], 'keywords': ['saritha ramaraju']}\n",
      "{'keyword': 'nipsey hussle', 'volume': 200, 'volume_growth_pct': 50, 'topics': [10], 'keywords': ['nipsey hussle']}\n",
      "{'keyword': 'john curtis', 'volume': 200, 'volume_growth_pct': 50, 'topics': [14], 'keywords': ['john curtis']}\n",
      "{'keyword': 'playstation 5', 'volume': 100, 'volume_growth_pct': 100, 'topics': [6, 18], 'keywords': ['playstation 5']}\n",
      "{'keyword': 'elden ring', 'volume': 100, 'volume_growth_pct': 50, 'topics': [6, 18, 15], 'keywords': ['elden ring']}\n",
      "{'keyword': '6abc', 'volume': 100, 'volume_growth_pct': 100, 'topics': [10], 'keywords': ['6abc']}\n",
      "{'keyword': 'wmur', 'volume': 100, 'volume_growth_pct': 50, 'topics': [10], 'keywords': ['wmur']}\n",
      "{'keyword': 'دیوار', 'volume': 100, 'volume_growth_pct': 50, 'topics': [10], 'keywords': ['دیوار']}\n"
     ]
    }
   ],
   "source": [
    "getTrendInfo = input('Get Trends? (y/n): ')\n",
    "if getTrendInfo.lower() == 'y':\n",
    "    finalTrendList = getTrends()\n",
    "    showTrends = input('Show Trends? (y/n): ')\n",
    "    if showTrends.lower() == 'y':\n",
    "        # outStr = \"\"\"\"\"\"\n",
    "        for trend in finalTrendList[:min(100, len(finalTrendList))]:\n",
    "            print(trend)\n",
    "    saveTrends = input('Save Trends? (y/n): ')\n",
    "    if saveTrends.lower() == 'y':\n",
    "        with open('./tmp/finalTrendList.pkl', 'wb') as f:\n",
    "            pickle.dump(finalTrendList, f)\n",
    "elif getTrendInfo.lower() == 'n':\n",
    "    with open('./tmp/finalTrendList.pkl', 'rb') as f:\n",
    "        finalTrendList = pickle.load(f)\n",
    "else:\n",
    "    print('Invalid input, run again')\n",
    "    exit()"
   ]
  },
  {
   "cell_type": "code",
   "execution_count": 15,
   "id": "e93b0879",
   "metadata": {},
   "outputs": [],
   "source": [
    "trend = trendTemplate()\n",
    "trend['keyword'] = 'China Taiwan'\n",
    "finalTrendList.append(trend)"
   ]
  },
  {
   "cell_type": "markdown",
   "id": "ead37c7b",
   "metadata": {},
   "source": [
    "# 🎯 Select Trend and Collect Articles\n",
    "---"
   ]
  },
  {
   "cell_type": "code",
   "execution_count": 16,
   "id": "d3114bb9",
   "metadata": {},
   "outputs": [
    {
     "name": "stdout",
     "output_type": "stream",
     "text": [
      "URL https://news.google.com/rss/articles/CBMieEFVX3lxTE1EcEs0cVp6WXlQTWcxNXRHX1JwSTNQVEctai0tT2FjRTF2MGF4ZjQtY3BEVXloUWVJSkd3dmJVZVUtTl9OcG5Yd1pRYTdrZ1REeWZBN2xBeEFCNmJsd0NTMTNKRWlIRlFXR3dTWWFDTXEweFVwR3pNTA?oc=5\n",
      "URL https://news.google.com/rss/articles/CBMi1gFBVV95cUxNTXkwNTF6ZVF6eUtNRnlzS3lFdUhkUmRmZ3J1dXE2b245TURzeDFiblc3NVBSc2pwS2c2bi1JaU1yQnNqY1JDT3lUTkJBNEJaZ2UwMjBmSFRVdUp4VFFQNk9odEtKcWlDWFJWU1RKNlJWUUVXOVVVQWMtc0VCVXRTanNsVTVfMDg3S3Z6TnZhWGVNOEdLYTJ5VVo4aHF6aXJSOTU2T095YnUtb1Y4Y2FJN3NEbTRMMk42MEVuTWZlZnlwc0pSSVRpMWljRFdPWDlsUmxpTm1R0gHWAUFVX3lxTE5HSmFXSXkwNUluMXdfLV9fNlVTN0hKdGp1alJyNlBZeDJ1d2RnUmNpZUpsNUU5NGpHWHhqS1EwVi1ySzlkWDVZVTNkbEs2TTI3V3g2ZWlaWEpVUkhkYmlDYjh3LW5SMUV4Z3RSdUI0aW15a3JTNktaVW9wMmhKa2RrcWM2QVM5RDZHZ0NsSTU1MVFrN0psdl9rbTdTRHhCc2lQS0ZFMEE3MHQyeWJueU9aNmZHLU03SVBwWkZrejZ1cFY2NVBkRDhib0VqUEJkczRfVkJ5TkE?oc=5\n",
      "URL https://news.google.com/rss/articles/CBMif0FVX3lxTE1weUY0a2VKYnlzd0hBbmQ1YW5YV1ZxSHUyZWt2SU1oOU4waWk5VG8xbnlqWlVyeTNwa1RMVFp6MURMazdKc2YwTUpUazRDYmdKRXMtMFNWaGpqNC1PTXJKTlpoNG9GRGNnVWxsUlNwVUQ4Qy1RN0hOWUJfcUtFeWs?oc=5\n",
      "URL https://news.google.com/rss/articles/CBMiigFBVV95cUxPSDJYQVBQOFF0dTBFQzBtbFU1REJiS05OM3lrRktjQnBrV2FrYm9IZHNrT2MxUnVnXzdJc19WWlFsdlkwS3RWMDdfX1kwNU4tZnM1R0lfWVByMEYxRW9zamx3Y09qWnQtelhSMHZLVmFfNGlmLXJqLXJMdUU2TlItMVNqMGlJT1FZb1E?oc=5\n",
      "URL https://news.google.com/rss/articles/CBMijAFBVV95cUxPX1I4MGRKOHd3bzRGU1FaWS1DNmtoeF9mTDIzd19MVHg2ZmlfTXRhSWVjUFZCTkRWbzNZWjI2eE1RVkp5V04zandHRDRpczhvcDh3S2MxTmtNOWlOclc2d3dDVlZpMi1wa1p5eU83QWVWQnJzVU9KTVZ1dTEweThOU3I3XzA4WWdZdnFrOQ?oc=5\n",
      "Error extracting article content: Article `download()` failed with 403 Client Error: Forbidden for url: https://www.wsj.com/world/china/china-is-ready-to-blockade-taiwan-heres-how-8cffdeb2 on URL https://www.wsj.com/world/china/china-is-ready-to-blockade-taiwan-heres-how-8cffdeb2\n",
      "URL https://news.google.com/rss/articles/CBMitAFBVV95cUxNWS1UTVpfNGxKbWFMNy1nbzdZTHdCM1l3b0lsNXN6aG1GYUtOQjUwNWtXLU1tXzVWTXZrSG9GMjBGQVdzQ3dLYUpnbHNTclg3cDk4OG5kLWR3djcwSWJRcldqUnhXNjdMSjh2LUVPS2U1cXEzcEpveldBNFlseXJNdFdBZElqTm5iV0p2ZGNnOExfZzNNY2FRdUhfOE96ZllSblN1ZWdrRC1JQ3diZFVfM0dwYnQ?oc=5\n",
      "URL https://news.google.com/rss/articles/CBMieEFVX3lxTE1mQmd4QUdlbXhXZEJIZ3R2Q0EtZjR6NHFfTTFNMVUzSThaVnM5Z1hwTmRnVm10SEJMTG9nUTZ0VGxNMUNmN2xKdThidHNFWk9WUXZfMktaTFZBc0JjUncyeEp5aVhZbWRJYjVFZC1ueXVOYzNseGpiTg?oc=5\n",
      "URL https://news.google.com/rss/articles/CBMie0FVX3lxTFA3QmFPTXNzbW1XQlV5QnRWTVllYTJBa3Nsb21oWFFvTUIzNTdUcXpTaXIwdjVtYnBwN0xPdHEySnY4R0hfVGd5UU1aREdBYk95QzFGN1l4UDN5RnR0Ym14S3BJbzFEZXVHRGtwYy15U2gxNFdET0FielJtc9IBe0FVX3lxTFA3QmFPTXNzbW1XQlV5QnRWTVllYTJBa3Nsb21oWFFvTUIzNTdUcXpTaXIwdjVtYnBwN0xPdHEySnY4R0hfVGd5UU1aREdBYk95QzFGN1l4UDN5RnR0Ym14S3BJbzFEZXVHRGtwYy15U2gxNFdET0FielJtcw?oc=5\n",
      "URL https://news.google.com/rss/articles/CBMisAFBVV95cUxPaVJSU1ZsZVlrUTdMY05DYnRXbDZqLU1aQzZQdFRhS1ZFUnFqS2hnQ2pHQV8yejMwdzdwTEZ1MENGdmhXbjlMajFCRXFzVEdDV0ZWUkZ5NTNRQlpRNWl3eVNmVWpIM1ZzRmlnWFNZd2V3ZUVKZXJVRFQ4QzBRYkp6aUY5eV9yWjVsSk1KbFVOYjFaTkNscUIxM25jaksyLTBFZml5bGZGRWM4MjU4OXNmag?oc=5\n",
      "URL https://news.google.com/rss/articles/CBMiXEFVX3lxTE9DUEhiU1ZLUExzUXVZOVhhRFRyQW1WSWc1eGw4cGk1QjNmQ2w1RF9HaEFrVk0wd2J0bXE4bERWcjBtek5zYTZzamIzcVZsaVhoUzRIMmE2NTFIRmlu?oc=5\n",
      "URL https://news.google.com/rss/articles/CBMiowFBVV95cUxPWnBQcFRNRi1OTlZkLWd0TDZSM2I1Z1dobnZiNUpZSEJPS28xYS1WUEhSQ3FuSExZUTBiTm5CZ1NZS3pLZWpYWWJwcC1PU2NVMjQ4STdCeVBlOHZISTRmUW1maTE4dlJXSlhTYTlQWnFxNlotN2k3dVNEUUZUeTNLSjdQcWVXUURpMGJLQjBoOHFGNEthdGV0N0d4MGNVSEVFV0g00gFWQVVfeXFMTjZBUzlNUXpCYUc0b3FxTEplTzVqUlIydXM4LTJnQWp1cTFia0lhMFdaU3NPY3FNM3d3MldKV28wZjZsM1JKc2RITDdqYXZ1a3U4M3BiSmc?oc=5\n",
      "URL https://news.google.com/rss/articles/CBMijgFBVV95cUxQbWI3ajBaT3V3cFM3SngwVEV3OTNHQXFleFFFWE9hYzZzQjdSVnBTcHl5cWw2aksxV3VVczkzcmtFdUtmcWEtSk11bWItcjZuSjVNT3RxM28wN0ZJRkNYd2ZNWG1QZTRCZ044dkNKZXNxS1dEc081cVY3ZFhKdVlzVXluX0RpV0d4VGNBS2Rn?oc=5\n",
      "URL https://news.google.com/rss/articles/CBMiaEFVX3lxTE5lRENHZWtuZ0VEb0h5R0FYcnVWR2FrUy1hOFNZNHUyV2ZzZFVFOU1zYVdER0o2MEs2M2lQMzV3Z29BbkJicFA5a0xMY3ZHZ3VoZjBkUVRub2NRakZjRGNnZ2I0S1I4VmZR?oc=5\n",
      "URL https://news.google.com/rss/articles/CBMisAFBVV95cUxPNjJtMXhjbU9sa2IzOUxRV1g3VkxaZ1NfZEpqaW0zUElnMzVEa0pLZEtlN2k4NGlqVjlEZlFwdklRRFF1cXFlZG05NXJ1Q1YzUlZJREp5SHdkQWtOVVg2WVdDZzVxcHpFdkpZWFE4U2ZKUkFveHB6NENVWWVkdlZHNHBNUWlIZkdQajcxR09GT2VKaVhKdXE1cl9qOU5Zb0lPRk12eGttWDhnYVU4bG5MOQ?oc=5\n",
      "URL https://news.google.com/rss/articles/CBMivgFBVV95cUxNY0tqakxMdVFmTlA1djRlQmk5MWFJTFN0c3BCc19NVHdreE5zREFYUlhsWGdCR2R0LXBHa3g4eFN2OFU3Z0NDSDYxYmRQanl1QUdteTh6Tm5ETzl5cmdJRC1rNk5mUDRzaGgtTmR6ZFBSQ1hHQlBmZUt1T0s2WHdBbjVvMXQxck5OTkZJSWNGTXhWclhHX0plVndhSTFrLWgtM2VTY09kb0RPRUhWZGk2SVdIR1BVWU5wSFRKSS1R?oc=5\n",
      "Error extracting article content: Article `download()` failed with 401 Client Error: HTTP Forbidden for url: https://www.reuters.com/world/asia-pacific/china-says-military-exercise-near-taiwan-was-punishment-separatism-2025-03-17/ on URL https://www.reuters.com/world/asia-pacific/china-says-military-exercise-near-taiwan-was-punishment-separatism-2025-03-17/\n",
      "URL https://news.google.com/rss/articles/CBMixwFBVV95cUxQY0xTTmYzTTFheEpVMVN5MzBYUzdqOWNyckZUUTdVNE5ucmlWSnhzc2lEZkx2SWpWdFFkZUFQRVVTaE0tLVc5ZWJ6TmNZdENHSE1TWHBDTnVQdlBTUktrYlJPYmNOb2tVX040T1p2Q041TkxpUy1jNlN0SEt4Y0otV2VMdjlXYm9tSENyTlpDUm5BaE5aOXNUQi1TR1N5eFdvVVJkcFlBMVVlRl9ZTDR6WXlnblpocVpKQk5jSGRaTktOYV80cXc00gHHAUFVX3lxTE1UaGpwcGp4Rm5SNE02cU0yancxUl9ielh0cmRacjBMbDNLcnJCaXVYeGU1QU1rWHVsX0ZkTzEwVm9Pc0Q5VkY1X0hTYUhkZzB4ZGYwQXZ3RVo2WU1zTHctM3AzRF9TbzFIZ1NvREJIMEVNZ1liOHlRT0d3TTNHQ2JUVC0xb05TbE5iTnpUa1d2Qko3OF9EeU9lU2lHVDR2QktfTmZJSUFUcEJ6MTFhRjQ3VllmSXVLenBhN052THhnYmxjR2ZvVHM?oc=5\n",
      "URL https://news.google.com/rss/articles/CBMieEFVX3lxTFBPVlQ5T01QMk5hVjhyN3FiOG5tV1MyOXJmNlVvcWtEZHNqUWZBZi1ZZkJVT3VfNm1MUERMVEk2M2sxaWVmVzh4Qi16aDd0bHFfMzliUUtuNlB4VGFBZWdkM2VvVTNsdW4xSHFXSjRSbmZEdjBUdThLRw?oc=5\n",
      "URL https://news.google.com/rss/articles/CBMitgFBVV95cUxOZDlSclcxWWZyQmNWcXJNMWlEaEt6RGl2Q3hya2NUR2kxT1MxcFA5MzVjWHFLQXZ0S01wOVRYN3ZvaFRzaVlxSUxxdkNxdTBFOFVLS21OMUZyWmdyUnhXOFlCYno1ekdQTmhnYUE0QnR0UnhyUkpFVDMtc0NMUjI0M3FBSzRQcG92TkRzM01NdFBGSkJGbXRTQ19meFFyU0U2T2R3eVBybVlqNEwwcmtpNmxGQ1BCZw?oc=5\n",
      "URL https://news.google.com/rss/articles/CBMifEFVX3lxTE5MWmItY0VTMk5FaC0tdDBBdzRsYjJocHc2Z0pJeldwYlNhUG83dThaR2taMzlTcUd0VGY3NHdhNlZicEFKbnpFc2huN1R1b2RjMHZ5Z3JVNjU5LVAzX3M4Qko4QzVUS0NTYkVxaU5WejRGR2hQdldKMl9LYWk?oc=5\n",
      "Error extracting article content: Article `download()` failed with 403 Client Error: Forbidden for url: https://www.newsweek.com/taiwan-sounds-alarm-2027-china-invasion-2047166 on URL https://www.newsweek.com/taiwan-sounds-alarm-2027-china-invasion-2047166\n",
      "URL https://news.google.com/rss/articles/CBMimAFBVV95cUxOOFJ3QS1ZMHJQZUxOd2Z4VGpIZmRjUUk4a2EyWFhGT3o2dDZFWm1yX3JScFF3dHZaSXF4NmZUZHlWR01ZQ1B5QnVBTTZSRnMteE9yZUk0SEM0Z0JpRTRHeEhNUUY2MmtOU3JQQzBIZDlaWEV3YnFMVTNyVl91N1BRMkhQRGhNU1VmcnhERlQwR0EtZzlzZGZEZQ?oc=5\n",
      "Error extracting article content: Article `download()` failed with 403 Client Error: Forbidden for url: https://www.wsj.com/world/asia/taiwans-military-says-it-needs-the-u-s-to-deter-china-3f06702d on URL https://www.wsj.com/world/asia/taiwans-military-says-it-needs-the-u-s-to-deter-china-3f06702d\n",
      "URL https://news.google.com/rss/articles/CBMiwwFBVV95cUxPUEQyb3hubk52aVdYdlJwajNGb2ZWcExheDNQUXNfLXdaZjdUTXdFTWwyWmYwRGE2RjdEZ2xrcEhreG9QNGVqMzBNdFhMakhYRFpIdTZvVEllZl94SHQ3dG4wQ00yRTlPLWI3QTM2cUROSkFnTGhLQUtZcVVBWWcxZXhjWEk5aUlyS0VHNG92VjMwR1NxbXQwT0t3MUVvZjNvQ3I5ZWNmd0lqQmRFWVpLRkNaTEhhZTJlcVBfZTQwam5OLU0?oc=5\n",
      "Error extracting article content: Article `download()` failed with 401 Client Error: HTTP Forbidden for url: https://www.reuters.com/world/asia-pacific/taiwan-practices-mobilise-troops-fast-if-china-drills-turn-into-attack-2025-03-19/ on URL https://www.reuters.com/world/asia-pacific/taiwan-practices-mobilise-troops-fast-if-china-drills-turn-into-attack-2025-03-19/\n",
      "URL https://news.google.com/rss/articles/CBMingFBVV95cUxQNjFNQlJnWVhTX2tWVjV5LWlLUjNDT3RLbFBGOXdGanpWY2VraXNjNXl0Ymp1SlY0NC1SeHZtSUZXM2ktQ09OSFdxWWgzamNIdHlZajhwVV9Ld0xEaTlLMGFsa1E5UkNOakRBbl9qZUxxb2tQOUI4clZYRXoyMVVjZEtmQVpESnY1aGxvaktCMWllak9CaVllZ19YaWFxdw?oc=5\n",
      "URL https://news.google.com/rss/articles/CBMitwFBVV95cUxOS0pyV1Y2dzVSRG5sdkt5M09nVTE1Njk5S1g5bWpSRHhLRlhMZWg2X1hMaE15QkVaaGFwV1V4cW5mdkJSYmlCb1djZFhCZG1PcDRmeDRkLThyTG1uVFF3M2ExX2VLaFA2V0NGTkxkaXlISEZtaG01X0t3WVVUeVhrVHVfVVVvZFVwMUZDeTJsV3JFY19kcHVQZmFOUWVaVXg5bTNjclJnWjZJN2FTcUFsZVZQaW05ZDg?oc=5\n",
      "URL https://news.google.com/rss/articles/CBMif0FVX3lxTE1TYW5JM3Z1M2VXYnpLNGtRR2U5QWREdEZWQ2J4RVRlS0hSdkRyQ1VmYzVXaE11RzdXSVlQS1hNSUZSemtUaWxRdE5mQTZCVjZIYjZJNEloUjQwM0JxZTJscTMyckFUZWVsVFRNSzFnT210b3ZQS1lEamlIUHpydVk?oc=5\n",
      "URL https://news.google.com/rss/articles/CBMie0FVX3lxTE9Mb0puWFpBUVEzV05iZDBxN1d0VTFkcjNBQ1pHLTVqLUhiT0VGMU52MGQ2Y2RxajRtZTFCRFVyaHJTWVdQRDExX2xvRUt3Wmx2Wm5EcXNQLUdDR1ZaVUIwQ0hYd21seTgtaElzdURnMG0zbGkySnBXSWo3Yw?oc=5\n",
      "URL https://news.google.com/rss/articles/CBMimwFBVV95cUxNQzlYcEJTQS1tTENGaVY1UWVzZ2xsVEoxWHc1a0l0NTJ3OUQ0OTd0blRUcV9yQndST05tbll4T0xZOUVNaTlyNmV2eWxYaTJxSTVNNDQ3YkRGanp3RDhsdW4temg0cmpHTFlQMTVyYTFDejVORW9keGNoVW9Udk1sc2ttRGVoLVFEaUpGR1BEMDRtRkRKUUpaY2Vobw?oc=5\n",
      "URL https://news.google.com/rss/articles/CBMi2AFBVV95cUxNZ1N4aUxySnk2aC1FcmFJeVV4ZEp5RUkwdmhtYmhtNlAxVC1UbHpuMHVRaUNWVjFsM0JIZWY4OV9rVHN5VWVySURiZ2ltVGFMNDhJdUVJbGhRcU91cC1NaFFjQXlxSDV5bFBqWk9JRlY5ZFRyal91QTk5Qkd4bEFvb3gtN3Bab0NOcHhLamlHSHpuZjNkdUpnVXdraGQtRDF3OW5aZXpDVThKWFZQWDhDX2t4UXR1RzhLUFB6M0ZLM3JLdS02TmZudTU3Ti1nTTBvRHlJR0RIVUY?oc=5\n",
      "URL https://news.google.com/rss/articles/CBMiWEFVX3lxTFBEUzZvNXFWTHR5RVpNbE1MYmRyX1kxNFZlWEVWTlZyTnpVNEtkelRvRVdScDFRSDVBTm14T3Z0QUZUWE1xMExxY09BUS1RM3BsdlBfd0ZRM3Y?oc=5\n",
      "URL https://news.google.com/rss/articles/CBMieEFVX3lxTE8zeTZSWXp5R1kwTXJpN09zYWRRNWp2YVNOUHVselNzRERlT1cyODI2bDltUi1Rem1UZGVMUVczWGJEd1JhcnlWMzJlNEdtVENIUkRMRGJpNzdqaGJDZllHMkMtQjM3eVpYcDVuUkM3Ym8zcUwxSzRKQQ?oc=5\n",
      "URL https://news.google.com/rss/articles/CBMigAFBVV95cUxOMGJjTFRkdEZjOW9Qa3hRSkFDOHJzVlUtNTgxRndmTXZvOUJyd1BVUWUzeng5ckxWQjVtUXF3enpfQzhUdlZDaDItcll3SWVXby1fNGRyTGwzT0dJUlY5R08wRkxHWHVlM0hsVExZZVpXR3Z5RFp6Sm5oVi1COTlWRw?oc=5\n",
      "Error extracting article content: Article `download()` failed with 403 Client Error: Forbidden for url: https://www.newsweek.com/tiktok-video-us-taiwan-navy-training-china-2048404 on URL https://www.newsweek.com/tiktok-video-us-taiwan-navy-training-china-2048404\n",
      "URL https://news.google.com/rss/articles/CBMiekFVX3lxTE5nYlJMdlpkVG5wN2FraGpGRjMwSW90RVg3OWo4MTR2UFdjdGdFeWpxaTJ0YjJ3VGgxSThMMUg1ejNwa3NZN2ZlQ2FuekhuU04wUVdDdTNXOHZXYThtRnpqcV9JenRTQ1FVdVNMcnJhUG0wR1Nva0xydmNB?oc=5\n",
      "URL https://news.google.com/rss/articles/CBMiVkFVX3lxTE9wWHNWeUM0SUNIQVRXcldBVld5cUVRaTFfd19fOW5yX1JYdU9HV1kxRGxVVjlwSFJlNVplZjNIRElLcm9KMHlLUGRmZ2Q3VHJaMXlpa293?oc=5\n",
      "URL https://news.google.com/rss/articles/CBMiekFVX3lxTE9rTUpFaFE4X18tQ2VQaENtT1hjN2s4ZXBUb1dMSWVsMklvT3JDcXp4eFZOMldmbUtlZjE3WGdZVGhvM3RkaHBEbDVCdVdqanUwRnp3TDBHekJYTnlVcjdyQWVpOTM4UWl3ekl6X3RCQ3hCVWtKZEswODlR?oc=5\n",
      "URL https://news.google.com/rss/articles/CBMinAFBVV95cUxOQWlUdnNSQmJ3amFKLXhVRVZnUWV1Snc5MUQzemZaSEQ0UmZaZmltbUROdmhTUzRaOE5QX2NTY3JLdWdIWWY1ZEZuQ3dpX05tcFJnaVZSQUZfTHBCY0FlQ0tYWFozcVZabzNsTl9Nc25sWUh6a1VKT2JEcDU5clIwNF9oZlVHdXNzX0RBWmkyZ3RFZ243ekgyMlpMbVY?oc=5\n",
      "URL https://news.google.com/rss/articles/CBMiswFBVV95cUxOMWVzNEhESkliTGJrNjRkT19vTnVyMlpGZGNXWWdVazc4bHVYVE9yN0xiSS1BUHZQYnI3RUNjeG5yMDRLZG5VNjZfZHhfWVR1QnBtNmkzdXVOQ29DZGV5V1ZaUGNWTW5uc1BmVTBxcDlfd2NfNWpWWVJMRmk4Z3QtdTJhVDNlWUZtZjhFX1MtSFVkSnpCQVpwX2dyUFh5UURTYktoNUhUQWNoQUJObHNSb01MOA?oc=5\n",
      "URL https://news.google.com/rss/articles/CBMipAFBVV95cUxPbEw1LVFTMDc5MEFaWUg2UDR3Zl82ZW53Q2dNeXdMTUpNMHQybEVIUUJRUXBrNkUwV0tGd0xoX1BkNjRqaUVuXzZna3EtNTAwejZDYUR3aFpiQkdyZDI2NXlqOTNUQXI0TnBtZ1Baa2NLYnZnWWI2UHUwdkVpSndNRGtnTXBlQTlNdXF3V29uVXZPQ1oyWVZJWG5vSk44OHktNDdyOQ?oc=5\n",
      "Error extracting article content: Article `download()` failed with 401 Client Error: HTTP Forbidden for url: https://www.reuters.com/world/tough-g7-statement-drops-one-china-reference-taiwan-language-2025-03-14/ on URL https://www.reuters.com/world/tough-g7-statement-drops-one-china-reference-taiwan-language-2025-03-14/\n",
      "URL https://news.google.com/rss/articles/CBMizAFBVV95cUxQaGlWN3U2RmVQUHpQVEJzdjVhRDJwMEdsV1hQcl9SaXRhX3BnemhnNFA1d0w4U0QyaW1zNFhuU2RuVlZ2NDY4Sk01QU96LUJSTlJ4aUFWaVVvUEpCSEJLQUZDeno3ZHA3VUhrM2tVRlpQa3Z1Rl90d0UwNDljaHFXX0k2VVhONnI5MkRMSDFrOHpJZmR4OUpXLW9UUkFZbXZBdExlZ2p3Zm0wemVCV0h4blVWMjVOb1FDSkpuWEFvOVE1dmR2RGdJbmUwUkM?oc=5\n",
      "URL https://news.google.com/rss/articles/CBMipwFBVV95cUxNNWFURWtJODV4YTBIRy1tMlBnSnhDdmd6NTJFSVpGbUtLYm9qTmlxdnl0ckV3WWZIRDlHaXFwbUtoUlNleTFQeHd1d21oc2N6a3d3aFgwb0hKcUo3amNiN0lRSi1IU3daOGZRU3d1ZEZobnBDa2hoYmxYNTdrM1FDUGNhdjVpSWxYR0J3RXZ2ZG1aLVZ2UmNxZDAyMENQMFVyMWlkUktWMA?oc=5\n",
      "URL https://news.google.com/rss/articles/CBMiiwFBVV95cUxOdWNVWS15bXNvS25JZUdZYWdfUkh4Ykt1R1l2aFNQU3oyQXNFT19OVmcxc25HWmdHTXpUdTl2SG52RUxPTmx4aVNURnpTcGx2dDVPZnlzUlM5OVR6eGY5eXI3QzNnWlE1WDU4UVNlbVBtcXpFQmhhVVF4M1FaXzVNaWp2X2lhWUFDQ0xz?oc=5\n",
      "URL https://news.google.com/rss/articles/CBMiWkFVX3lxTE84RnFqRS12YVRiTGZCYUF1Ums5NHRtM1JmOEczTkJuSkZWWVJ0Nk1zdng4LWRrdWRxRzE2MGtVd3U5X29neW9vdDBzVXUzLW5tMHJ6bW5PZmMzQdIBX0FVX3lxTE1oUVRTQ1FTYzlqZnUzTnR1bmNQOHpyUTFKejJoeHRsTzkzamJhUXdtbEN3cHRBeTh1a19kc2JXWDBzaHlWd3FiamdUS2Z6U2hmVFlWUENhdWYtaG5xLVU0?oc=5\n",
      "URL https://news.google.com/rss/articles/CBMilAFBVV95cUxNcERPN0dLSy1QNHlWRkdtRjZIRVpwa3lTeTNndjg1N2k3MG92SVhlRTBLRk0zYjFDTHV5WjZBWWZmbWU2Z0ZIV0R0QjlBbHdWTkl6czBSWmxGVTlYdnktd196TDBYMlpHNzNUd0h2NUhkYTFYUzhHU0FFY0FFVXpLbUgyTVdGSjQ4MDZwVmdSeXNIQy1x0gGaAUFVX3lxTE5MRXJRU0w3cUpJM3U4N0JVMllaVTFLVFIzM2hlbURrTk1fTnhzUTNNOUI4el8tM1BQVERjcDZlWnBaSmVvRkstT0twUGNGdU9wbWZRT1pqeDRTWEl5Yl8zVjNBT1NrbVVkU2d1M255TVU1NWdWclktUVAtX1k4X1dpWTcyVXV5ZzBjZWlGN1dkSlNJdldRX2N2d3c?oc=5\n"
     ]
    },
    {
     "name": "stderr",
     "output_type": "stream",
     "text": [
      "c:\\Users\\garre\\anaconda3\\Lib\\site-packages\\dateutil\\parser\\_parser.py:1207: UnknownTimezoneWarning: tzname PST identified but not understood.  Pass `tzinfos` argument in order to correctly return a timezone-aware datetime.  In a future version, this will raise an exception.\n",
      "  warnings.warn(\"tzname {tzname} identified but not understood.  \"\n"
     ]
    },
    {
     "name": "stdout",
     "output_type": "stream",
     "text": [
      "URL https://news.google.com/rss/articles/CBMiekFVX3lxTE12WVdza1I1Y1ZqT0FDcWdBVXFMT29uSGZ4dzBNenFnQlZHMWFWWVVSM183RHRTY05PTTBMbVhyQVZLNkZGOTlWZHFhaUM5NS1YSnBLYTlYR194c3lOQU5mZUJ6bFJ3ZWhzeE56YVVvTDlaUzJBV0MwNk93?oc=5\n",
      "URL https://news.google.com/rss/articles/CBMipAFBVV95cUxOX0dKWHJkUU41Q1hzd3NWbDdUZkNBQmxzeXl6SVFweklIcTQzTTk4cDgzNjFxaUZVYkZuMVZ0RFl0dEN1M3k5cXhlT0FyOWNLTi0xY0U4RTZxR1owcE90ay1FUTMtUVZJNktDWjZTOVc1bXRaUXg5dkpPa0tDcGxDbl9ydm50Wmp1UVA1Ym91MFJUb2xmY0hhUVlVd1d1TXlobXdHag?oc=5\n",
      "URL https://news.google.com/rss/articles/CBMiZkFVX3lxTFBjTlRpZ1dkdVpjU2RtTUU3Y1lqZGlXRk9PYUlBSmloUy1lN1R3M2FJSFN2UEduSFJRQVhRRC1MbWVqSnJpS2tiY3c3Vm9xS19naFBvRWR2RTQzUGxFbkU4c3ducl9Vdw?oc=5\n",
      "URL https://news.google.com/rss/articles/CBMiekFVX3lxTE5Nc2REUFJIYzd5RXp4MXFicHRzcmw3TzdZeDR6dTMza1dWZFlxck5FSXJSQW01SmFLclcwR2hEdG1iU211eDdRM2ZQMm81NlNPdHR1M2h0UGNGVmRGcW5qWjBnTkVNTEpfQTR6VmxGN3QxNXhROERVb3BB?oc=5\n",
      "URL https://news.google.com/rss/articles/CBMiekFVX3lxTE5vQ2MzUG4xX1JGUE40VUxDejBoOGxpc3hybkJGUUJfeDluZXFlVXEwYXNXbnRhLXFLeDgtQkNXQU1VSkZCb1dYZGhaZENZeGw3NXlhY3RLUkpwa0FOeDd3RTg5UVZVRlRwTGhNSXZpLUhlQlM5VDZ3TzV3?oc=5\n",
      "URL https://news.google.com/rss/articles/CBMic0FVX3lxTFBZUGUwNTlZSmNRcTdnTEJtMlRuLXQ5MFQzOS1UNXBYZk5XS21aWm12c3Y1T2hlZEJuaUNBbEE2VXZyWTRwRFhXLVpJNnRJanlzUkJWU3VVcFU4ME5KdEpIRmxWRWlvN0IwRHFpV050OEdGSFXSAXhBVV95cUxQaXFtVHk4QnFzcktPcTFlWjBfSjNQSmpUUGtnbERhT3FxNzZzLVlDcTM0c3JqODZWM3NVeG9lVnJfRlVFVXlWZGtydmNkNFU4ZTVBMHRHazI0R3JJZmZMUjNEdDRvcGt3SDE5UU9fVXctV1pLR0RoanE?oc=5\n",
      "Error extracting article content: Article `download()` failed with 403 Client Error: Forbidden for url: https://defence-blog.com/taiwan-deploys-artillery-in-urban-areas/ on URL https://defence-blog.com/taiwan-deploys-artillery-in-urban-areas/\n",
      "URL https://news.google.com/rss/articles/CBMiV0FVX3lxTFBBcmtRU1NmZXlhNmxuOG5FQ29xMldycFQ3YklncEZFVmFDdWhGYzZzcEtFT2RiX1daak4zdk1QakNaYW5MZE9KWnhDd3Q0dlVSSXpxdWpFaw?oc=5\n",
      "URL https://news.google.com/rss/articles/CBMipgFBVV95cUxONy1CTDNmSEIzXzBRZWFfU1p3ZWRXTzZBa05EMFFxdjJwSHVuX1RVOVdVc2Z4NlBKNGEtRDZDRW1CTWdHcU9mM1VpbERxN1d3VWhqcS02THZtR0lUaklJVVFJLXhYSzlyQ3NmTy1NRTNsM05hbjBjQXh1WFg3LTFyTFYxU0JFak9PbDZUWU1uU3NxOXE0X3F2ajJlc2RWRm9zMWtFdnlR0gGmAUFVX3lxTFBJbE1neEo2OVYyWGlXYmRsSEROU0FMRTdqdm84M0tCMHVZMUpUc0dZcXdpWm1vWEM5SFRnVHhIdGh5ZWYwUzVYdXJCdTBub0FQTEppdmRyR2Znb0RKWF9BSHJ1RXNadlpQSlJPZUNjalZrVVR1VlhyaFE3a0Yxdlkyc205QmVrODAyV0VfWGpxdjIzWW9tY3lrNURfaE9CNG01M0lzOHc?oc=5\n",
      "Trends info scraped, trend selected and articles collected. All information saved.\n"
     ]
    }
   ],
   "source": [
    "keyword = input('Enter trend keyword: ')\n",
    "trend = [trend for trend in finalTrendList if trend['keyword'] == keyword][0]\n",
    "linkNews = {}\n",
    "collectArticles(trend, linkNews=linkNews, maxArticles = 40)\n",
    "pickle.dump(finalTrendList, open('./tmp/finalTrendList.pkl', 'wb'))\n",
    "print('Trends info scraped, trend selected and articles collected. All information saved.')"
   ]
  },
  {
   "cell_type": "markdown",
   "id": "2b735ecb",
   "metadata": {},
   "source": [
    "# 🎨 Generate Assets For Selected Trend\n",
    "---"
   ]
  },
  {
   "cell_type": "code",
   "execution_count": 17,
   "id": "ee3d1748",
   "metadata": {},
   "outputs": [],
   "source": [
    "config = {'news_report': True,\n",
    "        'script': True,\n",
    "        'narration': True,\n",
    "        'voice': False,\n",
    "        'sora_prompts': True}"
   ]
  },
  {
   "cell_type": "code",
   "execution_count": 18,
   "id": "9ee330b9",
   "metadata": {},
   "outputs": [
    {
     "name": "stdout",
     "output_type": "stream",
     "text": [
      "sk_f96d619fc51235180796190a025b96954210e5b25af0d67d\n"
     ]
    }
   ],
   "source": [
    "print(ELEVENLABS_API_KEY)"
   ]
  },
  {
   "cell_type": "code",
   "execution_count": 19,
   "id": "d448a3ca",
   "metadata": {},
   "outputs": [
    {
     "name": "stdout",
     "output_type": "stream",
     "text": [
      "C:\\Users\\garre\\OneDrive\\Desktop\\Projects\\aiMedia\\assets\\2025-03-23-18-45-56\\China_Taiwan topic_dir\n",
      "C:\\Users\\garre\\OneDrive\\Desktop\\Projects\\aiMedia\\assets\\2025-03-23-18-45-56\\China_Taiwan\\sora_prompts sora_prompt_dir\n",
      "41 validArticles\n"
     ]
    },
    {
     "data": {
      "text/plain": [
       "{'paths': {'script': 'C:\\\\Users\\\\garre\\\\OneDrive\\\\Desktop\\\\Projects\\\\aiMedia\\\\assets\\\\2025-03-23-18-45-56\\\\China_Taiwan\\\\script.txt',\n",
       "  'audio': 'C:\\\\Users\\\\garre\\\\OneDrive\\\\Desktop\\\\Projects\\\\aiMedia\\\\assets\\\\2025-03-23-18-45-56\\\\China_Taiwan\\\\voiceover.mp3',\n",
       "  'video': 'C:\\\\Users\\\\garre\\\\OneDrive\\\\Desktop\\\\Projects\\\\aiMedia\\\\assets\\\\2025-03-23-18-45-56\\\\China_Taiwan\\\\video.mp4',\n",
       "  'sora_prompts': 'C:\\\\Users\\\\garre\\\\OneDrive\\\\Desktop\\\\Projects\\\\aiMedia\\\\assets\\\\2025-03-23-18-45-56\\\\China_Taiwan\\\\sora_prompts',\n",
       "  'news_report': 'C:\\\\Users\\\\garre\\\\OneDrive\\\\Desktop\\\\Projects\\\\aiMedia\\\\assets\\\\2025-03-23-18-45-56\\\\China_Taiwan\\\\news_report.txt'}}"
      ]
     },
     "execution_count": 19,
     "metadata": {},
     "output_type": "execute_result"
    }
   ],
   "source": [
    "generate_assets(trend, openai_api_key=OPENAI_API_KEY, elevenlabs_api_key=ELEVENLABS_API_KEY, voice_id=VOICE_ID, run_dir=RUN_DIR, config=config)"
   ]
  },
  {
   "cell_type": "code",
   "execution_count": 20,
   "id": "18344002",
   "metadata": {},
   "outputs": [
    {
     "data": {
      "text/plain": [
       "'C:\\\\Users\\\\garre\\\\OneDrive\\\\Desktop\\\\Projects\\\\aiMedia\\\\assets\\\\2025-03-23-18-45-56'"
      ]
     },
     "execution_count": 20,
     "metadata": {},
     "output_type": "execute_result"
    }
   ],
   "source": [
    "os.getenv(\"RUN_DIR\")"
   ]
  },
  {
   "cell_type": "code",
   "execution_count": 21,
   "id": "b61bcb71",
   "metadata": {},
   "outputs": [],
   "source": [
    "os.chdir(RUN_DIR)\n",
    "outName = trend['keyword'].replace(\" \", \"_\") # name of folder and file to zip\n",
    "!tar -acf {outName}.zip {outName}"
   ]
  },
  {
   "cell_type": "code",
   "execution_count": 22,
   "id": "09508ecc",
   "metadata": {},
   "outputs": [],
   "source": [
    "!echo python -m wormhole send {outName}.zip | clip && start cmd"
   ]
  },
  {
   "cell_type": "markdown",
   "id": "e22c6f08",
   "metadata": {},
   "source": [
    "# Generating Assets with Grok 🤖\n",
    "___"
   ]
  },
  {
   "cell_type": "code",
   "execution_count": 23,
   "id": "a9d75749",
   "metadata": {},
   "outputs": [],
   "source": [
    "import os\n",
    "from dotenv import load_dotenv\n",
    "load_dotenv()\n",
    "from grok import Grok\n",
    "import pickle"
   ]
  },
  {
   "cell_type": "code",
   "execution_count": 24,
   "id": "421dd7f7",
   "metadata": {},
   "outputs": [],
   "source": [
    "os.chdir(os.getenv(\"APPDIR\"))"
   ]
  },
  {
   "cell_type": "code",
   "execution_count": 25,
   "id": "db027176",
   "metadata": {},
   "outputs": [
    {
     "name": "stdout",
     "output_type": "stream",
     "text": [
      "xai-fq2OPXVKJrQCMyitw8z4fUiuVE6OO0KBjy1AzT5L56DiZsG88SqNJgvISwXC7psVI6wmT5vkAkFWadXF https://api.x.ai/v1/chat/completions\n"
     ]
    }
   ],
   "source": [
    "grok_api_key, grok_url, grok_model = os.getenv(\"GROK_API_KEY\"), os.getenv(\"GROK_URL\"), 'grok-2-latest'\n",
    "print(grok_api_key, grok_url)\n",
    "grok = Grok(grok_api_key, grok_url, grok_model)"
   ]
  },
  {
   "cell_type": "code",
   "execution_count": 26,
   "id": "0ad7f619",
   "metadata": {},
   "outputs": [],
   "source": [
    "def generate_script_grok(client: Grok, trend_data: dict, news_report: str) -> str:\n",
    "\n",
    "    \"\"\"Generate a video script using Grok based on trend data\"\"\"\n",
    "    \n",
    "    prompt = f\"\"\"Create a short, video script about this trending topic:\n",
    "    Topic: {trend_data['keyword']}\n",
    "    Related Keywords: {', '.join(trend_data['keywords'])}\n",
    "    News Report: {news_report}\n",
    "    \n",
    "    The script must be:\n",
    "    1. Informative and accurate\n",
    "    2. Focused on the most important and sensational aspects of the story\n",
    "    3. Conversational and concise.\n",
    "    4. Written with charged language and emotional appeals.\n",
    "    5. Quick to the point, no fluff.\n",
    "    6. Between 60 and 80 words in length.\n",
    "\n",
    "    The script must NOT:\n",
    "    1. Contain an outro of any kind, or mention subscribing to the channel\n",
    "    2. Use acronyms or abbreviations without explanation\n",
    "    3. Contain any headers, formatting, directions for the video, or other instructions.\n",
    "\n",
    "    End the script with a uniqueand engaging question.\n",
    "    \"\"\"\n",
    "    return client.generate_text(prompt)"
   ]
  },
  {
   "cell_type": "code",
   "execution_count": 27,
   "id": "a3f3cfcc",
   "metadata": {},
   "outputs": [],
   "source": [
    "def generate_sora_prompts_grok(client: Grok, script: str, num_prompts: int = 1) -> list[str]:\n",
    "    \"\"\"Generate Sora-compatible video prompts based on the script\"\"\"\n",
    "\n",
    "    soraScripts = []\n",
    "    prompt = f\"\"\"Break down this script into a series of four video scene descriptions suitable for AI video generation:\n",
    "    \n",
    "    Script: {script}\n",
    "    \n",
    "    There should be four scenes.\n",
    "\n",
    "    For each scene:\n",
    "    \n",
    "    1. Describe the visual elements in detail\n",
    "    2. Include camera movements and transitions\n",
    "    3. Be concise -- under 25 words.\n",
    "    4. Use loose, conversational language in your description.\n",
    "    5. Format the scene description as follows:\n",
    "        [Scene Title] <= 5 words\n",
    "        [Scene Description] <= 25 words\n",
    "        [Camera Movements/Transitions] <= 25 words\n",
    "        newline\n",
    "\n",
    "    Do NOT:\n",
    "    1. Generate a scene for an outro\n",
    "    2. Use acronyms or abbreviations without explanation\n",
    "    3. Use the newline character, never the word \"newline\"\n",
    "    \"\"\"\n",
    "    \n",
    "    for i in range(num_prompts):\n",
    "        soraScript = client.generate_text(prompt)\n",
    "        soraScripts.append(soraScript)\n",
    "    return soraScripts"
   ]
  },
  {
   "cell_type": "code",
   "execution_count": 28,
   "id": "28563a19",
   "metadata": {},
   "outputs": [],
   "source": [
    "def generate_sora_prompts_grokV2(client: Grok, script: str, num_prompts: int = 1) -> list[str]:\n",
    "    \"\"\"Generate Sora-compatible video prompts based on the script\"\"\"\n",
    "\n",
    "    soraScripts = []\n",
    "    prompt = f\"\"\"Break down this script into a series of four video scene descriptions suitable for AI video generation:\n",
    "    \n",
    "    Script: {script}\n",
    "    \n",
    "    There should be five scenes.\n",
    "\n",
    "    For each scene:\n",
    "    \n",
    "    1. Describe the visual elements in detail\n",
    "    2. Include camera movements and transitions\n",
    "    3. Be concise -- under 25 words.\n",
    "    4. Use loose, conversational language in your description.\n",
    "    5. Scene descriptions should tell a story. Ensure that it can be told in ten seconds or less.\n",
    "    6. Format the scene description as follows:\n",
    "        [Scene Title] <= 5 words\n",
    "        [Scene Description] <= 25 words\n",
    "        [Camera Movements/Transitions] <= 25 words\n",
    "        newline\n",
    "\n",
    "    Do NOT:\n",
    "    1. Generate a scene for an outro\n",
    "    2. Use acronyms or abbreviations without explanation\n",
    "    \"\"\"\n",
    "    \n",
    "    for i in range(num_prompts):\n",
    "        soraScript = client.generate_text(prompt)\n",
    "        soraScripts.append(soraScript)\n",
    "    return soraScripts"
   ]
  },
  {
   "cell_type": "code",
   "execution_count": 29,
   "id": "22e0795d",
   "metadata": {},
   "outputs": [],
   "source": [
    "def generate_sora_prompts_grokV3(client: Grok, script: str, num_prompts: int = 1, temp = 1.6) -> list[str]:\n",
    "    \"\"\"Generate Sora-compatible video prompts based on the script\"\"\"\n",
    "\n",
    "    soraPrompts = []\n",
    "    prompt = f\"\"\"Break down this script into a series of four video scene descriptions suitable for AI video generation:\n",
    "    \n",
    "    Script: {script}\n",
    "    \n",
    "    There should be four scenes.\n",
    "\n",
    "    For each scene:\n",
    "    \n",
    "    1. Determine the most sensational aspect of the corresponding portion of the script. Capture it with a creative idea described vividly.\n",
    "    2. Include camera movements and transitions\n",
    "    3. Be concise -- under 25 words.\n",
    "    4. Use loose, conversational language in your description.\n",
    "    5. Format the scene description as follows:\n",
    "        [Scene Title] <= 5 words\n",
    "        [Scene Description] <= 25 words\n",
    "        [Camera Movements/Transitions] <= 25 words\n",
    "        newline\n",
    "\n",
    "    Do NOT:\n",
    "    1. Generate a scene for an outro\n",
    "    2. Use acronyms or abbreviations without explanation\n",
    "    3. Use the word \"newline\". Always use the newline character.\n",
    "    4. Use people's names. Instead, describe the person in detail.\n",
    "    \"\"\"\n",
    "    \n",
    "    for i in range(num_prompts):\n",
    "        soraPrompt = client.generate_text(prompt, temperature=temp)\n",
    "        print(soraPrompt)\n",
    "        soraPrompts.append(soraPrompt)\n",
    "    return soraPrompts"
   ]
  },
  {
   "cell_type": "code",
   "execution_count": 30,
   "id": "ca2fb89a",
   "metadata": {},
   "outputs": [],
   "source": [
    "def makeHook(client: Grok, script, audience, temp = 1.6):\n",
    "    prompt = f\"\"\"Generate a short (< 10 words) hook that introduces the following video script. \n",
    "\n",
    "    The hook must:\n",
    "    1. Directly engage the audience, {audience}, with a statement.\n",
    "    2. Be < 10 words.\n",
    "    3. Use dramatic language\n",
    "    4. Capture the most essential themes from the script\n",
    "\n",
    "    Use a confident tone. DO NOT use a ? anywhere.\n",
    "\n",
    "    script: {script}\n",
    "    \"\"\"\n",
    "    return client.generate_text(prompt, temperature=temp)"
   ]
  },
  {
   "cell_type": "code",
   "execution_count": 31,
   "id": "a48bb960",
   "metadata": {},
   "outputs": [],
   "source": [
    "def finalScript(client: Grok, script, hook, temp = 0):\n",
    "    prompt = f\"\"\"Prepend the hook to the script, and make sure it melds well. Do not change the hook.\n",
    "    \n",
    "    script: {script}\n",
    "    hook: {hook}\n",
    "    \"\"\"\n",
    "    return client.generate_text(prompt, temperature=temp)"
   ]
  },
  {
   "cell_type": "code",
   "execution_count": 32,
   "id": "038a1680",
   "metadata": {},
   "outputs": [],
   "source": [
    "def generate_grok_image_prompts(client: Grok, script: str, num_prompts: int = 10) -> list[str]:\n",
    "    \"\"\"Generate Grok image prompts based on the script\"\"\"\n",
    "\n",
    "    prompt = f\"\"\"Generate a series of (~{int}) image descriptions that capture the most sensational themes of the following script.\n",
    "\n",
    "    For each image:\n",
    "    1. Be assertive and highly creative in your description. \n",
    "    2. Be clear and concise. \n",
    "    3. Use familiar elements of popular culture where appropriate e.g. brands, celebrities, landmarks, products, etc.\n",
    "\n",
    "    Each image prompt should have the following format:\n",
    "    Generate an image of [description]\n",
    "\n",
    "    Separate each image prompt with a newline.\n",
    "    \n",
    "    Script: {script}\n",
    "    \"\"\"\n",
    "    return client.generate_text(prompt)"
   ]
  },
  {
   "cell_type": "code",
   "execution_count": 33,
   "id": "8d1a0f11",
   "metadata": {},
   "outputs": [],
   "source": [
    "def generate_grok_narration(client: Grok, script: str) -> str:\n",
    "    \"\"\"Generate a narration using Grok based on the script\"\"\"\n",
    "\n",
    "    prompt = f\"\"\"Extract only the words to be spoken from this video script:\n",
    "    Script: {script}.\n",
    "\n",
    "    The result should NOT include any mention of a narrator or scene descriptions.\n",
    "    \"\"\"\n",
    "    return grok.generate_text(prompt)"
   ]
  },
  {
   "cell_type": "code",
   "execution_count": 34,
   "id": "27148bc4",
   "metadata": {},
   "outputs": [],
   "source": [
    "def generate_hashtags(client: Grok, script: str) -> list[str]:\n",
    "    \"\"\"Generate hashtags using Grok based on the script\"\"\"\n",
    "\n",
    "    prompt = f\"\"\"Generate the best series of hashtags to make this video go viral on instagram reels, tik tok, and youtube shorts.\n",
    "    Select the best 10 hashtags and brief reasoning for each.\n",
    "\n",
    "    The result should be in the following format:\n",
    "    for each hashtag:\n",
    "        [Hashtag] [Reasoning]\n",
    "\n",
    "    Include a one-line space separated list of all hashtags at the end.\n",
    "\n",
    "    Script: {script}\"\"\"\n",
    "    return client.generate_text(prompt)\n"
   ]
  },
  {
   "cell_type": "code",
   "execution_count": 35,
   "id": "fda90436",
   "metadata": {},
   "outputs": [],
   "source": [
    "def generate_grok_opinion_analysis(client: Grok, news_report: str) -> str:\n",
    "    \"\"\"Generate an opinion analysis using Grok based on the news report\"\"\"\n",
    "\n",
    "    prompt = f\"\"\"Generate an opinion analysis using Grok based on the news report:\n",
    "    News Report: {news_report}\n",
    "\n",
    "    The opinion analysis should:\n",
    "    1. Be highly engaging and bold.\n",
    "    2. Provide evidence based reasoning for claims made. \n",
    "    3. Be less than 500 words in length.\n",
    "    4. Be written in a professional tone.\n",
    "\n",
    "    The opinion analysis should NOT:\n",
    "    1. Cite sources.\n",
    "\n",
    "    Format:\n",
    "    [Title Highlighting the Central Claim] <= 10 words\n",
    "    [Opinion Analysis] <= 500 words\n",
    "    \"\"\"\n",
    "\n",
    "    return client.generate_text(prompt)"
   ]
  },
  {
   "cell_type": "code",
   "execution_count": 36,
   "id": "6cb681c1",
   "metadata": {},
   "outputs": [],
   "source": [
    "grok_api_key, grok_url, grok_model = os.getenv(\"GROK_API_KEY\"), os.getenv(\"GROK_URL\"), 'grok-2-latest'\n",
    "grok = Grok(grok_api_key, grok_url, grok_model)"
   ]
  },
  {
   "cell_type": "code",
   "execution_count": 37,
   "id": "d537078e",
   "metadata": {},
   "outputs": [],
   "source": [
    "# List directories in assets and get most recent\n",
    "asset_dirs = [d for d in os.listdir('assets') if os.path.isdir(os.path.join('assets', d))]\n",
    "RUN_DIR = os.path.join('assets', max(asset_dirs))\n",
    "MAIN = [os.path.join(RUN_DIR, d) for d in os.listdir(RUN_DIR) if os.path.isdir(os.path.join(RUN_DIR, d))][0] # only one directory in the RUN_DIR\n",
    "NEWS_REPORT = os.path.join(MAIN, 'news_report.txt')\n",
    "SORAPROMPTS = os.path.join(MAIN, 'soraprompts.txt')\n",
    "SCRIPT = os.path.join(MAIN, 'script.txt')\n",
    "keyword = MAIN.split('\\\\')[-1].replace('_', ' ')"
   ]
  },
  {
   "cell_type": "code",
   "execution_count": 38,
   "id": "705989e9",
   "metadata": {},
   "outputs": [],
   "source": [
    "finalTrendList = pickle.load(open('./tmp/finalTrendList.pkl', 'rb'))"
   ]
  },
  {
   "cell_type": "code",
   "execution_count": 39,
   "id": "99e509d9",
   "metadata": {},
   "outputs": [],
   "source": [
    "trend = [trend for trend in finalTrendList if trend['keyword'] == keyword][0]"
   ]
  },
  {
   "cell_type": "code",
   "execution_count": 40,
   "id": "66227778",
   "metadata": {},
   "outputs": [],
   "source": [
    "audience = \"Americans with an interest in the world of business\""
   ]
  },
  {
   "cell_type": "code",
   "execution_count": 41,
   "id": "8b3becab",
   "metadata": {},
   "outputs": [
    {
     "name": "stdout",
     "output_type": "stream",
     "text": [
      "### Rising Tensions in Taiwan: President Lai Takes a Hard Stance Against China Amid Military Escalation\n",
      "\n",
      "**TAIPEI, Taiwan —** In a significant shift in Taiwan's political landscape, President Lai Ching-te has declared China a \"foreign hostile force\", ramping up national security measures as the threat of Chinese aggression looms large. This declaration, made during a recent high-level national security meeting, marks the first time a Taiwanese leader has openly labeled China in such stark terms, reflecting heightened concerns over espionage and infiltration operations by Beijing within Taiwan.\n",
      "\n",
      "President Lai's speech outlined a comprehensive 17-point plan aimed at bolstering national security, including proposals to reinstate military courts to address espionage and leaks effectively—a controversial nod to Taiwan's martial law past. He announced a commitment to increase Taiwan's defense budget to over 3% of GDP, a level not seen in more than a decade, amidst U.S. pressure to enhance military preparedness in the face of escalating threats from China, which has been actively conducting military drills around the island.\n",
      "\n",
      "Lai's administration is responding to what analysts describe as a systematic campaign of infiltration by China, leveraging a wide array of tactics to undermine Taiwan's governmental integrity and sow discord. Reports indicate an increase in prosecutions for espionage, with Taiwan's National Security Bureau citing a rise in cases involving military personnel entangled in pro-China activities. The government has vowed to tighten residency criteria for Chinese nationals in Taiwan and conduct stricter oversight of cross-strait exchanges.\n",
      "\n",
      "China has reacted vehemently to these developments. The Chinese government condemned Lai's remarks, labeling him a \"dangerous separatist\" and accusing Taiwan of pushing the region toward war. In response to Lai's toughened rhetoric and military preparations, Chinese military maneuvers have intensified, with frequent incursions of fighter jets and naval vessels into Taiwan's air defense identification zone and near Taiwan's coastal waters, often characterized as \"punitive measures\" against Taiwan's leadership.\n",
      "\n",
      "As tensions rise, the U.S. position remains critically influential. President Donald Trump, who is reportedly contemplating a second presidential term, has endorsed a transactional approach to Taiwan's defense, advocating for Taiwanese defense spending to be significantly increased—possibly to 10% of GDP—while maintaining a policy of strategic ambiguity regarding U.S. military intervention in the event of a Chinese attack.\n",
      "\n",
      "While the Biden administration previously sought to provide clearer commitments to Taiwan, Trump's potential return to office could alter the dynamics of U.S.-Taiwan relations, encouraging a more transactional and arguably unpredictable posture. Experts warn that this could leave Taiwan more vulnerable, facing uncertainty regarding U.S. support amidst China's military aspirations for \"reunification\".\n",
      "\n",
      "The stakes are high. Taiwan's defense ministry has identified 2027 as a pivotal year for a potential Chinese invasion, illustrating the urgency of improving military readiness through upcoming Han Kuang exercises—a significant military drill aimed at preparing for such contingency. This year, the drills will expand to a ten-day format to better simulate an organized defense against possible raw aggression from China.\n",
      "\n",
      "In the backdrop of this ongoing tension, public sentiment in Taiwan reflects a growing resilience against Chinese influence. A recent survey indicates that an overwhelming majority of Taiwanese now identify exclusively as Taiwanese, rather than Chinese, signifying a shift in national identity and an increasing rejection of Chinese unification narratives.\n",
      "\n",
      "Going forward, experts suggest Taiwan must enhance its military strategy while fostering international alliances, emphasizing the importance of U.S. support and regional cooperation to deter Chinese aggression. As the global community keenly observes this precarious standoff, Taiwan's strategy in the coming years will be crucial not just for its own sovereignty, but for stability in the broader Indo-Pacific region.\n",
      "\n",
      "Amidst these developments, Taiwan is ramping up its domestic initiatives, working closely with allies such as Japan and the U.S. to ensure a coordinated response to the growing military threat posed by China. As President Lai fortifies Taiwan's defenses, the critical question remains: how will the international community respond to safeguard Taiwan's democratic values in the face of rising authoritarianism?\n"
     ]
    }
   ],
   "source": [
    "with open(NEWS_REPORT) as f:\n",
    "    newsReport = f.read()\n",
    "print(newsReport)"
   ]
  },
  {
   "cell_type": "code",
   "execution_count": 42,
   "id": "8ff8d32b",
   "metadata": {},
   "outputs": [],
   "source": [
    "GROKPATH = MAIN + '/grok'\n",
    "if not os.path.exists(GROKPATH):\n",
    "    os.mkdir(GROKPATH)"
   ]
  },
  {
   "cell_type": "code",
   "execution_count": 43,
   "id": "8c7f58b8",
   "metadata": {},
   "outputs": [],
   "source": [
    "soraPromptPath = GROKPATH + '/grok-soraprompts.txt'\n",
    "soraPromptsv2Path = GROKPATH + '/grok-soraprompts-v2.txt'\n",
    "soraPromptsV3Path = GROKPATH + '/grok-soraprompts-v3.txt'\n",
    "scriptPath = GROKPATH + '/grok-script.txt'\n",
    "grokImagePromptsPath = GROKPATH + '/grok-imageprompts.txt'\n",
    "grokNarrationPath = GROKPATH + '/grok-narration.txt'\n",
    "grokHashtagsPath = GROKPATH + '/grok-hashtags.txt'\n",
    "opinionAnalysisPath = GROKPATH + '/grok-opinionanalysis.txt'"
   ]
  },
  {
   "cell_type": "code",
   "execution_count": 44,
   "id": "8dc59abc",
   "metadata": {},
   "outputs": [
    {
     "name": "stdout",
     "output_type": "stream",
     "text": [
      "narrationWC:  58\n",
      "Tensions between Taiwan and China are skyrocketing! President Lai Ching-te just called China a \"foreign hostile force,\" sparking outrage from Beijing. Taiwan's beefing up its defenses, with plans to hike military spending and bring back military courts. China's not backing down, ramping up military drills around Taiwan. Will the world stand by as Taiwan fights for its freedom?\n",
      "=========\n",
      "narrationWC:  63\n",
      "Tensions soar as Taiwan's President Lai labels China a \"foreign hostile force,\" sparking a military escalation. Lai's 17-point security plan includes reviving military courts and hiking defense spending to over 3% of GDP. China retaliates with intensified drills, calling Lai a \"dangerous separatist.\" Amidst this, Taiwan's identity shifts, with most now identifying solely as Taiwanese. Can Taiwan's resilience hold against China's looming threat?\n",
      "=========\n"
     ]
    }
   ],
   "source": [
    "narrationWC = 0\n",
    "while narrationWC < 60 or narrationWC > 80:\n",
    "    script = generate_script_grok(grok, trend, newsReport)\n",
    "    narration = generate_grok_narration(grok, script)\n",
    "    narrationWC = len(narration.split(' '))\n",
    "    print('narrationWC: ', narrationWC)\n",
    "    print(narration)\n",
    "    print(\"=========\")\n",
    "    \n",
    "hook = makeHook(grok, narration, audience)\n",
    "finalNarration = finalScript(grok, script, hook)\n",
    "\n",
    "with open(scriptPath, 'w') as f:\n",
    "    f.write(script)\n",
    "with open(grokNarrationPath, 'w') as f:\n",
    "    f.write(finalNarration)"
   ]
  },
  {
   "cell_type": "code",
   "execution_count": 45,
   "id": "1a4a0388",
   "metadata": {},
   "outputs": [
    {
     "name": "stdout",
     "output_type": "stream",
     "text": [
      "Generate an image of Taiwan's President Lai standing resolutely at a podium, delivering a fiery speech against a backdrop of the Taipei 101 skyscraper illuminated in the colors of the Taiwanese flag, symbolizing national pride and defiance.\n",
      "\n",
      "Generate an image of a dramatic military parade in Taipei, showcasing Taiwan's advanced weaponry and soldiers in formation, reminiscent of a scene from a Hollywood blockbuster, with the iconic Taipei skyline in the background.\n",
      "\n",
      "Generate an image of a tense standoff in the Taiwan Strait, with Taiwanese and Chinese naval ships facing off, the tension palpable in the stormy waters, akin to a scene from the movie \"Top Gun: Maverick.\"\n",
      "\n",
      "Generate an image of a bustling Taiwanese street market, where locals proudly display signs and banners affirming their Taiwanese identity, with popular Taiwanese street foods like stinky tofu and bubble tea prominently featured, symbolizing cultural resilience.\n",
      "\n",
      "Generate an image of a high-tech Taiwanese military court in session, with judges in modern uniforms and advanced digital displays, resembling a scene from a futuristic sci-fi film like \"Blade Runner.\"\n",
      "\n",
      "Generate an image of a dramatic increase in Taiwan's defense budget, illustrated by a giant digital screen in a busy financial district showing the GDP percentage rising to over 3%, with people below reacting with a mix of concern and determination.\n",
      "\n",
      "Generate an image of Chinese military drills near Taiwan, with fighter jets and warships in action, the scene reminiscent of a high-stakes sequence from the \"Mission: Impossible\" series, highlighting the looming threat.\n",
      "\n",
      "Generate an image of a symbolic shift in Taiwanese identity, depicted by a massive crowd at a rally waving Taiwanese flags and holding up signs that read \"We are Taiwanese,\" with the scene echoing the energy of a major political rally in Times Square, New York.\n"
     ]
    }
   ],
   "source": [
    "images = generate_grok_image_prompts(grok, script)\n",
    "with open(grokImagePromptsPath, 'w') as f:\n",
    "    f.write(images)\n",
    "print(images)"
   ]
  },
  {
   "cell_type": "code",
   "execution_count": 46,
   "id": "715b532a",
   "metadata": {},
   "outputs": [
    {
     "name": "stdout",
     "output_type": "stream",
     "text": [
      "[Tensions Rise]\n",
      "[President Lai speaks at podium, flags behind, tense atmosphere]\n",
      "[Camera zooms in on Lai, cuts to crowd reactions]\n",
      "[Taiwan's Military Plan]\n",
      "[Documents on table, military officers discussing, charts showing 3% GDP defense spending]\n",
      "[Camera pans across documents, zooms into charts, cuts to officers]\n",
      "[China's Retaliation]\n",
      "[Chinese military drills, ships and planes, aggressive maneuvers, \"dangerous separatist\" text overlay]\n",
      "[Camera follows ships, quick cuts between planes and text]\n",
      "[Taiwan's Identity Shift]\n",
      "[People on streets, Taiwanese flags, polls showing identity shift]\n",
      "[Camera moves through crowd, focuses on flags, ends on poll results]\n"
     ]
    }
   ],
   "source": [
    "soraPrompts = generate_sora_prompts_grok(grok, script)\n",
    "with open(soraPromptPath, 'w') as f:\n",
    "    f.write(soraPrompts[0])\n",
    "print(soraPrompts[0])"
   ]
  },
  {
   "cell_type": "code",
   "execution_count": 47,
   "id": "4e16da9f",
   "metadata": {},
   "outputs": [
    {
     "name": "stdout",
     "output_type": "stream",
     "text": [
      "[Tensions Rise in Taiwan]\n",
      "[President Lai speaks at podium, flags behind, tense atmosphere]\n",
      "[Camera zooms in on Lai, cuts to crowd reactions]\n",
      "newline\n",
      "\n",
      "[Security Plan Unveiled]\n",
      "[Lai presents 17-point plan on screen, military court scenes]\n",
      "[Camera pans across plan points, fades to military court]\n",
      "newline\n",
      "\n",
      "[China's Military Response]\n",
      "[Chinese military drills, ships and planes, aggressive maneuvers]\n",
      "[Camera follows ships, quick cuts to planes in action]\n",
      "newline\n",
      "\n",
      "[Taiwanese Identity Shifts]\n",
      "[People on streets, Taiwanese flags, sense of unity]\n",
      "[Camera moves through crowd, focuses on flags and faces]\n",
      "newline\n",
      "\n",
      "[Resilience Against Threat]\n",
      "[Taiwanese military on alert, citizens resilient, looming Chinese threat]\n",
      "[Camera sweeps military, cuts to determined citizens, fades out]\n",
      "newline\n"
     ]
    }
   ],
   "source": [
    "soraPrompts2 = generate_sora_prompts_grokV2(grok, script)\n",
    "with open(soraPromptsv2Path, 'w') as f:\n",
    "    f.write(soraPrompts2[0])\n",
    "print(soraPrompts2[0])"
   ]
  },
  {
   "cell_type": "code",
   "execution_count": 48,
   "id": "4787d66a",
   "metadata": {},
   "outputs": [
    {
     "name": "stdout",
     "output_type": "stream",
     "text": [
      "[Tensions Rise]\n",
      "[The president of Taiwan labels China a \"foreign hostile force\", standing firm behind a podium.]\n",
      "[Camera zooms in on the president, then pans to a crowd of supporters nodding in agreement.]\n",
      "\n",
      "[Security Measures Intensify]\n",
      "[A group of military officials unveil a 17-point plan, with charts showing defense spending increase to over 3% of GDP.]\n",
      "[Camera sweeps across the charts, then cuts to soldiers training intensely.]\n",
      "\n",
      "[China's Retaliation]\n",
      "[Chinese military jets soar overhead, conducting intensified drills, as a spokesperson calls the Taiwanese leader a \"dangerous separatist\".]\n",
      "[Camera follows the jets, then cuts to the spokesperson's stern face on a large screen.]\n",
      "\n",
      "[Taiwanese Identity Shifts]\n",
      "[A diverse group of Taiwanese people proudly wave flags and assert their unique identity, symbolizing a shift away from Chinese identity.]\n",
      "[Camera moves through the crowd, capturing different faces, then pulls back to show the full scope of the gathering.]\n",
      "[Tensions Rise in Taiwan]\n",
      "[President Lai speaks at podium, flags behind, tense atmosphere]\n",
      "[Camera zooms in on Lai, cuts to crowd reactions]\n",
      "newline\n",
      "\n",
      "[Security Plan Unveiled]\n",
      "[Lai presents 17-point plan on screen, military court scenes]\n",
      "[Camera pans across plan points, fades to military court]\n",
      "newline\n",
      "\n",
      "[China's Military Response]\n",
      "[Chinese military drills, ships and planes, aggressive maneuvers]\n",
      "[Camera follows ships, quick cuts to planes in action]\n",
      "newline\n",
      "\n",
      "[Taiwanese Identity Shifts]\n",
      "[People on streets, Taiwanese flags, sense of unity]\n",
      "[Camera moves through crowd, focuses on flags and faces]\n",
      "newline\n",
      "\n",
      "[Resilience Against Threat]\n",
      "[Taiwanese military on alert, citizens resilient, looming Chinese threat]\n",
      "[Camera sweeps military, cuts to determined citizens, fades out]\n",
      "newline\n"
     ]
    }
   ],
   "source": [
    "soraPrompts3 = generate_sora_prompts_grokV3(grok, script)\n",
    "with open(soraPromptsV3Path, 'w') as f:\n",
    "    f.write(soraPrompts3[0])\n",
    "print(soraPrompts2[0])"
   ]
  },
  {
   "cell_type": "code",
   "execution_count": 49,
   "id": "18418574",
   "metadata": {},
   "outputs": [
    {
     "name": "stdout",
     "output_type": "stream",
     "text": [
      "1. [#TaiwanChinaTensions] This hashtag directly addresses the central theme of the video, the escalating tensions between Taiwan and China, which is likely to attract viewers interested in geopolitical issues.\n",
      "\n",
      "2. [#LaiChingte] Including the name of Taiwan's President will draw attention from those specifically interested in his policies and actions, increasing relevance and engagement.\n",
      "\n",
      "3. [#MilitaryEscalation] This hashtag will attract viewers interested in military developments and conflicts, which is a key element of the video's narrative.\n",
      "\n",
      "4. [#TaiwanSecurityPlan] By focusing on the specific security measures mentioned in the script, this hashtag will appeal to viewers interested in national security and defense strategies.\n",
      "\n",
      "5. [#DefenseSpending] This hashtag targets an audience interested in economic aspects of national defense, which is a significant part of the video's content.\n",
      "\n",
      "6. [#ChinaMilitaryDrills] This will attract viewers who follow military activities and China's strategic maneuvers, directly relating to the video's depiction of China's response.\n",
      "\n",
      "7. [#TaiwaneseIdentity] This hashtag taps into the cultural and identity shifts discussed in the video, appealing to those interested in sociological changes.\n",
      "\n",
      "8. [#SeparatistThreat] By using this hashtag, the video can engage viewers interested in political labels and the implications of being called a separatist, as mentioned in the script.\n",
      "\n",
      "9. [#ResilienceAgainstThreat] This hashtag emphasizes the theme of resilience, which is a compelling narrative element that can inspire and engage viewers.\n",
      "\n",
      "10. [#GeopoliticalCrisis] This broad hashtag will attract a wide audience interested in global political crises, making the video relevant to a larger discussion.\n",
      "\n",
      "List of all hashtags: #TaiwanChinaTensions #LaiChingte #MilitaryEscalation #TaiwanSecurityPlan #DefenseSpending #ChinaMilitaryDrills #TaiwaneseIdentity #SeparatistThreat #ResilienceAgainstThreat #GeopoliticalCrisis\n"
     ]
    }
   ],
   "source": [
    "hashtags = generate_hashtags(grok, script)\n",
    "with open(grokHashtagsPath, 'w') as f:\n",
    "    f.write(hashtags)\n",
    "print(hashtags)\n"
   ]
  },
  {
   "cell_type": "code",
   "execution_count": 50,
   "id": "74b6ac05",
   "metadata": {},
   "outputs": [],
   "source": [
    "opinionAnalysis = generate_grok_opinion_analysis(grok, newsReport)"
   ]
  },
  {
   "cell_type": "code",
   "execution_count": 51,
   "id": "0fb4b9cc",
   "metadata": {},
   "outputs": [
    {
     "name": "stdout",
     "output_type": "stream",
     "text": [
      "**Taiwan's Bold Stance: A Necessary Defense Against Chinese Aggression**\n",
      "\n",
      "President Lai's resolute declaration of China as a \"foreign hostile force\" and his comprehensive plan to bolster Taiwan's national security are bold and necessary steps in the face of escalating Chinese aggression. The evidence of China's systematic campaign of infiltration, including increased espionage cases and military drills around Taiwan, underscores the urgency of Lai's actions.\n",
      "\n",
      "Lai's proposal to reinstate military courts and increase defense spending to over 3% of GDP demonstrates a commitment to protecting Taiwan's sovereignty and democratic values. While controversial, these measures are justified given the severity of the threat posed by China's ambitions for \"reunification.\" The Taiwanese public's growing identification as exclusively Taiwanese further validates the need for a strong national defense strategy.\n",
      "\n",
      "The international community, particularly the United States, must recognize the gravity of the situation and provide unwavering support to Taiwan. The potential return of a transactional approach under a Trump administration could leave Taiwan vulnerable, as China's military preparations for a possible 2027 invasion continue unabated. It is crucial for the U.S. to maintain a clear commitment to Taiwan's defense and work closely with allies like Japan to deter Chinese aggression.\n",
      "\n",
      "As tensions rise, Taiwan's strategy of enhancing military readiness through exercises like Han Kuang and fostering international alliances is essential. The global community must stand united in safeguarding Taiwan's democratic values against the backdrop of rising authoritarianism. President Lai's hard stance against China is not only a necessary defense of Taiwan's sovereignty but also a critical step in maintaining stability in the Indo-Pacific region.\n"
     ]
    }
   ],
   "source": [
    "with open(opinionAnalysisPath, 'w') as f:\n",
    "    f.write(opinionAnalysis)\n",
    "print(opinionAnalysis)"
   ]
  },
  {
   "cell_type": "code",
   "execution_count": 52,
   "id": "9a7f5ccc",
   "metadata": {},
   "outputs": [],
   "source": [
    "os.chdir(RUN_DIR)\n",
    "outName = trend['keyword'].replace(\" \", \"_\") # name of folder and file to zip\n",
    "!tar -acf {outName}.zip {outName}"
   ]
  },
  {
   "cell_type": "code",
   "execution_count": null,
   "id": "3648bd14",
   "metadata": {},
   "outputs": [],
   "source": []
  },
  {
   "cell_type": "markdown",
   "id": "01d8c9b0",
   "metadata": {},
   "source": [
    "# Make Sora Videos 🎥\n",
    "______"
   ]
  },
  {
   "cell_type": "code",
   "execution_count": 53,
   "id": "41d2c349",
   "metadata": {},
   "outputs": [
    {
     "data": {
      "text/plain": [
       "True"
      ]
     },
     "execution_count": 53,
     "metadata": {},
     "output_type": "execute_result"
    }
   ],
   "source": [
    "from soraVideoGen import SoraVideoGenerator as SVG\n",
    "import os\n",
    "from dotenv import load_dotenv\n",
    "load_dotenv()"
   ]
  },
  {
   "cell_type": "code",
   "execution_count": 54,
   "id": "304b4c21",
   "metadata": {},
   "outputs": [],
   "source": [
    "os.chdir(os.getenv(\"APPDIR\"))"
   ]
  },
  {
   "cell_type": "code",
   "execution_count": 55,
   "id": "94c43d48",
   "metadata": {},
   "outputs": [],
   "source": [
    "myuserprofile = r'C:\\Users\\garre\\AppData\\Local\\Google\\Chrome\\User Data'"
   ]
  },
  {
   "cell_type": "markdown",
   "id": "9c8d88bc",
   "metadata": {},
   "source": [
    "make sure sora is logged in, most recently open in chrome, and set with the appropriate modifiers (display ratio, etc)"
   ]
  },
  {
   "cell_type": "code",
   "execution_count": 62,
   "id": "92fd003b",
   "metadata": {},
   "outputs": [],
   "source": [
    "svg = SVG(myuserprofile)"
   ]
  },
  {
   "cell_type": "code",
   "execution_count": 57,
   "id": "a790ca14",
   "metadata": {},
   "outputs": [],
   "source": [
    "ASSETS = os.path.join(os.getcwd(), 'assets')\n",
    "# Get list of all folders in BASE\n",
    "folders = [f for f in os.listdir(ASSETS) if os.path.isdir(os.path.join(ASSETS, f))]\n",
    "\n",
    "# Sort folders by creation time and get most recent\n",
    "MRF = max(folders, key=lambda x: os.path.getctime(os.path.join(ASSETS, x))) # getctime returns the creation time of the folder \n",
    "# MRF = most recent folder\n",
    "\n",
    "KEYWORD = [f for f in os.listdir(os.path.join(ASSETS, MRF)) if os.path.isdir(os.path.join(ASSETS, MRF, f))][0]\n",
    "FKP = os.path.join(ASSETS, MRF, KEYWORD) # FULL KEYWORD PATH"
   ]
  },
  {
   "cell_type": "code",
   "execution_count": 58,
   "id": "741141a6",
   "metadata": {},
   "outputs": [],
   "source": [
    "prompts = []\n",
    "promptFiles = [os.path.join(FKP, 'grok', f) for f in os.listdir(os.path.join(FKP, 'grok')) if 'soraprompts' in f]\n",
    "promptFiles += [os.path.join(FKP, 'sora_prompts', \"sora_prompt_0.txt\")]"
   ]
  },
  {
   "cell_type": "code",
   "execution_count": 59,
   "id": "5c58ea47",
   "metadata": {},
   "outputs": [],
   "source": [
    "for file in promptFiles:\n",
    "    with open(file, 'r') as f:\n",
    "        content = f.read()\n",
    "        filePrompts = content.split('\\n\\n')\n",
    "        for fp in filePrompts:\n",
    "            prompts.append(fp)"
   ]
  },
  {
   "cell_type": "code",
   "execution_count": 60,
   "id": "b5d728f4",
   "metadata": {},
   "outputs": [
    {
     "name": "stdout",
     "output_type": "stream",
     "text": [
      "[Tensions Rise in Taiwan]\n",
      "[President Lai speaks at podium, flags behind, tense atmosphere]\n",
      "[Camera zooms in on Lai, cuts to crowd reactions]\n",
      "newline\n",
      " + ====== \n",
      "[Security Plan Unveiled]\n",
      "[Lai presents 17-point plan on screen, military court scenes]\n",
      "[Camera pans across plan points, fades to military court]\n",
      "newline\n",
      " + ====== \n",
      "[China's Military Response]\n",
      "[Chinese military drills, ships and planes, aggressive maneuvers]\n",
      "[Camera follows ships, quick cuts to planes in action]\n",
      "newline\n",
      " + ====== \n",
      "[Taiwanese Identity Shifts]\n",
      "[People on streets, Taiwanese flags, sense of unity]\n",
      "[Camera moves through crowd, focuses on flags and faces]\n",
      "newline\n",
      " + ====== \n",
      "[Resilience Against Threat]\n",
      "[Taiwanese military on alert, citizens resilient, looming Chinese threat]\n",
      "[Camera sweeps military, cuts to determined citizens, fades out]\n",
      "newline\n",
      " + ====== \n",
      "[Tensions Rise]\n",
      "[The president of Taiwan labels China a \"foreign hostile force\", standing firm behind a podium.]\n",
      "[Camera zooms in on the president, then pans to a crowd of supporters nodding in agreement.]\n",
      " + ====== \n",
      "[Security Measures Intensify]\n",
      "[A group of military officials unveil a 17-point plan, with charts showing defense spending increase to over 3% of GDP.]\n",
      "[Camera sweeps across the charts, then cuts to soldiers training intensely.]\n",
      " + ====== \n",
      "[China's Retaliation]\n",
      "[Chinese military jets soar overhead, conducting intensified drills, as a spokesperson calls the Taiwanese leader a \"dangerous separatist\".]\n",
      "[Camera follows the jets, then cuts to the spokesperson's stern face on a large screen.]\n",
      " + ====== \n",
      "[Taiwanese Identity Shifts]\n",
      "[A diverse group of Taiwanese people proudly wave flags and assert their unique identity, symbolizing a shift away from Chinese identity.]\n",
      "[Camera moves through the crowd, capturing different faces, then pulls back to show the full scope of the gathering.]\n",
      " + ====== \n",
      "[Tensions Rise]\n",
      "[President Lai speaks at podium, flags behind, tense atmosphere]\n",
      "[Camera zooms in on Lai, cuts to crowd reactions]\n",
      "[Taiwan's Military Plan]\n",
      "[Documents on table, military officers discussing, charts showing 3% GDP defense spending]\n",
      "[Camera pans across documents, zooms into charts, cuts to officers]\n",
      "[China's Retaliation]\n",
      "[Chinese military drills, ships and planes, aggressive maneuvers, \"dangerous separatist\" text overlay]\n",
      "[Camera follows ships, quick cuts between planes and text]\n",
      "[Taiwan's Identity Shift]\n",
      "[People on streets, Taiwanese flags, polls showing identity shift]\n",
      "[Camera moves through crowd, focuses on flags, ends on poll results]\n",
      " + ====== \n",
      "**Scene 1: Aerial Footage of Taipei**  \n",
      "The video opens with a sweeping aerial shot of Taipei, showcasing its iconic skyline with tall skyscrapers. In the background, military drills take place, featuring troops in formation and vehicles on the move. The camera slowly pans over the cityscape, capturing both the hustle and bustle of urban life and the seriousness of military preparation. A subtle drone sound underscores the tension in the atmosphere.\n",
      " + ====== \n",
      "**Scene 2: President Lai Speaking**  \n",
      "Cut to a dynamic close-up of President Lai Ching-te delivering a speech at a podium. His expression is determined, highlighting the gravity of his message. The camera occasionally shifts to profile shots, showcasing the audience's attentive reaction. Intercut with these images are clips of Chinese military operations, such as aircraft taking off and naval exercises, establishing a stark contrast between Taiwan’s response and China’s actions.\n",
      " + ====== \n",
      "**Scene 3: Maps Showing Military Zones**  \n",
      "Transition to a detailed animated map of the Taiwan Strait, with Taiwan and mainland China clearly marked. Bright red outlines indicate military zones and areas of increased activity. The camera zooms in on these highlighted regions, while infographics appear on screen, displaying statistics about military presence and expenditure. The pace is methodical, emphasizing the seriousness of the territorial concerns.\n",
      " + ====== \n",
      "**Scene 4: Rally of Taiwanese Citizens**  \n",
      "The scene shifts to a slow-motion view of a large rally in the streets of Taipei. Citizens wave flags and hold signs, showcasing their unity and support for the government. The camera moves smoothly through the crowd, capturing expressions of determination and hope. The sound of chants reverberates, adding to the emotional weight of the scene, emphasizing public sentiment and national pride.\n",
      " + ====== \n",
      "**Scene 5: Global Community Watch**  \n",
      "The next scene transitions to a montage of global leaders in various meetings discussing Taiwan’s situation. The camera focuses on serious expressions, nodding heads, and pointing at strategic maps in conference rooms. Cut to clips of news broadcasts from international networks, showcasing headlines about Taiwan’s security measures. The visuals mirror the high stakes of international diplomacy, emphasizing the geopolitical implications.\n"
     ]
    }
   ],
   "source": [
    "print(*prompts, sep='\\n + ====== \\n')"
   ]
  },
  {
   "cell_type": "code",
   "execution_count": 61,
   "id": "08293358",
   "metadata": {},
   "outputs": [
    {
     "name": "stdout",
     "output_type": "stream",
     "text": [
      "[Tensions Rise in Taiwan]\n",
      "[President Lai speaks at podium, flags behind, tense atmosphere]\n",
      "[Camera zooms in on Lai, cuts to crowd reactions]\n",
      "newline\n",
      "[Security Plan Unveiled]\n",
      "[Lai presents 17-point plan on screen, military court scenes]\n",
      "[Camera pans across plan points, fades to military court]\n",
      "newline\n",
      "[China's Military Response]\n",
      "[Chinese military drills, ships and planes, aggressive maneuvers]\n",
      "[Camera follows ships, quick cuts to planes in action]\n",
      "newline\n",
      "[Taiwanese Identity Shifts]\n",
      "[People on streets, Taiwanese flags, sense of unity]\n",
      "[Camera moves through crowd, focuses on flags and faces]\n",
      "newline\n",
      "[Resilience Against Threat]\n",
      "[Taiwanese military on alert, citizens resilient, looming Chinese threat]\n",
      "[Camera sweeps military, cuts to determined citizens, fades out]\n",
      "newline\n",
      "[Tensions Rise]\n",
      "[The president of Taiwan labels China a \"foreign hostile force\", standing firm behind a podium.]\n",
      "[Camera zooms in on the president, then pans to a crowd of supporters nodding in agreement.]\n",
      "[Security Measures Intensify]\n",
      "[A group of military officials unveil a 17-point plan, with charts showing defense spending increase to over 3% of GDP.]\n",
      "[Camera sweeps across the charts, then cuts to soldiers training intensely.]\n",
      "[China's Retaliation]\n",
      "[Chinese military jets soar overhead, conducting intensified drills, as a spokesperson calls the Taiwanese leader a \"dangerous separatist\".]\n",
      "[Camera follows the jets, then cuts to the spokesperson's stern face on a large screen.]\n",
      "[Taiwanese Identity Shifts]\n",
      "[A diverse group of Taiwanese people proudly wave flags and assert their unique identity, symbolizing a shift away from Chinese identity.]\n",
      "[Camera moves through the crowd, capturing different faces, then pulls back to show the full scope of the gathering.]\n",
      "[Tensions Rise]\n",
      "[President Lai speaks at podium, flags behind, tense atmosphere]\n",
      "[Camera zooms in on Lai, cuts to crowd reactions]\n",
      "[Taiwan's Military Plan]\n",
      "[Documents on table, military officers discussing, charts showing 3% GDP defense spending]\n",
      "[Camera pans across documents, zooms into charts, cuts to officers]\n",
      "[China's Retaliation]\n",
      "[Chinese military drills, ships and planes, aggressive maneuvers, \"dangerous separatist\" text overlay]\n",
      "[Camera follows ships, quick cuts between planes and text]\n",
      "[Taiwan's Identity Shift]\n",
      "[People on streets, Taiwanese flags, polls showing identity shift]\n",
      "[Camera moves through crowd, focuses on flags, ends on poll results]\n"
     ]
    },
    {
     "ename": "KeyboardInterrupt",
     "evalue": "",
     "output_type": "error",
     "traceback": [
      "\u001b[1;31m---------------------------------------------------------------------------\u001b[0m",
      "\u001b[1;31mKeyboardInterrupt\u001b[0m                         Traceback (most recent call last)",
      "Cell \u001b[1;32mIn[61], line 1\u001b[0m\n\u001b[1;32m----> 1\u001b[0m svg\u001b[38;5;241m.\u001b[39msubmitPrompts(prompts)\n",
      "File \u001b[1;32mc:\\Users\\garre\\OneDrive\\Desktop\\Projects\\aiMedia\\soraVideoGen.py:92\u001b[0m, in \u001b[0;36mSoraVideoGenerator.submitPrompts\u001b[1;34m(self, prompts)\u001b[0m\n\u001b[0;32m     90\u001b[0m time\u001b[38;5;241m.\u001b[39msleep(\u001b[38;5;241m1\u001b[39m \u001b[38;5;241m+\u001b[39m np\u001b[38;5;241m.\u001b[39mrandom\u001b[38;5;241m.\u001b[39mrandint(\u001b[38;5;241m0\u001b[39m, \u001b[38;5;241m10\u001b[39m) \u001b[38;5;241m/\u001b[39m \u001b[38;5;241m6\u001b[39m)\n\u001b[0;32m     91\u001b[0m \u001b[38;5;28;01mwhile\u001b[39;00m \u001b[38;5;28mself\u001b[39m\u001b[38;5;241m.\u001b[39mdetect_queue_length() \u001b[38;5;241m==\u001b[39m \u001b[38;5;241m1\u001b[39m:\n\u001b[1;32m---> 92\u001b[0m     time\u001b[38;5;241m.\u001b[39msleep(\u001b[38;5;241m1\u001b[39m \u001b[38;5;241m+\u001b[39m np\u001b[38;5;241m.\u001b[39mrandom\u001b[38;5;241m.\u001b[39mrandint(\u001b[38;5;241m0\u001b[39m, \u001b[38;5;241m10\u001b[39m) \u001b[38;5;241m/\u001b[39m \u001b[38;5;241m6\u001b[39m)\n",
      "\u001b[1;31mKeyboardInterrupt\u001b[0m: "
     ]
    }
   ],
   "source": [
    "svg.submitPrompts(prompts)"
   ]
  },
  {
   "cell_type": "code",
   "execution_count": 72,
   "id": "b04fab2f",
   "metadata": {},
   "outputs": [],
   "source": [
    "from grokUtils import generate_sora_prompts_grokV3\n",
    "from grok import Grok\n",
    "import utils"
   ]
  },
  {
   "cell_type": "code",
   "execution_count": null,
   "id": "a4e5eed7",
   "metadata": {},
   "outputs": [],
   "source": [
    "while True:\n",
    "    sceneDescriptions = generate_sora_prompts_grokV3(grok, get_grok_script(), 1)[0]\n",
    "    sceneDescriptions = sceneDescriptions.split('\\n\\n')\n",
    "    svg.submitPrompts(sceneDescriptions)"
   ]
  }
 ],
 "metadata": {
  "kernelspec": {
   "display_name": "base",
   "language": "python",
   "name": "python3"
  },
  "language_info": {
   "codemirror_mode": {
    "name": "ipython",
    "version": 3
   },
   "file_extension": ".py",
   "mimetype": "text/x-python",
   "name": "python",
   "nbconvert_exporter": "python",
   "pygments_lexer": "ipython3",
   "version": "3.12.7"
  }
 },
 "nbformat": 4,
 "nbformat_minor": 5
}
