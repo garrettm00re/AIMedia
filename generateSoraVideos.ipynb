{
 "cells": [
  {
   "cell_type": "code",
   "execution_count": 1,
   "metadata": {},
   "outputs": [],
   "source": [
    "from soraVideoGen import SoraVideoGenerator as SVG\n",
    "import os"
   ]
  },
  {
   "cell_type": "code",
   "execution_count": 2,
   "metadata": {},
   "outputs": [],
   "source": [
    "myuserprofile = r'C:\\Users\\garre\\AppData\\Local\\Google\\Chrome\\User Data'"
   ]
  },
  {
   "cell_type": "markdown",
   "metadata": {},
   "source": [
    "make sure sora is logged in, most recently open in chrome, and set with the appropriate modifiers (display ratio, etc)"
   ]
  },
  {
   "cell_type": "code",
   "execution_count": 3,
   "metadata": {},
   "outputs": [],
   "source": [
    "svg = SVG(myuserprofile)"
   ]
  },
  {
   "cell_type": "code",
   "execution_count": 4,
   "metadata": {},
   "outputs": [],
   "source": [
    "ASSETS = os.path.join(os.getcwd(), 'assets')\n",
    "# Get list of all folders in BASE\n",
    "folders = [f for f in os.listdir(ASSETS) if os.path.isdir(os.path.join(ASSETS, f))]\n",
    "\n",
    "# Sort folders by creation time and get most recent\n",
    "MRF = max(folders, key=lambda x: os.path.getctime(os.path.join(ASSETS, x))) # getctime returns the creation time of the folder \n",
    "# MRF = most recent folder\n",
    "\n",
    "KEYWORD = [f for f in os.listdir(os.path.join(ASSETS, MRF)) if os.path.isdir(os.path.join(ASSETS, MRF, f))][0]\n",
    "FKP = os.path.join(ASSETS, MRF, KEYWORD) # FULL KEYWORD PATH"
   ]
  },
  {
   "cell_type": "code",
   "execution_count": 5,
   "metadata": {},
   "outputs": [],
   "source": [
    "prompts = []\n",
    "promptFiles = [os.path.join(FKP, 'grok', f) for f in os.listdir(os.path.join(FKP, 'grok')) if 'soraprompts' in f]\n",
    "promptFiles += [os.path.join(FKP, 'sora_prompts', \"sora_prompt_0.txt\")]"
   ]
  },
  {
   "cell_type": "code",
   "execution_count": 6,
   "metadata": {},
   "outputs": [],
   "source": [
    "for file in promptFiles:\n",
    "    with open(file, 'r') as f:\n",
    "        content = f.read()\n",
    "        filePrompts = content.split('\\n\\n')\n",
    "        for fp in filePrompts:\n",
    "            prompts.append(fp)"
   ]
  },
  {
   "cell_type": "code",
   "execution_count": 7,
   "metadata": {},
   "outputs": [
    {
     "name": "stdout",
     "output_type": "stream",
     "text": [
      "[Senate in Turmoil]\n",
      "Senate Democrats argue, Schumer leads, Republicans join, voting on funding bill.\n",
      "Camera pans across arguing senators, zooms on Schumer, cuts to vote.\n",
      " + ====== \n",
      "[Funding Bill Details]\n",
      "Visuals of bill text, highlighting military spending increase, non-defense cuts.\n",
      "Camera scrolls through bill, focuses on key sections, fades to next scene.\n",
      " + ====== \n",
      "[Progressive Reaction]\n",
      "Alexandria Ocasio-Cortez speaks out, calling the bill a huge slap in the face.\n",
      "Camera close-up on AOC, cuts to crowd reaction, pans to exit.\n",
      " + ====== \n",
      "[Democratic Party's Future]\n",
      "Democratic leaders in discussion, concerned looks, election posters in background.\n",
      "Camera circles group, zooms on posters, fades out.\n",
      " + ====== \n",
      "[Senate in Turmoil]\n",
      "[Senate floor, Democrats arguing, Schumer leading group to vote with Republicans]\n",
      "[Pan across arguing senators, zoom in on Schumer]\n",
      " \n",
      " + ====== \n",
      "[Funding Bill Details]\n",
      "[Text overlay: \"$1.7 trillion bill cuts non-defense, boosts military funds\"]\n",
      "[Text fades in, camera slowly zooms out to show full bill document]\n",
      " \n",
      " + ====== \n",
      "[Progressive Reaction]\n",
      "[Alexandria Ocasio-Cortez at podium, visibly upset, calling bill a \"huge slap in the face\"]\n",
      "[Close-up on AOC, cut to reaction shots of audience]\n",
      " \n",
      " + ====== \n",
      "[Democratic Party's Future]\n",
      "[Split screen: Democratic Party symbol vs. upcoming election graphics]\n",
      "[Camera pans from symbol to election graphics, fade to black]\n",
      " + ====== \n",
      "### Scene 1: U.S. Capitol Dynamic Shot  \n",
      "**Visuals:** The video opens with a wide-angle shot of the U.S. Capitol, showcasing its grand architecture against a clear blue sky. Soft, dramatic background music sets the tone.  \n",
      "**Camera Movement:** The camera slowly zooms in, capturing the intricate details of the building, such as the dome and columns, as well as people moving around its vicinity.  \n",
      "**Transition:** The frame gently fades into the next scene, maintaining the atmosphere.\n",
      " + ====== \n",
      "### Scene 2: Senators Debating  \n",
      "**Visuals:** Clips of Senators passionately debating in the chamber, highlighting diverse expressions and gestures. The backdrop includes the official Senate seal and rows of seats filled with attentive members.  \n",
      "**Camera Movement:** Quick cuts between various Senators speaking at their podiums, interspersed with shots of the audience reaction.  \n",
      "**Transition:** The last clip freezes momentarily on an intense face before shifting to the next scene.\n",
      " + ====== \n",
      "### Scene 3: Senator Chuck Schumer Speaking  \n",
      "**Visuals:** Footage of Senator Chuck Schumer at the podium, flanked by fellow Democrats, conveying authority. The background shows a packed Senate chamber with a focused audience.  \n",
      "**Camera Movement:** The camera slowly pans from Schumer to the audience, emphasizing their attentiveness and reactions.  \n",
      "**Transition:** The shot fades out as Schumer's voice lingers, transitioning to the next scene.\n",
      " + ====== \n",
      "### Scene 4: Tweets and Quotes from Progressives  \n",
      "**Visuals:** The screen displays animated text of tweets and quotes from Rep. Alexandria Ocasio-Cortez and other progressives, set against a background of a heated social media feed.  \n",
      "**Camera Movement:** The camera slowly zooms in on selected quotes, allowing viewers to read key phrases, accompanied by dynamic typing and notification sounds.  \n",
      "**Transition:** The screen blurs slightly before shifting to a new scene, emphasizing the discontent among progressives.\n",
      " + ====== \n",
      "### Scene 5: Concerned Constituents at Town Hall  \n",
      "**Visuals:** A town hall meeting with constituents expressing concern, showing a diverse group of voters holding signs and asking questions. The atmosphere is tense, underscored by focused expressions and body language.  \n",
      "**Camera Movement:** The camera pans across the audience, capturing individual reactions and wide shots of the speaker panel for context.  \n",
      "**Transition:** The camera cuts to a close-up of a concerned face, intensifying the emotional weight before fading to black for the outro.\n"
     ]
    }
   ],
   "source": [
    "print(*prompts, sep='\\n + ====== \\n')"
   ]
  },
  {
   "cell_type": "code",
   "execution_count": 8,
   "metadata": {},
   "outputs": [
    {
     "name": "stdout",
     "output_type": "stream",
     "text": [
      "[Senate in Turmoil]\n",
      "Senate Democrats argue, Schumer leads, Republicans join, voting on funding bill.\n",
      "Camera pans across arguing senators, zooms on Schumer, cuts to vote.\n",
      "++++++++++++++++++++++\n",
      "[Senate in Turmoil]\n",
      "Senate Democrats argue, Schumer leads, Republicans join, voting on funding bill.\n",
      "Camera pans across arguing senators, zooms on Schumer, cuts to vote. pppppppppppppp\n",
      "[Funding Bill Details]\n",
      "Visuals of bill text, highlighting military spending increase, non-defense cuts.\n",
      "Camera scrolls through bill, focuses on key sections, fades to next scene.\n",
      "++++++++++++++++++++++\n",
      "[Funding Bill Details]\n",
      "Visuals of bill text, highlighting military spending increase, non-defense cuts.\n",
      "Camera scrolls through bill, focuses on key sections, fades to next scene. pppppppppppppp\n",
      "[Progressive Reaction]\n",
      "Alexandria Ocasio-Cortez speaks out, calling the bill a huge slap in the face.\n",
      "Camera close-up on AOC, cuts to crowd reaction, pans to exit.\n",
      "++++++++++++++++++++++\n",
      "[Progressive Reaction]\n",
      "Alexandria Ocasio-Cortez speaks out, calling the bill a huge slap in the face.\n",
      "Camera close-up on AOC, cuts to crowd reaction, pans to exit. pppppppppppppp\n",
      "[Democratic Party's Future]\n",
      "Democratic leaders in discussion, concerned looks, election posters in background.\n",
      "Camera circles group, zooms on posters, fades out.\n",
      "++++++++++++++++++++++\n",
      "[Democratic Party's Future]\n",
      "Democratic leaders in discussion, concerned looks, election posters in background.\n",
      "Camera circles group, zooms on posters, fades out. pppppppppppppp\n",
      "[Senate in Turmoil]\n",
      "[Senate floor, Democrats arguing, Schumer leading group to vote with Republicans]\n",
      "[Pan across arguing senators, zoom in on Schumer]\n",
      " \n",
      "++++++++++++++++++++++\n",
      "[Senate in Turmoil]\n",
      "[Senate floor, Democrats arguing, Schumer leading group to vote with Republicans]\n",
      "[Pan across arguing senators, zoom in on Schumer]\n",
      "  pppppppppppppp\n",
      "[Funding Bill Details]\n",
      "[Text overlay: \"$1.7 trillion bill cuts non-defense, boosts military funds\"]\n",
      "[Text fades in, camera slowly zooms out to show full bill document]\n",
      " \n",
      "++++++++++++++++++++++\n",
      "[Funding Bill Details]\n",
      "[Text overlay: \"$1.7 trillion bill cuts non-defense, boosts military funds\"]\n",
      "[Text fades in, camera slowly zooms out to show full bill document]\n",
      "  pppppppppppppp\n",
      "[Progressive Reaction]\n",
      "[Alexandria Ocasio-Cortez at podium, visibly upset, calling bill a \"huge slap in the face\"]\n",
      "[Close-up on AOC, cut to reaction shots of audience]\n",
      " \n",
      "++++++++++++++++++++++\n",
      "[Progressive Reaction]\n",
      "[Alexandria Ocasio-Cortez at podium, visibly upset, calling bill a \"huge slap in the face\"]\n",
      "[Close-up on AOC, cut to reaction shots of audience]\n",
      "  pppppppppppppp\n",
      "[Democratic Party's Future]\n",
      "[Split screen: Democratic Party symbol vs. upcoming election graphics]\n",
      "[Camera pans from symbol to election graphics, fade to black]\n",
      "++++++++++++++++++++++\n",
      "[Democratic Party's Future]\n",
      "[Split screen: Democratic Party symbol vs. upcoming election graphics]\n",
      "[Camera pans from symbol to election graphics, fade to black] pppppppppppppp\n",
      "### Scene 1: U.S. Capitol Dynamic Shot  \n",
      "**Visuals:** The video opens with a wide-angle shot of the U.S. Capitol, showcasing its grand architecture against a clear blue sky. Soft, dramatic background music sets the tone.  \n",
      "**Camera Movement:** The camera slowly zooms in, capturing the intricate details of the building, such as the dome and columns, as well as people moving around its vicinity.  \n",
      "**Transition:** The frame gently fades into the next scene, maintaining the atmosphere.\n",
      "++++++++++++++++++++++\n",
      "### Scene 1: U.S. Capitol Dynamic Shot  \n",
      "**Visuals:** The video opens with a wide-angle shot of the U.S. Capitol, showcasing its grand architecture against a clear blue sky. Soft, dramatic background music sets the tone.  \n",
      "**Camera Movement:** The camera slowly zooms in, capturing the intricate details of the building, such as the dome and columns, as well as people moving around its vicinity.  \n",
      "**Transition:** The frame gently fades into the next scene, maintaining the atmosphere. pppppppppppppp\n",
      "### Scene 2: Senators Debating  \n",
      "**Visuals:** Clips of Senators passionately debating in the chamber, highlighting diverse expressions and gestures. The backdrop includes the official Senate seal and rows of seats filled with attentive members.  \n",
      "**Camera Movement:** Quick cuts between various Senators speaking at their podiums, interspersed with shots of the audience reaction.  \n",
      "**Transition:** The last clip freezes momentarily on an intense face before shifting to the next scene.\n",
      "++++++++++++++++++++++\n",
      "### Scene 2: Senators Debating  \n",
      "**Visuals:** Clips of Senators passionately debating in the chamber, highlighting diverse expressions and gestures. The backdrop includes the official Senate seal and rows of seats filled with attentive members.  \n",
      "**Camera Movement:** Quick cuts between various Senators speaking at their podiums, interspersed with shots of the audience reaction.  \n",
      "**Transition:** The last clip freezes momentarily on an intense face before shifting to the next scene. pppppppppppppp\n",
      "### Scene 3: Senator Chuck Schumer Speaking  \n",
      "**Visuals:** Footage of Senator Chuck Schumer at the podium, flanked by fellow Democrats, conveying authority. The background shows a packed Senate chamber with a focused audience.  \n",
      "**Camera Movement:** The camera slowly pans from Schumer to the audience, emphasizing their attentiveness and reactions.  \n",
      "**Transition:** The shot fades out as Schumer's voice lingers, transitioning to the next scene.\n",
      "++++++++++++++++++++++\n",
      "### Scene 3: Senator Chuck Schumer Speaking  \n",
      "**Visuals:** Footage of Senator Chuck Schumer at the podium, flanked by fellow Democrats, conveying authority. The background shows a packed Senate chamber with a focused audience.  \n",
      "**Camera Movement:** The camera slowly pans from Schumer to the audience, emphasizing their attentiveness and reactions.  \n",
      "**Transition:** The shot fades out as Schumer's voice lingers, transitioning to the next scene. pppppppppppppp\n",
      "### Scene 4: Tweets and Quotes from Progressives  \n",
      "**Visuals:** The screen displays animated text of tweets and quotes from Rep. Alexandria Ocasio-Cortez and other progressives, set against a background of a heated social media feed.  \n",
      "**Camera Movement:** The camera slowly zooms in on selected quotes, allowing viewers to read key phrases, accompanied by dynamic typing and notification sounds.  \n",
      "**Transition:** The screen blurs slightly before shifting to a new scene, emphasizing the discontent among progressives.\n",
      "++++++++++++++++++++++\n",
      "### Scene 4: Tweets and Quotes from Progressives  \n",
      "**Visuals:** The screen displays animated text of tweets and quotes from Rep. Alexandria Ocasio-Cortez and other progressives, set against a background of a heated social media feed.  \n",
      "**Camera Movement:** The camera slowly zooms in on selected quotes, allowing viewers to read key phrases, accompanied by dynamic typing and notification sounds.  \n",
      "**Transition:** The screen blurs slightly before shifting to a new scene, emphasizing the discontent among progressives. pppppppppppppp\n",
      "### Scene 5: Concerned Constituents at Town Hall  \n",
      "**Visuals:** A town hall meeting with constituents expressing concern, showing a diverse group of voters holding signs and asking questions. The atmosphere is tense, underscored by focused expressions and body language.  \n",
      "**Camera Movement:** The camera pans across the audience, capturing individual reactions and wide shots of the speaker panel for context.  \n",
      "**Transition:** The camera cuts to a close-up of a concerned face, intensifying the emotional weight before fading to black for the outro.\n",
      "++++++++++++++++++++++\n",
      "### Scene 5: Concerned Constituents at Town Hall  \n",
      "**Visuals:** A town hall meeting with constituents expressing concern, showing a diverse group of voters holding signs and asking questions. The atmosphere is tense, underscored by focused expressions and body language.  \n",
      "**Camera Movement:** The camera pans across the audience, capturing individual reactions and wide shots of the speaker panel for context.  \n",
      "**Transition:** The camera cuts to a close-up of a concerned face, intensifying the emotional weight before fading to black for the outro. pppppppppppppp\n"
     ]
    }
   ],
   "source": [
    "svg.submitPrompts(prompts)"
   ]
  }
 ],
 "metadata": {
  "kernelspec": {
   "display_name": "base",
   "language": "python",
   "name": "python3"
  },
  "language_info": {
   "codemirror_mode": {
    "name": "ipython",
    "version": 3
   },
   "file_extension": ".py",
   "mimetype": "text/x-python",
   "name": "python",
   "nbconvert_exporter": "python",
   "pygments_lexer": "ipython3",
   "version": "3.12.7"
  }
 },
 "nbformat": 4,
 "nbformat_minor": 2
}
