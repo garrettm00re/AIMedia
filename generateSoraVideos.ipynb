{
 "cells": [
  {
   "cell_type": "markdown",
   "metadata": {},
   "source": [
    "# Make Sora Videos 🎥\n",
    "______"
   ]
  },
  {
   "cell_type": "code",
   "execution_count": 1,
   "metadata": {},
   "outputs": [
    {
     "data": {
      "text/plain": [
       "True"
      ]
     },
     "execution_count": 1,
     "metadata": {},
     "output_type": "execute_result"
    }
   ],
   "source": [
    "from soraVideoGen import SoraVideoGenerator as SVG\n",
    "import os\n",
    "from dotenv import load_dotenv\n",
    "load_dotenv()"
   ]
  },
  {
   "cell_type": "code",
   "execution_count": 2,
   "metadata": {},
   "outputs": [],
   "source": [
    "os.chdir(os.getenv(\"APPDIR\"))"
   ]
  },
  {
   "cell_type": "code",
   "execution_count": 3,
   "metadata": {},
   "outputs": [],
   "source": [
    "myuserprofile = r'C:\\Users\\garre\\AppData\\Local\\Google\\Chrome\\User Data'"
   ]
  },
  {
   "cell_type": "markdown",
   "metadata": {},
   "source": [
    "make sure sora is logged in, most recently open in chrome, and set with the appropriate modifiers (display ratio, etc)"
   ]
  },
  {
   "cell_type": "code",
   "execution_count": 4,
   "metadata": {},
   "outputs": [
    {
     "name": "stdout",
     "output_type": "stream",
     "text": [
      "Debug mode enabled\n",
      "URL: https://sora.com/library\n",
      "TEXTAREAS [<selenium.webdriver.remote.webelement.WebElement (session=\"8676e6f8379d487295273bfe70f9d9a7\", element=\"f.CF9220B5DF9043125EC329E80031491D.d.5B6A985EB4DBFE4186BD38301934792B.e.10\")>]\n"
     ]
    }
   ],
   "source": [
    "svg = SVG(myuserprofile)"
   ]
  },
  {
   "cell_type": "code",
   "execution_count": 5,
   "metadata": {},
   "outputs": [],
   "source": [
    "ASSETS = os.path.join(os.getcwd(), 'assets')\n",
    "# Get list of all folders in BASE\n",
    "folders = [f for f in os.listdir(ASSETS) if os.path.isdir(os.path.join(ASSETS, f))]\n",
    "\n",
    "# Sort folders by creation time and get most recent\n",
    "MRF = max(folders, key=lambda x: os.path.getctime(os.path.join(ASSETS, x))) # getctime returns the creation time of the folder \n",
    "# MRF = most recent folder\n",
    "\n",
    "KEYWORD = [f for f in os.listdir(os.path.join(ASSETS, MRF)) if os.path.isdir(os.path.join(ASSETS, MRF, f))][0]\n",
    "FKP = os.path.join(ASSETS, MRF, KEYWORD) # FULL KEYWORD PATH"
   ]
  },
  {
   "cell_type": "code",
   "execution_count": 6,
   "metadata": {},
   "outputs": [],
   "source": [
    "prompts = []\n",
    "promptFiles = [os.path.join(FKP, 'grok', f) for f in os.listdir(os.path.join(FKP, 'grok')) if 'soraprompts' in f]\n",
    "promptFiles += [os.path.join(FKP, 'sora_prompts', \"sora_prompt_0.txt\")]"
   ]
  },
  {
   "cell_type": "code",
   "execution_count": 7,
   "metadata": {},
   "outputs": [],
   "source": [
    "for file in promptFiles:\n",
    "    with open(file, 'r') as f:\n",
    "        content = f.read()\n",
    "        filePrompts = content.split('\\n\\n')\n",
    "        for fp in filePrompts:\n",
    "            prompts.append(fp)"
   ]
  },
  {
   "cell_type": "code",
   "execution_count": 8,
   "metadata": {},
   "outputs": [
    {
     "name": "stdout",
     "output_type": "stream",
     "text": [
      "[Tensions Rise in Taiwan]\n",
      "[President Lai speaks at podium, flags behind, tense atmosphere]\n",
      "[Camera zooms in on Lai, cuts to crowd reactions]\n",
      "newline\n",
      " + ====== \n",
      "[Security Plan Unveiled]\n",
      "[Lai presents 17-point plan on screen, military court scenes]\n",
      "[Camera pans across plan points, fades to military court]\n",
      "newline\n",
      " + ====== \n",
      "[China's Military Response]\n",
      "[Chinese military drills, ships and planes, aggressive maneuvers]\n",
      "[Camera follows ships, quick cuts to planes in action]\n",
      "newline\n",
      " + ====== \n",
      "[Taiwanese Identity Shifts]\n",
      "[People on streets, Taiwanese flags, sense of unity]\n",
      "[Camera moves through crowd, focuses on flags and faces]\n",
      "newline\n",
      " + ====== \n",
      "[Resilience Against Threat]\n",
      "[Taiwanese military on alert, citizens resilient, looming Chinese threat]\n",
      "[Camera sweeps military, cuts to determined citizens, fades out]\n",
      "newline\n",
      " + ====== \n",
      "[Tensions Rise]\n",
      "[The president of Taiwan labels China a \"foreign hostile force\", standing firm behind a podium.]\n",
      "[Camera zooms in on the president, then pans to a crowd of supporters nodding in agreement.]\n",
      " + ====== \n",
      "[Security Measures Intensify]\n",
      "[A group of military officials unveil a 17-point plan, with charts showing defense spending increase to over 3% of GDP.]\n",
      "[Camera sweeps across the charts, then cuts to soldiers training intensely.]\n",
      " + ====== \n",
      "[China's Retaliation]\n",
      "[Chinese military jets soar overhead, conducting intensified drills, as a spokesperson calls the Taiwanese leader a \"dangerous separatist\".]\n",
      "[Camera follows the jets, then cuts to the spokesperson's stern face on a large screen.]\n",
      " + ====== \n",
      "[Taiwanese Identity Shifts]\n",
      "[A diverse group of Taiwanese people proudly wave flags and assert their unique identity, symbolizing a shift away from Chinese identity.]\n",
      "[Camera moves through the crowd, capturing different faces, then pulls back to show the full scope of the gathering.]\n",
      " + ====== \n",
      "[Tensions Rise]\n",
      "[President Lai speaks at podium, flags behind, tense atmosphere]\n",
      "[Camera zooms in on Lai, cuts to crowd reactions]\n",
      "[Taiwan's Military Plan]\n",
      "[Documents on table, military officers discussing, charts showing 3% GDP defense spending]\n",
      "[Camera pans across documents, zooms into charts, cuts to officers]\n",
      "[China's Retaliation]\n",
      "[Chinese military drills, ships and planes, aggressive maneuvers, \"dangerous separatist\" text overlay]\n",
      "[Camera follows ships, quick cuts between planes and text]\n",
      "[Taiwan's Identity Shift]\n",
      "[People on streets, Taiwanese flags, polls showing identity shift]\n",
      "[Camera moves through crowd, focuses on flags, ends on poll results]\n",
      " + ====== \n",
      "**Scene 1: Aerial Footage of Taipei**  \n",
      "The video opens with a sweeping aerial shot of Taipei, showcasing its iconic skyline with tall skyscrapers. In the background, military drills take place, featuring troops in formation and vehicles on the move. The camera slowly pans over the cityscape, capturing both the hustle and bustle of urban life and the seriousness of military preparation. A subtle drone sound underscores the tension in the atmosphere.\n",
      " + ====== \n",
      "**Scene 2: President Lai Speaking**  \n",
      "Cut to a dynamic close-up of President Lai Ching-te delivering a speech at a podium. His expression is determined, highlighting the gravity of his message. The camera occasionally shifts to profile shots, showcasing the audience's attentive reaction. Intercut with these images are clips of Chinese military operations, such as aircraft taking off and naval exercises, establishing a stark contrast between Taiwan’s response and China’s actions.\n",
      " + ====== \n",
      "**Scene 3: Maps Showing Military Zones**  \n",
      "Transition to a detailed animated map of the Taiwan Strait, with Taiwan and mainland China clearly marked. Bright red outlines indicate military zones and areas of increased activity. The camera zooms in on these highlighted regions, while infographics appear on screen, displaying statistics about military presence and expenditure. The pace is methodical, emphasizing the seriousness of the territorial concerns.\n",
      " + ====== \n",
      "**Scene 4: Rally of Taiwanese Citizens**  \n",
      "The scene shifts to a slow-motion view of a large rally in the streets of Taipei. Citizens wave flags and hold signs, showcasing their unity and support for the government. The camera moves smoothly through the crowd, capturing expressions of determination and hope. The sound of chants reverberates, adding to the emotional weight of the scene, emphasizing public sentiment and national pride.\n",
      " + ====== \n",
      "**Scene 5: Global Community Watch**  \n",
      "The next scene transitions to a montage of global leaders in various meetings discussing Taiwan’s situation. The camera focuses on serious expressions, nodding heads, and pointing at strategic maps in conference rooms. Cut to clips of news broadcasts from international networks, showcasing headlines about Taiwan’s security measures. The visuals mirror the high stakes of international diplomacy, emphasizing the geopolitical implications.\n"
     ]
    }
   ],
   "source": [
    "print(*prompts, sep='\\n + ====== \\n')"
   ]
  },
  {
   "cell_type": "code",
   "execution_count": 9,
   "metadata": {},
   "outputs": [
    {
     "name": "stdout",
     "output_type": "stream",
     "text": [
      "[Tensions Rise in Taiwan]\n",
      "[President Lai speaks at podium, flags behind, tense atmosphere]\n",
      "[Camera zooms in on Lai, cuts to crowd reactions]\n",
      "newline\n"
     ]
    },
    {
     "ename": "KeyboardInterrupt",
     "evalue": "",
     "output_type": "error",
     "traceback": [
      "\u001b[1;31m---------------------------------------------------------------------------\u001b[0m",
      "\u001b[1;31mKeyboardInterrupt\u001b[0m                         Traceback (most recent call last)",
      "Cell \u001b[1;32mIn[9], line 1\u001b[0m\n\u001b[1;32m----> 1\u001b[0m svg\u001b[38;5;241m.\u001b[39msubmitPrompts(prompts)\n",
      "File \u001b[1;32mc:\\Users\\garre\\OneDrive\\Desktop\\Projects\\aiMedia\\soraVideoGen.py:107\u001b[0m, in \u001b[0;36mSoraVideoGenerator.submitPrompts\u001b[1;34m(self, prompts)\u001b[0m\n\u001b[0;32m    105\u001b[0m time\u001b[38;5;241m.\u001b[39msleep(\u001b[38;5;241m1\u001b[39m \u001b[38;5;241m+\u001b[39m np\u001b[38;5;241m.\u001b[39mrandom\u001b[38;5;241m.\u001b[39mrandint(\u001b[38;5;241m0\u001b[39m, \u001b[38;5;241m10\u001b[39m) \u001b[38;5;241m/\u001b[39m \u001b[38;5;241m6\u001b[39m)\n\u001b[0;32m    106\u001b[0m \u001b[38;5;28;01mwhile\u001b[39;00m \u001b[38;5;28mself\u001b[39m\u001b[38;5;241m.\u001b[39mdetect_queue_length() \u001b[38;5;241m==\u001b[39m \u001b[38;5;241m1\u001b[39m:\n\u001b[1;32m--> 107\u001b[0m     time\u001b[38;5;241m.\u001b[39msleep(\u001b[38;5;241m1\u001b[39m \u001b[38;5;241m+\u001b[39m np\u001b[38;5;241m.\u001b[39mrandom\u001b[38;5;241m.\u001b[39mrandint(\u001b[38;5;241m0\u001b[39m, \u001b[38;5;241m10\u001b[39m) \u001b[38;5;241m/\u001b[39m \u001b[38;5;241m6\u001b[39m)\n",
      "\u001b[1;31mKeyboardInterrupt\u001b[0m: "
     ]
    }
   ],
   "source": [
    "svg.submitPrompts(prompts)"
   ]
  },
  {
   "cell_type": "code",
   "execution_count": 12,
   "metadata": {},
   "outputs": [],
   "source": [
    "from grokUtils import generate_sora_prompts_grokV3\n",
    "from grok import Grok\n",
    "from utils import get_grok_script"
   ]
  },
  {
   "cell_type": "code",
   "execution_count": 13,
   "metadata": {},
   "outputs": [],
   "source": [
    "grok_api_key, grok_url, grok_model = os.getenv(\"GROK_API_KEY\"), os.getenv(\"GROK_URL\"), 'grok-2-latest'\n",
    "grok = Grok(grok_api_key, grok_url, grok_model)"
   ]
  },
  {
   "cell_type": "code",
   "execution_count": 14,
   "metadata": {},
   "outputs": [
    {
     "ename": "TypeError",
     "evalue": "chdir: path should be string, bytes or os.PathLike, not NoneType",
     "output_type": "error",
     "traceback": [
      "\u001b[1;31m---------------------------------------------------------------------------\u001b[0m",
      "\u001b[1;31mTypeError\u001b[0m                                 Traceback (most recent call last)",
      "Cell \u001b[1;32mIn[14], line 2\u001b[0m\n\u001b[0;32m      1\u001b[0m \u001b[38;5;28;01mwhile\u001b[39;00m \u001b[38;5;28;01mTrue\u001b[39;00m:\n\u001b[1;32m----> 2\u001b[0m     sceneDescriptions \u001b[38;5;241m=\u001b[39m generate_sora_prompts_grokV3(grok, get_grok_script(), \u001b[38;5;241m1\u001b[39m)[\u001b[38;5;241m0\u001b[39m]\n\u001b[0;32m      3\u001b[0m     sceneDescriptions \u001b[38;5;241m=\u001b[39m sceneDescriptions\u001b[38;5;241m.\u001b[39msplit(\u001b[38;5;124m'\u001b[39m\u001b[38;5;130;01m\\n\u001b[39;00m\u001b[38;5;130;01m\\n\u001b[39;00m\u001b[38;5;124m'\u001b[39m)\n\u001b[0;32m      4\u001b[0m     svg\u001b[38;5;241m.\u001b[39msubmitPrompts(sceneDescriptions)\n",
      "File \u001b[1;32mc:\\Users\\garre\\OneDrive\\Desktop\\Projects\\aiMedia\\utils.py:74\u001b[0m, in \u001b[0;36mget_grok_script\u001b[1;34m()\u001b[0m\n\u001b[0;32m     73\u001b[0m \u001b[38;5;28;01mdef\u001b[39;00m \u001b[38;5;21mget_grok_script\u001b[39m():\n\u001b[1;32m---> 74\u001b[0m     GROK_DIR \u001b[38;5;241m=\u001b[39m get_grok_dir()\n\u001b[0;32m     75\u001b[0m     \u001b[38;5;28;01mwith\u001b[39;00m \u001b[38;5;28mopen\u001b[39m(os\u001b[38;5;241m.\u001b[39mpath\u001b[38;5;241m.\u001b[39mjoin(GROK_DIR, \u001b[38;5;124m'\u001b[39m\u001b[38;5;124mgrok_script.txt\u001b[39m\u001b[38;5;124m'\u001b[39m), \u001b[38;5;124m'\u001b[39m\u001b[38;5;124mr\u001b[39m\u001b[38;5;124m'\u001b[39m) \u001b[38;5;28;01mas\u001b[39;00m f:\n\u001b[0;32m     76\u001b[0m         \u001b[38;5;28;01mreturn\u001b[39;00m f\u001b[38;5;241m.\u001b[39mread()\n",
      "File \u001b[1;32mc:\\Users\\garre\\OneDrive\\Desktop\\Projects\\aiMedia\\utils.py:49\u001b[0m, in \u001b[0;36mget_grok_dir\u001b[1;34m()\u001b[0m\n\u001b[0;32m     48\u001b[0m \u001b[38;5;28;01mdef\u001b[39;00m \u001b[38;5;21mget_grok_dir\u001b[39m():\n\u001b[1;32m---> 49\u001b[0m     MAIN \u001b[38;5;241m=\u001b[39m get_main_dir()\n\u001b[0;32m     50\u001b[0m     \u001b[38;5;28;01mreturn\u001b[39;00m os\u001b[38;5;241m.\u001b[39mpath\u001b[38;5;241m.\u001b[39mjoin(MAIN, \u001b[38;5;124m'\u001b[39m\u001b[38;5;124mgrok\u001b[39m\u001b[38;5;124m'\u001b[39m)\n",
      "File \u001b[1;32mc:\\Users\\garre\\OneDrive\\Desktop\\Projects\\aiMedia\\utils.py:44\u001b[0m, in \u001b[0;36mget_main_dir\u001b[1;34m()\u001b[0m\n\u001b[0;32m     43\u001b[0m \u001b[38;5;28;01mdef\u001b[39;00m \u001b[38;5;21mget_main_dir\u001b[39m():\n\u001b[1;32m---> 44\u001b[0m     RUN_DIR \u001b[38;5;241m=\u001b[39m most_recent_dir()\n\u001b[0;32m     45\u001b[0m     MAIN \u001b[38;5;241m=\u001b[39m [os\u001b[38;5;241m.\u001b[39mpath\u001b[38;5;241m.\u001b[39mjoin(RUN_DIR, d) \u001b[38;5;28;01mfor\u001b[39;00m d \u001b[38;5;129;01min\u001b[39;00m os\u001b[38;5;241m.\u001b[39mlistdir(RUN_DIR) \u001b[38;5;28;01mif\u001b[39;00m os\u001b[38;5;241m.\u001b[39mpath\u001b[38;5;241m.\u001b[39misdir(os\u001b[38;5;241m.\u001b[39mpath\u001b[38;5;241m.\u001b[39mjoin(RUN_DIR, d))][\u001b[38;5;241m0\u001b[39m] \u001b[38;5;66;03m# only one directory in the RUN_DIR\u001b[39;00m\n\u001b[0;32m     46\u001b[0m     \u001b[38;5;28;01mreturn\u001b[39;00m MAIN\n",
      "File \u001b[1;32mc:\\Users\\garre\\OneDrive\\Desktop\\Projects\\aiMedia\\utils.py:38\u001b[0m, in \u001b[0;36mmost_recent_dir\u001b[1;34m()\u001b[0m\n\u001b[0;32m     36\u001b[0m \u001b[38;5;28;01mdef\u001b[39;00m \u001b[38;5;21mmost_recent_dir\u001b[39m():\n\u001b[0;32m     37\u001b[0m     \u001b[38;5;66;03m# List directories in assets and get most recent\u001b[39;00m\n\u001b[1;32m---> 38\u001b[0m     os\u001b[38;5;241m.\u001b[39mchdir(os\u001b[38;5;241m.\u001b[39mgetenv(\u001b[38;5;124m\"\u001b[39m\u001b[38;5;124mAPP_DIR\u001b[39m\u001b[38;5;124m\"\u001b[39m))\n\u001b[0;32m     39\u001b[0m     asset_dirs \u001b[38;5;241m=\u001b[39m [d \u001b[38;5;28;01mfor\u001b[39;00m d \u001b[38;5;129;01min\u001b[39;00m os\u001b[38;5;241m.\u001b[39mlistdir(\u001b[38;5;124m'\u001b[39m\u001b[38;5;124massets\u001b[39m\u001b[38;5;124m'\u001b[39m) \u001b[38;5;28;01mif\u001b[39;00m os\u001b[38;5;241m.\u001b[39mpath\u001b[38;5;241m.\u001b[39misdir(os\u001b[38;5;241m.\u001b[39mpath\u001b[38;5;241m.\u001b[39mjoin(\u001b[38;5;124m'\u001b[39m\u001b[38;5;124massets\u001b[39m\u001b[38;5;124m'\u001b[39m, d))]\n\u001b[0;32m     40\u001b[0m     RUN_DIR \u001b[38;5;241m=\u001b[39m os\u001b[38;5;241m.\u001b[39mpath\u001b[38;5;241m.\u001b[39mjoin(\u001b[38;5;124m'\u001b[39m\u001b[38;5;124massets\u001b[39m\u001b[38;5;124m'\u001b[39m, \u001b[38;5;28mmax\u001b[39m(asset_dirs))\n",
      "\u001b[1;31mTypeError\u001b[0m: chdir: path should be string, bytes or os.PathLike, not NoneType"
     ]
    }
   ],
   "source": [
    "while True:\n",
    "    sceneDescriptions = generate_sora_prompts_grokV3(grok, get_grok_script(), 1)[0]\n",
    "    sceneDescriptions = sceneDescriptions.split('\\n\\n')\n",
    "    svg.submitPrompts(sceneDescriptions)"
   ]
  },
  {
   "cell_type": "code",
   "execution_count": null,
   "metadata": {},
   "outputs": [],
   "source": []
  }
 ],
 "metadata": {
  "kernelspec": {
   "display_name": "base",
   "language": "python",
   "name": "python3"
  },
  "language_info": {
   "codemirror_mode": {
    "name": "ipython",
    "version": 3
   },
   "file_extension": ".py",
   "mimetype": "text/x-python",
   "name": "python",
   "nbconvert_exporter": "python",
   "pygments_lexer": "ipython3",
   "version": "3.12.7"
  }
 },
 "nbformat": 4,
 "nbformat_minor": 2
}
