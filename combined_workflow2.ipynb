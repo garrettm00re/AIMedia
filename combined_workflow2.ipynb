{
 "cells": [
  {
   "cell_type": "markdown",
   "id": "4e5ef9b7",
   "metadata": {},
   "source": [
    "# 🚀 GENERATE ASSETS (OG)\n",
    "-------"
   ]
  },
  {
   "cell_type": "code",
   "execution_count": 36,
   "id": "7815fa9d",
   "metadata": {},
   "outputs": [],
   "source": [
    "# import nltk\n",
    "\n",
    "# # Download required NLTK data (only need to do this once)\n",
    "# nltk.download('punkt')"
   ]
  },
  {
   "cell_type": "code",
   "execution_count": 37,
   "id": "bcb3188a",
   "metadata": {},
   "outputs": [
    {
     "data": {
      "text/plain": [
       "True"
      ]
     },
     "execution_count": 37,
     "metadata": {},
     "output_type": "execute_result"
    }
   ],
   "source": [
    "import trendspy\n",
    "from trendspy import Trends\n",
    "import os\n",
    "import datetime\n",
    "from dotenv import load_dotenv\n",
    "from news_utils import News\n",
    "import feedparser\n",
    "import time\n",
    "import pickle\n",
    "from generateAssets import *\n",
    "load_dotenv()"
   ]
  },
  {
   "cell_type": "code",
   "execution_count": 38,
   "id": "bfd4bac7",
   "metadata": {},
   "outputs": [],
   "source": [
    "# Make directory for the run\n",
    "APPDIR = os.getenv(\"APPDIR\")\n",
    "BASEPATH = os.getenv(\"BASEPATH\")\n",
    "RUN_DIR = os.path.join(BASEPATH, datetime.datetime.now().strftime('%Y-%m-%d-%H-%M-%S'))\n",
    "os.makedirs(BASEPATH, exist_ok=True)\n",
    "os.makedirs(RUN_DIR, exist_ok=True)\n",
    "ELEVENLABS_API_KEY = os.getenv(\"ELEVENLABS_API_KEY\")\n",
    "VOICE_ID = os.getenv(\"ELEVENLABS_VOICE_ID\")\n",
    "OPENAI_API_KEY = os.getenv(\"OPENAI_API_KEY\")\n",
    "os.chdir(APPDIR)"
   ]
  },
  {
   "cell_type": "code",
   "execution_count": 39,
   "id": "6b1bc2d5",
   "metadata": {},
   "outputs": [],
   "source": [
    "os.environ[\"RUN_DIR\"] = RUN_DIR"
   ]
  },
  {
   "cell_type": "code",
   "execution_count": 44,
   "id": "f0eef5b9",
   "metadata": {},
   "outputs": [],
   "source": [
    "def getTrends():\n",
    "    def freeze(d : dict):\n",
    "        return \n",
    "    tr = Trends()\n",
    "    trends = tr.trending_now(geo='US', hours=24)\n",
    "    businessFiltered = trends.filter_by_topic('Business and Finance')\n",
    "    techFiltered = trends.filter_by_topic('Technology')\n",
    "    lawAndGovFiltered = trends.filter_by_topic('Law and Government')\n",
    "    politicsFiltered = trends.filter_by_topic('Politics')\n",
    "    filteredTrends = businessFiltered + techFiltered + lawAndGovFiltered + politicsFiltered\n",
    "    sortedTrends = sorted(filteredTrends, key=lambda x: x.volume, reverse=True)\n",
    "    keysSoFar = set()\n",
    "    finalTrendList = []\n",
    "    for trend in sortedTrends:\n",
    "        if not trend.keyword in keysSoFar:\n",
    "            finalTrendList.append({\n",
    "                'keyword': trend.keyword,\n",
    "                'volume': trend.volume,\n",
    "                'volume_growth_pct': trend.volume_growth_pct,\n",
    "                'topics': trend.topics,\n",
    "                'keywords': trend.trend_keywords,\n",
    "            })\n",
    "            keysSoFar.add(trend.keyword)\n",
    "    return finalTrendList"
   ]
  },
  {
   "cell_type": "code",
   "execution_count": 45,
   "id": "b782d320",
   "metadata": {},
   "outputs": [],
   "source": [
    "# Example usage in your getNews function:\n",
    "def getNews(trendKeyword, num_articles=10, linkNews={}):\n",
    "    search_term = trendKeyword.replace(' ', '+')\n",
    "    url = f'https://news.google.com/rss/search?q={search_term}&hl=en-US&gl=US&ceid=US:en'\n",
    "    feed = feedparser.parse(url)\n",
    "    valid, invalid = [], []\n",
    "\n",
    "    for entry in feed.entries[:min(num_articles, len(feed.entries))]:\n",
    "        if entry.link not in linkNews:\n",
    "            newNews = News(\n",
    "                entry.title,\n",
    "                entry.link,\n",
    "                entry.published,\n",
    "            )\n",
    "            linkNews[entry.link] = newNews\n",
    "            if newNews.mainText:\n",
    "                valid.append(newNews)\n",
    "            else:\n",
    "                invalid.append(newNews)\n",
    "\n",
    "    return valid, invalid"
   ]
  },
  {
   "cell_type": "code",
   "execution_count": 46,
   "id": "a15e7e9f",
   "metadata": {},
   "outputs": [],
   "source": [
    "def collectArticles(trend, linkNews={}, maxArticles = 25):\n",
    "    news = set()\n",
    "    keywords = set(trend['keywords'] + trend['keywords'])\n",
    "    numArticlesPerKeyword = 1 + (maxArticles // len(keywords)) # promotes diversity across keywords\n",
    "    for keyword in keywords:\n",
    "        time.sleep(2) # wait two seconds to avoid rate limiting\n",
    "        valid, invalid = getNews(keyword, num_articles=numArticlesPerKeyword, linkNews=linkNews)\n",
    "        news.update(valid)\n",
    "        if len(news) > maxArticles:\n",
    "            break\n",
    "    trend['news'] = list(news)"
   ]
  },
  {
   "cell_type": "markdown",
   "id": "f56ff624",
   "metadata": {},
   "source": [
    "# 🔄 Collect Trends Or Load From Pickle\n",
    "---"
   ]
  },
  {
   "cell_type": "code",
   "execution_count": 47,
   "id": "d11ae1c1",
   "metadata": {},
   "outputs": [
    {
     "name": "stdout",
     "output_type": "stream",
     "text": [
      "{'keyword': 'guinness', 'volume': 200000, 'volume_growth_pct': 100, 'topics': [10, 8], 'keywords': ['guinness', 'who is st patrick', 'shamrock', \"st patrick's day 2025\", 'who was st patrick', 'st. patrick', 'saint patricks day', 'st patricks', 'st pattys day', 'st patricks day 2025', 'what is st patricks day', \"st. patrick's day 2025\", 'who is saint patrick', 'saint-patrick', \"st patrick's day parade 2025\", 'saint patrick day', 'st paddys day', 'who was saint patrick', 'st patrick day 2025', \"st.patrick's day\"]}\n",
      "{'keyword': 'forever 21', 'volume': 100000, 'volume_growth_pct': 600, 'topics': [3], 'keywords': ['forever 21', 'forever 21 closing', 'forever21', 'shein', 'mall']}\n",
      "{'keyword': 'autopen', 'volume': 100000, 'volume_growth_pct': 1000, 'topics': [14, 10], 'keywords': ['autopen', 'what is autopen', 'auto pen', 'biden pardons', 'biden autopen', 'autopen machine', 'adam kinzinger', 'autopen signature', 'trump biden pardons', 'trump pardons', 'pardons', 'joe biden']}\n",
      "{'keyword': 'conor mcgregor', 'volume': 50000, 'volume_growth_pct': 700, 'topics': [14], 'keywords': ['conor mcgregor', 'ireland', 'conor mcgregor white house']}\n",
      "{'keyword': 'fbi outlook email', 'volume': 20000, 'volume_growth_pct': 500, 'topics': [18], 'keywords': ['fbi outlook email', 'medusa fbi']}\n",
      "{'keyword': 'statue of liberty', 'volume': 20000, 'volume_growth_pct': 500, 'topics': [14, 10], 'keywords': ['statue of liberty', 'france statue of liberty', 'france wants statue of liberty back', 'press secretary', 'france', 'liberty']}\n",
      "{'keyword': 'affordable housing federal lands', 'volume': 20000, 'volume_growth_pct': 500, 'topics': [10], 'keywords': ['affordable housing federal lands', 'scott turner', 'trump housing federal land', 'scott turner hud', 'hud secretary scott turner', 'hud secretary']}\n",
      "{'keyword': 'stephen miller', 'volume': 20000, 'volume_growth_pct': 100, 'topics': [10], 'keywords': ['stephen miller', 'karoline leavitt', 'democracy forward', 'judge boasberg', 'cecot prison el salvador', 'boasberg', 'donald trump administration', 'cecot mega prison', 'flights', 'venezuelans deported', 'aclu', 'el salvador president', 'united states', 'abcnews']}\n",
      "{'keyword': 'poppi soda pepsico', 'volume': 10000, 'volume_growth_pct': 200, 'topics': [5, 3], 'keywords': ['poppi soda pepsico', 'pepsico buys poppi', 'pr', 'shark']}\n",
      "{'keyword': 'dow jones stock markets futures', 'volume': 10000, 'volume_growth_pct': 200, 'topics': [3], 'keywords': ['dow jones stock markets futures', 'today', 'dow jones index']}\n",
      "{'keyword': 'ashley biden', 'volume': 10000, 'volume_growth_pct': 700, 'topics': [14, 10], 'keywords': ['ashley biden', 'hunter biden', 'hunter biden secret service', 'who is ashley biden']}\n",
      "{'keyword': 'us institute of peace', 'volume': 10000, 'volume_growth_pct': 200, 'topics': [10, 14], 'keywords': ['us institute of peace', 'us institute of peace doge', 'usip', 'institute of peace']}\n",
      "{'keyword': 'jfk files', 'volume': 10000, 'volume_growth_pct': 200, 'topics': [14, 10], 'keywords': ['jfk files', 'jfk', 'files']}\n",
      "{'keyword': 'jasmine mooney', 'volume': 10000, 'volume_growth_pct': 100, 'topics': [10], 'keywords': ['jasmine mooney']}\n",
      "{'keyword': 'hezbollah', 'volume': 10000, 'volume_growth_pct': 100, 'topics': [10], 'keywords': ['hezbollah', 'hassan nasrallah', 'brown university', 'rasha alawieh brown', 'brown university doctor deported', 'brown professor deported', 'us', 'dr']}\n",
      "{'keyword': 'serum 2', 'volume': 5000, 'volume_growth_pct': 300, 'topics': [4, 18], 'keywords': ['serum 2']}\n",
      "{'keyword': 'kennedy center', 'volume': 5000, 'volume_growth_pct': 200, 'topics': [4, 10, 14], 'keywords': ['kennedy center']}\n",
      "{'keyword': 'rippling', 'volume': 5000, 'volume_growth_pct': 75, 'topics': [10], 'keywords': ['rippling']}\n",
      "{'keyword': 'charles rogers medal of honor recipient', 'volume': 5000, 'volume_growth_pct': 700, 'topics': [10], 'keywords': ['charles rogers medal of honor recipient', 'charles calvin rogers']}\n",
      "{'keyword': 'larry ellison', 'volume': 2000, 'volume_growth_pct': 100, 'topics': [3], 'keywords': ['larry ellison']}\n",
      "{'keyword': 'wiz', 'volume': 2000, 'volume_growth_pct': 100, 'topics': [3, 18], 'keywords': ['wiz', 'google wiz']}\n",
      "{'keyword': 'openai', 'volume': 2000, 'volume_growth_pct': 200, 'topics': [3], 'keywords': ['openai']}\n",
      "{'keyword': 'rgti stock', 'volume': 2000, 'volume_growth_pct': 75, 'topics': [3], 'keywords': ['rgti stock']}\n",
      "{'keyword': 'retail sales', 'volume': 2000, 'volume_growth_pct': 75, 'topics': [3], 'keywords': ['retail sales', 'retail sales report', 'forex factory', '444']}\n",
      "{'keyword': 'is chatgpt down', 'volume': 2000, 'volume_growth_pct': 200, 'topics': [18, 15], 'keywords': ['is chatgpt down', 'chatgpt down', 'chatgpt down?', 'is chatgpt down?']}\n",
      "{'keyword': 'belgium', 'volume': 2000, 'volume_growth_pct': 75, 'topics': [10, 14], 'keywords': ['belgium']}\n",
      "{'keyword': 'wsdot', 'volume': 2000, 'volume_growth_pct': 50, 'topics': [10], 'keywords': ['wsdot']}\n",
      "{'keyword': 'brussels', 'volume': 2000, 'volume_growth_pct': 75, 'topics': [14], 'keywords': ['brussels']}\n",
      "{'keyword': 'andrew weissmann', 'volume': 2000, 'volume_growth_pct': 100, 'topics': [14], 'keywords': ['andrew weissmann']}\n",
      "{'keyword': 'nbc', 'volume': 2000, 'volume_growth_pct': 100, 'topics': [14], 'keywords': ['nbc']}\n",
      "{'keyword': 'hudson river', 'volume': 1000, 'volume_growth_pct': 300, 'topics': [3], 'keywords': ['hudson river']}\n",
      "{'keyword': 'ionq stock', 'volume': 1000, 'volume_growth_pct': 75, 'topics': [3], 'keywords': ['ionq stock']}\n",
      "{'keyword': 'netflix stock', 'volume': 1000, 'volume_growth_pct': 50, 'topics': [3, 4], 'keywords': ['netflix stock', 'nflx stock']}\n",
      "{'keyword': 'stimulus check 2025', 'volume': 1000, 'volume_growth_pct': 100, 'topics': [3], 'keywords': ['stimulus check 2025']}\n",
      "{'keyword': 'intc stock', 'volume': 1000, 'volume_growth_pct': 100, 'topics': [3, 18], 'keywords': ['intc stock', 'intel stock price']}\n",
      "{'keyword': 'economic calendar', 'volume': 1000, 'volume_growth_pct': 75, 'topics': [3], 'keywords': ['economic calendar']}\n",
      "{'keyword': 'workday outage', 'volume': 1000, 'volume_growth_pct': 100, 'topics': [18], 'keywords': ['workday outage', 'workday down']}\n",
      "{'keyword': 'xfinity outage', 'volume': 1000, 'volume_growth_pct': 100, 'topics': [18], 'keywords': ['xfinity outage']}\n",
      "{'keyword': 'san bernardino sheriff', 'volume': 1000, 'volume_growth_pct': 50, 'topics': [10], 'keywords': ['san bernardino sheriff', 'san bernardino']}\n",
      "{'keyword': 'scott turner hud secretary', 'volume': 1000, 'volume_growth_pct': 200, 'topics': [10], 'keywords': ['scott turner hud secretary', 'secretary of hud']}\n",
      "{'keyword': 'federal holidays 2025', 'volume': 1000, 'volume_growth_pct': 75, 'topics': [8, 10], 'keywords': ['federal holidays 2025']}\n",
      "{'keyword': 'white house press secretary', 'volume': 1000, 'volume_growth_pct': 50, 'topics': [14], 'keywords': ['white house press secretary']}\n",
      "{'keyword': 'freedom', 'volume': 1000, 'volume_growth_pct': 50, 'topics': [14], 'keywords': ['freedom']}\n",
      "{'keyword': 'suni williams', 'volume': 500, 'volume_growth_pct': 100, 'topics': [3, 15], 'keywords': ['suni williams', 'space', '9']}\n",
      "{'keyword': 'rddt stock', 'volume': 500, 'volume_growth_pct': 75, 'topics': [3], 'keywords': ['rddt stock']}\n",
      "{'keyword': 'ai', 'volume': 500, 'volume_growth_pct': 100, 'topics': [3], 'keywords': ['ai']}\n",
      "{'keyword': 'national grid power outage', 'volume': 500, 'volume_growth_pct': 100, 'topics': [3], 'keywords': ['national grid power outage']}\n",
      "{'keyword': 'google stock price', 'volume': 500, 'volume_growth_pct': 75, 'topics': [3, 15, 18], 'keywords': ['google stock price']}\n",
      "{'keyword': 'bitfarms', 'volume': 500, 'volume_growth_pct': 50, 'topics': [3], 'keywords': ['bitfarms']}\n",
      "{'keyword': 'rivian stock', 'volume': 500, 'volume_growth_pct': 75, 'topics': [3, 1], 'keywords': ['rivian stock']}\n",
      "{'keyword': 'amazon echo dot', 'volume': 500, 'volume_growth_pct': 75, 'topics': [18], 'keywords': ['amazon echo dot']}\n",
      "{'keyword': 'fox live', 'volume': 500, 'volume_growth_pct': 50, 'topics': [10], 'keywords': ['fox live']}\n",
      "{'keyword': 'michelle bowman', 'volume': 500, 'volume_growth_pct': 50, 'topics': [10, 14], 'keywords': ['michelle bowman', 'bank']}\n",
      "{'keyword': 'red flag warning', 'volume': 500, 'volume_growth_pct': 100, 'topics': [10], 'keywords': ['red flag warning']}\n",
      "{'keyword': 'hawaii news now', 'volume': 500, 'volume_growth_pct': 50, 'topics': [10], 'keywords': ['hawaii news now']}\n",
      "{'keyword': 'kevin kiley', 'volume': 500, 'volume_growth_pct': 100, 'topics': [14], 'keywords': ['kevin kiley']}\n",
      "{'keyword': 'closing time', 'volume': 500, 'volume_growth_pct': 50, 'topics': [4, 14], 'keywords': ['closing time']}\n",
      "{'keyword': 'ezra klein', 'volume': 500, 'volume_growth_pct': 100, 'topics': [14], 'keywords': ['ezra klein']}\n",
      "{'keyword': 'real clear politics', 'volume': 500, 'volume_growth_pct': 50, 'topics': [14], 'keywords': ['real clear politics', 'realclearpolitics']}\n",
      "{'keyword': 'waymo', 'volume': 200, 'volume_growth_pct': 50, 'topics': [3], 'keywords': ['waymo']}\n",
      "{'keyword': 'microplastics', 'volume': 200, 'volume_growth_pct': 75, 'topics': [3, 15], 'keywords': ['microplastics']}\n",
      "{'keyword': 'meta ai', 'volume': 200, 'volume_growth_pct': 50, 'topics': [18], 'keywords': ['meta ai']}\n",
      "{'keyword': 'windows 11', 'volume': 200, 'volume_growth_pct': 100, 'topics': [18], 'keywords': ['windows 11', 'microsoft']}\n",
      "{'keyword': 'alan dershowitz', 'volume': 200, 'volume_growth_pct': 50, 'topics': [10], 'keywords': ['alan dershowitz']}\n",
      "{'keyword': 'district of columbia', 'volume': 200, 'volume_growth_pct': 50, 'topics': [14, 10], 'keywords': ['district of columbia']}\n",
      "{'keyword': 'mk', 'volume': 200, 'volume_growth_pct': 75, 'topics': [14, 10], 'keywords': ['mk']}\n",
      "{'keyword': 'andrew schulz', 'volume': 200, 'volume_growth_pct': 200, 'topics': [14, 4], 'keywords': ['andrew schulz', 'clear']}\n",
      "{'keyword': 'hyatt', 'volume': 100, 'volume_growth_pct': 50, 'topics': [3], 'keywords': ['hyatt']}\n",
      "{'keyword': 'ubs', 'volume': 100, 'volume_growth_pct': 75, 'topics': [3], 'keywords': ['ubs', 'price of gold today']}\n",
      "{'keyword': 'قیمت دلار', 'volume': 100, 'volume_growth_pct': 100, 'topics': [3], 'keywords': ['قیمت دلار']}\n",
      "{'keyword': 'nasdaq futures', 'volume': 100, 'volume_growth_pct': 50, 'topics': [3], 'keywords': ['nasdaq futures']}\n",
      "{'keyword': 'social security office', 'volume': 100, 'volume_growth_pct': 75, 'topics': [14, 10], 'keywords': ['social security office']}\n",
      "{'keyword': 'va', 'volume': 100, 'volume_growth_pct': 75, 'topics': [10], 'keywords': ['va', 'nashville']}\n",
      "{'keyword': 'tramadol', 'volume': 100, 'volume_growth_pct': 75, 'topics': [10], 'keywords': ['tramadol']}\n",
      "{'keyword': 'waste management', 'volume': 100, 'volume_growth_pct': 50, 'topics': [10], 'keywords': ['waste management']}\n",
      "{'keyword': 'danielle kurtzleben', 'volume': 100, 'volume_growth_pct': 50, 'topics': [14], 'keywords': ['danielle kurtzleben']}\n"
     ]
    }
   ],
   "source": [
    "getTrendInfo = input('Get Trends? (y/n): ')\n",
    "if getTrendInfo.lower() == 'y':\n",
    "    finalTrendList = getTrends()\n",
    "    showTrends = input('Show Trends? (y/n): ')\n",
    "    if showTrends.lower() == 'y':\n",
    "        # outStr = \"\"\"\"\"\"\n",
    "        for trend in finalTrendList[:min(100, len(finalTrendList))]:\n",
    "            print(trend)\n",
    "    saveTrends = input('Save Trends? (y/n): ')\n",
    "    if saveTrends.lower() == 'y':\n",
    "        with open('./tmp/finalTrendList.pkl', 'wb') as f:\n",
    "            pickle.dump(finalTrendList, f)\n",
    "elif getTrendInfo.lower() == 'n':\n",
    "    with open('./tmp/finalTrendList.pkl', 'rb') as f:\n",
    "        finalTrendList = pickle.load(f)\n",
    "else:\n",
    "    print('Invalid input, run again')\n",
    "    exit()"
   ]
  },
  {
   "cell_type": "markdown",
   "id": "c3429ca1",
   "metadata": {},
   "source": [
    "# 🎯 Select Trend and Collect Articles\n",
    "---"
   ]
  },
  {
   "cell_type": "code",
   "execution_count": 48,
   "id": "a73732be",
   "metadata": {},
   "outputs": [
    {
     "name": "stdout",
     "output_type": "stream",
     "text": [
      "URL https://news.google.com/rss/articles/CBMiWkFVX3lxTE4xSng5R2FiTGJYMDRuT3Jmd0ZtSFAxay1LV1RWRHQ1dnBSRE5FcWxNREFESFV1NjBvZlB2WGlZMVJnVTBEdjJQTUtBbmRZNElNMExOajVkeDc0UdIBX0FVX3lxTE95cEV4VHoxSklETUlTbXlXRHZBMzlKU0FBSy00dVNTWHlzOHZsUVg2azZLdWVmZXpsbEJPdHZnRC1JWGVDVXZGc0t5N0NuMUFrZHdsT3ZRNXp3cjhXTzkw?oc=5\n",
      "URL https://news.google.com/rss/articles/CBMinwFBVV95cUxPZU9qYno1VnJta0plZWNKWG5ES1JFZHpNQ3lPUnV0X19IeFdZLVdRYUhhLVNmUmx5MTE1VVYyc2xoUUNEcEtZN2VOMHhHNmw3a0xNTi1lMUtOSm5RTFk0Wk85T2YwR290a1B4WC13UWZUUEM5eUx2aXc1emtEc3FZVmlOU1ZJYmt0dWZwTlZJN1RXRUtqYno4QkktMWVLdG_SAXNBVV95cUxPVk5BV3N6c0U1TlZFc0N4RFI5MDQtOFBGVkNsS0hsSzlwMU91UXUwNVQ4UWJHZXJhRjM2VUZqek5udmVSeXA3RUJ6OXM4QmZIYTVhYmVhQXpiMmRYTXhmV3FKZjlOQmlISExFQk1ZeXZWWkJz?oc=5\n",
      "URL https://news.google.com/rss/articles/CBMieEFVX3lxTFA3Q2UxVXZVTDdQc08xMHY3VF84cnpwRkJwRFdNWUoxd25iX2ZNSGxUN3NtSGpVQ1c5NWlWNTZBN2xQeTFxS1V1NUtkZzgzdHpmWUlydnV2dmVuMUY5UW1Nb3liWTJnLUtmWHpRMjE1UjRBM0FNZlFIYQ?oc=5\n",
      "Error extracting article content: Article `download()` failed with 403 Client Error: Forbidden for url: https://www.barrons.com/articles/autopen-biden-pardons-trump-47408b32 on URL https://www.barrons.com/articles/autopen-biden-pardons-trump-47408b32\n",
      "URL https://news.google.com/rss/articles/CBMivAFBVV95cUxQYzJMTkJaNGppU1F5ZGlfcXJTLUpGSUhYTHZtTkFpV1BhVGJVMTVFMWJUUzZMSndnQ21BOUNQVElpT2xQYjRZd2tHYkRWM2xTY2VwelhTS0ZMUE8tbGtpd2VsVDhETnl3dm1YQ3h0MkhtWTNpODBmaERYZGZIakhBR2FHSTF2QmxNWEVjMnNQTUtTWVNHYkhqZDl6dTRoYU8tMS1VT2FWMHd1VV9LMnpfY3NMSGJ0dEctU1VWZNIBVkFVX3lxTE1yQnRpUlBKQ0w2LTFfa3ZuTzVDVkU3LWs2aVB6UW93WDB1dWc4aW9pQUFDcGV2ZF9Lb0ZDRFEtQVhycHZkdVBLS1lQZ2ZPSEM1T2RGNFBB?oc=5\n",
      "URL https://news.google.com/rss/articles/CBMi1wFBVV95cUxQZUxILWNjU3ZXRVVSSmZFbWVvYmlvU1FWOTZ0LVlGVkkyS0I2NW9mVmJxY3hUdi1acm5zeUxkQm9NOTdNQUlnUjRKTlRHX2tZX1J1NkRpbjlFakRvYmpRWTB6Y1VlTU9GcG5mYTd2VUw0eGZKYWlpa2ZWU1RRSnRIMUNXb1MwVkItUXd2aWQyTUVtenJlTzYzWEFvalpPb3FOejdGd3c2ZVFuWjdGN1ZkRnBEeVNUR0RkaGJlaGF5ZUdJYTh1eWJ4UTk2cGhEQUhaVkIwR3NzWdIBY0FVX3lxTE1ZZ29RYUtVWUpFZDlXRXpTX2J1dzhQUlBPQnhCbmRXejByS2R1VWgzeWZia0hqYmlKbC1aN1VYaEdiQl9SdzR6TEdWMVEtUnNSeVZXZUIxVnBDQ1NQeG1xU01XVQ?oc=5\n",
      "URL https://news.google.com/rss/articles/CBMiY0FVX3lxTE9SZHVmQnVzN25DcGxwNjJ5QmdFZkQ1VGFRcWZJNlMtVXNqSEFWRmo2SUVXN3haTWs4U0cwOWNXX0VMVnhCclk0Vi0tengwWWd1c2lWbVpEVFdJcFkzcTF2V2tjMA?oc=5\n",
      "URL https://news.google.com/rss/articles/CBMiqgFBVV95cUxPRXhwRmdMMEEwTWYzNE1EdXNVQ0ZTM1ZBcVhTczM4clM0VkRCb0FVaW12U3p4U0Q4NjMtVVJ3Qlc1MXVWSURENEtoTWNuTUplMGNQQkFzanlDbEVURDREcnR5Vmx0bERVMlVTMmlZVFN1ZkNhTjN2ODVoQ1lreGZ3Y25odVczOEdOQ21pQmJ4SjZTY3JCcmI5TklMc010b2JqUzk1ZkRZNnRid9IBfEFVX3lxTFA4dFBJeHRtMERqNEp4V0hnelFDZWxhaC1XRzJNUHdObi0xMzBpLU54QUVIV09oWFJ5dHhlRy1hZlVWZGJkeHBMVG9pMVNmWmNPU2hRb0Y4enhsUGJrcU44Y08zZ0IxbVZBcHJMSGVYUVN4U1BGRWNQTDR4VlU?oc=5\n",
      "URL https://news.google.com/rss/articles/CBMirgFBVV95cUxPa051NVhoVVFBUUZGSE5jS2h5MjIwR2FsVXFoS3RGekNmSTg2N3RFaHlEc2phWXN1Z1FvSTY5aVNtX3oyYWNZRG91VkFiMHF2VENfTTVTX2loWUdoVVNzQjRFV0tZOXNic0VFaUpCMzVlYWFZSWRJejRzcFN2a21PUmJKR1FNdWpBMDdiaWtiLXRkMEMwR3R6MEJGOG5TWnNvUjBwc1VwOTFGTzNhTHc?oc=5\n",
      "Error extracting article content: Article `download()` failed with 403 Client Error: Forbidden for url: https://www.wsj.com/politics/policy/trump-lays-groundwork-for-investigating-people-pardoned-by-biden-73ee33ad on URL https://www.wsj.com/politics/policy/trump-lays-groundwork-for-investigating-people-pardoned-by-biden-73ee33ad\n",
      "URL https://news.google.com/rss/articles/CBMikwFBVV95cUxNcG41cFBpc1V2RDljT0k2ZnYzQXFLMThmMGpscVRNajJia2VfSWh2cjVYeEtnZlNHNEdmVV9BVU0yYjhVeER0RjNIZV9Ob255SnhtYldzYVUybEJpNGZPc3BCTzJ1RVBoUnBNcTZuSEVPN3Y1cV93SWxERXVJZ2Jnd0pwUU1OcVZiVGpzRk1BMTk2S2s?oc=5\n",
      "URL https://news.google.com/rss/articles/CBMingFBVV95cUxQbi12ZVdrUTNza2VEbVFmM3VkM0doVTI3S2JRN3ZLLWI4ZVF6WWcwdzFrOHZYdjJfdkpVdUNPVlVHNEhsNEh3c3ZJVDZGeFptYTE1VExSMjNQQld0c09yektyem42M1psU2FKeUpVSnJXeEVfMkk3ek5MdTZrYWZURXdrSzRLcHZBd1NUSWhfb1RYQ3cxaGRXdjdlOUlld9IBowFBVV95cUxPM3VsN1hlaGtnUEhkMkxkcnJOclVCTkdRbnpOaksyVXA2VHVhUFZ6dTJNVXdYQmFkOEd2ZGdHVXRxRk16b1VZM3hBZHJJZTVDZmU1N1N2Y3lZRF9nWVNjUUJ2NWdUMnMwbGdqNEtyX3pndUVIYTZrT1dGZnRqN2VsZi1hU09lR0Rya005X3pkMy10RnJlV3dYRVlvUmIxUVk4eUVz?oc=5\n",
      "URL https://news.google.com/rss/articles/CBMipwFBVV95cUxOWXVBcU1JU0dXYXBNWS1ycmY4a3hyVmNlNTcxVGw2eHpqVmhYV0Z5cHZyc3V4c0hmMEJJSXBpeEN5bVBNdXJtd0J4UUxoNHhUS1Z5eU1tQmdiLUI3RExyQmZzdGV3TkxhMl9LeFl4RzFOY2I1YmY4MU45X3pBNE4td3dmZ0pJanU4VHFOalFWaWItZGsxNlZ1SXBQLUpyZU1VWmdlLWRQa9IBrAFBVV95cUxNN3NMQUxwbVRrRVVWdkpmSk85RkkxdTRxYUoxb2tBSHNYSGVsUjNFREdaN3ZneXFJT3hhNzRHT3NtSDlQVzZPcEZaZWVJNUdYYWYyam1JQy05Q2tUYmhZOUxBa3RhUDZPQWxRWmIxWTd1d3ZLNEJKYlF1RFIyQ2ZSQ2taYWg1ZVZXa2J4Q29RdnlSS2VCTzdZdXBYaGFqY3hxRS1CZ3BxSUtpSFVl?oc=5\n",
      "Error extracting article content: Article `download()` failed with 429 Client Error: Unknown Error for url: https://thehill.com/homenews/administration/5199554-what-is-an-autopen-at-center-of-biden-pardon-claims/ on URL https://thehill.com/homenews/administration/5199554-what-is-an-autopen-at-center-of-biden-pardon-claims/\n",
      "URL https://news.google.com/rss/articles/CBMiqgFBVV95cUxNR0thTFY3cld1VmJWN0I0Vk9RU2ZzVlpWVUNEeGppYmhyXzlmRnpfalF5TVdlbGZUd3pXcURiOUVhcng5SVJCeFhMWVBNSy10ZVlNX25oVzdrZmx1eWtmVnd0d0lEamI2X1JvWVdHZFBUZnpGeU1KV0ZDSDFrZXBVNnFJaXJvMExRbFRQOE1pZDZfSHgwS2t1MFZpYlZaTHVrYzFrWjRyS1Z2d9IBrwFBVV95cUxPeXFxbWM4N0tLR0Q1M0tvOV92X1FCTnp5R0JQaWFxcWRwRkhZa3VhNkNPQUg2bFA4YmxRZmJxTnNWMjJ3Z3hINkNQeFRnYTR0aDBOZ3ZNUENqYUdXQWx6UUU0Rm9zZjhzVjVKc3ptSERTSF9WSUM2a182THVBNzJ2UlJYNFpBaU84MDVUT0hZdDFrUEdJc2paWTMtV2p3WlhyODltaE1oNzhDa24tQzlZ?oc=5\n",
      "Error extracting article content: Article `download()` failed with 403 Client Error: Forbidden for url: https://www.nationalreview.com/news/trump-declares-bidens-last-minute-pardons-void-over-autopen-signature/ on URL https://www.nationalreview.com/news/trump-declares-bidens-last-minute-pardons-void-over-autopen-signature/\n",
      "URL https://news.google.com/rss/articles/CBMiogFBVV95cUxNZkhiNHJ4dU1tWFZSOTQ1OXpxN2VJUzVXQ3dRUTlGOU5DZTBvXzNJdjNwaXd4R1lZczZva1Vpb2xhR0o5ZTA2OGQ1NllhTUFPWXBGYUdERVd5Q0V4Q0NJOFFyVUhTU3lXRUpway0zOGRJSEJOS1Nlc2dDeGwyVmVmREZ3R0NvRXMzX2d3M3dGTTEzY1JHcklHY0dzWnlNQjZlTWc?oc=5\n",
      "URL https://news.google.com/rss/articles/CBMib0FVX3lxTE9XZ0ktQlBKMG1BOEh4dExJN0NoeDhRNUgxYmxPZUowdTgyWUhfVXlPUTM4Q2tOQk9UTk9PQ1Z3cVgwSG5QRFFCVnlYeWRZLVZaUWZucG9qS1JEamRxZUxVMlJhREU4MXg4aUxQRWJ1ONIBdEFVX3lxTE5TdGZQY2o3anpDRzYxWGpGaDBFVHhPSzFtLTItYjBNcWk2NkNfMl9XMVFROVpNVHFFYTF1azROSGdQc242NjFZME9LcnhhNmtxWkszc2lsZXBTdW9OUlpkclpsQnVGR1pVNVV4UWVNZ1AtUEhM?oc=5\n",
      "URL https://news.google.com/rss/articles/CBMiswFBVV95cUxQbWlNY245MjRueXpKZmNyRUJKVWxyWGRsTG8wRE5YUkVVYWpyLXBUOXdJZGhwNi1jMG56bFhuaUhaQXRpVEI2TGJhRXdDOUdhSjFiSXN3dnZnUG1ZTmdneVFrU1U2UklpcjZLQ01CYXdCUDNKMEtmU2JFalF0amg3Zkt4bnhpbC1FbzhkbW1sVVc0MlowTnRzX3VVWHBpQjNqZkdyVVZKYzZLOHBURDhZYVNZOA?oc=5\n",
      "URL https://news.google.com/rss/articles/CBMi9gFBVV95cUxQVnhDd2JfekxEbDM2UHlxcThvbmlldXlBbUF3VDEybzdKa2VkNnFXVGt2bDBVd2QwdVZRZnV1MGFSdVA0VTBPbEJHMUVqeUZxTjdDaVllcG9iendtSl9uMmYyR1pKYVkwckFvV3JCNEJUbmhUZGUwZTR3RjI3OE42ODRKX1lfdC12MGNOdURnT2h2OFFXYm5hc1E1eG5fU19rZmQtYVhIdnhjZmlNQkwxb2xwQjNJaFVmbTVNMUl4NDhtamlXYmJDR2NkUGNEbXdEY0lpczJqYml5cWxibVU5aG4zNVpDVy1CZDBFTUtlYW9od21IYUE?oc=5\n",
      "URL https://news.google.com/rss/articles/CBMipAFBVV95cUxNa2s5XzJFbjdsWW9DQ1NpQ3ltZW9kazZvQy1ULWs3Tk5zbXd0UU1zRGZSZlkzX0wwaHpIQjVDOGUtdUN6UXFPaDNUckp4TE9VNFZKLUh0eFNEdHhybFViaVluajlXeXhLd25vSUw3QWVmSWgtNzBHc1hkWjZjNFRPcGNmaDUzYWsxYlhtZ0U1SnBDUWx0R3E4NjY0QVFnYmd1bThPcA?oc=5\n",
      "URL https://news.google.com/rss/articles/CBMisgFBVV95cUxPMjFPN3RKd0VnZUFKT2RFSUpKazdtYlNPdzZnNl80aUxtQ3ZOSjg1MXN3NjNfNUtYNXUwSkd1cnMxWV9Ua0NsTDVzMmVVOTVEOEdyRVZLY0hTSW90N3kxU2s3ZlYxbF9CMmlIRlRPMXFDQ21YNHV5NWJLVF9uUERiT3pOeE93YTZ3STJuUkNxeHZxVGtMNlpkYnozekNlQjdaZnctLWRiNWl1alBJNEVRWmRR0gG3AUFVX3lxTFB2RWxhSG5HbmkxY2ZSOWItQ1B4c1BpWDRkTjhPSU5ncV9VNldrYmJWNzhyQUhCanlEYk5udTYzMm1ocDh2YmQyWk1mNzdGZHh2am9vdzE1X0tlUGk3cnlGdTd1S2xlMkpJZzVldUhmUGpqNHFuWnNnWEtpeEJoWFp6X3lrS2gyVDduZXJDOEJRWW5oMTRxQm9CX1lJYW10X1JrRl9hQmxPMjdsNENYNVhhczc2REJkVQ?oc=5\n",
      "URL https://news.google.com/rss/articles/CBMiekFVX3lxTE0tM1E1RGl3cmxwVUdmcmFUM3laQWZLNlBwbDg0NmI2cHFBNVV5SXFGME52R1B0bGtOZXlhRnFxN0hjY0c5VnRpSTFyLUk2THdJN0RKcDU3T2NJTHEwbVB6clMwYk5MVEtoWklYSnVDRkRiZms4aFBGaExR?oc=5\n",
      "URL https://news.google.com/rss/articles/CBMiekFVX3lxTE8zRURDQ1VicHVIR2FKNHNjUDJnUk5fa0UtanRtQ3E0QW9lT0F6X2plRmxyODVPS2pIX3ZIdTM4RzZMMGM1NUlCX0drYS1sSmw3alZHbEZmVlhad3htLVNDVElsdW1mWlN3U3VDbFFla0RVMW5lbHkwWGJn?oc=5\n",
      "URL https://news.google.com/rss/articles/CBMizAFBVV95cUxQZm55QXhaSEtSOUxwSHFFLVBwRlpxOGZuU0RQbW03SzNwX29YNTZQaU9MTlBsYjhaT2kxYW1zOUNhcUVyWjNMbkNMUzdBb2FlaVN0X2M2THhJblZGUTVZeVNpQU1US3lVZHVxSkhXNUJMQVlMaXo4eWppY2xGRUYxQmVBU0M5cjctYmxMX2U0Wl96TVlpekdiSC1ucXotMmdyQW40azNodE1qZ2hrdmZIVHg1MXF3cjdLYVg1WnpJamxNcGIzb21KbkNjNELSAdIBQVVfeXFMUC01YUdsYk94YzVtQWRLWGJIY0UyMC1TdjJ1RHh2MjYxTGdLMlNfTWMtemNfR2ZvZXctUjVJMWV0c180blNBRnRQbmxSN2RmZVJSeHE2SlRHOGtsdnprZFE1WnYwbEc3U18yaEREN0ZWY28wODJZdE9UazNrU1N4SFk5ZkwxN3Z5NE9UNWRpNkZrN21IVHpPcHNtZzdGcGp1YVpCSWxiTEtUOE5Uc3dWcTB2NjZUSUxoT1dseGRqUzFJVmpmSWU2OW9wRS1KNGJPVDNR?oc=5\n",
      "URL https://news.google.com/rss/articles/CBMiowFBVV95cUxPbWR2TjBkX1ROWWtBR21qVHd5dUQxVVZXOTREaEdEMWFJUEV0bmpIUkVfdmxKZXcwZmhTMGtsWjZqQ0tRb2s5c3pMX0YyVExCRXhTMkFSdmxXdGI2SnpkbDdPNzhORGpxWV8tNFYxbXhaVXVacG5EbTRtVkFybnpWSDRhdkF1b0cxVng3aGk1cmNOVVVuUlRhMVozbzNxUGtjRXdR?oc=5\n",
      "URL https://news.google.com/rss/articles/CBMilgFBVV95cUxPazZNb1hjSnhfbEI3M3hHQzYzVlhyZWJkVWxpa1hvNk5mWHhoaFBfY2lpR2dwbU1rVEk4akQ1djRVQUdSajE5bVNna1ZLZC1henkwODR2NTRYM2xqU3dCZ1dhVVBpWnJvekVuZzJ5VTRKVXpFTFNkQzJLeEJfM09kTVpIcEtadFBIcVluVUUyZHJ6clZyN1E?oc=5\n",
      "URL https://news.google.com/rss/articles/CBMiekFVX3lxTE8zR2lTZ3owWGxCZ2E0Ukx1Y2xzNWRkRHFRUTlxVjl5cFVhaVNkQmhOdTFLRzRqTzNoZ2tvQXJNNVlnaFR5ZG0xRkhrWThfZUxfek5hWXZCZ29OVVNsRDN2ZUJHV1B2UWl2NG5DTDdHWmdEWGswZDV4VGVR?oc=5\n",
      "Trends info scraped, trend selected and articles collected. All information saved.\n"
     ]
    }
   ],
   "source": [
    "keyword = input('Enter trend keyword: ')\n",
    "trend = [trend for trend in finalTrendList if trend['keyword'] == keyword][0]\n",
    "linkNews = {}\n",
    "collectArticles(trend, linkNews=linkNews, maxArticles = 40)\n",
    "pickle.dump(finalTrendList, open('./tmp/finalTrendList.pkl', 'wb'))\n",
    "print('Trends info scraped, trend selected and articles collected. All information saved.')"
   ]
  },
  {
   "cell_type": "markdown",
   "id": "985998ec",
   "metadata": {},
   "source": [
    "# 🎨 Generate Assets For Selected Trend\n",
    "---"
   ]
  },
  {
   "cell_type": "code",
   "execution_count": 49,
   "id": "98c6e9ad",
   "metadata": {},
   "outputs": [],
   "source": [
    "config = {'news_report': True,\n",
    "        'script': True,\n",
    "        'narration': True,\n",
    "        'voice': False,\n",
    "        'sora_prompts': True}"
   ]
  },
  {
   "cell_type": "code",
   "execution_count": 50,
   "id": "edb083cf",
   "metadata": {},
   "outputs": [
    {
     "name": "stdout",
     "output_type": "stream",
     "text": [
      "sk_f96d619fc51235180796190a025b96954210e5b25af0d67d\n"
     ]
    }
   ],
   "source": [
    "print(ELEVENLABS_API_KEY)"
   ]
  },
  {
   "cell_type": "code",
   "execution_count": 51,
   "id": "92078695",
   "metadata": {},
   "outputs": [
    {
     "name": "stdout",
     "output_type": "stream",
     "text": [
      "C:\\Users\\garre\\OneDrive\\Desktop\\Projects\\aiMedia\\assets\\2025-03-17-19-22-52\\autopen topic_dir\n",
      "C:\\Users\\garre\\OneDrive\\Desktop\\Projects\\aiMedia\\assets\\2025-03-17-19-22-52\\autopen\\sora_prompts sora_prompt_dir\n",
      "20 validArticles\n"
     ]
    },
    {
     "data": {
      "text/plain": [
       "{'paths': {'script': 'C:\\\\Users\\\\garre\\\\OneDrive\\\\Desktop\\\\Projects\\\\aiMedia\\\\assets\\\\2025-03-17-19-22-52\\\\autopen\\\\script.txt',\n",
       "  'audio': 'C:\\\\Users\\\\garre\\\\OneDrive\\\\Desktop\\\\Projects\\\\aiMedia\\\\assets\\\\2025-03-17-19-22-52\\\\autopen\\\\voiceover.mp3',\n",
       "  'video': 'C:\\\\Users\\\\garre\\\\OneDrive\\\\Desktop\\\\Projects\\\\aiMedia\\\\assets\\\\2025-03-17-19-22-52\\\\autopen\\\\video.mp4',\n",
       "  'sora_prompts': 'C:\\\\Users\\\\garre\\\\OneDrive\\\\Desktop\\\\Projects\\\\aiMedia\\\\assets\\\\2025-03-17-19-22-52\\\\autopen\\\\sora_prompts',\n",
       "  'news_report': 'C:\\\\Users\\\\garre\\\\OneDrive\\\\Desktop\\\\Projects\\\\aiMedia\\\\assets\\\\2025-03-17-19-22-52\\\\autopen\\\\news_report.txt'}}"
      ]
     },
     "execution_count": 51,
     "metadata": {},
     "output_type": "execute_result"
    }
   ],
   "source": [
    "generate_assets(trend, openai_api_key=OPENAI_API_KEY, elevenlabs_api_key=ELEVENLABS_API_KEY, voice_id=VOICE_ID, run_dir=RUN_DIR, config=config)"
   ]
  },
  {
   "cell_type": "code",
   "execution_count": 52,
   "id": "a9f23425",
   "metadata": {},
   "outputs": [
    {
     "data": {
      "text/plain": [
       "'C:\\\\Users\\\\garre\\\\OneDrive\\\\Desktop\\\\Projects\\\\aiMedia\\\\assets\\\\2025-03-17-19-22-52'"
      ]
     },
     "execution_count": 52,
     "metadata": {},
     "output_type": "execute_result"
    }
   ],
   "source": [
    "os.getenv(\"RUN_DIR\")"
   ]
  },
  {
   "cell_type": "code",
   "execution_count": 53,
   "id": "9fc34596",
   "metadata": {},
   "outputs": [],
   "source": [
    "os.chdir(RUN_DIR)\n",
    "outName = trend['keyword'].replace(\" \", \"_\") # name of folder and file to zip\n",
    "!tar -acf {outName}.zip {outName}"
   ]
  },
  {
   "cell_type": "code",
   "execution_count": 54,
   "id": "4d7961d7",
   "metadata": {},
   "outputs": [],
   "source": [
    "!echo python -m wormhole send {outName}.zip | clip && start cmd"
   ]
  },
  {
   "cell_type": "markdown",
   "id": "2826d120",
   "metadata": {},
   "source": [
    "# Generating Assets with Grok 🤖\n",
    "___"
   ]
  },
  {
   "cell_type": "code",
   "execution_count": 226,
   "id": "cb14d0d0",
   "metadata": {},
   "outputs": [],
   "source": [
    "import os\n",
    "from dotenv import load_dotenv\n",
    "load_dotenv()\n",
    "from grok import Grok\n",
    "import pickle"
   ]
  },
  {
   "cell_type": "code",
   "execution_count": 227,
   "id": "ac1f9b29",
   "metadata": {},
   "outputs": [],
   "source": [
    "os.chdir(os.getenv(\"APPDIR\"))"
   ]
  },
  {
   "cell_type": "code",
   "execution_count": 228,
   "id": "30a11d8c",
   "metadata": {},
   "outputs": [
    {
     "name": "stdout",
     "output_type": "stream",
     "text": [
      "xai-fq2OPXVKJrQCMyitw8z4fUiuVE6OO0KBjy1AzT5L56DiZsG88SqNJgvISwXC7psVI6wmT5vkAkFWadXF https://api.x.ai/v1/chat/completions\n"
     ]
    }
   ],
   "source": [
    "grok_api_key, grok_url, grok_model = os.getenv(\"GROK_API_KEY\"), os.getenv(\"GROK_URL\"), 'grok-2-latest'\n",
    "print(grok_api_key, grok_url)\n",
    "grok = Grok(grok_api_key, grok_url, grok_model)"
   ]
  },
  {
   "cell_type": "code",
   "execution_count": 229,
   "id": "eca6b59a",
   "metadata": {},
   "outputs": [],
   "source": [
    "def generate_script_grok(client: Grok, trend_data: dict, news_report: str) -> str:\n",
    "\n",
    "    \"\"\"Generate a video script using Grok based on trend data\"\"\"\n",
    "    \n",
    "    prompt = f\"\"\"Create a short, video script about this trending topic:\n",
    "    Topic: {trend_data['keyword']}\n",
    "    Related Keywords: {', '.join(trend_data['keywords'])}\n",
    "    News Report: {news_report}\n",
    "    \n",
    "    The script must be:\n",
    "    1. Informative and accurate\n",
    "    2. Focused on the most important and sensational aspects of the story\n",
    "    3. Conversational and concise.\n",
    "    4. Written with charged language and emotional appeals.\n",
    "    5. Quick to the point, no fluff.\n",
    "    6. Between 60 and 80 words in length.\n",
    "\n",
    "    The script must NOT:\n",
    "    1. Contain an outro of any kind, or mention subscribing to the channel\n",
    "    2. Use acronyms or abbreviations without explanation\n",
    "    3. Contain any headers, formatting, directions for the video, or other instructions.\n",
    "\n",
    "    End the script with a uniqueand engaging question.\n",
    "    \"\"\"\n",
    "    return client.generate_text(prompt)"
   ]
  },
  {
   "cell_type": "code",
   "execution_count": 230,
   "id": "b9c13c8e",
   "metadata": {},
   "outputs": [],
   "source": [
    "def generate_sora_prompts_grok(client: Grok, script: str, num_prompts: int = 1) -> list[str]:\n",
    "    \"\"\"Generate Sora-compatible video prompts based on the script\"\"\"\n",
    "\n",
    "    soraScripts = []\n",
    "    prompt = f\"\"\"Break down this script into a series of four video scene descriptions suitable for AI video generation:\n",
    "    \n",
    "    Script: {script}\n",
    "    \n",
    "    There should be four scenes.\n",
    "\n",
    "    For each scene:\n",
    "    \n",
    "    1. Describe the visual elements in detail\n",
    "    2. Include camera movements and transitions\n",
    "    3. Be concise -- under 25 words.\n",
    "    4. Use loose, conversational language in your description.\n",
    "    5. Format the scene description as follows:\n",
    "        [Scene Title] <= 5 words\n",
    "        [Scene Description] <= 25 words\n",
    "        [Camera Movements/Transitions] <= 25 words\n",
    "        newline\n",
    "\n",
    "    Do NOT:\n",
    "    1. Generate a scene for an outro\n",
    "    2. Use acronyms or abbreviations without explanation\n",
    "    3. Use the newline character, never the word \"newline\"\n",
    "    \"\"\"\n",
    "    \n",
    "    for i in range(num_prompts):\n",
    "        soraScript = client.generate_text(prompt)\n",
    "        soraScripts.append(soraScript)\n",
    "    return soraScripts"
   ]
  },
  {
   "cell_type": "code",
   "execution_count": 231,
   "id": "82fc1d50",
   "metadata": {},
   "outputs": [],
   "source": [
    "def generate_sora_prompts_grokV2(client: Grok, script: str, num_prompts: int = 1) -> list[str]:\n",
    "    \"\"\"Generate Sora-compatible video prompts based on the script\"\"\"\n",
    "\n",
    "    soraScripts = []\n",
    "    prompt = f\"\"\"Break down this script into a series of four video scene descriptions suitable for AI video generation:\n",
    "    \n",
    "    Script: {script}\n",
    "    \n",
    "    There should be four scenes.\n",
    "\n",
    "    For each scene:\n",
    "    \n",
    "    1. Describe the visual elements in detail\n",
    "    2. Include camera movements and transitions\n",
    "    3. Be concise -- under 25 words.\n",
    "    4. Use loose, conversational language in your description.\n",
    "    5. Scene descriptions should tell a story. Ensure that it can be told in ten seconds or less.\n",
    "    6. Format the scene description as follows:\n",
    "        [Scene Title] <= 5 words\n",
    "        [Scene Description] <= 25 words\n",
    "        [Camera Movements/Transitions] <= 25 words\n",
    "        newline\n",
    "\n",
    "    Do NOT:\n",
    "    1. Generate a scene for an outro\n",
    "    2. Use acronyms or abbreviations without explanation\n",
    "    \"\"\"\n",
    "    \n",
    "    for i in range(num_prompts):\n",
    "        soraScript = client.generate_text(prompt)\n",
    "        soraScripts.append(soraScript)\n",
    "    return soraScripts"
   ]
  },
  {
   "cell_type": "code",
   "execution_count": 232,
   "id": "efe8f3c7",
   "metadata": {},
   "outputs": [],
   "source": [
    "def generate_grok_image_prompts(client: Grok, script: str, num_prompts: int = 10) -> list[str]:\n",
    "    \"\"\"Generate Grok image prompts based on the script\"\"\"\n",
    "\n",
    "    prompt = f\"\"\"Generate a series of (~{int}) image descriptions that capture the most sensational themes of the following script.\n",
    "\n",
    "    For each image:\n",
    "    1. Be assertive and highly creative in your description. \n",
    "    2. Be clear and concise. \n",
    "    3. Use familiar elements of popular culture where appropriate e.g. brands, celebrities, landmarks, products, etc.\n",
    "\n",
    "    Each image prompt should have the following format:\n",
    "    Generate an image of [description]\n",
    "\n",
    "    Separate each image prompt with a newline.\n",
    "    \n",
    "    Script: {script}\n",
    "    \"\"\"\n",
    "    return client.generate_text(prompt)"
   ]
  },
  {
   "cell_type": "code",
   "execution_count": 233,
   "id": "679a0aeb",
   "metadata": {},
   "outputs": [],
   "source": [
    "def generate_grok_narration(client: Grok, script: str) -> str:\n",
    "    \"\"\"Generate a narration using Grok based on the script\"\"\"\n",
    "\n",
    "    prompt = f\"\"\"Extract only the words to be spoken from this video script:\n",
    "    Script: {script}.\n",
    "\n",
    "    The result should NOT include any mention of a narrator or scene descriptions.\n",
    "    \"\"\"\n",
    "    return grok.generate_text(prompt)"
   ]
  },
  {
   "cell_type": "code",
   "execution_count": 234,
   "id": "87b8d8e8",
   "metadata": {},
   "outputs": [],
   "source": [
    "def generate_hashtags(client: Grok, script: str) -> list[str]:\n",
    "    \"\"\"Generate hashtags using Grok based on the script\"\"\"\n",
    "\n",
    "    prompt = f\"\"\"Generate the best series of hashtags to make this video go viral on instagram reels, tik tok, and youtube shorts.\n",
    "    Select the best 10 hashtags and brief reasoning for each.\n",
    "\n",
    "    The result should be in the following format:\n",
    "    for each hashtag:\n",
    "        [Hashtag] [Reasoning]\n",
    "\n",
    "    Include a one-line space separated list of all hashtags at the end.\n",
    "\n",
    "    Script: {script}\"\"\"\n",
    "    return client.generate_text(prompt)\n"
   ]
  },
  {
   "cell_type": "code",
   "execution_count": 235,
   "id": "7c31a00e",
   "metadata": {},
   "outputs": [],
   "source": [
    "def generate_grok_opinion_analysis(client: Grok, news_report: str) -> str:\n",
    "    \"\"\"Generate an opinion analysis using Grok based on the news report\"\"\"\n",
    "\n",
    "    prompt = f\"\"\"Generate an opinion analysis using Grok based on the news report:\n",
    "    News Report: {news_report}\n",
    "\n",
    "    The opinion analysis should:\n",
    "    1. Be highly engaging and bold.\n",
    "    2. Provide evidence based reasoning for claims made. \n",
    "    3. Be less than 500 words in length.\n",
    "    4. Be written in a professional tone.\n",
    "\n",
    "    The opinion analysis should NOT:\n",
    "    1. Cite sources.\n",
    "\n",
    "    Format:\n",
    "    [Title Highlighting the Central Claim] <= 10 words\n",
    "    [Opinion Analysis] <= 500 words\n",
    "    \"\"\"\n",
    "\n",
    "    return client.generate_text(prompt)"
   ]
  },
  {
   "cell_type": "code",
   "execution_count": 236,
   "id": "3e90f6a0",
   "metadata": {},
   "outputs": [],
   "source": [
    "grok_api_key, grok_url, grok_model = os.getenv(\"GROK_API_KEY\"), os.getenv(\"GROK_URL\"), 'grok-2-latest'\n",
    "grok = Grok(grok_api_key, grok_url, grok_model)"
   ]
  },
  {
   "cell_type": "code",
   "execution_count": 237,
   "id": "32e0a465",
   "metadata": {},
   "outputs": [],
   "source": [
    "# List directories in assets and get most recent\n",
    "asset_dirs = [d for d in os.listdir('assets') if os.path.isdir(os.path.join('assets', d))]\n",
    "RUN_DIR = os.path.join('assets', max(asset_dirs))\n",
    "MAIN = [os.path.join(RUN_DIR, d) for d in os.listdir(RUN_DIR) if os.path.isdir(os.path.join(RUN_DIR, d))][0] # only one directory in the RUN_DIR\n",
    "NEWS_REPORT = os.path.join(MAIN, 'news_report.txt')\n",
    "SORAPROMPTS = os.path.join(MAIN, 'soraprompts.txt')\n",
    "SCRIPT = os.path.join(MAIN, 'script.txt')\n",
    "keyword = MAIN.split('\\\\')[-1].replace('_', ' ')"
   ]
  },
  {
   "cell_type": "code",
   "execution_count": 238,
   "id": "f0e12c6a",
   "metadata": {},
   "outputs": [],
   "source": [
    "finalTrendList = pickle.load(open('./tmp/finalTrendList.pkl', 'rb'))"
   ]
  },
  {
   "cell_type": "code",
   "execution_count": 239,
   "id": "84e8aaa9",
   "metadata": {},
   "outputs": [],
   "source": [
    "trend = [trend for trend in finalTrendList if trend['keyword'] == keyword][0]"
   ]
  },
  {
   "cell_type": "code",
   "execution_count": 240,
   "id": "8fc019b1",
   "metadata": {},
   "outputs": [
    {
     "name": "stdout",
     "output_type": "stream",
     "text": [
      "**Title: Autopen Controversy Heats Up as Trump Challenges Biden's Pardons**\n",
      "\n",
      "**Date: March 18, 2025**\n",
      "\n",
      "In an escalating feud over the legitimacy of Joe Biden’s final pardons, former President Donald Trump accused his predecessor of signing these legal documents with an “autopen,” claiming that such actions render the pardons “void, vacant, and of no further force or effect.” \n",
      "\n",
      "Trump's assertions, posted on his Truth Social account, particularly target preemptive pardons granted to members of the House Select Committee investigating the January 6 Capitol insurrection. He stated, “In other words, Joe Biden did not sign them but, more importantly, he did not know anything about them!\" This comment fueled speculation about Biden’s cognitive abilities and his control over the executive powers of the presidency.\n",
      "\n",
      "Using the autopen, a mechanical device designed to replicate signatures, is a practice that has been common among U.S. presidents for decades. Legal experts and former governmental practices affirm that the use of an autopen does not undermine the validity of the documents signed. A 2005 memorandum from the Office of Legal Counsel under President George W. Bush explicitly stated that the President does not need to personally affix their signature for a bill or pardon to be legally binding, as long as the document is signed at the direction of the President.\n",
      "\n",
      "Critics argue that Trump's claims are unfounded and circulate a narrative that fails to recognize established legal precedent surrounding presidential pardons. Jeffrey Crouch, a politics professor at American University, noted, “Biden’s pardons are highly unlikely to be revoked because of the apparent use of an autopen. The plain language of the Constitution imposes no such limitation.” He emphasized how numerous past presidents, including Barack Obama, have utilized the device without any legal repercussions.\n",
      "\n",
      "The public discourse surrounding Trump’s claims has led to sharp rebuttals from former members of the January 6 committee, including Adam Kinzinger and Adam Schiff. Kinzinger, responding to Trump’s social media diatribe, encouraged Trump to “bring it on,” asserting that the committee members remain steadfast in their work despite Trump’s threats. Schiff echoed this sentiment, emphasizing pride in their actions during the committee’s investigation.\n",
      "\n",
      "Public focus on the autopen controversy coincides with broader concerns over President Trump’s legislative focus and economic management, as recent polls indicate mixed approval ratings regarding his handling of the economy since returning to office in 2025. \n",
      "\n",
      "While Trump’s allegations are primarily couched in rhetoric, they signal his ongoing commitment to challenging Biden’s legacy, especially as his administration dealt with significant political turbulence surrounding the January 6 events. Notably, Trump has previously utilized similar powers of clemency during his administration, sparking discussions on the political motives behind presidential pardons.\n",
      "\n",
      "With Trump now boldly suggesting investigations into the pardons issued by Biden, observers note that the implications of these statements could prolong the historically contentious relationship between Trump's administration and Biden's legacy, setting the stage for further legal and political battles ahead. \n",
      "\n",
      "As this saga unfolds, it becomes more than just a political dispute over signatures; it raises larger questions about executive power, accountability, and the nature of democracy itself in the United States.\n"
     ]
    }
   ],
   "source": [
    "with open(NEWS_REPORT) as f:\n",
    "    newsReport = f.read()\n",
    "print(newsReport)"
   ]
  },
  {
   "cell_type": "code",
   "execution_count": 242,
   "id": "6587a9c5",
   "metadata": {},
   "outputs": [],
   "source": [
    "GROKPATH = MAIN + '/grok'\n",
    "if not os.path.exists(GROKPATH):\n",
    "    os.mkdir(GROKPATH)"
   ]
  },
  {
   "cell_type": "code",
   "execution_count": 243,
   "id": "27892075",
   "metadata": {},
   "outputs": [],
   "source": [
    "soraPromptPath = GROKPATH + '/grok-soraprompts.txt'\n",
    "soraPromptsv2Path = GROKPATH + '/grok-soraprompts-v2.txt'\n",
    "scriptPath = GROKPATH + '/grok-script.txt'\n",
    "grokImagePromptsPath = GROKPATH + '/grok-imageprompts.txt'\n",
    "grokNarrationPath = GROKPATH + '/grok-narration.txt'\n",
    "grokHashtagsPath = GROKPATH + '/grok-hashtags.txt'\n",
    "opinionAnalysisPath = GROKPATH + '/grok-opinionanalysis.txt'"
   ]
  },
  {
   "cell_type": "code",
   "execution_count": 218,
   "id": "3df7927e",
   "metadata": {},
   "outputs": [
    {
     "name": "stdout",
     "output_type": "stream",
     "text": [
      "narrationWC:  63\n",
      "Senate Democrats are in turmoil after ten of them, led by Chuck Schumer, voted with Republicans to pass a $1.7 trillion government funding bill, narrowly averting a shutdown. The bill, slammed by progressives like AOC as a \"huge slap in the face,\" cuts non-defense spending while boosting military funds. Can the Democratic Party survive this deep rift as they head into crucial elections?\n",
      "=========\n"
     ]
    }
   ],
   "source": [
    "narrationWC = 0\n",
    "while narrationWC < 60 or narrationWC > 80:\n",
    "    script = generate_script_grok(grok, trend, newsReport)\n",
    "    narration = generate_grok_narration(grok, script)\n",
    "    narrationWC = len(narration.split(' '))\n",
    "    print('narrationWC: ', narrationWC)\n",
    "    print(narration)\n",
    "    print(\"=========\")\n",
    "with open(scriptPath, 'w') as f:\n",
    "    f.write(script)\n",
    "with open(grokNarrationPath, 'w') as f:\n",
    "    f.write(narration)"
   ]
  },
  {
   "cell_type": "code",
   "execution_count": 244,
   "id": "de0e8f98",
   "metadata": {},
   "outputs": [
    {
     "name": "stdout",
     "output_type": "stream",
     "text": [
      "Generate an image of Chuck Schumer standing at a crossroads, one path leading to a towering Capitol Building draped in Republican red, the other to a crumbling Democratic blue structure, symbolizing the party's internal conflict.\n",
      "\n",
      "Generate an image of AOC, with a fiery expression, holding a sign that reads \"Huge Slap in the Face,\" standing in front of a giant, exaggerated $1.7 trillion bill that overshadows her, representing her critique of the government funding bill.\n",
      "\n",
      "Generate an image of a dramatic tug-of-war scene on the Senate floor, with ten Democrats, led by Chuck Schumer, pulling a rope labeled \"$1.7 Trillion\" towards a group of cheering Republicans, while other Democrats, looking dismayed, struggle to pull it back, illustrating the division within the party.\n",
      "\n",
      "Generate an image of a giant military tank labeled \"Increased Military Funds\" rolling over a smaller, crushed car labeled \"Non-Defense Spending,\" symbolizing the bill's impact on budget allocations.\n",
      "\n",
      "Generate an image of the Democratic donkey, split down the middle with one half walking confidently towards a bright \"Election Day\" sign, and the other half stumbling into a dark abyss labeled \"Party Rift,\" capturing the uncertainty facing the Democratic Party as they approach crucial elections.\n"
     ]
    }
   ],
   "source": [
    "images = generate_grok_image_prompts(grok, script)\n",
    "with open(grokImagePromptsPath, 'w') as f:\n",
    "    f.write(images)\n",
    "print(images)"
   ]
  },
  {
   "cell_type": "code",
   "execution_count": 220,
   "id": "8b3d7438",
   "metadata": {},
   "outputs": [
    {
     "name": "stdout",
     "output_type": "stream",
     "text": [
      "[Senate in Turmoil]\n",
      "[Senate floor, Democrats arguing, Schumer leading group to vote with Republicans]\n",
      "[Pan across arguing senators, zoom in on Schumer]\n",
      " \n",
      "\n",
      "[Funding Bill Details]\n",
      "[Text overlay: \"$1.7 trillion bill cuts non-defense, boosts military funds\"]\n",
      "[Text fades in, camera slowly zooms out to show full bill document]\n",
      " \n",
      "\n",
      "[Progressive Reaction]\n",
      "[Alexandria Ocasio-Cortez at podium, visibly upset, calling bill a \"huge slap in the face\"]\n",
      "[Close-up on AOC, cut to reaction shots of audience]\n",
      " \n",
      "\n",
      "[Democratic Party's Future]\n",
      "[Split screen: Democratic Party symbol vs. upcoming election graphics]\n",
      "[Camera pans from symbol to election graphics, fade to black]\n"
     ]
    }
   ],
   "source": [
    "soraPrompts = generate_sora_prompts_grok(grok, script)\n",
    "with open(soraPromptPath, 'w') as f:\n",
    "    f.write(soraPrompts[0])\n",
    "print(soraPrompts[0])"
   ]
  },
  {
   "cell_type": "code",
   "execution_count": 222,
   "id": "2782c1ea",
   "metadata": {},
   "outputs": [
    {
     "name": "stdout",
     "output_type": "stream",
     "text": [
      "[Senate in Turmoil]\n",
      "Senate Democrats argue, Schumer leads, Republicans join, voting on funding bill.\n",
      "Camera pans across arguing senators, zooms on Schumer, cuts to vote.\n",
      "\n",
      "[Funding Bill Details]\n",
      "Visuals of bill text, highlighting military spending increase, non-defense cuts.\n",
      "Camera scrolls through bill, focuses on key sections, fades to next scene.\n",
      "\n",
      "[Progressive Reaction]\n",
      "Alexandria Ocasio-Cortez speaks out, calling the bill a huge slap in the face.\n",
      "Camera close-up on AOC, cuts to crowd reaction, pans to exit.\n",
      "\n",
      "[Democratic Party's Future]\n",
      "Democratic leaders in discussion, concerned looks, election posters in background.\n",
      "Camera circles group, zooms on posters, fades out.\n"
     ]
    }
   ],
   "source": [
    "soraPrompts2 = generate_sora_prompts_grokV2(grok, script)\n",
    "with open(soraPromptsv2Path, 'w') as f:\n",
    "    f.write(soraPrompts2[0])\n",
    "print(soraPrompts2[0])"
   ]
  },
  {
   "cell_type": "code",
   "execution_count": 223,
   "id": "52e67d0b",
   "metadata": {},
   "outputs": [
    {
     "name": "stdout",
     "output_type": "stream",
     "text": [
      "1. [#SenateDemocrats] [This hashtag directly references the main subject of the video, the actions of Senate Democrats, which is crucial for targeting the relevant audience interested in political news and events.]\n",
      "2. [#ChuckSchumer] [As a key figure in the narrative, mentioning Chuck Schumer by name will attract viewers interested in his political decisions and leadership within the Democratic Party.]\n",
      "3. [#GovernmentFundingBill] [This hashtag specifies the central issue of the video, helping to attract viewers interested in government spending and fiscal policy.]\n",
      "4. [#1_7Trillion] [Including the specific amount of the bill in the hashtag can draw attention from those interested in the scale of government spending and its implications.]\n",
      "5. [#AOC] [Mentioning AOC, a prominent progressive critic of the bill, will engage viewers who follow her political stance and are interested in progressive viewpoints.]\n",
      "6. [#MilitarySpending] [This hashtag targets viewers concerned with or interested in military budget allocations, a key aspect of the bill's content.]\n",
      "7. [#NonDefenseCuts] [This hashtag will attract viewers focused on domestic spending and the impact of budget cuts on non-defense sectors.]\n",
      "8. [#DemocraticParty] [This broad hashtag will reach a wider audience interested in the Democratic Party's internal dynamics and future.]\n",
      "9. [#Election2024] [Linking the video to upcoming elections will engage viewers thinking about the political landscape and its implications for future voting.]\n",
      "10. [#PoliticalRift] [This hashtag captures the theme of division within the party, appealing to those interested in political analysis and party dynamics.]\n",
      "\n",
      "#SenateDemocrats #ChuckSchumer #GovernmentFundingBill #1_7Trillion #AOC #MilitarySpending #NonDefenseCuts #DemocraticParty #Election2024 #PoliticalRift\n"
     ]
    }
   ],
   "source": [
    "hashtags = generate_hashtags(grok, script)\n",
    "with open(grokHashtagsPath, 'w') as f:\n",
    "    f.write(hashtags)\n",
    "print(hashtags)\n"
   ]
  },
  {
   "cell_type": "code",
   "execution_count": 224,
   "id": "e884bee5",
   "metadata": {},
   "outputs": [],
   "source": [
    "opinionAnalysis = generate_grok_opinion_analysis(grok, newsReport)"
   ]
  },
  {
   "cell_type": "code",
   "execution_count": 225,
   "id": "e9d4f816",
   "metadata": {},
   "outputs": [
    {
     "name": "stdout",
     "output_type": "stream",
     "text": [
      "**Schumer's Betrayal: Democrats Divided and Defeated**\n",
      "\n",
      "In a stunning display of political cowardice, Senate Democrats have fractured over a controversial funding bill, exposing the party's weakness and inability to stand united against Republican aggression. The passage of this $1.7 trillion spending bill, primarily backed by the GOP, is a clear victory for President Trump and his allies, including the ominously named Department of Government Efficiency led by Elon Musk.\n",
      "\n",
      "Chuck Schumer and his nine Democratic colleagues who voted in favor of this bill have betrayed their party and their constituents. By siding with Republicans to keep the government running, they have handed Trump and his cronies the power to dismantle crucial federal agencies without oversight. Schumer's claim that a government shutdown would be worse is a feeble excuse for his capitulation to Republican demands.\n",
      "\n",
      "The bill's $13 billion cut to non-defense spending and $6 billion increase in military funding is a slap in the face to progressives like Alexandria Ocasio-Cortez, who rightfully see this as a betrayal of Democratic values. The lack of Democratic input in the decision-making process, as highlighted by Senate Appropriations Chair Patty Murray, is a testament to the party's impotence in the face of Republican dominance.\n",
      "\n",
      "As Democrats prepare for upcoming elections, they must confront the reality that their acquiescence to Republican demands has eroded their platform and voter support. The increased bipartisan tension may necessitate a change in leadership, as the party struggles to find its footing in the face of a steadily emboldening Republican majority.\n",
      "\n",
      "The fallout from this decision will be felt in public forums and town halls across the country, as constituents express their dissatisfaction with their representatives' failure to stand up for Democratic principles. This moment marks a significant chapter in the ongoing struggle for agency and representation within the Democratic Party, and it remains to be seen whether they can recover from this self-inflicted wound.\n"
     ]
    }
   ],
   "source": [
    "with open(opinionAnalysisPath, 'w') as f:\n",
    "    f.write(opinionAnalysis)\n",
    "print(opinionAnalysis)"
   ]
  },
  {
   "cell_type": "code",
   "execution_count": null,
   "id": "40cf73df",
   "metadata": {},
   "outputs": [],
   "source": []
  },
  {
   "cell_type": "code",
   "execution_count": null,
   "id": "7f81e635",
   "metadata": {},
   "outputs": [],
   "source": []
  },
  {
   "cell_type": "code",
   "execution_count": 1,
   "id": "93d7f961",
   "metadata": {},
   "outputs": [],
   "source": [
    "from soraVideoGen import SoraVideoGenerator as SVG\n",
    "import os"
   ]
  },
  {
   "cell_type": "code",
   "execution_count": 2,
   "id": "6cad32c1",
   "metadata": {},
   "outputs": [],
   "source": [
    "myuserprofile = r'C:\\Users\\garre\\AppData\\Local\\Google\\Chrome\\User Data'"
   ]
  },
  {
   "cell_type": "markdown",
   "id": "764f6fe7",
   "metadata": {},
   "source": [
    "make sure sora is logged in, most recently open in chrome, and set with the appropriate modifiers (display ratio, etc)"
   ]
  },
  {
   "cell_type": "code",
   "execution_count": 3,
   "id": "cd85657e",
   "metadata": {},
   "outputs": [],
   "source": [
    "svg = SVG(myuserprofile)"
   ]
  },
  {
   "cell_type": "code",
   "execution_count": 4,
   "id": "b0143903",
   "metadata": {},
   "outputs": [],
   "source": [
    "ASSETS = os.path.join(os.getcwd(), 'assets')\n",
    "# Get list of all folders in BASE\n",
    "folders = [f for f in os.listdir(ASSETS) if os.path.isdir(os.path.join(ASSETS, f))]\n",
    "\n",
    "# Sort folders by creation time and get most recent\n",
    "MRF = max(folders, key=lambda x: os.path.getctime(os.path.join(ASSETS, x))) # getctime returns the creation time of the folder \n",
    "# MRF = most recent folder\n",
    "\n",
    "KEYWORD = [f for f in os.listdir(os.path.join(ASSETS, MRF)) if os.path.isdir(os.path.join(ASSETS, MRF, f))][0]\n",
    "FKP = os.path.join(ASSETS, MRF, KEYWORD) # FULL KEYWORD PATH"
   ]
  },
  {
   "cell_type": "code",
   "execution_count": 5,
   "id": "98329b5e",
   "metadata": {},
   "outputs": [],
   "source": [
    "prompts = []\n",
    "promptFiles = [os.path.join(FKP, 'grok', f) for f in os.listdir(os.path.join(FKP, 'grok')) if 'soraprompts' in f]\n",
    "promptFiles += [os.path.join(FKP, 'sora_prompts', \"sora_prompt_0.txt\")]"
   ]
  },
  {
   "cell_type": "code",
   "execution_count": 6,
   "id": "9c6fe618",
   "metadata": {},
   "outputs": [],
   "source": [
    "for file in promptFiles:\n",
    "    with open(file, 'r') as f:\n",
    "        content = f.read()\n",
    "        filePrompts = content.split('\\n\\n')\n",
    "        for fp in filePrompts:\n",
    "            prompts.append(fp)"
   ]
  },
  {
   "cell_type": "code",
   "execution_count": 7,
   "id": "197fcd45",
   "metadata": {},
   "outputs": [
    {
     "name": "stdout",
     "output_type": "stream",
     "text": [
      "[Senate in Turmoil]\n",
      "Senate Democrats argue, Schumer leads, Republicans join, voting on funding bill.\n",
      "Camera pans across arguing senators, zooms on Schumer, cuts to vote.\n",
      " + ====== \n",
      "[Funding Bill Details]\n",
      "Visuals of bill text, highlighting military spending increase, non-defense cuts.\n",
      "Camera scrolls through bill, focuses on key sections, fades to next scene.\n",
      " + ====== \n",
      "[Progressive Reaction]\n",
      "Alexandria Ocasio-Cortez speaks out, calling the bill a huge slap in the face.\n",
      "Camera close-up on AOC, cuts to crowd reaction, pans to exit.\n",
      " + ====== \n",
      "[Democratic Party's Future]\n",
      "Democratic leaders in discussion, concerned looks, election posters in background.\n",
      "Camera circles group, zooms on posters, fades out.\n",
      " + ====== \n",
      "[Senate in Turmoil]\n",
      "[Senate floor, Democrats arguing, Schumer leading group to vote with Republicans]\n",
      "[Pan across arguing senators, zoom in on Schumer]\n",
      " \n",
      " + ====== \n",
      "[Funding Bill Details]\n",
      "[Text overlay: \"$1.7 trillion bill cuts non-defense, boosts military funds\"]\n",
      "[Text fades in, camera slowly zooms out to show full bill document]\n",
      " \n",
      " + ====== \n",
      "[Progressive Reaction]\n",
      "[Alexandria Ocasio-Cortez at podium, visibly upset, calling bill a \"huge slap in the face\"]\n",
      "[Close-up on AOC, cut to reaction shots of audience]\n",
      " \n",
      " + ====== \n",
      "[Democratic Party's Future]\n",
      "[Split screen: Democratic Party symbol vs. upcoming election graphics]\n",
      "[Camera pans from symbol to election graphics, fade to black]\n",
      " + ====== \n",
      "### Scene 1: U.S. Capitol Dynamic Shot  \n",
      "**Visuals:** The video opens with a wide-angle shot of the U.S. Capitol, showcasing its grand architecture against a clear blue sky. Soft, dramatic background music sets the tone.  \n",
      "**Camera Movement:** The camera slowly zooms in, capturing the intricate details of the building, such as the dome and columns, as well as people moving around its vicinity.  \n",
      "**Transition:** The frame gently fades into the next scene, maintaining the atmosphere.\n",
      " + ====== \n",
      "### Scene 2: Senators Debating  \n",
      "**Visuals:** Clips of Senators passionately debating in the chamber, highlighting diverse expressions and gestures. The backdrop includes the official Senate seal and rows of seats filled with attentive members.  \n",
      "**Camera Movement:** Quick cuts between various Senators speaking at their podiums, interspersed with shots of the audience reaction.  \n",
      "**Transition:** The last clip freezes momentarily on an intense face before shifting to the next scene.\n",
      " + ====== \n",
      "### Scene 3: Senator Chuck Schumer Speaking  \n",
      "**Visuals:** Footage of Senator Chuck Schumer at the podium, flanked by fellow Democrats, conveying authority. The background shows a packed Senate chamber with a focused audience.  \n",
      "**Camera Movement:** The camera slowly pans from Schumer to the audience, emphasizing their attentiveness and reactions.  \n",
      "**Transition:** The shot fades out as Schumer's voice lingers, transitioning to the next scene.\n",
      " + ====== \n",
      "### Scene 4: Tweets and Quotes from Progressives  \n",
      "**Visuals:** The screen displays animated text of tweets and quotes from Rep. Alexandria Ocasio-Cortez and other progressives, set against a background of a heated social media feed.  \n",
      "**Camera Movement:** The camera slowly zooms in on selected quotes, allowing viewers to read key phrases, accompanied by dynamic typing and notification sounds.  \n",
      "**Transition:** The screen blurs slightly before shifting to a new scene, emphasizing the discontent among progressives.\n",
      " + ====== \n",
      "### Scene 5: Concerned Constituents at Town Hall  \n",
      "**Visuals:** A town hall meeting with constituents expressing concern, showing a diverse group of voters holding signs and asking questions. The atmosphere is tense, underscored by focused expressions and body language.  \n",
      "**Camera Movement:** The camera pans across the audience, capturing individual reactions and wide shots of the speaker panel for context.  \n",
      "**Transition:** The camera cuts to a close-up of a concerned face, intensifying the emotional weight before fading to black for the outro.\n"
     ]
    }
   ],
   "source": [
    "print(*prompts, sep='\\n + ====== \\n')"
   ]
  },
  {
   "cell_type": "code",
   "execution_count": 8,
   "id": "797f1080",
   "metadata": {},
   "outputs": [
    {
     "name": "stdout",
     "output_type": "stream",
     "text": [
      "[Senate in Turmoil]\n",
      "Senate Democrats argue, Schumer leads, Republicans join, voting on funding bill.\n",
      "Camera pans across arguing senators, zooms on Schumer, cuts to vote.\n",
      "++++++++++++++++++++++\n",
      "[Senate in Turmoil]\n",
      "Senate Democrats argue, Schumer leads, Republicans join, voting on funding bill.\n",
      "Camera pans across arguing senators, zooms on Schumer, cuts to vote. pppppppppppppp\n",
      "[Funding Bill Details]\n",
      "Visuals of bill text, highlighting military spending increase, non-defense cuts.\n",
      "Camera scrolls through bill, focuses on key sections, fades to next scene.\n",
      "++++++++++++++++++++++\n",
      "[Funding Bill Details]\n",
      "Visuals of bill text, highlighting military spending increase, non-defense cuts.\n",
      "Camera scrolls through bill, focuses on key sections, fades to next scene. pppppppppppppp\n",
      "[Progressive Reaction]\n",
      "Alexandria Ocasio-Cortez speaks out, calling the bill a huge slap in the face.\n",
      "Camera close-up on AOC, cuts to crowd reaction, pans to exit.\n",
      "++++++++++++++++++++++\n",
      "[Progressive Reaction]\n",
      "Alexandria Ocasio-Cortez speaks out, calling the bill a huge slap in the face.\n",
      "Camera close-up on AOC, cuts to crowd reaction, pans to exit. pppppppppppppp\n",
      "[Democratic Party's Future]\n",
      "Democratic leaders in discussion, concerned looks, election posters in background.\n",
      "Camera circles group, zooms on posters, fades out.\n",
      "++++++++++++++++++++++\n",
      "[Democratic Party's Future]\n",
      "Democratic leaders in discussion, concerned looks, election posters in background.\n",
      "Camera circles group, zooms on posters, fades out. pppppppppppppp\n",
      "[Senate in Turmoil]\n",
      "[Senate floor, Democrats arguing, Schumer leading group to vote with Republicans]\n",
      "[Pan across arguing senators, zoom in on Schumer]\n",
      " \n",
      "++++++++++++++++++++++\n",
      "[Senate in Turmoil]\n",
      "[Senate floor, Democrats arguing, Schumer leading group to vote with Republicans]\n",
      "[Pan across arguing senators, zoom in on Schumer]\n",
      "  pppppppppppppp\n",
      "[Funding Bill Details]\n",
      "[Text overlay: \"$1.7 trillion bill cuts non-defense, boosts military funds\"]\n",
      "[Text fades in, camera slowly zooms out to show full bill document]\n",
      " \n",
      "++++++++++++++++++++++\n",
      "[Funding Bill Details]\n",
      "[Text overlay: \"$1.7 trillion bill cuts non-defense, boosts military funds\"]\n",
      "[Text fades in, camera slowly zooms out to show full bill document]\n",
      "  pppppppppppppp\n",
      "[Progressive Reaction]\n",
      "[Alexandria Ocasio-Cortez at podium, visibly upset, calling bill a \"huge slap in the face\"]\n",
      "[Close-up on AOC, cut to reaction shots of audience]\n",
      " \n",
      "++++++++++++++++++++++\n",
      "[Progressive Reaction]\n",
      "[Alexandria Ocasio-Cortez at podium, visibly upset, calling bill a \"huge slap in the face\"]\n",
      "[Close-up on AOC, cut to reaction shots of audience]\n",
      "  pppppppppppppp\n",
      "[Democratic Party's Future]\n",
      "[Split screen: Democratic Party symbol vs. upcoming election graphics]\n",
      "[Camera pans from symbol to election graphics, fade to black]\n",
      "++++++++++++++++++++++\n",
      "[Democratic Party's Future]\n",
      "[Split screen: Democratic Party symbol vs. upcoming election graphics]\n",
      "[Camera pans from symbol to election graphics, fade to black] pppppppppppppp\n",
      "### Scene 1: U.S. Capitol Dynamic Shot  \n",
      "**Visuals:** The video opens with a wide-angle shot of the U.S. Capitol, showcasing its grand architecture against a clear blue sky. Soft, dramatic background music sets the tone.  \n",
      "**Camera Movement:** The camera slowly zooms in, capturing the intricate details of the building, such as the dome and columns, as well as people moving around its vicinity.  \n",
      "**Transition:** The frame gently fades into the next scene, maintaining the atmosphere.\n",
      "++++++++++++++++++++++\n",
      "### Scene 1: U.S. Capitol Dynamic Shot  \n",
      "**Visuals:** The video opens with a wide-angle shot of the U.S. Capitol, showcasing its grand architecture against a clear blue sky. Soft, dramatic background music sets the tone.  \n",
      "**Camera Movement:** The camera slowly zooms in, capturing the intricate details of the building, such as the dome and columns, as well as people moving around its vicinity.  \n",
      "**Transition:** The frame gently fades into the next scene, maintaining the atmosphere. pppppppppppppp\n",
      "### Scene 2: Senators Debating  \n",
      "**Visuals:** Clips of Senators passionately debating in the chamber, highlighting diverse expressions and gestures. The backdrop includes the official Senate seal and rows of seats filled with attentive members.  \n",
      "**Camera Movement:** Quick cuts between various Senators speaking at their podiums, interspersed with shots of the audience reaction.  \n",
      "**Transition:** The last clip freezes momentarily on an intense face before shifting to the next scene.\n",
      "++++++++++++++++++++++\n",
      "### Scene 2: Senators Debating  \n",
      "**Visuals:** Clips of Senators passionately debating in the chamber, highlighting diverse expressions and gestures. The backdrop includes the official Senate seal and rows of seats filled with attentive members.  \n",
      "**Camera Movement:** Quick cuts between various Senators speaking at their podiums, interspersed with shots of the audience reaction.  \n",
      "**Transition:** The last clip freezes momentarily on an intense face before shifting to the next scene. pppppppppppppp\n",
      "### Scene 3: Senator Chuck Schumer Speaking  \n",
      "**Visuals:** Footage of Senator Chuck Schumer at the podium, flanked by fellow Democrats, conveying authority. The background shows a packed Senate chamber with a focused audience.  \n",
      "**Camera Movement:** The camera slowly pans from Schumer to the audience, emphasizing their attentiveness and reactions.  \n",
      "**Transition:** The shot fades out as Schumer's voice lingers, transitioning to the next scene.\n",
      "++++++++++++++++++++++\n",
      "### Scene 3: Senator Chuck Schumer Speaking  \n",
      "**Visuals:** Footage of Senator Chuck Schumer at the podium, flanked by fellow Democrats, conveying authority. The background shows a packed Senate chamber with a focused audience.  \n",
      "**Camera Movement:** The camera slowly pans from Schumer to the audience, emphasizing their attentiveness and reactions.  \n",
      "**Transition:** The shot fades out as Schumer's voice lingers, transitioning to the next scene. pppppppppppppp\n",
      "### Scene 4: Tweets and Quotes from Progressives  \n",
      "**Visuals:** The screen displays animated text of tweets and quotes from Rep. Alexandria Ocasio-Cortez and other progressives, set against a background of a heated social media feed.  \n",
      "**Camera Movement:** The camera slowly zooms in on selected quotes, allowing viewers to read key phrases, accompanied by dynamic typing and notification sounds.  \n",
      "**Transition:** The screen blurs slightly before shifting to a new scene, emphasizing the discontent among progressives.\n",
      "++++++++++++++++++++++\n",
      "### Scene 4: Tweets and Quotes from Progressives  \n",
      "**Visuals:** The screen displays animated text of tweets and quotes from Rep. Alexandria Ocasio-Cortez and other progressives, set against a background of a heated social media feed.  \n",
      "**Camera Movement:** The camera slowly zooms in on selected quotes, allowing viewers to read key phrases, accompanied by dynamic typing and notification sounds.  \n",
      "**Transition:** The screen blurs slightly before shifting to a new scene, emphasizing the discontent among progressives. pppppppppppppp\n",
      "### Scene 5: Concerned Constituents at Town Hall  \n",
      "**Visuals:** A town hall meeting with constituents expressing concern, showing a diverse group of voters holding signs and asking questions. The atmosphere is tense, underscored by focused expressions and body language.  \n",
      "**Camera Movement:** The camera pans across the audience, capturing individual reactions and wide shots of the speaker panel for context.  \n",
      "**Transition:** The camera cuts to a close-up of a concerned face, intensifying the emotional weight before fading to black for the outro.\n",
      "++++++++++++++++++++++\n",
      "### Scene 5: Concerned Constituents at Town Hall  \n",
      "**Visuals:** A town hall meeting with constituents expressing concern, showing a diverse group of voters holding signs and asking questions. The atmosphere is tense, underscored by focused expressions and body language.  \n",
      "**Camera Movement:** The camera pans across the audience, capturing individual reactions and wide shots of the speaker panel for context.  \n",
      "**Transition:** The camera cuts to a close-up of a concerned face, intensifying the emotional weight before fading to black for the outro. pppppppppppppp\n"
     ]
    }
   ],
   "source": [
    "svg.submitPrompts(prompts)"
   ]
  },
  {
   "cell_type": "code",
   "execution_count": null,
   "id": "bce5f83b",
   "metadata": {},
   "outputs": [],
   "source": [
    "os.chdir(RUN_DIR)\n",
    "outName = trend['keyword'].replace(\" \", \"_\") # name of folder and file to zip\n",
    "!tar -acf {outName}.zip {outName}"
   ]
  }
 ],
 "metadata": {},
 "nbformat": 4,
 "nbformat_minor": 5
}
