{
 "cells": [
  {
   "cell_type": "code",
   "execution_count": 1,
   "metadata": {},
   "outputs": [],
   "source": [
    "import requests\n",
    "import bs4 as soup"
   ]
  },
  {
   "cell_type": "code",
   "execution_count": 2,
   "metadata": {},
   "outputs": [],
   "source": [
    "url = 'https://www.axios.com/2025/02/04/taxes-irs-refund-direct-file-elon-musk'"
   ]
  },
  {
   "cell_type": "code",
   "execution_count": 7,
   "metadata": {},
   "outputs": [],
   "source": [
    "headers = {\n",
    "    'User-Agent': 'Mozilla/5.0 (Windows NT 10.0; Win64; x64) AppleWebKit/537.36 (KHTML, like Gecko) Chrome/91.0.4472.124 Safari/537.36',\n",
    "    'Accept': 'text/html,application/xhtml+xml,application/xml;q=0.9,image/webp,*/*;q=0.8',\n",
    "    'Accept-Language': 'en-US,en;q=0.5',\n",
    "    'Connection': 'keep-alive',\n",
    "}"
   ]
  },
  {
   "cell_type": "code",
   "execution_count": 8,
   "metadata": {},
   "outputs": [
    {
     "name": "stdout",
     "output_type": "stream",
     "text": [
      "b'<!DOCTYPE html><html lang=\"en-US\"><head><title>Just a moment...</title><meta http-equiv=\"Content-Type\" content=\"text/html; charset=UTF-8\"><meta http-equiv=\"X-UA-Compatible\" content=\"IE=Edge\"><meta name=\"robots\" content=\"noindex,nofollow\"><meta name=\"viewport\" content=\"width=device-width,initial-scale=1\"><style>*{box-sizing:border-box;margin:0;padding:0}html{line-height:1.15;-webkit-text-size-adjust:100%;color:#313131;font-family:system-ui,-apple-system,BlinkMacSystemFont,Segoe UI,Roboto,Helvetica Neue,Arial,Noto Sans,sans-serif,Apple Color Emoji,Segoe UI Emoji,Segoe UI Symbol,Noto Color Emoji}body{display:flex;flex-direction:column;height:100vh;min-height:100vh}.main-content{margin:8rem auto;max-width:60rem;padding-left:1.5rem}@media (width <= 720px){.main-content{margin-top:4rem}}.h2{font-size:1.5rem;font-weight:500;line-height:2.25rem}@media (width <= 720px){.h2{font-size:1.25rem;line-height:1.5rem}}#challenge-error-text{background-image:url(data:image/svg+xml;base64,PHN2ZyB4bWxucz0iaHR0cDovL3d3dy53My5vcmcvMjAwMC9zdmciIHdpZHRoPSIzMiIgaGVpZ2h0PSIzMiIgZmlsbD0ibm9uZSI+PHBhdGggZmlsbD0iI0IyMEYwMyIgZD0iTTE2IDNhMTMgMTMgMCAxIDAgMTMgMTNBMTMuMDE1IDEzLjAxNSAwIDAgMCAxNiAzbTAgMjRhMTEgMTEgMCAxIDEgMTEtMTEgMTEuMDEgMTEuMDEgMCAwIDEtMTEgMTEiLz48cGF0aCBmaWxsPSIjQjIwRjAzIiBkPSJNMTcuMDM4IDE4LjYxNUgxNC44N0wxNC41NjMgOS41aDIuNzgzem0tMS4wODQgMS40MjdxLjY2IDAgMS4wNTcuMzg4LjQwNy4zODkuNDA3Ljk5NCAwIC41OTYtLjQwNy45ODQtLjM5Ny4zOS0xLjA1Ny4zODktLjY1IDAtMS4wNTYtLjM4OS0uMzk4LS4zODktLjM5OC0uOTg0IDAtLjU5Ny4zOTgtLjk4NS40MDYtLjM5NyAxLjA1Ni0uMzk3Ii8+PC9zdmc+);background-repeat:no-repeat;background-size:contain;padding-left:34px}@media (prefers-color-scheme:dark){body{background-color:#222;color:#d9d9d9}}</style><meta http-equiv=\"refresh\" content=\"120\"></head><body class=\"no-js\"><div class=\"main-wrapper\" role=\"main\"><div class=\"main-content\"><noscript><div class=\"h2\"><span id=\"challenge-error-text\">Enable JavaScript and cookies to continue</span></div></noscript></div></div><script>(function(){window._cf_chl_opt={cvId: \\'3\\',cZone: \"www.axios.com\",cType: \\'non-interactive\\',cRay: \\'90e6758f4fef2efd\\',cH: \\'dbxaUjJG6tFBxU6wrpomhUB_egB0RfzWVi3SOyf7zRA-1738963596-1.2.1.1-a_bphU1AQvSmAHZQQ_Mn7yPEBpnJcDoO3bq9Ar8xexm2nHa8saMiRxfDmUlZV4BB\\',cUPMDTk: \"\\\\/2025\\\\/02\\\\/04\\\\/taxes-irs-refund-direct-file-elon-musk?__cf_chl_tk=mPGIoFBVd3sU2cfnzqnRm7IYvxmLS3_YiUxsR7dyg5w-1738963596-1.0.1.1-Du3OegASnHhgnd7KxWjZUIloCMFjccVyXCq2P8MBQy4\",cFPWv: \\'g\\',cITimeS: \\'1738963596\\',cTTimeMs: \\'1000\\',cMTimeMs: \\'120000\\',cTplC: 0,cTplV: 5,cTplB: \\'cf\\',cK: \"\",fa: \"\\\\/2025\\\\/02\\\\/04\\\\/taxes-irs-refund-direct-file-elon-musk?__cf_chl_f_tk=mPGIoFBVd3sU2cfnzqnRm7IYvxmLS3_YiUxsR7dyg5w-1738963596-1.0.1.1-Du3OegASnHhgnd7KxWjZUIloCMFjccVyXCq2P8MBQy4\",md: \"CUfj6dshw86isZ4Hf7Z2MS7vEf200ACNkJhVsdyJeG0-1738963596-1.2.1.1-.BSLr7dby8MEhRKLInEleznX3JTmZihHXYziQLHjrTudQsLB2dwy8B4XKgx4lUP9HVxuK_mkfE2z9IzkBFW03mAtAIgy6gpUvlg5av9Sh07laD0VIj1qOo76vhQdP_tGiVQtP.CKdu3bAgWTvDNut.bMV.vUF4S8TjgD3d4UtqQVmNV56_bdy8SnTbxUka28hBpMJmeq9gp3FWJ6WZkcPDqPjwebdK15c1QsLNDj_fTV_ec8qTOWR84ZgOicyFOYLLhyMV.ZvEbocijERZs899dl681RbkmiXwXoJ_Is3Z3PsjZBXknZJ4zw_1z6.29bAIuAFLtNLoK4CFaPsplhPbK_632RsYomZD4jwePwRSAEn3pA_DOeQiBfEgM8Yc2soDGstCUZdALBFYNedrRKHXxpMWVP5n0AehuchTjKYgYOWbtPFHzut8gt.5rGHDembLMifyYzNFY_c0iyUsxARhkI13GOwRy5q8MfsNrGt4wn1dBWQXLSz6B2vS92SNxZAMzzaHE5.O3DEfQ4C5jfwUrzzYzYf.nADkF3dW0teel6fdj9J3D3ycgs18W0xDEX7OkqqHcy2TNT5lm1qzL_7HPuI3UiCfb4IciycuLeHBOYKfwssyOYy546hs_Vz1UQ.zT6GRnA7Gir2WExvfbxj9VqoZ8c4hUfRNHh7UIULJz1YDuMARIu3krsxWlPzcVw.AWBgDRXLD67V85Mwq7z86YT3WrratY39eObnOcsDLB9ABH6Iq.A7IjFxPEAAfFZvXNSYMEOeLafZkbSy3rUcx2EExwxwD1YdR3KK4MhE2_WZKbOFacN64.2JYmFMMAYH.j98OXvJjpW_BNC74C6tywd1X4AcqjGpS0tuE.nrtgCee5Rlu_oQp9JtER3jzI5gyZ3McU9bwL1xsB.eeNjnYIvHYVUlq9hmrmNMgIORCVSOIHxh5Jba_iGrlq1de6XQ78XHLexZqOcm1W4LuGVk7.QX4u4EhsHhdPLDzWQj.2lR1S7rK55fKTBAJAEYblF.H3ydaKZ_CwmcdonO_ovZXkZameS5kOnQYi7OnUNqdzuJjsORUOiD7ii3bbnwjQicgRtv93djluuhCSoX31iXr4VXigEvCV9P8BCPK4QtkX2y5cbdV8gjF7PhcXnyeLD2PlDGlZzRYVW7HaAdKF.baUdNIUvzMmUjheCb3Zp3VuDZJIzJugbqPRp5bsxImcls4x4YaJrnVSSgyJA8fEKGKA8riZgAjjSTdVz2Ifxs8M100dnoJSloeiLqqqbnhWOLzHmEp0bVrZciTnWle4BdghlwM2VAsh6HqO4MzM2u43WpnJmryntkZWR5ZhvcIRsBd1U5urpV1hBZ5FJSJZc5FpSyJNRRvf7X9LfvYBWvGMpkmwusYq6NXd01vI2Mg6lZeIbRSYS.5JYqXo.PqmTqBPHCxeEWqWyowGbUTZqEQiLARk9rSfIuPRZszaJrqnjD9xIo9SK2iI0MQmA7lr5ClpGlynK6Dexz6vcARQegyI.L_eaolQ1xzrvRqhLmhAzniVyF.lymBlI8ADX_e9Znc1XavvDO19tSGqSAU.W1BZg7n48LuWe4ZdaOCVEIsE9UAroh8ZAFIeDzmIcb6SMP37dw_hnBJH8P7Y1457CJZxlLGtCIGp8u1bPZKr06ZqZxKgrFQqZ0imZXw5YmulUy2hoVlTf17jy3QHsH94OsenmUdY_OMf8_NYPfNAUyVPee4xE5BZCcr5Sj97av9TALzP5G30Udkq2kitWbL2tvTk8_IggxOX4tAkx6vQwXH8mvY9EZdVdhxxSD1uXJD8hqjQ0aOZ0zFKKbadObVziqQYigmlPKFgnqKFJRtGCrBEIvqjF4AdEb7Pew.RJiAiF9Q23XJ5UfAw9UMmhzTqfomLyOVj49wHUkgWckjKVoDsV.GYjsYubE5w5yUrHZHWI6w\",mdrd: \"pJxiL4Wx3vJZ0EL5EXCI7dyN847_eUNhfjAgvknOlio-1738963596-1.2.1.1-mkdouLlnVbvVm0wCF.eKhT5FKjZ.uz6xcIzsUV6Yqvj_a0wwn.17QKntQAdrMzX1zHpkUpF0MCDBOFSDodjNlLZzcoMArI6C3MmeOSGv8meBtaIZgsIrj5bnt2yfmcKmAtgqbddv5VlqwkDeuWPlpV3RIwjxqwR6oIX6Kvl2Mc8Hu6YUIZIZS2tvbLj6BKSbmpL93.J0ZHce1HkJBrc2ZnU.ydvsqJ.7mDOnYaZhrSsJBkUlfhdolD5_2n82R.lj.4e7qpGgY5ieyzCqQV4i.XBv91_hcSdTldvz1BkBRl_.ej1WfBITiPSz1YEiMTDttmkcfJtCq_ywez_aVnLExWNExywcSs8lq7qLQjGodso9ko1qwE7j.h6wM4n9Meao6sDVDJdr4Y9m6kaDfIPC_v4yxM34.RaMkjWFrfDTPQOM2gRD5rWqTFqkPLkp3nqn9lHd6H8fqVTXk27ddDFAlMzjEcNQR4BeEz5gmZUm15aV2xnFoXLI02XfV6NtT9BAheYXXSienwwMyuyicx_vxzUAxzI3ZIiqXaxnCgiNZ7b2S9aggI_QgYFekJOnODHAm1rIR5QVVdB9P8Yty2i3afMKy6Y76aQqb7fRQgt8NMK9EthHtpBYHnLHuB.6dFaXZ6ecf3fp7lBDbxFqhLxGJLtsFiDe8bB83vaG89wFOwhTV9NG0LhZVhkzIvBKT14nMt5tTUcuvuBpPDvhmA.fTtTiCM.205CAvT0RMBbb19mkxH1iWH83VTFil6MEz6hKMH1z.sCgl1YP66.XD35bAKl6j46pvhONJiHiZxPw9bD_D5XdLQAzOxq0_bWMRTvOl7UOLKGi9dz6.Ge4IBkFc9wsT3gFh1cc6eiLOCibu5Rl0y8uAanBjeJkLtmZnBJDv82S6BpCUYHon_FJ8KLF9kaQ7BtxsryINiSsrRQmis01IRdxsOPISwxA1DrbA7cg4ObC_GSoFJ0Q97P0HBTwAM4wAubufegj3oKc2AXDqQrFTTxkWNSvc4_6v89lZU5pjgPKCok9URfJDooWE.YG2pPdZmchYkOG_xjLPEmSofnu_In4QFzPGMVck.z8pif.6Sl8JFWDvz0hIdKuG8c3NWuTSmpSn1jnQO4j2K6Pz1iu9MA8tqZnNa_fQlZ2kzm7zRCm.wS_unNcJbtNT6nTIEb32SDAKK1.kZiVfueOg06CjXsq6AruxQqgs3EuojyrHRRD1PHa6JFVP7oULPSfvt5qaVKq8r5.4u7vyTjJickXDwPSShAVoKFijNssXk8ZcAuORRpCVg_05OsA.OT4r3_33isskB5ubz4q7EDcDu5s9F2vhGf8xNuna2MIfQUNwk8AcmkfY0HF6Wc2XOXBzCI1HYzoq695EzNgT4971smXkBfYo_dC5GmcD2oKGPUaFTLzL5UeG8CW.GiCnWo0_xu_T2Q6lfN1QRDx3vXqF6nyT056fWp2JrFBluSvFEpdhjEmWj0qP_9DSgjmymIQTndh0XGTAfxd7GsCqfQpg3RxJjfB7JC.pNBv._BM7chWwkEdjpXI0QaC8rquamQ_mLM.njIiasul0mlE.8bqix4BU1CERBFzEabiaJiqAeqHDOJFRx3ngIhYgvnSZhincxKd6Ixj3AIlm_TH6Y4zc_hB_2qNTrlDMRkKgCexrOhaOxKoLBcs2V5BYuTV9N04cJIn7IpyxZJMhY0nUVKr84tGKSiZfxVixMrjT8YkT1y7qDQQFsX51wcerrWqZZN24_8GMRJkrDUJiEBihLJE3nTFyvAFJcJt7hBNqVR9rQoLjNVu_yWAQREmSjHN0FIal3FBEU0_cPUF6kORczmkIYrHqeIVBysxKsUxSq_8G_5_cE0lEzxNvbdSoAvgIAwjK5H0NhBkmbz8wX4TK.57BUSYlbqRbnLrdlOgJQCBIImp0YUOTBwzRPFyVXJuvtoGqlCsrEEDwPo_Pw6Wo_yH1bkKaPE1PL7IKJ9WL62YVAoFRoQHtPO8QnOgHuqQwpB7FSVC4eJo0tChe2_HhEX_G2JxHfSLxiT7fA20jN5OcnTr7dmgRy5iQL.nmvqdvLdKR5peQBcnRvElsbRNFdnivRLWpl1zmKFCF9vNJpICSnNE.Fq2Y.sNvqmwE3DDDHMFEzKiR1B6ZCvkIw0FzWbWw5aKYstkJ5WV0ACMznKnoev3YehgSz32saeOiKm7ElaMZO7Oi_Zy.URqq8.086brj5aCdeblTemmjuMWjPbBr9SOi38tOoxt24PqrnzJ4G0CLK6lQdAPlwEsAwaNShtwAy5xrcxKATBEQlp3s0decsg_LYXYT.kuwgORB1KBfhLvAAjAQU8r0DgVklxKqtfjDBIUQiorwyTkVwJsqmf7FZwT\"};var cpo = document.createElement(\\'script\\');cpo.src = \\'/cdn-cgi/challenge-platform/h/g/orchestrate/chl_page/v1?ray=90e6758f4fef2efd\\';window._cf_chl_opt.cOgUHash = location.hash === \\'\\' && location.href.indexOf(\\'#\\') !== -1 ? \\'#\\' : location.hash;window._cf_chl_opt.cOgUQuery = location.search === \\'\\' && location.href.slice(0, location.href.length - window._cf_chl_opt.cOgUHash.length).indexOf(\\'?\\') !== -1 ? \\'?\\' : location.search;if (window.history && window.history.replaceState) {var ogU = location.pathname + window._cf_chl_opt.cOgUQuery + window._cf_chl_opt.cOgUHash;history.replaceState(null, null, \"\\\\/2025\\\\/02\\\\/04\\\\/taxes-irs-refund-direct-file-elon-musk?__cf_chl_rt_tk=mPGIoFBVd3sU2cfnzqnRm7IYvxmLS3_YiUxsR7dyg5w-1738963596-1.0.1.1-Du3OegASnHhgnd7KxWjZUIloCMFjccVyXCq2P8MBQy4\" + window._cf_chl_opt.cOgUHash);cpo.onload = function() {history.replaceState(null, null, ogU);}}document.getElementsByTagName(\\'head\\')[0].appendChild(cpo);}());</script></body></html>'\n",
      "HTML <!DOCTYPE html><html lang=\"en-US\"><head><title>Just a moment...</title><meta http-equiv=\"Content-Type\" content=\"text/html; charset=UTF-8\"><meta http-equiv=\"X-UA-Compatible\" content=\"IE=Edge\"><meta name=\"robots\" content=\"noindex,nofollow\"><meta name=\"viewport\" content=\"width=device-width,initial-scale=1\"><style>*{box-sizing:border-box;margin:0;padding:0}html{line-height:1.15;-webkit-text-size-adjust:100%;color:#313131;font-family:system-ui,-apple-system,BlinkMacSystemFont,Segoe UI,Roboto,Helvetica Neue,Arial,Noto Sans,sans-serif,Apple Color Emoji,Segoe UI Emoji,Segoe UI Symbol,Noto Color Emoji}body{display:flex;flex-direction:column;height:100vh;min-height:100vh}.main-content{margin:8rem auto;max-width:60rem;padding-left:1.5rem}@media (width <= 720px){.main-content{margin-top:4rem}}.h2{font-size:1.5rem;font-weight:500;line-height:2.25rem}@media (width <= 720px){.h2{font-size:1.25rem;line-height:1.5rem}}#challenge-error-text{background-image:url(data:image/svg+xml;base64,PHN2ZyB4bWxucz0iaHR0cDovL3d3dy53My5vcmcvMjAwMC9zdmciIHdpZHRoPSIzMiIgaGVpZ2h0PSIzMiIgZmlsbD0ibm9uZSI+PHBhdGggZmlsbD0iI0IyMEYwMyIgZD0iTTE2IDNhMTMgMTMgMCAxIDAgMTMgMTNBMTMuMDE1IDEzLjAxNSAwIDAgMCAxNiAzbTAgMjRhMTEgMTEgMCAxIDEgMTEtMTEgMTEuMDEgMTEuMDEgMCAwIDEtMTEgMTEiLz48cGF0aCBmaWxsPSIjQjIwRjAzIiBkPSJNMTcuMDM4IDE4LjYxNUgxNC44N0wxNC41NjMgOS41aDIuNzgzem0tMS4wODQgMS40MjdxLjY2IDAgMS4wNTcuMzg4LjQwNy4zODkuNDA3Ljk5NCAwIC41OTYtLjQwNy45ODQtLjM5Ny4zOS0xLjA1Ny4zODktLjY1IDAtMS4wNTYtLjM4OS0uMzk4LS4zODktLjM5OC0uOTg0IDAtLjU5Ny4zOTgtLjk4NS40MDYtLjM5NyAxLjA1Ni0uMzk3Ii8+PC9zdmc+);background-repeat:no-repeat;background-size:contain;padding-left:34px}@media (prefers-color-scheme:dark){body{background-color:#222;color:#d9d9d9}}</style><meta http-equiv=\"refresh\" content=\"120\"></head><body class=\"no-js\"><div class=\"main-wrapper\" role=\"main\"><div class=\"main-content\"><noscript><div class=\"h2\"><span id=\"challenge-error-text\">Enable JavaScript and cookies to continue</span></div></noscript></div></div><script>(function(){window._cf_chl_opt={cvId: '3',cZone: \"www.axios.com\",cType: 'non-interactive',cRay: '90e6758f4fef2efd',cH: 'dbxaUjJG6tFBxU6wrpomhUB_egB0RfzWVi3SOyf7zRA-1738963596-1.2.1.1-a_bphU1AQvSmAHZQQ_Mn7yPEBpnJcDoO3bq9Ar8xexm2nHa8saMiRxfDmUlZV4BB',cUPMDTk: \"\\/2025\\/02\\/04\\/taxes-irs-refund-direct-file-elon-musk?__cf_chl_tk=mPGIoFBVd3sU2cfnzqnRm7IYvxmLS3_YiUxsR7dyg5w-1738963596-1.0.1.1-Du3OegASnHhgnd7KxWjZUIloCMFjccVyXCq2P8MBQy4\",cFPWv: 'g',cITimeS: '1738963596',cTTimeMs: '1000',cMTimeMs: '120000',cTplC: 0,cTplV: 5,cTplB: 'cf',cK: \"\",fa: \"\\/2025\\/02\\/04\\/taxes-irs-refund-direct-file-elon-musk?__cf_chl_f_tk=mPGIoFBVd3sU2cfnzqnRm7IYvxmLS3_YiUxsR7dyg5w-1738963596-1.0.1.1-Du3OegASnHhgnd7KxWjZUIloCMFjccVyXCq2P8MBQy4\",md: \"CUfj6dshw86isZ4Hf7Z2MS7vEf200ACNkJhVsdyJeG0-1738963596-1.2.1.1-.BSLr7dby8MEhRKLInEleznX3JTmZihHXYziQLHjrTudQsLB2dwy8B4XKgx4lUP9HVxuK_mkfE2z9IzkBFW03mAtAIgy6gpUvlg5av9Sh07laD0VIj1qOo76vhQdP_tGiVQtP.CKdu3bAgWTvDNut.bMV.vUF4S8TjgD3d4UtqQVmNV56_bdy8SnTbxUka28hBpMJmeq9gp3FWJ6WZkcPDqPjwebdK15c1QsLNDj_fTV_ec8qTOWR84ZgOicyFOYLLhyMV.ZvEbocijERZs899dl681RbkmiXwXoJ_Is3Z3PsjZBXknZJ4zw_1z6.29bAIuAFLtNLoK4CFaPsplhPbK_632RsYomZD4jwePwRSAEn3pA_DOeQiBfEgM8Yc2soDGstCUZdALBFYNedrRKHXxpMWVP5n0AehuchTjKYgYOWbtPFHzut8gt.5rGHDembLMifyYzNFY_c0iyUsxARhkI13GOwRy5q8MfsNrGt4wn1dBWQXLSz6B2vS92SNxZAMzzaHE5.O3DEfQ4C5jfwUrzzYzYf.nADkF3dW0teel6fdj9J3D3ycgs18W0xDEX7OkqqHcy2TNT5lm1qzL_7HPuI3UiCfb4IciycuLeHBOYKfwssyOYy546hs_Vz1UQ.zT6GRnA7Gir2WExvfbxj9VqoZ8c4hUfRNHh7UIULJz1YDuMARIu3krsxWlPzcVw.AWBgDRXLD67V85Mwq7z86YT3WrratY39eObnOcsDLB9ABH6Iq.A7IjFxPEAAfFZvXNSYMEOeLafZkbSy3rUcx2EExwxwD1YdR3KK4MhE2_WZKbOFacN64.2JYmFMMAYH.j98OXvJjpW_BNC74C6tywd1X4AcqjGpS0tuE.nrtgCee5Rlu_oQp9JtER3jzI5gyZ3McU9bwL1xsB.eeNjnYIvHYVUlq9hmrmNMgIORCVSOIHxh5Jba_iGrlq1de6XQ78XHLexZqOcm1W4LuGVk7.QX4u4EhsHhdPLDzWQj.2lR1S7rK55fKTBAJAEYblF.H3ydaKZ_CwmcdonO_ovZXkZameS5kOnQYi7OnUNqdzuJjsORUOiD7ii3bbnwjQicgRtv93djluuhCSoX31iXr4VXigEvCV9P8BCPK4QtkX2y5cbdV8gjF7PhcXnyeLD2PlDGlZzRYVW7HaAdKF.baUdNIUvzMmUjheCb3Zp3VuDZJIzJugbqPRp5bsxImcls4x4YaJrnVSSgyJA8fEKGKA8riZgAjjSTdVz2Ifxs8M100dnoJSloeiLqqqbnhWOLzHmEp0bVrZciTnWle4BdghlwM2VAsh6HqO4MzM2u43WpnJmryntkZWR5ZhvcIRsBd1U5urpV1hBZ5FJSJZc5FpSyJNRRvf7X9LfvYBWvGMpkmwusYq6NXd01vI2Mg6lZeIbRSYS.5JYqXo.PqmTqBPHCxeEWqWyowGbUTZqEQiLARk9rSfIuPRZszaJrqnjD9xIo9SK2iI0MQmA7lr5ClpGlynK6Dexz6vcARQegyI.L_eaolQ1xzrvRqhLmhAzniVyF.lymBlI8ADX_e9Znc1XavvDO19tSGqSAU.W1BZg7n48LuWe4ZdaOCVEIsE9UAroh8ZAFIeDzmIcb6SMP37dw_hnBJH8P7Y1457CJZxlLGtCIGp8u1bPZKr06ZqZxKgrFQqZ0imZXw5YmulUy2hoVlTf17jy3QHsH94OsenmUdY_OMf8_NYPfNAUyVPee4xE5BZCcr5Sj97av9TALzP5G30Udkq2kitWbL2tvTk8_IggxOX4tAkx6vQwXH8mvY9EZdVdhxxSD1uXJD8hqjQ0aOZ0zFKKbadObVziqQYigmlPKFgnqKFJRtGCrBEIvqjF4AdEb7Pew.RJiAiF9Q23XJ5UfAw9UMmhzTqfomLyOVj49wHUkgWckjKVoDsV.GYjsYubE5w5yUrHZHWI6w\",mdrd: \"pJxiL4Wx3vJZ0EL5EXCI7dyN847_eUNhfjAgvknOlio-1738963596-1.2.1.1-mkdouLlnVbvVm0wCF.eKhT5FKjZ.uz6xcIzsUV6Yqvj_a0wwn.17QKntQAdrMzX1zHpkUpF0MCDBOFSDodjNlLZzcoMArI6C3MmeOSGv8meBtaIZgsIrj5bnt2yfmcKmAtgqbddv5VlqwkDeuWPlpV3RIwjxqwR6oIX6Kvl2Mc8Hu6YUIZIZS2tvbLj6BKSbmpL93.J0ZHce1HkJBrc2ZnU.ydvsqJ.7mDOnYaZhrSsJBkUlfhdolD5_2n82R.lj.4e7qpGgY5ieyzCqQV4i.XBv91_hcSdTldvz1BkBRl_.ej1WfBITiPSz1YEiMTDttmkcfJtCq_ywez_aVnLExWNExywcSs8lq7qLQjGodso9ko1qwE7j.h6wM4n9Meao6sDVDJdr4Y9m6kaDfIPC_v4yxM34.RaMkjWFrfDTPQOM2gRD5rWqTFqkPLkp3nqn9lHd6H8fqVTXk27ddDFAlMzjEcNQR4BeEz5gmZUm15aV2xnFoXLI02XfV6NtT9BAheYXXSienwwMyuyicx_vxzUAxzI3ZIiqXaxnCgiNZ7b2S9aggI_QgYFekJOnODHAm1rIR5QVVdB9P8Yty2i3afMKy6Y76aQqb7fRQgt8NMK9EthHtpBYHnLHuB.6dFaXZ6ecf3fp7lBDbxFqhLxGJLtsFiDe8bB83vaG89wFOwhTV9NG0LhZVhkzIvBKT14nMt5tTUcuvuBpPDvhmA.fTtTiCM.205CAvT0RMBbb19mkxH1iWH83VTFil6MEz6hKMH1z.sCgl1YP66.XD35bAKl6j46pvhONJiHiZxPw9bD_D5XdLQAzOxq0_bWMRTvOl7UOLKGi9dz6.Ge4IBkFc9wsT3gFh1cc6eiLOCibu5Rl0y8uAanBjeJkLtmZnBJDv82S6BpCUYHon_FJ8KLF9kaQ7BtxsryINiSsrRQmis01IRdxsOPISwxA1DrbA7cg4ObC_GSoFJ0Q97P0HBTwAM4wAubufegj3oKc2AXDqQrFTTxkWNSvc4_6v89lZU5pjgPKCok9URfJDooWE.YG2pPdZmchYkOG_xjLPEmSofnu_In4QFzPGMVck.z8pif.6Sl8JFWDvz0hIdKuG8c3NWuTSmpSn1jnQO4j2K6Pz1iu9MA8tqZnNa_fQlZ2kzm7zRCm.wS_unNcJbtNT6nTIEb32SDAKK1.kZiVfueOg06CjXsq6AruxQqgs3EuojyrHRRD1PHa6JFVP7oULPSfvt5qaVKq8r5.4u7vyTjJickXDwPSShAVoKFijNssXk8ZcAuORRpCVg_05OsA.OT4r3_33isskB5ubz4q7EDcDu5s9F2vhGf8xNuna2MIfQUNwk8AcmkfY0HF6Wc2XOXBzCI1HYzoq695EzNgT4971smXkBfYo_dC5GmcD2oKGPUaFTLzL5UeG8CW.GiCnWo0_xu_T2Q6lfN1QRDx3vXqF6nyT056fWp2JrFBluSvFEpdhjEmWj0qP_9DSgjmymIQTndh0XGTAfxd7GsCqfQpg3RxJjfB7JC.pNBv._BM7chWwkEdjpXI0QaC8rquamQ_mLM.njIiasul0mlE.8bqix4BU1CERBFzEabiaJiqAeqHDOJFRx3ngIhYgvnSZhincxKd6Ixj3AIlm_TH6Y4zc_hB_2qNTrlDMRkKgCexrOhaOxKoLBcs2V5BYuTV9N04cJIn7IpyxZJMhY0nUVKr84tGKSiZfxVixMrjT8YkT1y7qDQQFsX51wcerrWqZZN24_8GMRJkrDUJiEBihLJE3nTFyvAFJcJt7hBNqVR9rQoLjNVu_yWAQREmSjHN0FIal3FBEU0_cPUF6kORczmkIYrHqeIVBysxKsUxSq_8G_5_cE0lEzxNvbdSoAvgIAwjK5H0NhBkmbz8wX4TK.57BUSYlbqRbnLrdlOgJQCBIImp0YUOTBwzRPFyVXJuvtoGqlCsrEEDwPo_Pw6Wo_yH1bkKaPE1PL7IKJ9WL62YVAoFRoQHtPO8QnOgHuqQwpB7FSVC4eJo0tChe2_HhEX_G2JxHfSLxiT7fA20jN5OcnTr7dmgRy5iQL.nmvqdvLdKR5peQBcnRvElsbRNFdnivRLWpl1zmKFCF9vNJpICSnNE.Fq2Y.sNvqmwE3DDDHMFEzKiR1B6ZCvkIw0FzWbWw5aKYstkJ5WV0ACMznKnoev3YehgSz32saeOiKm7ElaMZO7Oi_Zy.URqq8.086brj5aCdeblTemmjuMWjPbBr9SOi38tOoxt24PqrnzJ4G0CLK6lQdAPlwEsAwaNShtwAy5xrcxKATBEQlp3s0decsg_LYXYT.kuwgORB1KBfhLvAAjAQU8r0DgVklxKqtfjDBIUQiorwyTkVwJsqmf7FZwT\"};var cpo = document.createElement('script');cpo.src = '/cdn-cgi/challenge-platform/h/g/orchestrate/chl_page/v1?ray=90e6758f4fef2efd';window._cf_chl_opt.cOgUHash = location.hash === '' && location.href.indexOf('#') !== -1 ? '#' : location.hash;window._cf_chl_opt.cOgUQuery = location.search === '' && location.href.slice(0, location.href.length - window._cf_chl_opt.cOgUHash.length).indexOf('?') !== -1 ? '?' : location.search;if (window.history && window.history.replaceState) {var ogU = location.pathname + window._cf_chl_opt.cOgUQuery + window._cf_chl_opt.cOgUHash;history.replaceState(null, null, \"\\/2025\\/02\\/04\\/taxes-irs-refund-direct-file-elon-musk?__cf_chl_rt_tk=mPGIoFBVd3sU2cfnzqnRm7IYvxmLS3_YiUxsR7dyg5w-1738963596-1.0.1.1-Du3OegASnHhgnd7KxWjZUIloCMFjccVyXCq2P8MBQy4\" + window._cf_chl_opt.cOgUHash);cpo.onload = function() {history.replaceState(null, null, ogU);}}document.getElementsByTagName('head')[0].appendChild(cpo);}());</script></body></html>\n",
      "\n"
     ]
    }
   ],
   "source": [
    "response = requests.get(url, headers=headers, timeout=20)\n",
    "\n",
    "html = response.text\n",
    "content = response.content\n",
    "print(content)\n",
    "print(\"HTML\", html)\n",
    "soup_obj = soup.BeautifulSoup(html, 'html.parser')\n",
    "\n",
    "# Find the main article content - Axios typically uses article tags with specific classes\n",
    "article_content = soup_obj.find('article')\n",
    "\n",
    "# Get all paragraph elements within the article\n",
    "paragraphs = article_content.find_all('p') if article_content else []\n",
    "\n",
    "# Extract and join the text from all paragraphs\n",
    "main_text = '\\n'.join([p.get_text().strip() for p in paragraphs])\n",
    "print(main_text)"
   ]
  },
  {
   "cell_type": "code",
   "execution_count": null,
   "metadata": {},
   "outputs": [],
   "source": []
  }
 ],
 "metadata": {
  "kernelspec": {
   "display_name": "base",
   "language": "python",
   "name": "python3"
  },
  "language_info": {
   "codemirror_mode": {
    "name": "ipython",
    "version": 3
   },
   "file_extension": ".py",
   "mimetype": "text/x-python",
   "name": "python",
   "nbconvert_exporter": "python",
   "pygments_lexer": "ipython3",
   "version": "3.12.7"
  }
 },
 "nbformat": 4,
 "nbformat_minor": 2
}
